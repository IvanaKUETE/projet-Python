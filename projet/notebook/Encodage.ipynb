{
 "cells": [
  {
   "cell_type": "code",
   "execution_count": null,
   "metadata": {},
   "outputs": [],
   "source": [
    "import pandas as pd\n",
    "from sklearn.preprocessing import OneHotEncoder\n",
    "from sklearn.compose import ColumnTransformer\n",
    "from sklearn.pipeline import Pipeline"
   ]
  },
  {
   "cell_type": "code",
   "execution_count": 11,
   "metadata": {},
   "outputs": [],
   "source": [
    "df = pd.read_csv('Principal_data4.csv',sep = ',')"
   ]
  },
  {
   "cell_type": "code",
   "execution_count": 12,
   "metadata": {},
   "outputs": [],
   "source": [
    "# Encodage binaire sexe\n",
    "df[\"sexe\"] = df[\"sexe\"].map({1: 1, 2: 0})\n",
    "\n"
   ]
  },
  {
   "cell_type": "code",
   "execution_count": 13,
   "metadata": {},
   "outputs": [],
   "source": [
    "# Colonnes à encoder en One-Hot\n",
    "onehot_features = [\"dept\", \"cla_age_5\"]\n"
   ]
  },
  {
   "cell_type": "code",
   "execution_count": 14,
   "metadata": {},
   "outputs": [],
   "source": [
    "# Colonnes à laisser en l'état (numériques ou déjà transformées)\n",
    "# Ex: \"prev\", \"no2\", \"pm10\", \"o3\", \"sexe\", \"Niveau prioritaire\", etc.\n",
    "# Remainder='passthrough' va les conserver sans transformation\n",
    "# Définition du ColumnTransformer\n",
    "########################################################\n",
    "preprocessor = ColumnTransformer(\n",
    "    transformers=[\n",
    "        (\"ohe\", OneHotEncoder(drop=\"first\", sparse_output = False) , onehot_features)\n",
    "    ],\n",
    "    remainder=\"passthrough\"\n",
    ")"
   ]
  },
  {
   "cell_type": "code",
   "execution_count": 15,
   "metadata": {},
   "outputs": [],
   "source": [
    "# 3) Application du ColumnTransformer (ou dans un Pipeline)\n",
    "\n",
    "df_array = preprocessor.fit_transform(df)\n",
    "\n",
    "# Récupération des noms des colonnes One-Hot\n",
    "onehot_colnames = preprocessor.named_transformers_[\"ohe\"].get_feature_names_out(onehot_features)\n",
    "# Récupération des noms de colonnes \"passthrough\" dans l'ordre\n",
    "passthrough_cols = [col for col in df.columns if col not in onehot_features]\n"
   ]
  },
  {
   "cell_type": "code",
   "execution_count": 18,
   "metadata": {},
   "outputs": [
    {
     "data": {
      "text/html": [
       "<div>\n",
       "<style scoped>\n",
       "    .dataframe tbody tr th:only-of-type {\n",
       "        vertical-align: middle;\n",
       "    }\n",
       "\n",
       "    .dataframe tbody tr th {\n",
       "        vertical-align: top;\n",
       "    }\n",
       "\n",
       "    .dataframe thead th {\n",
       "        text-align: right;\n",
       "    }\n",
       "</style>\n",
       "<table border=\"1\" class=\"dataframe\">\n",
       "  <thead>\n",
       "    <tr style=\"text-align: right;\">\n",
       "      <th></th>\n",
       "      <th>dept_77</th>\n",
       "      <th>dept_78</th>\n",
       "      <th>dept_91</th>\n",
       "      <th>dept_92</th>\n",
       "      <th>dept_93</th>\n",
       "      <th>dept_94</th>\n",
       "      <th>dept_95</th>\n",
       "      <th>cla_age_5_05-09</th>\n",
       "      <th>cla_age_5_10-14</th>\n",
       "      <th>cla_age_5_15-19</th>\n",
       "      <th>...</th>\n",
       "      <th>cla_age_5_85-89</th>\n",
       "      <th>cla_age_5_90-94</th>\n",
       "      <th>cla_age_5_95et+</th>\n",
       "      <th>cla_age_5_tsage</th>\n",
       "      <th>sexe</th>\n",
       "      <th>prev</th>\n",
       "      <th>Niveau prioritaire</th>\n",
       "      <th>no2</th>\n",
       "      <th>o3</th>\n",
       "      <th>pm10</th>\n",
       "    </tr>\n",
       "  </thead>\n",
       "  <tbody>\n",
       "    <tr>\n",
       "      <th>0</th>\n",
       "      <td>1.0</td>\n",
       "      <td>0.0</td>\n",
       "      <td>0.0</td>\n",
       "      <td>0.0</td>\n",
       "      <td>0.0</td>\n",
       "      <td>0.0</td>\n",
       "      <td>0.0</td>\n",
       "      <td>0.0</td>\n",
       "      <td>0.0</td>\n",
       "      <td>0.0</td>\n",
       "      <td>...</td>\n",
       "      <td>1.0</td>\n",
       "      <td>0.0</td>\n",
       "      <td>0.0</td>\n",
       "      <td>0.0</td>\n",
       "      <td>0</td>\n",
       "      <td>12.957</td>\n",
       "      <td>1,2,3</td>\n",
       "      <td>30.123288</td>\n",
       "      <td>35.389041</td>\n",
       "      <td>33.205479</td>\n",
       "    </tr>\n",
       "    <tr>\n",
       "      <th>1</th>\n",
       "      <td>0.0</td>\n",
       "      <td>0.0</td>\n",
       "      <td>1.0</td>\n",
       "      <td>0.0</td>\n",
       "      <td>0.0</td>\n",
       "      <td>0.0</td>\n",
       "      <td>0.0</td>\n",
       "      <td>0.0</td>\n",
       "      <td>0.0</td>\n",
       "      <td>0.0</td>\n",
       "      <td>...</td>\n",
       "      <td>1.0</td>\n",
       "      <td>0.0</td>\n",
       "      <td>0.0</td>\n",
       "      <td>0.0</td>\n",
       "      <td>0</td>\n",
       "      <td>11.572</td>\n",
       "      <td>1,2,3</td>\n",
       "      <td>28.649315</td>\n",
       "      <td>34.536986</td>\n",
       "      <td>30.945205</td>\n",
       "    </tr>\n",
       "  </tbody>\n",
       "</table>\n",
       "<p>2 rows × 33 columns</p>\n",
       "</div>"
      ],
      "text/plain": [
       "  dept_77 dept_78 dept_91 dept_92 dept_93 dept_94 dept_95 cla_age_5_05-09  \\\n",
       "0     1.0     0.0     0.0     0.0     0.0     0.0     0.0             0.0   \n",
       "1     0.0     0.0     1.0     0.0     0.0     0.0     0.0             0.0   \n",
       "\n",
       "  cla_age_5_10-14 cla_age_5_15-19  ... cla_age_5_85-89 cla_age_5_90-94  \\\n",
       "0             0.0             0.0  ...             1.0             0.0   \n",
       "1             0.0             0.0  ...             1.0             0.0   \n",
       "\n",
       "  cla_age_5_95et+ cla_age_5_tsage sexe    prev Niveau prioritaire        no2  \\\n",
       "0             0.0             0.0    0  12.957              1,2,3  30.123288   \n",
       "1             0.0             0.0    0  11.572              1,2,3  28.649315   \n",
       "\n",
       "          o3       pm10  \n",
       "0  35.389041  33.205479  \n",
       "1  34.536986  30.945205  \n",
       "\n",
       "[2 rows x 33 columns]"
      ]
     },
     "execution_count": 18,
     "metadata": {},
     "output_type": "execute_result"
    }
   ],
   "source": [
    "# Fusion des noms dans le bon ordre\n",
    "final_col_names = list(onehot_colnames) + passthrough_cols\n",
    "\n",
    "# Création d'un nouveau DataFrame final\n",
    "df_final = pd.DataFrame(df_array, columns=final_col_names)\n",
    "\n",
    "df_final.head(2)\n"
   ]
  }
 ],
 "metadata": {
  "kernelspec": {
   "display_name": "base",
   "language": "python",
   "name": "python3"
  },
  "language_info": {
   "codemirror_mode": {
    "name": "ipython",
    "version": 3
   },
   "file_extension": ".py",
   "mimetype": "text/x-python",
   "name": "python",
   "nbconvert_exporter": "python",
   "pygments_lexer": "ipython3",
   "version": "3.12.7"
  }
 },
 "nbformat": 4,
 "nbformat_minor": 2
}
