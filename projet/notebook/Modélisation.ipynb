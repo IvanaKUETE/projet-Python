{
 "cells": [
  {
   "cell_type": "markdown",
   "metadata": {},
   "source": [
    "<h1 style=\"border: thick double #32a1ce; text-align:center;border-radius:35px\">\n",
    "Modélisation statistiques\n",
    "</h1>"
   ]
  },
  {
   "cell_type": "code",
   "execution_count": 19,
   "metadata": {},
   "outputs": [],
   "source": [
    "# Librairies standards\n",
    "import os\n",
    "import numpy as np\n",
    "import pandas as pd\n",
    "import matplotlib.pyplot as plt\n",
    "from sklearn.preprocessing import StandardScaler\n",
    "import warnings\n",
    "warnings.filterwarnings('ignore')\n",
    "from pathlib import Path\n"
   ]
  },
  {
   "cell_type": "code",
   "execution_count": 8,
   "metadata": {},
   "outputs": [
    {
     "name": "stdout",
     "output_type": "stream",
     "text": [
      "Work directory: /home/onyxia/work/projet-Python/projet \n",
      "Data directory: /home/onyxia/work/projet-Python/projet/notebook\n"
     ]
    }
   ],
   "source": [
    "# Définition du répertoire de travail\n",
    "HOME_DIR = Path.cwd().parent\n",
    "DATA_DIR = Path(HOME_DIR, \"notebook\")\n",
    "print(f\"Work directory: {HOME_DIR} \\nData directory: {DATA_DIR}\")"
   ]
  },
  {
   "cell_type": "code",
   "execution_count": 10,
   "metadata": {},
   "outputs": [],
   "source": [
    "Principal_data4 = pd.read_csv(Path(DATA_DIR, \"Principal_data4.csv\"))"
   ]
  },
  {
   "cell_type": "markdown",
   "metadata": {},
   "source": [
    "<h1 style=\"border: thick double #32a1ce; text-align:center;border-radius:35px\">\n",
    "I- feature scaling des variables\n",
    "</h1>"
   ]
  },
  {
   "cell_type": "markdown",
   "metadata": {},
   "source": [
    "Les variables de notre jeu de données ayant une très grande échelle, nous allons faire du feature scaling (les remettre à l'echelle) pour rendre nos données homogènes. La méthode privilégiée dans notre cas est la standardisation car les méthodes (regression logistique ) utilisées reposent sur l'hypothèse de normalité."
   ]
  },
  {
   "cell_type": "code",
   "execution_count": 11,
   "metadata": {},
   "outputs": [
    {
     "data": {
      "text/plain": [
       "Index(['cla_age_5', 'sexe', 'dept', 'prev', 'Niveau prioritaire', 'no2', 'o3',\n",
       "       'pm10'],\n",
       "      dtype='object')"
      ]
     },
     "execution_count": 11,
     "metadata": {},
     "output_type": "execute_result"
    }
   ],
   "source": [
    "Principal_data4.columns"
   ]
  },
  {
   "cell_type": "code",
   "execution_count": 12,
   "metadata": {},
   "outputs": [
    {
     "data": {
      "text/plain": [
       "Index(['sexe', 'dept', 'prev', 'no2', 'o3', 'pm10'], dtype='object')"
      ]
     },
     "execution_count": 12,
     "metadata": {},
     "output_type": "execute_result"
    }
   ],
   "source": [
    "col_num = Principal_data4.select_dtypes(['int64','float64']).columns\n",
    "col_num"
   ]
  },
  {
   "cell_type": "code",
   "execution_count": 13,
   "metadata": {},
   "outputs": [
    {
     "data": {
      "text/plain": [
       "Index(['cla_age_5', 'Niveau prioritaire'], dtype='object')"
      ]
     },
     "execution_count": 13,
     "metadata": {},
     "output_type": "execute_result"
    }
   ],
   "source": [
    "Var_cat=Principal_data4.select_dtypes(['object']).columns\n",
    "Var_cat"
   ]
  },
  {
   "cell_type": "code",
   "execution_count": 14,
   "metadata": {},
   "outputs": [],
   "source": [
    "var_norm=[ 'sexe', 'dept', 'prev', 'no2', 'o3', 'pm10']\n",
    "var_cat=['cla_age_5', 'Niveau prioritaire']"
   ]
  },
  {
   "cell_type": "code",
   "execution_count": 15,
   "metadata": {},
   "outputs": [
    {
     "data": {
      "text/plain": [
       "sexe    0\n",
       "dept    0\n",
       "prev    0\n",
       "no2     0\n",
       "o3      0\n",
       "pm10    0\n",
       "dtype: int64"
      ]
     },
     "execution_count": 15,
     "metadata": {},
     "output_type": "execute_result"
    }
   ],
   "source": [
    "Principal_data4[var_norm].isnull().sum()"
   ]
  },
  {
   "cell_type": "code",
   "execution_count": 16,
   "metadata": {},
   "outputs": [
    {
     "name": "stdout",
     "output_type": "stream",
     "text": [
      "<class 'pandas.core.frame.DataFrame'>\n",
      "RangeIndex: 1352 entries, 0 to 1351\n",
      "Data columns (total 8 columns):\n",
      " #   Column              Non-Null Count  Dtype  \n",
      "---  ------              --------------  -----  \n",
      " 0   cla_age_5           1352 non-null   object \n",
      " 1   sexe                1352 non-null   int64  \n",
      " 2   dept                1352 non-null   int64  \n",
      " 3   prev                1352 non-null   float64\n",
      " 4   Niveau prioritaire  1352 non-null   object \n",
      " 5   no2                 1352 non-null   float64\n",
      " 6   o3                  1352 non-null   float64\n",
      " 7   pm10                1352 non-null   float64\n",
      "dtypes: float64(4), int64(2), object(2)\n",
      "memory usage: 84.6+ KB\n"
     ]
    }
   ],
   "source": [
    "Principal_data4.info()"
   ]
  },
  {
   "cell_type": "markdown",
   "metadata": {},
   "source": [
    "<h2 style= \"text-align:left\">\n",
    "I.1- Standardisation  des variables numériques \n",
    "</h2>"
   ]
  },
  {
   "cell_type": "markdown",
   "metadata": {},
   "source": [
    "<h3 style= \"text-align:left\">\n",
    "I.1.a-  Standarscaler \n",
    "</h3>"
   ]
  },
  {
   "cell_type": "code",
   "execution_count": 20,
   "metadata": {},
   "outputs": [],
   "source": [
    "# standardisation des variables numériques\n",
    "Principal_data4[var_norm] = StandardScaler().fit_transform(Principal_data4[var_norm])"
   ]
  },
  {
   "cell_type": "markdown",
   "metadata": {},
   "source": [
    "Verifiaction de la normalisation"
   ]
  },
  {
   "cell_type": "code",
   "execution_count": 21,
   "metadata": {},
   "outputs": [],
   "source": [
    "def verification_normalisation(data_mod):\n",
    "      for variable_norm in data_mod :\n",
    "        data_mod_col=data_mod[variable_norm]\n",
    "        moyenne=np.mean(data_mod_col)\n",
    "        ecartType = np.std(data_mod_col)\n",
    "\n",
    "        print(\"les statistiques pour la variable {}\" .format(variable_norm))\n",
    "        print(\"La moyenne est de : {} \".format(round(abs(moyenne), 2)))\n",
    "        print(\"L'écart type est de : {} \".format(round(abs(ecartType), 2)))\n",
    "        print(\" \")\n",
    "        print(\" \")"
   ]
  },
  {
   "cell_type": "code",
   "execution_count": 22,
   "metadata": {},
   "outputs": [
    {
     "name": "stdout",
     "output_type": "stream",
     "text": [
      "les statistiques pour la variable sexe\n",
      "La moyenne est de : 0.0 \n",
      "L'écart type est de : 1.0 \n",
      " \n",
      " \n",
      "les statistiques pour la variable dept\n",
      "La moyenne est de : 0.0 \n",
      "L'écart type est de : 1.0 \n",
      " \n",
      " \n",
      "les statistiques pour la variable prev\n",
      "La moyenne est de : 0.0 \n",
      "L'écart type est de : 1.0 \n",
      " \n",
      " \n",
      "les statistiques pour la variable no2\n",
      "La moyenne est de : 0.0 \n",
      "L'écart type est de : 1.0 \n",
      " \n",
      " \n",
      "les statistiques pour la variable o3\n",
      "La moyenne est de : 0.0 \n",
      "L'écart type est de : 1.0 \n",
      " \n",
      " \n",
      "les statistiques pour la variable pm10\n",
      "La moyenne est de : 0.0 \n",
      "L'écart type est de : 1.0 \n",
      " \n",
      " \n"
     ]
    }
   ],
   "source": [
    "verification_normalisation(Principal_data4[var_norm])"
   ]
  },
  {
   "cell_type": "code",
   "execution_count": 23,
   "metadata": {},
   "outputs": [
    {
     "ename": "SyntaxError",
     "evalue": "invalid syntax (4047002507.py, line 1)",
     "output_type": "error",
     "traceback": [
      "\u001b[0;36m  Cell \u001b[0;32mIn[23], line 1\u001b[0;36m\u001b[0m\n\u001b[0;31m    <h1 style= \"text-align:left\">\u001b[0m\n\u001b[0m    ^\u001b[0m\n\u001b[0;31mSyntaxError\u001b[0m\u001b[0;31m:\u001b[0m invalid syntax\n"
     ]
    }
   ],
   "source": [
    "<h1 style= \"text-align:left\">\n",
    "Recherche du meilleur algorithme \n",
    "</h1>"
   ]
  }
 ],
 "metadata": {
  "kernelspec": {
   "display_name": "base",
   "language": "python",
   "name": "python3"
  },
  "language_info": {
   "codemirror_mode": {
    "name": "ipython",
    "version": 3
   },
   "file_extension": ".py",
   "mimetype": "text/x-python",
   "name": "python",
   "nbconvert_exporter": "python",
   "pygments_lexer": "ipython3",
   "version": "3.12.7"
  }
 },
 "nbformat": 4,
 "nbformat_minor": 2
}
