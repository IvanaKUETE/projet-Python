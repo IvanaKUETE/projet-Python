{
 "cells": [
  {
   "cell_type": "markdown",
   "metadata": {},
   "source": [
    "<h1 style=\"border: thick double #32a1ce; text-align:center;border-radius:35px\">\n",
    "Projet Python pour la data science: Analyse descriptive\n",
    "</h1>"
   ]
  },
  {
   "cell_type": "raw",
   "metadata": {},
   "source": [
    "pip install missingno\n",
    "pip install openpyxl"
   ]
  },
  {
   "cell_type": "markdown",
   "metadata": {},
   "source": [
    "<h1 style=\"text-align: center\"> \n",
    "Prérequis \n",
    "</h1>"
   ]
  },
  {
   "cell_type": "code",
   "execution_count": 1,
   "metadata": {},
   "outputs": [],
   "source": [
    "# Librairies standards\n",
    "import zipfile\n",
    "import os\n",
    "import io  \n",
    "import numpy as np\n",
    "import pandas as pd\n",
    "from scipy.stats import pearsonr\n",
    "import geopandas as gpd\n",
    "import requests\n",
    "import matplotlib.pyplot as plt\n",
    "import seaborn as sns\n",
    "from math import radians, cos, sin, asin, sqrt\n",
    "import warnings\n",
    "warnings.filterwarnings('ignore')\n",
    "from pathlib import Path"
   ]
  },
  {
   "cell_type": "code",
   "execution_count": 2,
   "metadata": {},
   "outputs": [
    {
     "name": "stdout",
     "output_type": "stream",
     "text": [
      "Work directory: /home/onyxia/work/projet-Python/projet \n",
      "Data directory: /home/onyxia/work/projet-Python/projet/data\n"
     ]
    }
   ],
   "source": [
    "# Définition du répertoire de travail\n",
    "HOME_DIR = Path.cwd().parent\n",
    "DATA_DIR = Path(HOME_DIR, \"data\")\n",
    "print(f\"Work directory: {HOME_DIR} \\nData directory: {DATA_DIR}\")"
   ]
  },
  {
   "cell_type": "markdown",
   "metadata": {},
   "source": [
    "<h1 style=\" text-align:center\">\n",
    "1.Description des données \n",
    "</h1>"
   ]
  },
  {
   "cell_type": "markdown",
   "metadata": {},
   "source": [
    "<h2 style=\" text-align:left\">\n",
    "1.1- Chargement et exploration des bases \n",
    "</h2>"
   ]
  },
  {
   "cell_type": "markdown",
   "metadata": {},
   "source": [
    "Dans le cadre de notre travail nous allons utiliser 03 bases de données qui porte essentiellement sur: la qualité de l'air, les pathologie et les superficies dans la région Parisienne. \n",
    "   dans cette partie il est question de charger et/ou de visualiser nos  differentes  bases de données."
   ]
  },
  {
   "cell_type": "markdown",
   "metadata": {},
   "source": [
    "<h3 style=\" text-align:left\">\n",
    "a. CHARGEMENT ET PREMIÈRE EXPLORATION DES DONNÉES (QUALITÉ DE L'AIR)\n",
    "</h3>"
   ]
  },
  {
   "cell_type": "markdown",
   "metadata": {},
   "source": [
    "**Présentation des variables de la base des indices de qualité de lair:**\n",
    "\n",
    "Tout d'abord, nous tenons à souligner que nous nous sommes limités à 3 indicateurs de la qualité de l'air que sont le 'no2', le 'o3' et le 'pm10'."
   ]
  },
  {
   "cell_type": "code",
   "execution_count": 3,
   "metadata": {},
   "outputs": [
    {
     "data": {
      "text/html": [
       "<div>\n",
       "<style scoped>\n",
       "    .dataframe tbody tr th:only-of-type {\n",
       "        vertical-align: middle;\n",
       "    }\n",
       "\n",
       "    .dataframe tbody tr th {\n",
       "        vertical-align: top;\n",
       "    }\n",
       "\n",
       "    .dataframe thead th {\n",
       "        text-align: right;\n",
       "    }\n",
       "</style>\n",
       "<table border=\"1\" class=\"dataframe\">\n",
       "  <thead>\n",
       "    <tr style=\"text-align: right;\">\n",
       "      <th></th>\n",
       "      <th>__id</th>\n",
       "      <th>date</th>\n",
       "      <th>ninsee</th>\n",
       "      <th>no2</th>\n",
       "      <th>o3</th>\n",
       "      <th>pm10</th>\n",
       "    </tr>\n",
       "  </thead>\n",
       "  <tbody>\n",
       "    <tr>\n",
       "      <th>0</th>\n",
       "      <td>1</td>\n",
       "      <td>2017-01-01</td>\n",
       "      <td>0</td>\n",
       "      <td>23</td>\n",
       "      <td>16</td>\n",
       "      <td>43</td>\n",
       "    </tr>\n",
       "    <tr>\n",
       "      <th>1</th>\n",
       "      <td>2</td>\n",
       "      <td>2017-01-01</td>\n",
       "      <td>75</td>\n",
       "      <td>23</td>\n",
       "      <td>8</td>\n",
       "      <td>38</td>\n",
       "    </tr>\n",
       "    <tr>\n",
       "      <th>2</th>\n",
       "      <td>3</td>\n",
       "      <td>2017-01-01</td>\n",
       "      <td>77</td>\n",
       "      <td>19</td>\n",
       "      <td>17</td>\n",
       "      <td>44</td>\n",
       "    </tr>\n",
       "    <tr>\n",
       "      <th>3</th>\n",
       "      <td>4</td>\n",
       "      <td>2017-01-01</td>\n",
       "      <td>78</td>\n",
       "      <td>16</td>\n",
       "      <td>15</td>\n",
       "      <td>32</td>\n",
       "    </tr>\n",
       "    <tr>\n",
       "      <th>4</th>\n",
       "      <td>5</td>\n",
       "      <td>2017-01-01</td>\n",
       "      <td>91</td>\n",
       "      <td>14</td>\n",
       "      <td>16</td>\n",
       "      <td>34</td>\n",
       "    </tr>\n",
       "  </tbody>\n",
       "</table>\n",
       "</div>"
      ],
      "text/plain": [
       "  __id        date ninsee no2  o3 pm10\n",
       "0    1  2017-01-01      0  23  16   43\n",
       "1    2  2017-01-01     75  23   8   38\n",
       "2    3  2017-01-01     77  19  17   44\n",
       "3    4  2017-01-01     78  16  15   32\n",
       "4    5  2017-01-01     91  14  16   34"
      ]
     },
     "execution_count": 3,
     "metadata": {},
     "output_type": "execute_result"
    }
   ],
   "source": [
    "\n",
    "\n",
    "# Lien direct vers le fichier CSV\n",
    "url = \"https://tabular-api.data.gouv.fr/api/resources/98e8387e-a53c-442d-bad3-141aed5d8a04/data/csv/\"\n",
    "\n",
    "# Envoyer une requête GET pour récupérer les données\n",
    "response = requests.get(url, timeout=30)\n",
    "response.raise_for_status()  # Lever une exception si la requête échoue\n",
    "\n",
    "# Charger les données directement dans un DataFrame\n",
    "qualite_air = pd.read_csv(io.StringIO(response.text))\n",
    "\n",
    "# Afficher un aperçu du DataFrame\n",
    "qualite_air.head()\n"
   ]
  },
  {
   "cell_type": "code",
   "execution_count": 4,
   "metadata": {},
   "outputs": [
    {
     "name": "stdout",
     "output_type": "stream",
     "text": [
      "<class 'pandas.core.frame.DataFrame'>\n",
      "RangeIndex: 476494 entries, 0 to 476493\n",
      "Data columns (total 6 columns):\n",
      " #   Column  Non-Null Count   Dtype \n",
      "---  ------  --------------   ----- \n",
      " 0   __id    476494 non-null  object\n",
      " 1   date    476494 non-null  object\n",
      " 2   ninsee  476494 non-null  object\n",
      " 3   no2     476494 non-null  object\n",
      " 4   o3      476494 non-null  object\n",
      " 5   pm10    476494 non-null  object\n",
      "dtypes: object(6)\n",
      "memory usage: 21.8+ MB\n"
     ]
    }
   ],
   "source": [
    "qualite_air.info()"
   ]
  },
  {
   "cell_type": "code",
   "execution_count": 5,
   "metadata": {},
   "outputs": [],
   "source": [
    "# Supprimer la colonne '_id'\n",
    "qualite_air = qualite_air.drop(columns=['__id'])\n"
   ]
  },
  {
   "cell_type": "code",
   "execution_count": 6,
   "metadata": {},
   "outputs": [
    {
     "name": "stdout",
     "output_type": "stream",
     "text": [
      "<class 'pandas.core.frame.DataFrame'>\n",
      "RangeIndex: 476494 entries, 0 to 476493\n",
      "Data columns (total 5 columns):\n",
      " #   Column  Non-Null Count   Dtype \n",
      "---  ------  --------------   ----- \n",
      " 0   date    476494 non-null  object\n",
      " 1   ninsee  476494 non-null  object\n",
      " 2   no2     476485 non-null  Int64 \n",
      " 3   o3      476485 non-null  Int64 \n",
      " 4   pm10    476485 non-null  Int64 \n",
      "dtypes: Int64(3), object(2)\n",
      "memory usage: 19.5+ MB\n"
     ]
    }
   ],
   "source": [
    "# Liste des variables numériques à convertir\n",
    "var_norm = ['no2', 'o3', 'pm10']\n",
    "\n",
    "# Convertir les colonnes en type int, en gérant les erreurs et les valeurs manquantes\n",
    "for col in var_norm:\n",
    "    try:\n",
    "        qualite_air[col] = pd.to_numeric(qualite_air[col], errors='coerce').astype('Int64')  # Type Int64 pour gérer NaN\n",
    "    except KeyError:\n",
    "        print(f\"Colonne {col} introuvable dans le DataFrame.\")\n",
    "\n",
    "# Afficher les informations sur le DataFrame après conversion\n",
    "qualite_air.info()\n"
   ]
  },
  {
   "cell_type": "markdown",
   "metadata": {},
   "source": [
    "Description : Notre  base ne contient aucune valeur manquante. \n",
    "\n",
    "Variables : \n",
    "<ul>\n",
    "    <li> date : La date de mesure des indicateurs de qualité de l’air.</li>\n",
    "    <li>ninsee: code postale des département de l'ile de France. Le code INSEE de la commune ou de l’arrondissement parisien.</li>\n",
    "    <li>NO2 (dioxyde d’azote) : Mesuré en µg/m³, ce polluant provient principalement des émissions des véhicules et des processus industriels. Il est un indicateur important de la pollution de l’air en milieu urbain.</li>\n",
    "    <li> O3 (ozone) : Mesuré en µg/m³, l’ozone troposphérique est un polluant secondaire formé par des réactions chimiques entre d’autres polluants (comme les NOx et les COV) sous l’effet de la lumière solaire. Il est souvent plus présent en été.</li>\n",
    "    <li> PM10 (particules fines) : Mesuré en µg/m³, ce sont des particules en suspension dans l’air dont le diamètre est inférieur à 10 micromètres. Elles proviennent de diverses sources, y compris les émissions des véhicules, les industries, et les activités de construction.</li>\n",
    "</ul>\n",
    "\n",
    "Comparaison pratique :\n",
    "1 µg est une quantité minuscule. C'est l'équivalent de la masse d'une particule de poussière.\n",
    "Dans un mètre cube (environ la taille d'une cabine téléphonique ou d'un petit ascenseur), cela revient à une infime quantité presque imperceptible à l'œil nu.\n",
    "\n",
    "Exemple concret d'analogie :\n",
    "Imaginez que vous dissolvez un grain de sel de table (environ 58 mg) dans une piscine olympique (2,5 millions de litres). La concentration en sel serait proche de 23 µg/m³ dans l'eau.\n",
    "\n"
   ]
  },
  {
   "cell_type": "markdown",
   "metadata": {},
   "source": [
    "\n",
    "\n",
    "\n",
    "\n",
    "\n",
    "**Distribution des indicateurs:**"
   ]
  },
  {
   "cell_type": "code",
   "execution_count": 7,
   "metadata": {},
   "outputs": [
    {
     "name": "stdout",
     "output_type": "stream",
     "text": [
      "\n",
      "Analyse de la variable quantitative : no2\n",
      "count     476485.0\n",
      "mean     18.016225\n",
      "std       9.368416\n",
      "min            1.0\n",
      "25%           11.0\n",
      "50%           15.0\n",
      "75%           23.0\n",
      "max           64.0\n",
      "Name: no2, dtype: Float64\n"
     ]
    },
    {
     "data": {
      "image/png": "[encoded data removed]",
      "text/plain": [
       "<Figure size 800x400 with 1 Axes>"
      ]
     },
     "metadata": {},
     "output_type": "display_data"
    },
    {
     "name": "stdout",
     "output_type": "stream",
     "text": [
      "\n",
      "Analyse de la variable quantitative : o3\n",
      "count     476485.0\n",
      "mean     31.834522\n",
      "std      10.959234\n",
      "min            1.0\n",
      "25%           25.0\n",
      "50%           31.0\n",
      "75%           38.0\n",
      "max           97.0\n",
      "Name: o3, dtype: Float64\n"
     ]
    },
    {
     "data": {
      "image/png": "[encoded data removed]",
      "text/plain": [
       "<Figure size 800x400 with 1 Axes>"
      ]
     },
     "metadata": {},
     "output_type": "display_data"
    },
    {
     "name": "stdout",
     "output_type": "stream",
     "text": [
      "\n",
      "Analyse de la variable quantitative : pm10\n",
      "count     476485.0\n",
      "mean     26.724308\n",
      "std      14.170604\n",
      "min            2.0\n",
      "25%           17.0\n",
      "50%           24.0\n",
      "75%           32.0\n",
      "max           99.0\n",
      "Name: pm10, dtype: Float64\n"
     ]
    },
    {
     "data": {
      "image/png": "[encoded data removed]",
      "text/plain": [
       "<Figure size 800x400 with 1 Axes>"
      ]
     },
     "metadata": {},
     "output_type": "display_data"
    }
   ],
   "source": [
    "quantitative_vars = ['no2', 'o3', 'pm10']\n",
    "\n",
    "for col in quantitative_vars:\n",
    "    print(f\"\\nAnalyse de la variable quantitative : {col}\")\n",
    "    print(qualite_air[col].describe())\n",
    "    \n",
    "    # Histogramme\n",
    "    plt.figure(figsize=(8, 4))\n",
    "    sns.histplot(qualite_air[col], kde=True, bins=30, stat=\"percent\", color='blue')\n",
    "    plt.title(f\"Distribution de {col}\")\n",
    "    plt.xlabel(col)\n",
    "    plt.ylabel(\"Fréquence\")\n",
    "    plt.show()\n"
   ]
  },
  {
   "cell_type": "code",
   "execution_count": 8,
   "metadata": {},
   "outputs": [
    {
     "data": {
      "image/png": "[encoded data removed]",
      "text/plain": [
       "<Figure size 1800x1000 with 3 Axes>"
      ]
     },
     "metadata": {},
     "output_type": "display_data"
    }
   ],
   "source": [
    "# Box-plot\n",
    "idf_departments = ['75', '77', '78', '91', '92', '93', '94', '95']\n",
    "\n",
    "# Filtrer les données par les codes INSEE des départements de l'Île-de-France\n",
    "idf_data = qualite_air[qualite_air['ninsee'].isin(idf_departments)]\n",
    "\n",
    "# Variables à analyser\n",
    "variables = ['pm10', 'o3', 'no2']\n",
    "\n",
    "# Définir la taille de la figure\n",
    "plt.figure(figsize=(18, 10))\n",
    "\n",
    "# Boucle pour créer un graphique pour chaque variable\n",
    "for i, var in enumerate(variables):\n",
    "    plt.subplot(1, 3, i + 1)  # Placer les graphes sur une seule ligne (3 colonnes)\n",
    "    \n",
    "    # Boxplot pour chaque modalité de la variable 'ninsee'\n",
    "    sns.boxplot(x='ninsee', y=var, data=idf_data)\n",
    "    plt.title(f'Distribution de {var} par modalité de ninsee')\n",
    "    plt.xlabel('Ninsee')\n",
    "    plt.ylabel(var)\n",
    "\n",
    "# Ajuster l'espacement des graphiques\n",
    "plt.tight_layout()\n",
    "plt.show()"
   ]
  },
  {
   "cell_type": "markdown",
   "metadata": {},
   "source": [
    "La concentration en o3 est assez symétrique contrairement à no2 et pm10 qui présentent une asymétrie. Cela témoingne du fait que les faibles concentrations sont beaucoup plus représentées dans no2 et pm10. Comme nous souhaitons faire une fusion de bases de données, nous allons devoir résumer la base relative aux indices de l'air en données annuelles par département. Ces analyses univariées suggèrent  d'apporter certaines modifications aux variables pm10 et no2 afin de mieux savoir quelle statistique résumerait au mieux l'information dans ces variables."
   ]
  },
  {
   "cell_type": "markdown",
   "metadata": {},
   "source": [
    "**Distributions des variables catégorielles:**"
   ]
  },
  {
   "cell_type": "code",
   "execution_count": 9,
   "metadata": {},
   "outputs": [
    {
     "name": "stdout",
     "output_type": "stream",
     "text": [
      "Résumé pour la variable 'date':\n",
      "            Fréquence absolue  Fréquence relative (%)\n",
      "date                                                 \n",
      "2017-12-31               1309                0.274715\n",
      "2017-01-01               1309                0.274715\n",
      "2017-02-01               1309                0.274715\n",
      "2017-03-01               1309                0.274715\n",
      "2017-04-01               1309                0.274715\n",
      "...                       ...                     ...\n",
      "2017-01-20               1309                0.274715\n",
      "2017-01-21               1309                0.274715\n",
      "2017-01-22               1309                0.274715\n",
      "date                        9                0.001889\n",
      "2017-09-27                  9                0.001889\n",
      "\n",
      "[366 rows x 2 columns]\n",
      "\n",
      "\n",
      "Résumé pour la variable 'ninsee':\n",
      "        Fréquence absolue  Fréquence relative (%)\n",
      "ninsee                                           \n",
      "93                    365                0.076601\n",
      "92                    365                0.076601\n",
      "91                    365                0.076601\n",
      "78                    365                0.076601\n",
      "77                    365                0.076601\n",
      "...                   ...                     ...\n",
      "77424                 364                0.076391\n",
      "77423                 364                0.076391\n",
      "77421                 364                0.076391\n",
      "77432                 364                0.076391\n",
      "ninsee                  9                0.001889\n",
      "\n",
      "[1310 rows x 2 columns]\n",
      "\n",
      "\n"
     ]
    }
   ],
   "source": [
    "# Pour chaque variable qualitative\n",
    "qualitative_vars = ['date', 'ninsee']\n",
    "for var in qualitative_vars:\n",
    "    print(f\"Résumé pour la variable '{var}':\")\n",
    "    freq_abs = qualite_air[var].value_counts()\n",
    "    freq_rel = qualite_air[var].value_counts(normalize=True) * 100\n",
    "    summary = pd.DataFrame({\"Fréquence absolue\": freq_abs, \"Fréquence relative (%)\": freq_rel})\n",
    "    print(summary)\n",
    "    print(\"\\n\")\n"
   ]
  },
  {
   "cell_type": "code",
   "execution_count": 10,
   "metadata": {},
   "outputs": [
    {
     "name": "stdout",
     "output_type": "stream",
     "text": [
      "\n",
      "Analyse de la variable qualitative : date\n",
      "Nombre de valeurs uniques : 366\n",
      "Valeur(s) la/les plus fréquente(s) dans 'date' avec 1309 occurrences :\n",
      "['2017-12-31', '2017-01-01', '2017-02-01', '2017-03-01', '2017-04-01', '2017-05-01', '2017-06-01', '2017-07-01', '2017-08-01', '2017-09-01', '2017-10-01', '2017-11-01', '2017-12-01', '2017-01-13', '2017-11-22', '2017-11-23', '2017-11-24', '2017-11-25', '2017-11-26', '2017-11-27', '2017-11-28', '2017-11-29', '2017-11-14', '2017-11-15', '2017-11-16', '2017-11-17', '2017-11-18', '2017-11-19', '2017-11-20', '2017-11-21', '2017-06-11', '2017-07-11', '2017-08-11', '2017-09-11', '2017-10-11', '2017-11-11', '2017-12-11', '2017-11-13', '2017-10-29', '2017-10-30', '2017-10-31', '2017-01-11', '2017-02-11', '2017-03-11', '2017-04-11', '2017-05-11', '2017-11-03', '2017-12-03', '2017-03-13', '2017-03-14', '2017-03-15', '2017-03-16', '2017-03-17', '2017-03-18', '2017-03-03', '2017-04-03', '2017-05-03', '2017-06-03', '2017-07-03', '2017-08-03', '2017-09-03', '2017-10-03', '2017-02-23', '2017-02-24', '2017-02-25', '2017-02-26', '2017-02-27', '2017-02-28', '2017-01-03', '2017-02-03', '2017-02-15', '2017-02-16', '2017-02-17', '2017-02-18', '2017-02-19', '2017-02-20', '2017-02-21', '2017-02-22', '2017-12-04', '2017-04-13', '2017-04-14', '2017-04-15', '2017-04-16', '2017-04-17', '2017-04-18', '2017-04-19', '2017-04-04', '2017-05-04', '2017-06-04', '2017-07-04', '2017-08-04', '2017-09-04', '2017-10-04', '2017-11-04', '2017-03-27', '2017-03-28', '2017-03-29', '2017-03-30', '2017-03-31', '2017-01-04', '2017-02-04', '2017-03-04', '2017-03-19', '2017-03-20', '2017-03-21', '2017-03-22', '2017-03-23', '2017-03-24', '2017-03-25', '2017-03-26', '2017-05-14', '2017-05-15', '2017-05-16', '2017-05-17', '2017-05-18', '2017-05-19', '2017-05-20', '2017-05-21', '2017-06-05', '2017-07-05', '2017-08-05', '2017-09-05', '2017-10-05', '2017-11-05', '2017-12-05', '2017-05-13', '2017-04-28', '2017-04-29', '2017-04-30', '2017-01-05', '2017-02-05', '2017-03-05', '2017-04-05', '2017-05-05', '2017-04-20', '2017-04-21', '2017-04-22', '2017-04-23', '2017-04-24', '2017-04-25', '2017-04-26', '2017-04-27', '2017-06-15', '2017-06-16', '2017-06-17', '2017-06-18', '2017-06-19', '2017-06-20', '2017-06-21', '2017-06-22', '2017-07-06', '2017-08-06', '2017-09-06', '2017-10-06', '2017-11-06', '2017-12-06', '2017-06-13', '2017-06-14', '2017-05-30', '2017-05-31', '2017-01-06', '2017-02-06', '2017-03-06', '2017-04-06', '2017-05-06', '2017-06-06', '2017-05-22', '2017-05-23', '2017-05-24', '2017-05-25', '2017-05-26', '2017-05-27', '2017-05-28', '2017-05-29', '2017-07-17', '2017-07-18', '2017-07-19', '2017-07-20', '2017-07-21', '2017-07-22', '2017-07-23', '2017-07-24', '2017-09-07', '2017-10-07', '2017-11-07', '2017-12-07', '2017-07-13', '2017-07-14', '2017-07-15', '2017-07-16', '2017-01-07', '2017-02-07', '2017-03-07', '2017-04-07', '2017-05-07', '2017-06-07', '2017-07-07', '2017-08-07', '2017-06-23', '2017-06-24', '2017-06-25', '2017-06-26', '2017-06-27', '2017-06-28', '2017-06-29', '2017-06-30', '2017-08-18', '2017-08-19', '2017-08-20', '2017-08-21', '2017-08-22', '2017-08-23', '2017-08-24', '2017-08-25', '2017-10-08', '2017-11-08', '2017-12-08', '2017-08-13', '2017-08-14', '2017-08-15', '2017-08-16', '2017-08-17', '2017-02-08', '2017-03-08', '2017-04-08', '2017-05-08', '2017-06-08', '2017-07-08', '2017-08-08', '2017-09-08', '2017-07-25', '2017-07-26', '2017-07-27', '2017-07-28', '2017-07-29', '2017-07-30', '2017-07-31', '2017-01-08', '2017-09-19', '2017-09-20', '2017-09-21', '2017-09-22', '2017-09-23', '2017-09-24', '2017-09-25', '2017-09-26', '2017-11-09', '2017-12-09', '2017-09-13', '2017-09-14', '2017-09-15', '2017-09-16', '2017-09-17', '2017-09-18', '2017-03-09', '2017-04-09', '2017-05-09', '2017-06-09', '2017-07-09', '2017-08-09', '2017-09-09', '2017-10-09', '2017-08-26', '2017-08-27', '2017-08-28', '2017-08-29', '2017-08-30', '2017-08-31', '2017-01-09', '2017-02-09', '2017-10-21', '2017-10-22', '2017-10-23', '2017-10-24', '2017-10-25', '2017-10-26', '2017-10-27', '2017-10-28', '2017-10-13', '2017-10-14', '2017-10-15', '2017-10-16', '2017-10-17', '2017-10-18', '2017-10-19', '2017-10-20', '2017-05-10', '2017-06-10', '2017-07-10', '2017-08-10', '2017-09-10', '2017-10-10', '2017-11-10', '2017-12-10', '2017-09-28', '2017-09-29', '2017-09-30', '2017-01-10', '2017-02-10', '2017-03-10', '2017-04-10', '2017-12-24', '2017-12-25', '2017-12-26', '2017-12-27', '2017-12-28', '2017-12-29', '2017-12-30', '2017-01-14', '2017-12-16', '2017-12-17', '2017-12-18', '2017-12-19', '2017-12-20', '2017-12-21', '2017-12-22', '2017-12-23', '2017-08-12', '2017-09-12', '2017-10-12', '2017-11-12', '2017-12-12', '2017-12-13', '2017-12-14', '2017-12-15', '2017-11-30', '2017-01-12', '2017-02-12', '2017-03-12', '2017-04-12', '2017-05-12', '2017-06-12', '2017-07-12', '2017-08-02', '2017-09-02', '2017-10-02', '2017-11-02', '2017-12-02', '2017-02-13', '2017-02-14', '2017-01-31', '2017-01-02', '2017-02-02', '2017-03-02', '2017-04-02', '2017-05-02', '2017-06-02', '2017-07-02', '2017-01-23', '2017-01-24', '2017-01-25', '2017-01-26', '2017-01-27', '2017-01-28', '2017-01-29', '2017-01-30', '2017-01-15', '2017-01-16', '2017-01-17', '2017-01-18', '2017-01-19', '2017-01-20', '2017-01-21', '2017-01-22']\n",
      "Nombre de modalités avec ce nombre maximal d'occurrences : 364\n",
      "\n",
      "Analyse de la variable qualitative : ninsee\n",
      "Nombre de valeurs uniques : 1310\n",
      "Valeur(s) la/les plus fréquente(s) dans 'ninsee' avec 365 occurrences :\n",
      "['93', '92', '91', '78', '77', '75', '0', '95', '94']\n",
      "Nombre de modalités avec ce nombre maximal d'occurrences : 9\n"
     ]
    }
   ],
   "source": [
    "#Nous allons présenter ces variables de façon agrégée\n",
    "\n",
    "for col in qualitative_vars:\n",
    "    print(f\"\\nAnalyse de la variable qualitative : {col}\")\n",
    "    \n",
    "    # Nombre de valeurs uniques\n",
    "    unique_count = qualite_air[col].nunique()\n",
    "    print(f\"Nombre de valeurs uniques : {unique_count}\")\n",
    "    \n",
    "    # Valeur la plus fréquente et son nombre d'occurrences\n",
    "    value_counts = qualite_air[col].value_counts()\n",
    "    most_common_count = value_counts.max()  # Nombre maximal d'occurrences\n",
    "    most_common_values = value_counts[value_counts == most_common_count]\n",
    "    \n",
    "    # Afficher la valeur la plus fréquente et son nombre d'occurrences\n",
    "    print(f\"Valeur(s) la/les plus fréquente(s) dans '{col}' avec {most_common_count} occurrences :\")\n",
    "    print(most_common_values.index.tolist())\n",
    "    \n",
    "    # Nombre de modalités ayant ce nombre maximal d'occurrences\n",
    "    num_modalities = most_common_values.shape[0]\n",
    "    print(f\"Nombre de modalités avec ce nombre maximal d'occurrences : {num_modalities}\")\n"
   ]
  },
  {
   "cell_type": "markdown",
   "metadata": {},
   "source": [
    "Ici est présenté le fait que les données sont collectées sur les 365 jours de l'année 2017 et pour chaque jour, chacun des 8 départements (Paris (75); Seine-et-Marne (77); Yvelines (78); Essonne (91); Hauts-de-Seine (92); Seine-Saint-Denis (93); Val-de-Marne (94); Val-d’Oise (95)) de la région parisienne (0) a une valeurs qui y est associée. Justifiant ainsi le fait que nous souhaitons \"résumer\" les informations de façon anuelle et par département. En ce qui concerne les valeurs désagrégées (par arrondissement), nous n'en n'auront pas besoin car notre étude se limite au niveau départemental."
   ]
  },
  {
   "cell_type": "markdown",
   "metadata": {},
   "source": [
    "<h3 style=\" text-align:left\">\n",
    "b. CHARGEMENT ET FILTRAGE (PATHOLOGIES) \n",
    "</h3>"
   ]
  },
  {
   "cell_type": "markdown",
   "metadata": {},
   "source": [
    "**Présentation de la base des pathologies:**\n",
    "\n",
    "La base sur les pathologies respiratoires étant très volumineuse, nous avons dû la zipper pour la placer sur github. Nous allons donc la \"dézipper\" afin d'accéder aux données."
   ]
  },
  {
   "cell_type": "code",
   "execution_count": 11,
   "metadata": {},
   "outputs": [
    {
     "name": "stdout",
     "output_type": "stream",
     "text": [
      "Fichier effectifs (4).csv extrait avec succès dans /home/onyxia/work/projet-Python/projet/data !\n"
     ]
    }
   ],
   "source": [
    "# Extraction du fichier zippé\n",
    "import zipfile\n",
    "from pathlib import Path\n",
    "\n",
    "# Chemins\n",
    "zip_path = Path(DATA_DIR, \"effectifs (4).csv.zip\")  # Fichier ZIP\n",
    "extract_path = Path(DATA_DIR)  # Dossier où extraire les fichiers\n",
    "\n",
    "# Nom du fichier à extraire depuis l'archive\n",
    "file_to_extract = \"effectifs (4).csv\"\n",
    "\n",
    "# Extraction\n",
    "with zipfile.ZipFile(zip_path, 'r') as zip_ref:\n",
    "    # Extraire uniquement un fichier spécifique\n",
    "    effectifs = zip_ref.extract(file_to_extract, extract_path)\n",
    "    print(f\"Fichier {file_to_extract} extrait avec succès dans {extract_path} !\")\n",
    "\n"
   ]
  },
  {
   "cell_type": "code",
   "execution_count": 12,
   "metadata": {},
   "outputs": [
    {
     "data": {
      "text/html": [
       "<div>\n",
       "<style scoped>\n",
       "    .dataframe tbody tr th:only-of-type {\n",
       "        vertical-align: middle;\n",
       "    }\n",
       "\n",
       "    .dataframe tbody tr th {\n",
       "        vertical-align: top;\n",
       "    }\n",
       "\n",
       "    .dataframe thead th {\n",
       "        text-align: right;\n",
       "    }\n",
       "</style>\n",
       "<table border=\"1\" class=\"dataframe\">\n",
       "  <thead>\n",
       "    <tr style=\"text-align: right;\">\n",
       "      <th></th>\n",
       "      <th>annee</th>\n",
       "      <th>patho_niv1</th>\n",
       "      <th>patho_niv2</th>\n",
       "      <th>patho_niv3</th>\n",
       "      <th>top</th>\n",
       "      <th>cla_age_5</th>\n",
       "      <th>sexe</th>\n",
       "      <th>region</th>\n",
       "      <th>dept</th>\n",
       "      <th>Ntop</th>\n",
       "      <th>Npop</th>\n",
       "      <th>prev</th>\n",
       "      <th>Niveau prioritaire</th>\n",
       "      <th>libelle_classe_age</th>\n",
       "      <th>libelle_sexe</th>\n",
       "      <th>tri</th>\n",
       "    </tr>\n",
       "  </thead>\n",
       "  <tbody>\n",
       "    <tr>\n",
       "      <th>0</th>\n",
       "      <td>2017</td>\n",
       "      <td>Total consommants tous régimes</td>\n",
       "      <td>Total consommants tous régimes</td>\n",
       "      <td>Total consommants tous régimes</td>\n",
       "      <td>POP_TOT_IND</td>\n",
       "      <td>80-84</td>\n",
       "      <td>9</td>\n",
       "      <td>1</td>\n",
       "      <td>971</td>\n",
       "      <td>9520.0</td>\n",
       "      <td>9520</td>\n",
       "      <td>100.0</td>\n",
       "      <td>NaN</td>\n",
       "      <td>de 80 à 84 ans</td>\n",
       "      <td>tous sexes</td>\n",
       "      <td>NaN</td>\n",
       "    </tr>\n",
       "    <tr>\n",
       "      <th>1</th>\n",
       "      <td>2017</td>\n",
       "      <td>Total consommants tous régimes</td>\n",
       "      <td>Total consommants tous régimes</td>\n",
       "      <td>Total consommants tous régimes</td>\n",
       "      <td>POP_TOT_IND</td>\n",
       "      <td>80-84</td>\n",
       "      <td>9</td>\n",
       "      <td>2</td>\n",
       "      <td>999</td>\n",
       "      <td>10650.0</td>\n",
       "      <td>10650</td>\n",
       "      <td>100.0</td>\n",
       "      <td>NaN</td>\n",
       "      <td>de 80 à 84 ans</td>\n",
       "      <td>tous sexes</td>\n",
       "      <td>NaN</td>\n",
       "    </tr>\n",
       "    <tr>\n",
       "      <th>2</th>\n",
       "      <td>2017</td>\n",
       "      <td>Total consommants tous régimes</td>\n",
       "      <td>Total consommants tous régimes</td>\n",
       "      <td>Total consommants tous régimes</td>\n",
       "      <td>POP_TOT_IND</td>\n",
       "      <td>80-84</td>\n",
       "      <td>9</td>\n",
       "      <td>4</td>\n",
       "      <td>974</td>\n",
       "      <td>12430.0</td>\n",
       "      <td>12430</td>\n",
       "      <td>100.0</td>\n",
       "      <td>NaN</td>\n",
       "      <td>de 80 à 84 ans</td>\n",
       "      <td>tous sexes</td>\n",
       "      <td>NaN</td>\n",
       "    </tr>\n",
       "    <tr>\n",
       "      <th>3</th>\n",
       "      <td>2017</td>\n",
       "      <td>Total consommants tous régimes</td>\n",
       "      <td>Total consommants tous régimes</td>\n",
       "      <td>Total consommants tous régimes</td>\n",
       "      <td>POP_TOT_IND</td>\n",
       "      <td>80-84</td>\n",
       "      <td>9</td>\n",
       "      <td>4</td>\n",
       "      <td>999</td>\n",
       "      <td>12430.0</td>\n",
       "      <td>12430</td>\n",
       "      <td>100.0</td>\n",
       "      <td>NaN</td>\n",
       "      <td>de 80 à 84 ans</td>\n",
       "      <td>tous sexes</td>\n",
       "      <td>NaN</td>\n",
       "    </tr>\n",
       "    <tr>\n",
       "      <th>4</th>\n",
       "      <td>2017</td>\n",
       "      <td>Total consommants tous régimes</td>\n",
       "      <td>Total consommants tous régimes</td>\n",
       "      <td>Total consommants tous régimes</td>\n",
       "      <td>POP_TOT_IND</td>\n",
       "      <td>80-84</td>\n",
       "      <td>9</td>\n",
       "      <td>6</td>\n",
       "      <td>976</td>\n",
       "      <td>550.0</td>\n",
       "      <td>550</td>\n",
       "      <td>100.0</td>\n",
       "      <td>NaN</td>\n",
       "      <td>de 80 à 84 ans</td>\n",
       "      <td>tous sexes</td>\n",
       "      <td>NaN</td>\n",
       "    </tr>\n",
       "  </tbody>\n",
       "</table>\n",
       "</div>"
      ],
      "text/plain": [
       "   annee                      patho_niv1                      patho_niv2  \\\n",
       "0   2017  Total consommants tous régimes  Total consommants tous régimes   \n",
       "1   2017  Total consommants tous régimes  Total consommants tous régimes   \n",
       "2   2017  Total consommants tous régimes  Total consommants tous régimes   \n",
       "3   2017  Total consommants tous régimes  Total consommants tous régimes   \n",
       "4   2017  Total consommants tous régimes  Total consommants tous régimes   \n",
       "\n",
       "                       patho_niv3          top cla_age_5  sexe  region dept  \\\n",
       "0  Total consommants tous régimes  POP_TOT_IND     80-84     9       1  971   \n",
       "1  Total consommants tous régimes  POP_TOT_IND     80-84     9       2  999   \n",
       "2  Total consommants tous régimes  POP_TOT_IND     80-84     9       4  974   \n",
       "3  Total consommants tous régimes  POP_TOT_IND     80-84     9       4  999   \n",
       "4  Total consommants tous régimes  POP_TOT_IND     80-84     9       6  976   \n",
       "\n",
       "      Ntop   Npop   prev Niveau prioritaire libelle_classe_age libelle_sexe  \\\n",
       "0   9520.0   9520  100.0                NaN     de 80 à 84 ans   tous sexes   \n",
       "1  10650.0  10650  100.0                NaN     de 80 à 84 ans   tous sexes   \n",
       "2  12430.0  12430  100.0                NaN     de 80 à 84 ans   tous sexes   \n",
       "3  12430.0  12430  100.0                NaN     de 80 à 84 ans   tous sexes   \n",
       "4    550.0    550  100.0                NaN     de 80 à 84 ans   tous sexes   \n",
       "\n",
       "   tri  \n",
       "0  NaN  \n",
       "1  NaN  \n",
       "2  NaN  \n",
       "3  NaN  \n",
       "4  NaN  "
      ]
     },
     "execution_count": 12,
     "metadata": {},
     "output_type": "execute_result"
    }
   ],
   "source": [
    "pathologie = pd.read_csv(Path(DATA_DIR, \"effectifs (4).csv\"), sep=\";\")\n",
    "pathologie.head(5)"
   ]
  },
  {
   "cell_type": "code",
   "execution_count": 13,
   "metadata": {},
   "outputs": [
    {
     "name": "stdout",
     "output_type": "stream",
     "text": [
      "<class 'pandas.core.frame.DataFrame'>\n",
      "RangeIndex: 579600 entries, 0 to 579599\n",
      "Data columns (total 16 columns):\n",
      " #   Column              Non-Null Count   Dtype  \n",
      "---  ------              --------------   -----  \n",
      " 0   annee               579600 non-null  int64  \n",
      " 1   patho_niv1          579600 non-null  object \n",
      " 2   patho_niv2          519120 non-null  object \n",
      " 3   patho_niv3          448560 non-null  object \n",
      " 4   top                 579600 non-null  object \n",
      " 5   cla_age_5           579600 non-null  object \n",
      " 6   sexe                579600 non-null  int64  \n",
      " 7   region              579600 non-null  int64  \n",
      " 8   dept                579600 non-null  object \n",
      " 9   Ntop                421380 non-null  float64\n",
      " 10  Npop                579600 non-null  int64  \n",
      " 11  prev                421380 non-null  float64\n",
      " 12  Niveau prioritaire  572040 non-null  object \n",
      " 13  libelle_classe_age  579600 non-null  object \n",
      " 14  libelle_sexe        579600 non-null  object \n",
      " 15  tri                 572040 non-null  float64\n",
      "dtypes: float64(3), int64(4), object(9)\n",
      "memory usage: 70.8+ MB\n"
     ]
    }
   ],
   "source": [
    "pathologie.info()"
   ]
  },
  {
   "cell_type": "markdown",
   "metadata": {},
   "source": [
    "Explication des variables:\n",
    "\n",
    "- **annee** : L'année de collecte des données. (2017 ici)\n",
    "- **patho_niv1** : Groupe de pathologies (ou traitements chroniques ou épisodes de soins). Type : texte. Exemple : Maladies du foie ou du pancréas (hors mucoviscidose).\n",
    "- **patho_niv2** : Sous-groupe de pathologies (ou traitements chroniques ou épisodes de soins). Type : texte. Exemple : Maladies du foie ou du pancréas (hors mucoviscidose).\n",
    "- **patho_niv3** : Sous-groupe détaillé de pathologies (ou traitements chroniques ou épisodes de soins). Type : texte. Exemple : Maladies du foie ou du pancréas (hors mucoviscidose).\n",
    "- **top** : Libellé technique de la pathologie (ou traitement chronique ou épisode de soins). Type : texte. Exemple : MFP_CAT_EXC (Maladie fonctionnelle primaire, excès.).\n",
    "- **cla_age_5** : Classe d’âge (5 ans). Type : texte. Exemple : 00-04.\n",
    "- **sexe** : Sexe des patients. Type : texte. Exemple : 9.  _Attention: 9 signifie que la mesure n'a pa sété faite de façon désagrégé entre hommes et femmes, mais conjointement._\n",
    "- **region** : Région de résidence des patients. Type : texte. Exemple : 32.\n",
    "- **dept** : Département de résidence des patients. Type : texte. Exemple : 80. _Attention: 999 signifie que la mesure n'a pas été de faite de façon désagrégée par département, mais conjointement sur plusieurs départements._\n",
    "- **Ntop** : Effectif de patients pris en charge pour la pathologie (ou traitement chronique ou épisode de soins) dont il est question. Type : int.\n",
    "- **Npop** : Population de référence qui est celle de la cartographie des pathologies et des dépenses de l’Assurance Maladie, effectif de patients par pathologie, sexe, classe d'âge et territoire (département, région). Type : int. Exemple : 27700.\n",
    "- **prev** : Prévalence de patients pris en charge pour la pathologie (ou traitement chronique ou épisode de soins) dont il est question. Type : décimal.\n",
    "- **Niveau prioritaire** : Niveau de priorité attribué à la pathologie. Type : texte. Exemple : 1, 2, 3. _Lorsqu’une pathologie est associée à plusieurs niveaux de priorité (1, 2, 3), cela peut indiquer que la pathologie en question peut varier en gravité ou en urgence selon les cas individuels._\n",
    "- **libelle_classe_age** : Libellé de la classe d’âge. Type : texte. Exemple : de 0 à 4 ans.\n",
    "- **libelle_sexe** : Libellé du sexe. Type : texte. Exemple : tous sexes. _Note: “Tous sexes” signifie que les données incluent à la fois les hommes et les femmes, sans distinction_\n",
    "- **tri** :  Aucune description disponible pour ce champ. (Variable utilisée pour le tri des données.)\n",
    "\n",
    "Ces variables permettent de structurer et d'analyser les données sur les pathologies et les dépenses de l'Assurance Maladie. "
   ]
  },
  {
   "cell_type": "markdown",
   "metadata": {},
   "source": [
    "Cette base semble ne pas avoir de valeurs manquantes. Cependant elle en possède bel et bien. Ceux-ci sont par exemple codifiés par \"9\" (variable sexe) ou par \"999\" (vaiable départements). \n",
    "\n",
    "**Notre étude devant se faire sur la région parisienne, nous allons faire un filtre pour ne garder que les observations relatives à la région 11 = Île de France.**"
   ]
  },
  {
   "cell_type": "code",
   "execution_count": 14,
   "metadata": {},
   "outputs": [
    {
     "data": {
      "text/html": [
       "<div>\n",
       "<style scoped>\n",
       "    .dataframe tbody tr th:only-of-type {\n",
       "        vertical-align: middle;\n",
       "    }\n",
       "\n",
       "    .dataframe tbody tr th {\n",
       "        vertical-align: top;\n",
       "    }\n",
       "\n",
       "    .dataframe thead th {\n",
       "        text-align: right;\n",
       "    }\n",
       "</style>\n",
       "<table border=\"1\" class=\"dataframe\">\n",
       "  <thead>\n",
       "    <tr style=\"text-align: right;\">\n",
       "      <th></th>\n",
       "      <th>annee</th>\n",
       "      <th>patho_niv1</th>\n",
       "      <th>patho_niv2</th>\n",
       "      <th>patho_niv3</th>\n",
       "      <th>top</th>\n",
       "      <th>cla_age_5</th>\n",
       "      <th>sexe</th>\n",
       "      <th>dept</th>\n",
       "      <th>Ntop</th>\n",
       "      <th>Npop</th>\n",
       "      <th>prev</th>\n",
       "      <th>Niveau prioritaire</th>\n",
       "      <th>libelle_classe_age</th>\n",
       "      <th>libelle_sexe</th>\n",
       "      <th>tri</th>\n",
       "    </tr>\n",
       "  </thead>\n",
       "  <tbody>\n",
       "    <tr>\n",
       "      <th>5</th>\n",
       "      <td>2017</td>\n",
       "      <td>Total consommants tous régimes</td>\n",
       "      <td>Total consommants tous régimes</td>\n",
       "      <td>Total consommants tous régimes</td>\n",
       "      <td>POP_TOT_IND</td>\n",
       "      <td>80-84</td>\n",
       "      <td>9</td>\n",
       "      <td>75</td>\n",
       "      <td>49460.0</td>\n",
       "      <td>49460</td>\n",
       "      <td>100.0</td>\n",
       "      <td>NaN</td>\n",
       "      <td>de 80 à 84 ans</td>\n",
       "      <td>tous sexes</td>\n",
       "      <td>NaN</td>\n",
       "    </tr>\n",
       "    <tr>\n",
       "      <th>6</th>\n",
       "      <td>2017</td>\n",
       "      <td>Total consommants tous régimes</td>\n",
       "      <td>Total consommants tous régimes</td>\n",
       "      <td>Total consommants tous régimes</td>\n",
       "      <td>POP_TOT_IND</td>\n",
       "      <td>80-84</td>\n",
       "      <td>9</td>\n",
       "      <td>77</td>\n",
       "      <td>26320.0</td>\n",
       "      <td>26320</td>\n",
       "      <td>100.0</td>\n",
       "      <td>NaN</td>\n",
       "      <td>de 80 à 84 ans</td>\n",
       "      <td>tous sexes</td>\n",
       "      <td>NaN</td>\n",
       "    </tr>\n",
       "    <tr>\n",
       "      <th>7</th>\n",
       "      <td>2017</td>\n",
       "      <td>Total consommants tous régimes</td>\n",
       "      <td>Total consommants tous régimes</td>\n",
       "      <td>Total consommants tous régimes</td>\n",
       "      <td>POP_TOT_IND</td>\n",
       "      <td>80-84</td>\n",
       "      <td>9</td>\n",
       "      <td>92</td>\n",
       "      <td>34100.0</td>\n",
       "      <td>34100</td>\n",
       "      <td>100.0</td>\n",
       "      <td>NaN</td>\n",
       "      <td>de 80 à 84 ans</td>\n",
       "      <td>tous sexes</td>\n",
       "      <td>NaN</td>\n",
       "    </tr>\n",
       "    <tr>\n",
       "      <th>8</th>\n",
       "      <td>2017</td>\n",
       "      <td>Total consommants tous régimes</td>\n",
       "      <td>Total consommants tous régimes</td>\n",
       "      <td>Total consommants tous régimes</td>\n",
       "      <td>POP_TOT_IND</td>\n",
       "      <td>80-84</td>\n",
       "      <td>9</td>\n",
       "      <td>999</td>\n",
       "      <td>247850.0</td>\n",
       "      <td>247850</td>\n",
       "      <td>100.0</td>\n",
       "      <td>NaN</td>\n",
       "      <td>de 80 à 84 ans</td>\n",
       "      <td>tous sexes</td>\n",
       "      <td>NaN</td>\n",
       "    </tr>\n",
       "    <tr>\n",
       "      <th>51</th>\n",
       "      <td>2017</td>\n",
       "      <td>Total consommants tous régimes</td>\n",
       "      <td>Total consommants tous régimes</td>\n",
       "      <td>Total consommants tous régimes</td>\n",
       "      <td>POP_TOT_IND</td>\n",
       "      <td>85-89</td>\n",
       "      <td>1</td>\n",
       "      <td>94</td>\n",
       "      <td>7570.0</td>\n",
       "      <td>7570</td>\n",
       "      <td>100.0</td>\n",
       "      <td>NaN</td>\n",
       "      <td>de 85 à 89 ans</td>\n",
       "      <td>hommes</td>\n",
       "      <td>NaN</td>\n",
       "    </tr>\n",
       "  </tbody>\n",
       "</table>\n",
       "</div>"
      ],
      "text/plain": [
       "    annee                      patho_niv1                      patho_niv2  \\\n",
       "5    2017  Total consommants tous régimes  Total consommants tous régimes   \n",
       "6    2017  Total consommants tous régimes  Total consommants tous régimes   \n",
       "7    2017  Total consommants tous régimes  Total consommants tous régimes   \n",
       "8    2017  Total consommants tous régimes  Total consommants tous régimes   \n",
       "51   2017  Total consommants tous régimes  Total consommants tous régimes   \n",
       "\n",
       "                        patho_niv3          top cla_age_5  sexe dept  \\\n",
       "5   Total consommants tous régimes  POP_TOT_IND     80-84     9   75   \n",
       "6   Total consommants tous régimes  POP_TOT_IND     80-84     9   77   \n",
       "7   Total consommants tous régimes  POP_TOT_IND     80-84     9   92   \n",
       "8   Total consommants tous régimes  POP_TOT_IND     80-84     9  999   \n",
       "51  Total consommants tous régimes  POP_TOT_IND     85-89     1   94   \n",
       "\n",
       "        Ntop    Npop   prev Niveau prioritaire libelle_classe_age  \\\n",
       "5    49460.0   49460  100.0                NaN     de 80 à 84 ans   \n",
       "6    26320.0   26320  100.0                NaN     de 80 à 84 ans   \n",
       "7    34100.0   34100  100.0                NaN     de 80 à 84 ans   \n",
       "8   247850.0  247850  100.0                NaN     de 80 à 84 ans   \n",
       "51    7570.0    7570  100.0                NaN     de 85 à 89 ans   \n",
       "\n",
       "   libelle_sexe  tri  \n",
       "5    tous sexes  NaN  \n",
       "6    tous sexes  NaN  \n",
       "7    tous sexes  NaN  \n",
       "8    tous sexes  NaN  \n",
       "51       hommes  NaN  "
      ]
     },
     "execution_count": 14,
     "metadata": {},
     "output_type": "execute_result"
    }
   ],
   "source": [
    "# Filtrage: On ne garde que la région 11 (Ile-de-France)\n",
    "\n",
    "#on filtre les données par region (on s'interessent a la region parisienne) .\n",
    "filtred_by_rg=pathologie[pathologie['region']==11]\n",
    "#on peut maintenant supprimer la colonne region\n",
    "filtred_by_rg=filtred_by_rg.drop(columns = ['region'])\n",
    "filtred_by_rg.head()"
   ]
  },
  {
   "cell_type": "code",
   "execution_count": 15,
   "metadata": {},
   "outputs": [
    {
     "name": "stdout",
     "output_type": "stream",
     "text": [
      " patho_niv1: 18 \n",
      " patho_niv2: 48 \n",
      " patho_niv3: 61\n"
     ]
    }
   ],
   "source": [
    "# voir le nombre de pathologie par niveau\n",
    "print(f\" patho_niv1: {filtred_by_rg[\"patho_niv1\"].nunique()} \\n patho_niv2: {filtred_by_rg[\"patho_niv2\"].nunique()} \\n patho_niv3: {filtred_by_rg[\"patho_niv3\"].nunique()}\")"
   ]
  },
  {
   "cell_type": "markdown",
   "metadata": {},
   "source": [
    "Au vu de la problématique que nous souhaitons aborder dans ce projet, nous n'allons nous restreindre qu'aux pathologies respiratoires sans toutefois s'intéresser à la spécificité de  la pathologie."
   ]
  },
  {
   "cell_type": "markdown",
   "metadata": {},
   "source": [
    "<h3 style=\" text-align:left\">\n",
    "c . NETTOYAGE ET ANALYSE EXPLORATOIRE (PATHOLOGIES) \n",
    "</h3>"
   ]
  },
  {
   "cell_type": "markdown",
   "metadata": {},
   "source": [
    "**Filtrage et exploration de la base des pathologies respiratoires:**"
   ]
  },
  {
   "cell_type": "code",
   "execution_count": 16,
   "metadata": {},
   "outputs": [
    {
     "data": {
      "text/html": [
       "<div>\n",
       "<style scoped>\n",
       "    .dataframe tbody tr th:only-of-type {\n",
       "        vertical-align: middle;\n",
       "    }\n",
       "\n",
       "    .dataframe tbody tr th {\n",
       "        vertical-align: top;\n",
       "    }\n",
       "\n",
       "    .dataframe thead th {\n",
       "        text-align: right;\n",
       "    }\n",
       "</style>\n",
       "<table border=\"1\" class=\"dataframe\">\n",
       "  <thead>\n",
       "    <tr style=\"text-align: right;\">\n",
       "      <th></th>\n",
       "      <th>annee</th>\n",
       "      <th>patho_niv1</th>\n",
       "      <th>patho_niv2</th>\n",
       "      <th>patho_niv3</th>\n",
       "      <th>top</th>\n",
       "      <th>cla_age_5</th>\n",
       "      <th>sexe</th>\n",
       "      <th>dept</th>\n",
       "      <th>Ntop</th>\n",
       "      <th>Npop</th>\n",
       "      <th>prev</th>\n",
       "      <th>Niveau prioritaire</th>\n",
       "      <th>libelle_classe_age</th>\n",
       "      <th>libelle_sexe</th>\n",
       "      <th>tri</th>\n",
       "    </tr>\n",
       "  </thead>\n",
       "  <tbody>\n",
       "    <tr>\n",
       "      <th>13356</th>\n",
       "      <td>2017</td>\n",
       "      <td>Maladies respiratoires chroniques (hors mucovi...</td>\n",
       "      <td>Maladies respiratoires chroniques (hors mucovi...</td>\n",
       "      <td>Maladies respiratoires chroniques (hors mucovi...</td>\n",
       "      <td>RES_CAT_EXC</td>\n",
       "      <td>85-89</td>\n",
       "      <td>2</td>\n",
       "      <td>77</td>\n",
       "      <td>1550.0</td>\n",
       "      <td>11990</td>\n",
       "      <td>12.957</td>\n",
       "      <td>1,2,3</td>\n",
       "      <td>de 85 à 89 ans</td>\n",
       "      <td>femmes</td>\n",
       "      <td>10.0</td>\n",
       "    </tr>\n",
       "    <tr>\n",
       "      <th>13357</th>\n",
       "      <td>2017</td>\n",
       "      <td>Maladies respiratoires chroniques (hors mucovi...</td>\n",
       "      <td>Maladies respiratoires chroniques (hors mucovi...</td>\n",
       "      <td>Maladies respiratoires chroniques (hors mucovi...</td>\n",
       "      <td>RES_CAT_EXC</td>\n",
       "      <td>85-89</td>\n",
       "      <td>2</td>\n",
       "      <td>91</td>\n",
       "      <td>1380.0</td>\n",
       "      <td>11890</td>\n",
       "      <td>11.572</td>\n",
       "      <td>1,2,3</td>\n",
       "      <td>de 85 à 89 ans</td>\n",
       "      <td>femmes</td>\n",
       "      <td>10.0</td>\n",
       "    </tr>\n",
       "  </tbody>\n",
       "</table>\n",
       "</div>"
      ],
      "text/plain": [
       "       annee                                         patho_niv1  \\\n",
       "13356   2017  Maladies respiratoires chroniques (hors mucovi...   \n",
       "13357   2017  Maladies respiratoires chroniques (hors mucovi...   \n",
       "\n",
       "                                              patho_niv2  \\\n",
       "13356  Maladies respiratoires chroniques (hors mucovi...   \n",
       "13357  Maladies respiratoires chroniques (hors mucovi...   \n",
       "\n",
       "                                              patho_niv3          top  \\\n",
       "13356  Maladies respiratoires chroniques (hors mucovi...  RES_CAT_EXC   \n",
       "13357  Maladies respiratoires chroniques (hors mucovi...  RES_CAT_EXC   \n",
       "\n",
       "      cla_age_5  sexe dept    Ntop   Npop    prev Niveau prioritaire  \\\n",
       "13356     85-89     2   77  1550.0  11990  12.957              1,2,3   \n",
       "13357     85-89     2   91  1380.0  11890  11.572              1,2,3   \n",
       "\n",
       "      libelle_classe_age libelle_sexe   tri  \n",
       "13356     de 85 à 89 ans       femmes  10.0  \n",
       "13357     de 85 à 89 ans       femmes  10.0  "
      ]
     },
     "execution_count": 16,
     "metadata": {},
     "output_type": "execute_result"
    }
   ],
   "source": [
    "#Nous ne voulons garder que les maladies respiratoires qui sont en rapport avec la qualité de l'air\n",
    "new_pathologie = filtred_by_rg[filtred_by_rg['patho_niv2'].isin(['Maladies respiratoires chroniques (hors mucoviscidose)',\n",
    "        'Cancer bronchopulmonaire'])]\n",
    "\n",
    "new_pathologie.head(2)"
   ]
  },
  {
   "cell_type": "code",
   "execution_count": 17,
   "metadata": {},
   "outputs": [
    {
     "name": "stdout",
     "output_type": "stream",
     "text": [
      "<class 'pandas.core.frame.DataFrame'>\n",
      "Index: 2268 entries, 13356 to 579572\n",
      "Data columns (total 15 columns):\n",
      " #   Column              Non-Null Count  Dtype  \n",
      "---  ------              --------------  -----  \n",
      " 0   annee               2268 non-null   int64  \n",
      " 1   patho_niv1          2268 non-null   object \n",
      " 2   patho_niv2          2268 non-null   object \n",
      " 3   patho_niv3          1701 non-null   object \n",
      " 4   top                 2268 non-null   object \n",
      " 5   cla_age_5           2268 non-null   object \n",
      " 6   sexe                2268 non-null   int64  \n",
      " 7   dept                2268 non-null   object \n",
      " 8   Ntop                1562 non-null   float64\n",
      " 9   Npop                2268 non-null   int64  \n",
      " 10  prev                1562 non-null   float64\n",
      " 11  Niveau prioritaire  2268 non-null   object \n",
      " 12  libelle_classe_age  2268 non-null   object \n",
      " 13  libelle_sexe        2268 non-null   object \n",
      " 14  tri                 2268 non-null   float64\n",
      "dtypes: float64(3), int64(3), object(9)\n",
      "memory usage: 283.5+ KB\n"
     ]
    }
   ],
   "source": [
    "new_pathologie.info()"
   ]
  },
  {
   "cell_type": "markdown",
   "metadata": {},
   "source": [
    "Nous allons supprimer des variables:\n",
    "- les redondantes: 'libelle_classe_age' et 'libelle_sexe '\n",
    "- les non nécessaires pour notre problématique: 'annee', 'patho_niv1', 'patho_niv2', 'patho_niv3', 'top'\n",
    "\n",
    "En effet, l'idée étant de calculer la probabilité de contracter une maladie respiratoire, nous n'allons pas faire de distinction dans les niveaux de pathologie, ni voir la maladie spécifique concernée."
   ]
  },
  {
   "cell_type": "code",
   "execution_count": 18,
   "metadata": {},
   "outputs": [],
   "source": [
    "# Suppression des variables redondantes ou non nécessaires \n",
    "columns_to_drop = ['annee', 'patho_niv1', 'patho_niv2', 'patho_niv3', 'libelle_classe_age', 'libelle_sexe', 'top']\n",
    "new_pathologie = new_pathologie.drop(columns=columns_to_drop)\n"
   ]
  },
  {
   "cell_type": "code",
   "execution_count": 19,
   "metadata": {},
   "outputs": [
    {
     "data": {
      "text/plain": [
       "cla_age_5               21\n",
       "sexe                     3\n",
       "dept                     9\n",
       "Ntop                   460\n",
       "Npop                   549\n",
       "prev                  1106\n",
       "Niveau prioritaire       3\n",
       "tri                      4\n",
       "dtype: int64"
      ]
     },
     "execution_count": 19,
     "metadata": {},
     "output_type": "execute_result"
    }
   ],
   "source": [
    "#Comptons le nombre de valeurs uniques de chaque variable afin de savoir s'il faut faire des conversions de type\n",
    "new_pathologie.nunique()"
   ]
  },
  {
   "cell_type": "code",
   "execution_count": 20,
   "metadata": {},
   "outputs": [
    {
     "name": "stdout",
     "output_type": "stream",
     "text": [
      "[nan '1,2,3' '1' '2,3' '3' '2'] \n",
      " ['1,2,3' '2' '3'] \n"
     ]
    }
   ],
   "source": [
    "print(f\"{pathologie['Niveau prioritaire'].unique()} \\n {new_pathologie[\"Niveau prioritaire\"].unique()} \")"
   ]
  },
  {
   "cell_type": "markdown",
   "metadata": {},
   "source": [
    "Nous remarquons déjà que la variable \"Niveau prioritaire\" est passée de 5 modalités à 3: les maladies respiratoires semblent donc ne jamais se limiter au niveau de priorité '1' ni être de niveau '2,3'. Donc, si une maladie respiratoire est cotractée, elle soit une maladie mutante (allant du niveau de priorité ou de gravité 1 à 3 en pasant par le niveau 2), soit une maladie figée directement de niveau de gravité moyen(2) ou de niveau de gravité extrême (3)"
   ]
  },
  {
   "cell_type": "markdown",
   "metadata": {},
   "source": [
    "Nous allons donc changer le type des variables 'sexe' et 'tri'"
   ]
  },
  {
   "cell_type": "code",
   "execution_count": 21,
   "metadata": {},
   "outputs": [],
   "source": [
    "#Changer le type de la variable sexe\n",
    "new_pathologie['sexe'] = new_pathologie['sexe'].astype('object')\n",
    "\n",
    "#Changer le type de la variable tri\n",
    "new_pathologie['tri'] = new_pathologie['tri'].astype('object')"
   ]
  },
  {
   "cell_type": "markdown",
   "metadata": {},
   "source": [
    "**Résumé descriptif des variables catégorielles:**"
   ]
  },
  {
   "cell_type": "code",
   "execution_count": 22,
   "metadata": {},
   "outputs": [
    {
     "name": "stdout",
     "output_type": "stream",
     "text": [
      "\n",
      "Résumé descriptif pour la variable 'cla_age_5':\n",
      "- Nombre de valeurs uniques : 21\n",
      "- Nombre de modalités ayant la fréquence maximale (108 occurrences) : 21\n",
      "- Modalités ayant la fréquence maximale : ['85-89', '90-94', '95et+', 'tsage', '00-04', '05-09', '10-14', '15-19', '20-24', '25-29', '30-34', '35-39', '40-44', '45-49', '50-54', '55-59', '60-64', '65-69', '70-74', '75-79', '80-84']\n",
      "\n",
      "Résumé descriptif pour la variable 'sexe':\n",
      "- Nombre de valeurs uniques : 3\n",
      "- Nombre de modalités ayant la fréquence maximale (756 occurrences) : 3\n",
      "- Modalités ayant la fréquence maximale : [2, 9, 1]\n",
      "\n",
      "Résumé descriptif pour la variable 'dept':\n",
      "- Nombre de valeurs uniques : 9\n",
      "- Nombre de modalités ayant la fréquence maximale (252 occurrences) : 9\n",
      "- Modalités ayant la fréquence maximale : ['77', '91', '93', '78', '999', '75', '94', '95', '92']\n",
      "\n",
      "Résumé descriptif pour la variable 'Niveau prioritaire':\n",
      "- Nombre de valeurs uniques : 3\n",
      "- Nombre de modalités ayant la fréquence maximale (1134 occurrences) : 1\n",
      "- Modalités ayant la fréquence maximale : ['3']\n",
      "\n",
      "Résumé descriptif pour la variable 'tri':\n",
      "- Nombre de valeurs uniques : 4\n",
      "- Nombre de modalités ayant la fréquence maximale (567 occurrences) : 4\n",
      "- Modalités ayant la fréquence maximale : [10.0, 19.0, 58.0, 59.0]\n"
     ]
    }
   ],
   "source": [
    "# Filtrer uniquement les variables catégorielles (type object)\n",
    "categorical_vars = new_pathologie.select_dtypes(include='object')\n",
    "\n",
    "# Résumé descriptif des variables catégorielles\n",
    "for col in categorical_vars.columns:\n",
    "    print(f\"\\nRésumé descriptif pour la variable '{col}':\")\n",
    "    print(f\"- Nombre de valeurs uniques : {categorical_vars[col].nunique()}\")\n",
    "    \n",
    "    # Calcul de la fréquence maximale et des modalités correspondantes\n",
    "    value_counts = categorical_vars[col].value_counts()\n",
    "    max_count = value_counts.max()\n",
    "    top_modalities = value_counts[value_counts == max_count].index.tolist()\n",
    "    \n",
    "    print(f\"- Nombre de modalités ayant la fréquence maximale ({max_count} occurrences) : {len(top_modalities)}\")\n",
    "    print(f\"- Modalités ayant la fréquence maximale : {top_modalities}\")\n"
   ]
  },
  {
   "cell_type": "markdown",
   "metadata": {},
   "source": [
    "Les variables catégorielles semblent assez homogènes. Cependant, le niveau prioraitaire '3' est très représenté. Il semble que les individus qui contractent une maladie respectiratoire ont des hauts risque que ce soit une maladie très grave. "
   ]
  },
  {
   "cell_type": "code",
   "execution_count": 23,
   "metadata": {},
   "outputs": [
    {
     "name": "stdout",
     "output_type": "stream",
     "text": [
      "Tableau de contingence :\n",
      "Niveau prioritaire  1,2,3    2    3\n",
      "tri                                \n",
      "10.0                  567    0    0\n",
      "19.0                    0  567    0\n",
      "58.0                    0    0  567\n",
      "59.0                    0    0  567\n",
      "\n",
      "Chi2: 4536.0\n",
      "p-value: 0.0\n",
      "Il existe une relation significative entre 'tri' et 'Niveau prioritaire'.\n"
     ]
    }
   ],
   "source": [
    "# Test de Chi-2 : 'tri' et 'Niveau prioritaire'\n",
    "\n",
    "\n",
    "from scipy.stats import chi2_contingency\n",
    "# Créer un tableau de contingence entre 'tri' et 'Niveau prioritaire'\n",
    "contingency_table = pd.crosstab(new_pathologie['tri'], new_pathologie['Niveau prioritaire'])\n",
    "\n",
    "# Afficher le tableau de contingence\n",
    "print(\"Tableau de contingence :\")\n",
    "print(contingency_table)\n",
    "\n",
    "# Appliquer le test du chi-deux\n",
    "chi2, p, dof, expected = chi2_contingency(contingency_table)\n",
    "\n",
    "# Afficher les résultats du test\n",
    "print(f\"\\nChi2: {chi2}\")\n",
    "print(f\"p-value: {p}\")\n",
    "\n",
    "# Interprétation des résultats\n",
    "if p < 0.05:\n",
    "    print(\"Il existe une relation significative entre 'tri' et 'Niveau prioritaire'.\")\n",
    "else:\n",
    "    print(\"Il n'y a pas de relation significative entre 'tri' et 'Niveau prioritaire'.\")"
   ]
  },
  {
   "cell_type": "code",
   "execution_count": 24,
   "metadata": {},
   "outputs": [
    {
     "name": "stdout",
     "output_type": "stream",
     "text": [
      "         tri Niveau prioritaire\n",
      "13356   10.0              1,2,3\n",
      "245627  19.0                  2\n",
      "251462  58.0                  3\n",
      "257301  59.0                  3\n"
     ]
    }
   ],
   "source": [
    "#on remarque une forte correlation entre tri et niveau prioritaire \n",
    "#on compare donc la distrubition \n",
    "print(new_pathologie[['tri', 'Niveau prioritaire']].drop_duplicates())"
   ]
  },
  {
   "cell_type": "code",
   "execution_count": 25,
   "metadata": {},
   "outputs": [
    {
     "name": "stdout",
     "output_type": "stream",
     "text": [
      "<class 'pandas.core.frame.DataFrame'>\n",
      "Index: 2268 entries, 13356 to 579572\n",
      "Data columns (total 7 columns):\n",
      " #   Column              Non-Null Count  Dtype  \n",
      "---  ------              --------------  -----  \n",
      " 0   cla_age_5           2268 non-null   object \n",
      " 1   sexe                2268 non-null   object \n",
      " 2   dept                2268 non-null   object \n",
      " 3   Ntop                1562 non-null   float64\n",
      " 4   Npop                2268 non-null   int64  \n",
      " 5   prev                1562 non-null   float64\n",
      " 6   Niveau prioritaire  2268 non-null   object \n",
      "dtypes: float64(2), int64(1), object(4)\n",
      "memory usage: 141.8+ KB\n"
     ]
    }
   ],
   "source": [
    "#niveau prioritaire est suffisant pour notre analyse \n",
    "#on supprime donc la colonne tri\n",
    "new_data=new_pathologie.drop(columns =['tri'])\n",
    "new_data.info()"
   ]
  },
  {
   "cell_type": "markdown",
   "metadata": {},
   "source": [
    "**Résumé descriptif des variables continues**"
   ]
  },
  {
   "cell_type": "code",
   "execution_count": 26,
   "metadata": {},
   "outputs": [
    {
     "data": {
      "text/html": [
       "<div>\n",
       "<style scoped>\n",
       "    .dataframe tbody tr th:only-of-type {\n",
       "        vertical-align: middle;\n",
       "    }\n",
       "\n",
       "    .dataframe tbody tr th {\n",
       "        vertical-align: top;\n",
       "    }\n",
       "\n",
       "    .dataframe thead th {\n",
       "        text-align: right;\n",
       "    }\n",
       "</style>\n",
       "<table border=\"1\" class=\"dataframe\">\n",
       "  <thead>\n",
       "    <tr style=\"text-align: right;\">\n",
       "      <th></th>\n",
       "      <th>Ntop</th>\n",
       "      <th>Npop</th>\n",
       "      <th>prev</th>\n",
       "    </tr>\n",
       "  </thead>\n",
       "  <tbody>\n",
       "    <tr>\n",
       "      <th>count</th>\n",
       "      <td>1562.000000</td>\n",
       "      <td>2.268000e+03</td>\n",
       "      <td>1562.000000</td>\n",
       "    </tr>\n",
       "    <tr>\n",
       "      <th>mean</th>\n",
       "      <td>3163.271447</td>\n",
       "      <td>1.653528e+05</td>\n",
       "      <td>2.574609</td>\n",
       "    </tr>\n",
       "    <tr>\n",
       "      <th>std</th>\n",
       "      <td>19228.221844</td>\n",
       "      <td>6.389070e+05</td>\n",
       "      <td>3.839486</td>\n",
       "    </tr>\n",
       "    <tr>\n",
       "      <th>min</th>\n",
       "      <td>10.000000</td>\n",
       "      <td>5.500000e+02</td>\n",
       "      <td>0.002000</td>\n",
       "    </tr>\n",
       "    <tr>\n",
       "      <th>25%</th>\n",
       "      <td>70.000000</td>\n",
       "      <td>3.251000e+04</td>\n",
       "      <td>0.183000</td>\n",
       "    </tr>\n",
       "    <tr>\n",
       "      <th>50%</th>\n",
       "      <td>270.000000</td>\n",
       "      <td>4.705000e+04</td>\n",
       "      <td>0.514000</td>\n",
       "    </tr>\n",
       "    <tr>\n",
       "      <th>75%</th>\n",
       "      <td>1860.000000</td>\n",
       "      <td>8.944000e+04</td>\n",
       "      <td>3.505000</td>\n",
       "    </tr>\n",
       "    <tr>\n",
       "      <th>max</th>\n",
       "      <td>574020.000000</td>\n",
       "      <td>1.171935e+07</td>\n",
       "      <td>17.086000</td>\n",
       "    </tr>\n",
       "  </tbody>\n",
       "</table>\n",
       "</div>"
      ],
      "text/plain": [
       "                Ntop          Npop         prev\n",
       "count    1562.000000  2.268000e+03  1562.000000\n",
       "mean     3163.271447  1.653528e+05     2.574609\n",
       "std     19228.221844  6.389070e+05     3.839486\n",
       "min        10.000000  5.500000e+02     0.002000\n",
       "25%        70.000000  3.251000e+04     0.183000\n",
       "50%       270.000000  4.705000e+04     0.514000\n",
       "75%      1860.000000  8.944000e+04     3.505000\n",
       "max    574020.000000  1.171935e+07    17.086000"
      ]
     },
     "execution_count": 26,
     "metadata": {},
     "output_type": "execute_result"
    }
   ],
   "source": [
    "new_pathologie.describe()"
   ]
  },
  {
   "cell_type": "code",
   "execution_count": 27,
   "metadata": {},
   "outputs": [
    {
     "data": {
      "image/png": "[encoded data removed]",
      "text/plain": [
       "<Figure size 1400x1000 with 5 Axes>"
      ]
     },
     "metadata": {},
     "output_type": "display_data"
    }
   ],
   "source": [
    "# Sélectionner les variables continues (float et int)\n",
    "continuous_vars = new_pathologie.select_dtypes(include=['float64', 'int64']).columns\n",
    "\n",
    "# Définir la taille de la figure globale\n",
    "plt.figure(figsize=(14, 10))\n",
    "\n",
    "# Nombre total de graphiques (les variables continues + le graphe des corrélations)\n",
    "total_plots = len(continuous_vars) + 1\n",
    "\n",
    "# Boucle sur chaque variable continue\n",
    "for i, col in enumerate(continuous_vars):\n",
    "    # Position du graphique dans la grille (2 colonnes par ligne)\n",
    "    plt.subplot((total_plots + 1) // 2, 2, i + 1) \n",
    "    \n",
    "    # Affichage de l'histogramme avec une courbe de densité\n",
    "    sns.histplot(new_pathologie[col], bins=30, kde=True, stat='percent', color='blue')\n",
    "    plt.title(f\"Histogramme de {col}\")\n",
    "    plt.xlabel(col)\n",
    "    plt.ylabel(\"Fréquence\")\n",
    "\n",
    "# Ajouter le graphique des corrélations dans le dernier cadre\n",
    "plt.subplot((total_plots + 1) // 2, 2, total_plots)\n",
    "correlation_matrix = new_pathologie[continuous_vars].corr()\n",
    "sns.heatmap(correlation_matrix, annot=True, cmap='coolwarm', cbar=True, fmt=\".2f\")\n",
    "plt.title(\"Matrice de Corrélation\")\n",
    "\n",
    "# Ajustement des espacements\n",
    "plt.tight_layout()\n",
    "plt.show()\n"
   ]
  },
  {
   "cell_type": "markdown",
   "metadata": {},
   "source": [
    "Ces varibles sont assez dispersées et présentent une correlation linéaire très faible. "
   ]
  },
  {
   "cell_type": "code",
   "execution_count": 28,
   "metadata": {},
   "outputs": [
    {
     "name": "stdout",
     "output_type": "stream",
     "text": [
      "Corrélation entre 'prev' et 'prop' : 0.9999438142652092\n"
     ]
    },
    {
     "data": {
      "image/png": "[encoded data removed]",
      "text/plain": [
       "<Figure size 800x600 with 1 Axes>"
      ]
     },
     "metadata": {},
     "output_type": "display_data"
    }
   ],
   "source": [
    "# Créer la variable 'prop' en divisant 'Ntop' par 'Npop'\n",
    "new_pathologie['prop'] = new_pathologie['Ntop'] / new_pathologie['Npop']\n",
    "\n",
    "# Calcul de la corrélation\n",
    "correlation = new_pathologie[['prev', 'prop']].corr().iloc[0, 1]\n",
    "print(f\"Corrélation entre 'prev' et 'prop' : {correlation}\")\n",
    "\n",
    "# Visualisation de la relation entre 'prev' et 'prop'\n",
    "plt.figure(figsize=(8, 6))\n",
    "sns.scatterplot(data=new_pathologie, x='prop', y='prev', color='blue', alpha=0.7)\n",
    "plt.title(f\"Nuage de points entre 'prop' et 'prev' (Corrélation: {correlation:.2f})\")\n",
    "plt.xlabel(\"prop (Ntop / Npop)\")\n",
    "plt.ylabel(\"prev\")\n",
    "plt.grid(True)\n",
    "plt.show()\n"
   ]
  },
  {
   "cell_type": "markdown",
   "metadata": {},
   "source": [
    "Nous voyons donc que nous avons la relation:\n",
    "$$ prev = Ntop/Npop . $$\n",
    "Dès lors, il nous suffira de garder 2 de ces variables (car on peut obtenir le dernier à partir des 2 autres). Nous conserverons prev et Npop."
   ]
  },
  {
   "cell_type": "code",
   "execution_count": 29,
   "metadata": {},
   "outputs": [
    {
     "name": "stdout",
     "output_type": "stream",
     "text": [
      "             Variable  Proportion de valeurs manquantes (%)\n",
      "3                Ntop                             31.128748\n",
      "8                prop                             31.128748\n",
      "5                prev                             31.128748\n",
      "0           cla_age_5                              0.000000\n",
      "1                sexe                              0.000000\n",
      "4                Npop                              0.000000\n",
      "2                dept                              0.000000\n",
      "6  Niveau prioritaire                              0.000000\n",
      "7                 tri                              0.000000\n",
      "\n",
      " nombre d'observation 2268\n"
     ]
    }
   ],
   "source": [
    "# Calculer la proportion de valeurs manquantes pour chaque variable\n",
    "missing_proportions = new_pathologie.isnull().mean() * 100\n",
    "\n",
    "# Afficher les proportions dans un tableau lisible\n",
    "missing_summary = pd.DataFrame({\n",
    "    \"Variable\": missing_proportions.index,\n",
    "    \"Proportion de valeurs manquantes (%)\": missing_proportions.values\n",
    "}).sort_values(by=\"Proportion de valeurs manquantes (%)\", ascending=False)\n",
    "\n",
    "print(missing_summary)\n",
    "\n",
    "print(\"\\n nombre d'observation\",new_pathologie.shape[0])\n"
   ]
  },
  {
   "cell_type": "markdown",
   "metadata": {},
   "source": [
    "Ainsi, sur 2268 observations de pathologies respiratoires dans la région parisienne, nous avons 31% de valeurs manquantes pour les variables 'Ntop' et 'prev'. Nous allons pousser les analyses pour voir comment corriger ces valeurs manquantes. \n"
   ]
  },
  {
   "cell_type": "markdown",
   "metadata": {},
   "source": [
    "<h3 style=\" text-align:left\">\n",
    "d . NETTOYAGE ET ANALYSE EXPLORATOIRE (Superficie) \n",
    "</h3>"
   ]
  },
  {
   "cell_type": "markdown",
   "metadata": {},
   "source": [
    "Nous allons juste prendre les variables superficie et département dans cette base"
   ]
  },
  {
   "cell_type": "code",
   "execution_count": 30,
   "metadata": {},
   "outputs": [
    {
     "data": {
      "text/html": [
       "<div>\n",
       "<style scoped>\n",
       "    .dataframe tbody tr th:only-of-type {\n",
       "        vertical-align: middle;\n",
       "    }\n",
       "\n",
       "    .dataframe tbody tr th {\n",
       "        vertical-align: top;\n",
       "    }\n",
       "\n",
       "    .dataframe thead th {\n",
       "        text-align: right;\n",
       "    }\n",
       "</style>\n",
       "<table border=\"1\" class=\"dataframe\">\n",
       "  <thead>\n",
       "    <tr style=\"text-align: right;\">\n",
       "      <th></th>\n",
       "      <th>Unnamed: 0</th>\n",
       "      <th>code_insee</th>\n",
       "      <th>nom_standard</th>\n",
       "      <th>nom_sans_pronom</th>\n",
       "      <th>nom_a</th>\n",
       "      <th>nom_de</th>\n",
       "      <th>nom_sans_accent</th>\n",
       "      <th>nom_standard_majuscule</th>\n",
       "      <th>typecom</th>\n",
       "      <th>typecom_texte</th>\n",
       "      <th>...</th>\n",
       "      <th>altitude_minimale</th>\n",
       "      <th>altitude_maximale</th>\n",
       "      <th>latitude_mairie</th>\n",
       "      <th>longitude_mairie</th>\n",
       "      <th>latitude_centre</th>\n",
       "      <th>longitude_centre</th>\n",
       "      <th>grille_densite</th>\n",
       "      <th>gentile</th>\n",
       "      <th>url_wikipedia</th>\n",
       "      <th>url_villedereve</th>\n",
       "    </tr>\n",
       "  </thead>\n",
       "  <tbody>\n",
       "    <tr>\n",
       "      <th>0</th>\n",
       "      <td>0</td>\n",
       "      <td>01001</td>\n",
       "      <td>L'Abergement-ClÃ©menciat</td>\n",
       "      <td>Abergement-ClÃ©menciat</td>\n",
       "      <td>Ã  Abergement-ClÃ©menciat</td>\n",
       "      <td>de l'Abergement-ClÃ©menciat</td>\n",
       "      <td>l-abergement-clemenciat</td>\n",
       "      <td>L'ABERGEMENT-CLÃMENCIAT</td>\n",
       "      <td>COM</td>\n",
       "      <td>commune</td>\n",
       "      <td>...</td>\n",
       "      <td>206.0</td>\n",
       "      <td>272.0</td>\n",
       "      <td>46.153</td>\n",
       "      <td>4.926</td>\n",
       "      <td>46.153</td>\n",
       "      <td>4.926</td>\n",
       "      <td>Rural Ã  habitat dispersÃ©</td>\n",
       "      <td>NaN</td>\n",
       "      <td>https://fr.wikipedia.org/wiki/fr:L'Abergement-...</td>\n",
       "      <td>https://villedereve.fr/ville/01001-l-abergemen...</td>\n",
       "    </tr>\n",
       "    <tr>\n",
       "      <th>1</th>\n",
       "      <td>1</td>\n",
       "      <td>01002</td>\n",
       "      <td>L'Abergement-de-Varey</td>\n",
       "      <td>Abergement-de-Varey</td>\n",
       "      <td>Ã  Abergement-de-Varey</td>\n",
       "      <td>de l'Abergement-de-Varey</td>\n",
       "      <td>l-abergement-de-varey</td>\n",
       "      <td>L'ABERGEMENT-DE-VAREY</td>\n",
       "      <td>COM</td>\n",
       "      <td>commune</td>\n",
       "      <td>...</td>\n",
       "      <td>290.0</td>\n",
       "      <td>748.0</td>\n",
       "      <td>46.009</td>\n",
       "      <td>5.428</td>\n",
       "      <td>46.009</td>\n",
       "      <td>5.428</td>\n",
       "      <td>Rural Ã  habitat dispersÃ©</td>\n",
       "      <td>Abergementais, Abergementaises</td>\n",
       "      <td>https://fr.wikipedia.org/wiki/fr:L'Abergement-...</td>\n",
       "      <td>https://villedereve.fr/ville/01002-l-abergemen...</td>\n",
       "    </tr>\n",
       "    <tr>\n",
       "      <th>2</th>\n",
       "      <td>2</td>\n",
       "      <td>01004</td>\n",
       "      <td>AmbÃ©rieu-en-Bugey</td>\n",
       "      <td>AmbÃ©rieu-en-Bugey</td>\n",
       "      <td>Ã  AmbÃ©rieu-en-Bugey</td>\n",
       "      <td>d'AmbÃ©rieu-en-Bugey</td>\n",
       "      <td>amberieu-en-bugey</td>\n",
       "      <td>AMBÃRIEU-EN-BUGEY</td>\n",
       "      <td>COM</td>\n",
       "      <td>commune</td>\n",
       "      <td>...</td>\n",
       "      <td>237.0</td>\n",
       "      <td>753.0</td>\n",
       "      <td>45.961</td>\n",
       "      <td>5.373</td>\n",
       "      <td>45.961</td>\n",
       "      <td>5.373</td>\n",
       "      <td>Centres urbains intermÃ©diaires</td>\n",
       "      <td>Ambarrois, Ambarroises</td>\n",
       "      <td>https://fr.wikipedia.org/wiki/fr:AmbÃ©rieu-en-...</td>\n",
       "      <td>https://villedereve.fr/ville/01004-amberieu-en...</td>\n",
       "    </tr>\n",
       "    <tr>\n",
       "      <th>3</th>\n",
       "      <td>3</td>\n",
       "      <td>01005</td>\n",
       "      <td>AmbÃ©rieux-en-Dombes</td>\n",
       "      <td>AmbÃ©rieux-en-Dombes</td>\n",
       "      <td>Ã  AmbÃ©rieux-en-Dombes</td>\n",
       "      <td>d'AmbÃ©rieux-en-Dombes</td>\n",
       "      <td>amberieux-en-dombes</td>\n",
       "      <td>AMBÃRIEUX-EN-DOMBES</td>\n",
       "      <td>COM</td>\n",
       "      <td>commune</td>\n",
       "      <td>...</td>\n",
       "      <td>265.0</td>\n",
       "      <td>302.0</td>\n",
       "      <td>45.996</td>\n",
       "      <td>4.912</td>\n",
       "      <td>45.996</td>\n",
       "      <td>4.912</td>\n",
       "      <td>Bourgs ruraux</td>\n",
       "      <td>Ambarrois</td>\n",
       "      <td>https://fr.wikipedia.org/wiki/fr:AmbÃ©rieux-en...</td>\n",
       "      <td>https://villedereve.fr/ville/01005-amberieux-e...</td>\n",
       "    </tr>\n",
       "    <tr>\n",
       "      <th>4</th>\n",
       "      <td>4</td>\n",
       "      <td>01006</td>\n",
       "      <td>AmblÃ©on</td>\n",
       "      <td>AmblÃ©on</td>\n",
       "      <td>Ã  AmblÃ©on</td>\n",
       "      <td>d'AmblÃ©on</td>\n",
       "      <td>ambleon</td>\n",
       "      <td>AMBLÃON</td>\n",
       "      <td>COM</td>\n",
       "      <td>commune</td>\n",
       "      <td>...</td>\n",
       "      <td>330.0</td>\n",
       "      <td>940.0</td>\n",
       "      <td>45.750</td>\n",
       "      <td>5.594</td>\n",
       "      <td>45.750</td>\n",
       "      <td>5.594</td>\n",
       "      <td>Rural Ã  habitat dispersÃ©</td>\n",
       "      <td>AmblÃ©onais</td>\n",
       "      <td>https://fr.wikipedia.org/wiki/fr:AmblÃ©on</td>\n",
       "      <td>https://villedereve.fr/ville/01006-ambleon</td>\n",
       "    </tr>\n",
       "  </tbody>\n",
       "</table>\n",
       "<p>5 rows × 39 columns</p>\n",
       "</div>"
      ],
      "text/plain": [
       "   Unnamed: 0 code_insee              nom_standard         nom_sans_pronom  \\\n",
       "0           0      01001  L'Abergement-ClÃ©menciat  Abergement-ClÃ©menciat   \n",
       "1           1      01002     L'Abergement-de-Varey     Abergement-de-Varey   \n",
       "2           2      01004        AmbÃ©rieu-en-Bugey      AmbÃ©rieu-en-Bugey   \n",
       "3           3      01005      AmbÃ©rieux-en-Dombes    AmbÃ©rieux-en-Dombes   \n",
       "4           4      01006                  AmblÃ©on                AmblÃ©on   \n",
       "\n",
       "                       nom_a                       nom_de  \\\n",
       "0  Ã  Abergement-ClÃ©menciat  de l'Abergement-ClÃ©menciat   \n",
       "1     Ã  Abergement-de-Varey     de l'Abergement-de-Varey   \n",
       "2      Ã  AmbÃ©rieu-en-Bugey         d'AmbÃ©rieu-en-Bugey   \n",
       "3    Ã  AmbÃ©rieux-en-Dombes       d'AmbÃ©rieux-en-Dombes   \n",
       "4                Ã  AmblÃ©on                   d'AmblÃ©on   \n",
       "\n",
       "           nom_sans_accent    nom_standard_majuscule typecom typecom_texte  \\\n",
       "0  l-abergement-clemenciat  L'ABERGEMENT-CLÃMENCIAT     COM       commune   \n",
       "1    l-abergement-de-varey     L'ABERGEMENT-DE-VAREY     COM       commune   \n",
       "2        amberieu-en-bugey        AMBÃRIEU-EN-BUGEY     COM       commune   \n",
       "3      amberieux-en-dombes      AMBÃRIEUX-EN-DOMBES     COM       commune   \n",
       "4                  ambleon                  AMBLÃON     COM       commune   \n",
       "\n",
       "   ...  altitude_minimale altitude_maximale latitude_mairie longitude_mairie  \\\n",
       "0  ...              206.0             272.0          46.153            4.926   \n",
       "1  ...              290.0             748.0          46.009            5.428   \n",
       "2  ...              237.0             753.0          45.961            5.373   \n",
       "3  ...              265.0             302.0          45.996            4.912   \n",
       "4  ...              330.0             940.0          45.750            5.594   \n",
       "\n",
       "  latitude_centre longitude_centre                   grille_densite  \\\n",
       "0          46.153            4.926       Rural Ã  habitat dispersÃ©   \n",
       "1          46.009            5.428       Rural Ã  habitat dispersÃ©   \n",
       "2          45.961            5.373  Centres urbains intermÃ©diaires   \n",
       "3          45.996            4.912                    Bourgs ruraux   \n",
       "4          45.750            5.594       Rural Ã  habitat dispersÃ©   \n",
       "\n",
       "                          gentile  \\\n",
       "0                             NaN   \n",
       "1  Abergementais, Abergementaises   \n",
       "2          Ambarrois, Ambarroises   \n",
       "3                       Ambarrois   \n",
       "4                     AmblÃ©onais   \n",
       "\n",
       "                                       url_wikipedia  \\\n",
       "0  https://fr.wikipedia.org/wiki/fr:L'Abergement-...   \n",
       "1  https://fr.wikipedia.org/wiki/fr:L'Abergement-...   \n",
       "2  https://fr.wikipedia.org/wiki/fr:AmbÃ©rieu-en-...   \n",
       "3  https://fr.wikipedia.org/wiki/fr:AmbÃ©rieux-en...   \n",
       "4          https://fr.wikipedia.org/wiki/fr:AmblÃ©on   \n",
       "\n",
       "                                     url_villedereve  \n",
       "0  https://villedereve.fr/ville/01001-l-abergemen...  \n",
       "1  https://villedereve.fr/ville/01002-l-abergemen...  \n",
       "2  https://villedereve.fr/ville/01004-amberieu-en...  \n",
       "3  https://villedereve.fr/ville/01005-amberieux-e...  \n",
       "4         https://villedereve.fr/ville/01006-ambleon  \n",
       "\n",
       "[5 rows x 39 columns]"
      ]
     },
     "execution_count": 30,
     "metadata": {},
     "output_type": "execute_result"
    }
   ],
   "source": [
    "\n",
    "\n",
    "# Lien direct vers le fichier CSV\n",
    "url = \"https://www.data.gouv.fr/fr/datasets/r/9661724f-0d80-4bae-ad13-d5b8e1a11ac4\"\n",
    "\n",
    "# Envoyer une requête GET pour récupérer les données\n",
    "response = requests.get(url, timeout=30)\n",
    "response.raise_for_status()  # Lever une exception si la requête échoue\n",
    "\n",
    "# Charger les données directement dans un DataFrame\n",
    "Superficie_tot = pd.read_csv(io.StringIO(response.text))\n",
    "\n",
    "# Afficher un aperçu du DataFrame\n",
    "Superficie_tot.head()\n"
   ]
  },
  {
   "cell_type": "code",
   "execution_count": 31,
   "metadata": {},
   "outputs": [
    {
     "data": {
      "text/plain": [
       "Index(['Unnamed: 0', 'code_insee', 'nom_standard', 'nom_sans_pronom', 'nom_a',\n",
       "       'nom_de', 'nom_sans_accent', 'nom_standard_majuscule', 'typecom',\n",
       "       'typecom_texte', 'reg_code', 'reg_nom', 'dep_code', 'dep_nom',\n",
       "       'canton_code', 'canton_nom', 'epci_code', 'epci_nom', 'academie_code',\n",
       "       'academie_nom', 'code_postal', 'codes_postaux', 'zone_emploi',\n",
       "       'code_insee_centre_zone_emploi', 'population', 'superficie_hectare',\n",
       "       'superficie_km2', 'densite', 'altitude_moyenne', 'altitude_minimale',\n",
       "       'altitude_maximale', 'latitude_mairie', 'longitude_mairie',\n",
       "       'latitude_centre', 'longitude_centre', 'grille_densite', 'gentile',\n",
       "       'url_wikipedia', 'url_villedereve'],\n",
       "      dtype='object')"
      ]
     },
     "execution_count": 31,
     "metadata": {},
     "output_type": "execute_result"
    }
   ],
   "source": [
    "Superficie_tot.columns"
   ]
  },
  {
   "cell_type": "markdown",
   "metadata": {},
   "source": [
    "Nous avons une base qui renseigne les superficie des communes de toutes la France.\n",
    "\n",
    "Par la suite nous allons nous restreindre aux communes de l'Iles de France afin de determiner la superficies des départements de l'iles de France"
   ]
  },
  {
   "cell_type": "code",
   "execution_count": 32,
   "metadata": {},
   "outputs": [
    {
     "data": {
      "text/plain": [
       "array(['01', '02', '03', '04', '05', '06', '07', '08', '09', '10', '11',\n",
       "       '12', '13', '14', '15', '16', '17', '18', '19', '21', '22', '23',\n",
       "       '24', '25', '26', '27', '28', '29', '2A', '2B', '30', '31', '32',\n",
       "       '33', '34', '35', '36', '37', '38', '39', '40', '41', '42', '43',\n",
       "       '44', 44, 45, 46, 47, 48, 49, 50, 51, 52, 53, 54, 55, 56, 57, 58,\n",
       "       59, 60, 61, 62, 63, 64, 65, 66, 67, 68, 69, 70, 71, 72, 73, 74, 75,\n",
       "       76, 77, 78, 79, 80, 81, 82, 83, 84, 85, 86, 87, 88, 89, 90, 91, 92,\n",
       "       93, 94, 95, 971, 972, 973, 974, 976], dtype=object)"
      ]
     },
     "execution_count": 32,
     "metadata": {},
     "output_type": "execute_result"
    }
   ],
   "source": [
    "Superficie_tot['dep_code'].unique()"
   ]
  },
  {
   "cell_type": "code",
   "execution_count": 33,
   "metadata": {},
   "outputs": [
    {
     "data": {
      "text/html": [
       "<div>\n",
       "<style scoped>\n",
       "    .dataframe tbody tr th:only-of-type {\n",
       "        vertical-align: middle;\n",
       "    }\n",
       "\n",
       "    .dataframe tbody tr th {\n",
       "        vertical-align: top;\n",
       "    }\n",
       "\n",
       "    .dataframe thead th {\n",
       "        text-align: right;\n",
       "    }\n",
       "</style>\n",
       "<table border=\"1\" class=\"dataframe\">\n",
       "  <thead>\n",
       "    <tr style=\"text-align: right;\">\n",
       "      <th></th>\n",
       "      <th>Unnamed: 0</th>\n",
       "      <th>code_insee</th>\n",
       "      <th>nom_standard</th>\n",
       "      <th>nom_sans_pronom</th>\n",
       "      <th>nom_a</th>\n",
       "      <th>nom_de</th>\n",
       "      <th>nom_sans_accent</th>\n",
       "      <th>nom_standard_majuscule</th>\n",
       "      <th>typecom</th>\n",
       "      <th>typecom_texte</th>\n",
       "      <th>...</th>\n",
       "      <th>altitude_minimale</th>\n",
       "      <th>altitude_maximale</th>\n",
       "      <th>latitude_mairie</th>\n",
       "      <th>longitude_mairie</th>\n",
       "      <th>latitude_centre</th>\n",
       "      <th>longitude_centre</th>\n",
       "      <th>grille_densite</th>\n",
       "      <th>gentile</th>\n",
       "      <th>url_wikipedia</th>\n",
       "      <th>url_villedereve</th>\n",
       "    </tr>\n",
       "  </thead>\n",
       "  <tbody>\n",
       "    <tr>\n",
       "      <th>29294</th>\n",
       "      <td>29294</td>\n",
       "      <td>75056</td>\n",
       "      <td>Paris</td>\n",
       "      <td>Paris</td>\n",
       "      <td>Ã  Paris</td>\n",
       "      <td>de Paris</td>\n",
       "      <td>paris</td>\n",
       "      <td>PARIS</td>\n",
       "      <td>COM</td>\n",
       "      <td>commune</td>\n",
       "      <td>...</td>\n",
       "      <td>28.0</td>\n",
       "      <td>131.0</td>\n",
       "      <td>48.857</td>\n",
       "      <td>2.352</td>\n",
       "      <td>NaN</td>\n",
       "      <td>NaN</td>\n",
       "      <td>Grands centres urbains</td>\n",
       "      <td>Parisien</td>\n",
       "      <td>https://fr.wikipedia.org/wiki/fr:Paris</td>\n",
       "      <td>https://villedereve.fr/ville/75056-paris</td>\n",
       "    </tr>\n",
       "    <tr>\n",
       "      <th>29295</th>\n",
       "      <td>29295</td>\n",
       "      <td>75101</td>\n",
       "      <td>Paris 1er Arrondissement</td>\n",
       "      <td>Paris 1er Arrondissement</td>\n",
       "      <td>Ã  Paris 1er Arrondissement</td>\n",
       "      <td>de Paris 1er Arrondissement</td>\n",
       "      <td>paris-1er-arrondissement</td>\n",
       "      <td>PARIS 1ER ARRONDISSEMENT</td>\n",
       "      <td>ARM</td>\n",
       "      <td>Arrondissement municipal</td>\n",
       "      <td>...</td>\n",
       "      <td>0.0</td>\n",
       "      <td>0.0</td>\n",
       "      <td>48.863</td>\n",
       "      <td>2.336</td>\n",
       "      <td>48.863</td>\n",
       "      <td>2.336</td>\n",
       "      <td>NaN</td>\n",
       "      <td>NaN</td>\n",
       "      <td>https://fr.wikipedia.org/wiki/fr:1er arrondiss...</td>\n",
       "      <td>https://villedereve.fr/ville/75101-paris-1er-a...</td>\n",
       "    </tr>\n",
       "    <tr>\n",
       "      <th>29296</th>\n",
       "      <td>29296</td>\n",
       "      <td>75102</td>\n",
       "      <td>Paris 2e Arrondissement</td>\n",
       "      <td>Paris 2e Arrondissement</td>\n",
       "      <td>Ã  Paris 2e Arrondissement</td>\n",
       "      <td>de Paris 2e Arrondissement</td>\n",
       "      <td>paris-2e-arrondissement</td>\n",
       "      <td>PARIS 2E ARRONDISSEMENT</td>\n",
       "      <td>ARM</td>\n",
       "      <td>Arrondissement municipal</td>\n",
       "      <td>...</td>\n",
       "      <td>0.0</td>\n",
       "      <td>0.0</td>\n",
       "      <td>48.868</td>\n",
       "      <td>2.344</td>\n",
       "      <td>48.868</td>\n",
       "      <td>2.344</td>\n",
       "      <td>NaN</td>\n",
       "      <td>NaN</td>\n",
       "      <td>https://fr.wikipedia.org/wiki/fr:2e arrondisse...</td>\n",
       "      <td>https://villedereve.fr/ville/75102-paris-2e-ar...</td>\n",
       "    </tr>\n",
       "    <tr>\n",
       "      <th>29297</th>\n",
       "      <td>29297</td>\n",
       "      <td>75103</td>\n",
       "      <td>Paris 3e Arrondissement</td>\n",
       "      <td>Paris 3e Arrondissement</td>\n",
       "      <td>Ã  Paris 3e Arrondissement</td>\n",
       "      <td>de Paris 3e Arrondissement</td>\n",
       "      <td>paris-3e-arrondissement</td>\n",
       "      <td>PARIS 3E ARRONDISSEMENT</td>\n",
       "      <td>ARM</td>\n",
       "      <td>Arrondissement municipal</td>\n",
       "      <td>...</td>\n",
       "      <td>0.0</td>\n",
       "      <td>0.0</td>\n",
       "      <td>48.863</td>\n",
       "      <td>2.359</td>\n",
       "      <td>48.863</td>\n",
       "      <td>2.359</td>\n",
       "      <td>NaN</td>\n",
       "      <td>NaN</td>\n",
       "      <td>https://fr.wikipedia.org/wiki/fr:3e arrondisse...</td>\n",
       "      <td>https://villedereve.fr/ville/75103-paris-3e-ar...</td>\n",
       "    </tr>\n",
       "    <tr>\n",
       "      <th>29298</th>\n",
       "      <td>29298</td>\n",
       "      <td>75104</td>\n",
       "      <td>Paris 4e Arrondissement</td>\n",
       "      <td>Paris 4e Arrondissement</td>\n",
       "      <td>Ã  Paris 4e Arrondissement</td>\n",
       "      <td>de Paris 4e Arrondissement</td>\n",
       "      <td>paris-4e-arrondissement</td>\n",
       "      <td>PARIS 4E ARRONDISSEMENT</td>\n",
       "      <td>ARM</td>\n",
       "      <td>Arrondissement municipal</td>\n",
       "      <td>...</td>\n",
       "      <td>0.0</td>\n",
       "      <td>0.0</td>\n",
       "      <td>48.854</td>\n",
       "      <td>2.357</td>\n",
       "      <td>48.854</td>\n",
       "      <td>2.357</td>\n",
       "      <td>NaN</td>\n",
       "      <td>NaN</td>\n",
       "      <td>https://fr.wikipedia.org/wiki/fr:4e arrondisse...</td>\n",
       "      <td>https://villedereve.fr/ville/75104-paris-4e-ar...</td>\n",
       "    </tr>\n",
       "    <tr>\n",
       "      <th>29299</th>\n",
       "      <td>29299</td>\n",
       "      <td>75105</td>\n",
       "      <td>Paris 5e Arrondissement</td>\n",
       "      <td>Paris 5e Arrondissement</td>\n",
       "      <td>Ã  Paris 5e Arrondissement</td>\n",
       "      <td>de Paris 5e Arrondissement</td>\n",
       "      <td>paris-5e-arrondissement</td>\n",
       "      <td>PARIS 5E ARRONDISSEMENT</td>\n",
       "      <td>ARM</td>\n",
       "      <td>Arrondissement municipal</td>\n",
       "      <td>...</td>\n",
       "      <td>0.0</td>\n",
       "      <td>0.0</td>\n",
       "      <td>48.844</td>\n",
       "      <td>2.350</td>\n",
       "      <td>48.844</td>\n",
       "      <td>2.350</td>\n",
       "      <td>NaN</td>\n",
       "      <td>NaN</td>\n",
       "      <td>https://fr.wikipedia.org/wiki/fr:5e arrondisse...</td>\n",
       "      <td>https://villedereve.fr/ville/75105-paris-5e-ar...</td>\n",
       "    </tr>\n",
       "    <tr>\n",
       "      <th>29300</th>\n",
       "      <td>29300</td>\n",
       "      <td>75106</td>\n",
       "      <td>Paris 6e Arrondissement</td>\n",
       "      <td>Paris 6e Arrondissement</td>\n",
       "      <td>Ã  Paris 6e Arrondissement</td>\n",
       "      <td>de Paris 6e Arrondissement</td>\n",
       "      <td>paris-6e-arrondissement</td>\n",
       "      <td>PARIS 6E ARRONDISSEMENT</td>\n",
       "      <td>ARM</td>\n",
       "      <td>Arrondissement municipal</td>\n",
       "      <td>...</td>\n",
       "      <td>0.0</td>\n",
       "      <td>0.0</td>\n",
       "      <td>48.849</td>\n",
       "      <td>2.333</td>\n",
       "      <td>48.849</td>\n",
       "      <td>2.333</td>\n",
       "      <td>NaN</td>\n",
       "      <td>NaN</td>\n",
       "      <td>https://fr.wikipedia.org/wiki/fr:6e arrondisse...</td>\n",
       "      <td>https://villedereve.fr/ville/75106-paris-6e-ar...</td>\n",
       "    </tr>\n",
       "  </tbody>\n",
       "</table>\n",
       "<p>7 rows × 39 columns</p>\n",
       "</div>"
      ],
      "text/plain": [
       "       Unnamed: 0 code_insee              nom_standard  \\\n",
       "29294       29294      75056                     Paris   \n",
       "29295       29295      75101  Paris 1er Arrondissement   \n",
       "29296       29296      75102   Paris 2e Arrondissement   \n",
       "29297       29297      75103   Paris 3e Arrondissement   \n",
       "29298       29298      75104   Paris 4e Arrondissement   \n",
       "29299       29299      75105   Paris 5e Arrondissement   \n",
       "29300       29300      75106   Paris 6e Arrondissement   \n",
       "\n",
       "                nom_sans_pronom                        nom_a  \\\n",
       "29294                     Paris                     Ã  Paris   \n",
       "29295  Paris 1er Arrondissement  Ã  Paris 1er Arrondissement   \n",
       "29296   Paris 2e Arrondissement   Ã  Paris 2e Arrondissement   \n",
       "29297   Paris 3e Arrondissement   Ã  Paris 3e Arrondissement   \n",
       "29298   Paris 4e Arrondissement   Ã  Paris 4e Arrondissement   \n",
       "29299   Paris 5e Arrondissement   Ã  Paris 5e Arrondissement   \n",
       "29300   Paris 6e Arrondissement   Ã  Paris 6e Arrondissement   \n",
       "\n",
       "                            nom_de           nom_sans_accent  \\\n",
       "29294                     de Paris                     paris   \n",
       "29295  de Paris 1er Arrondissement  paris-1er-arrondissement   \n",
       "29296   de Paris 2e Arrondissement   paris-2e-arrondissement   \n",
       "29297   de Paris 3e Arrondissement   paris-3e-arrondissement   \n",
       "29298   de Paris 4e Arrondissement   paris-4e-arrondissement   \n",
       "29299   de Paris 5e Arrondissement   paris-5e-arrondissement   \n",
       "29300   de Paris 6e Arrondissement   paris-6e-arrondissement   \n",
       "\n",
       "         nom_standard_majuscule typecom             typecom_texte  ...  \\\n",
       "29294                     PARIS     COM                   commune  ...   \n",
       "29295  PARIS 1ER ARRONDISSEMENT     ARM  Arrondissement municipal  ...   \n",
       "29296   PARIS 2E ARRONDISSEMENT     ARM  Arrondissement municipal  ...   \n",
       "29297   PARIS 3E ARRONDISSEMENT     ARM  Arrondissement municipal  ...   \n",
       "29298   PARIS 4E ARRONDISSEMENT     ARM  Arrondissement municipal  ...   \n",
       "29299   PARIS 5E ARRONDISSEMENT     ARM  Arrondissement municipal  ...   \n",
       "29300   PARIS 6E ARRONDISSEMENT     ARM  Arrondissement municipal  ...   \n",
       "\n",
       "       altitude_minimale altitude_maximale latitude_mairie longitude_mairie  \\\n",
       "29294               28.0             131.0          48.857            2.352   \n",
       "29295                0.0               0.0          48.863            2.336   \n",
       "29296                0.0               0.0          48.868            2.344   \n",
       "29297                0.0               0.0          48.863            2.359   \n",
       "29298                0.0               0.0          48.854            2.357   \n",
       "29299                0.0               0.0          48.844            2.350   \n",
       "29300                0.0               0.0          48.849            2.333   \n",
       "\n",
       "      latitude_centre longitude_centre          grille_densite   gentile  \\\n",
       "29294             NaN              NaN  Grands centres urbains  Parisien   \n",
       "29295          48.863            2.336                     NaN       NaN   \n",
       "29296          48.868            2.344                     NaN       NaN   \n",
       "29297          48.863            2.359                     NaN       NaN   \n",
       "29298          48.854            2.357                     NaN       NaN   \n",
       "29299          48.844            2.350                     NaN       NaN   \n",
       "29300          48.849            2.333                     NaN       NaN   \n",
       "\n",
       "                                           url_wikipedia  \\\n",
       "29294             https://fr.wikipedia.org/wiki/fr:Paris   \n",
       "29295  https://fr.wikipedia.org/wiki/fr:1er arrondiss...   \n",
       "29296  https://fr.wikipedia.org/wiki/fr:2e arrondisse...   \n",
       "29297  https://fr.wikipedia.org/wiki/fr:3e arrondisse...   \n",
       "29298  https://fr.wikipedia.org/wiki/fr:4e arrondisse...   \n",
       "29299  https://fr.wikipedia.org/wiki/fr:5e arrondisse...   \n",
       "29300  https://fr.wikipedia.org/wiki/fr:6e arrondisse...   \n",
       "\n",
       "                                         url_villedereve  \n",
       "29294           https://villedereve.fr/ville/75056-paris  \n",
       "29295  https://villedereve.fr/ville/75101-paris-1er-a...  \n",
       "29296  https://villedereve.fr/ville/75102-paris-2e-ar...  \n",
       "29297  https://villedereve.fr/ville/75103-paris-3e-ar...  \n",
       "29298  https://villedereve.fr/ville/75104-paris-4e-ar...  \n",
       "29299  https://villedereve.fr/ville/75105-paris-5e-ar...  \n",
       "29300  https://villedereve.fr/ville/75106-paris-6e-ar...  \n",
       "\n",
       "[7 rows x 39 columns]"
      ]
     },
     "execution_count": 33,
     "metadata": {},
     "output_type": "execute_result"
    }
   ],
   "source": [
    "\n",
    "# Départements de la région parisienne (Île-de-France)\n",
    "idf_departments = [75, 77, 78, 91, 92, 93, 94, 95]\n",
    "\n",
    "# Filtrer les données par les codes INSEE des départements de l'Île-de-France\n",
    "SUPerficie= Superficie_tot[Superficie_tot['dep_code'].isin(idf_departments)]\n",
    "\n",
    "# Afficher les premières lignes des données filtrées\n",
    "SUPerficie.head(7)\n"
   ]
  },
  {
   "cell_type": "code",
   "execution_count": 34,
   "metadata": {},
   "outputs": [
    {
     "data": {
      "text/html": [
       "<div>\n",
       "<style scoped>\n",
       "    .dataframe tbody tr th:only-of-type {\n",
       "        vertical-align: middle;\n",
       "    }\n",
       "\n",
       "    .dataframe tbody tr th {\n",
       "        vertical-align: top;\n",
       "    }\n",
       "\n",
       "    .dataframe thead th {\n",
       "        text-align: right;\n",
       "    }\n",
       "</style>\n",
       "<table border=\"1\" class=\"dataframe\">\n",
       "  <thead>\n",
       "    <tr style=\"text-align: right;\">\n",
       "      <th></th>\n",
       "      <th>dep_code</th>\n",
       "      <th>superficie_km2</th>\n",
       "    </tr>\n",
       "  </thead>\n",
       "  <tbody>\n",
       "    <tr>\n",
       "      <th>29294</th>\n",
       "      <td>75</td>\n",
       "      <td>105</td>\n",
       "    </tr>\n",
       "    <tr>\n",
       "      <th>29295</th>\n",
       "      <td>75</td>\n",
       "      <td>2</td>\n",
       "    </tr>\n",
       "    <tr>\n",
       "      <th>29296</th>\n",
       "      <td>75</td>\n",
       "      <td>1</td>\n",
       "    </tr>\n",
       "    <tr>\n",
       "      <th>29297</th>\n",
       "      <td>75</td>\n",
       "      <td>1</td>\n",
       "    </tr>\n",
       "    <tr>\n",
       "      <th>29298</th>\n",
       "      <td>75</td>\n",
       "      <td>2</td>\n",
       "    </tr>\n",
       "    <tr>\n",
       "      <th>...</th>\n",
       "      <td>...</td>\n",
       "      <td>...</td>\n",
       "    </tr>\n",
       "    <tr>\n",
       "      <th>34876</th>\n",
       "      <td>95</td>\n",
       "      <td>8</td>\n",
       "    </tr>\n",
       "    <tr>\n",
       "      <th>34877</th>\n",
       "      <td>95</td>\n",
       "      <td>10</td>\n",
       "    </tr>\n",
       "    <tr>\n",
       "      <th>34878</th>\n",
       "      <td>95</td>\n",
       "      <td>7</td>\n",
       "    </tr>\n",
       "    <tr>\n",
       "      <th>34879</th>\n",
       "      <td>95</td>\n",
       "      <td>3</td>\n",
       "    </tr>\n",
       "    <tr>\n",
       "      <th>34880</th>\n",
       "      <td>95</td>\n",
       "      <td>8</td>\n",
       "    </tr>\n",
       "  </tbody>\n",
       "</table>\n",
       "<p>1288 rows × 2 columns</p>\n",
       "</div>"
      ],
      "text/plain": [
       "      dep_code  superficie_km2\n",
       "29294       75             105\n",
       "29295       75               2\n",
       "29296       75               1\n",
       "29297       75               1\n",
       "29298       75               2\n",
       "...        ...             ...\n",
       "34876       95               8\n",
       "34877       95              10\n",
       "34878       95               7\n",
       "34879       95               3\n",
       "34880       95               8\n",
       "\n",
       "[1288 rows x 2 columns]"
      ]
     },
     "execution_count": 34,
     "metadata": {},
     "output_type": "execute_result"
    }
   ],
   "source": [
    "superficie= SUPerficie[['dep_code', 'superficie_km2']]\n",
    "superficie"
   ]
  },
  {
   "cell_type": "markdown",
   "metadata": {},
   "source": [
    "Les superficies ayant été enregistrées par communes, nous les résumons donc par département pour notre travail."
   ]
  },
  {
   "cell_type": "code",
   "execution_count": 35,
   "metadata": {},
   "outputs": [
    {
     "name": "stdout",
     "output_type": "stream",
     "text": [
      "   dep_code  sup_dept_km2\n",
      "0        75           211\n",
      "1        77          5852\n",
      "2        78          2291\n",
      "3        91          1805\n",
      "4        92           178\n",
      "5        93           235\n",
      "6        94           242\n",
      "7        95          1250\n"
     ]
    }
   ],
   "source": [
    "# Résumer les données annuelles par département pour chaque variable\n",
    "superficie_dept = superficie.groupby(['dep_code'])['superficie_km2'].agg(\n",
    "    sup_dept_km2='sum'  # Somme des superficies des communes par département\n",
    ").reset_index()\n",
    "\n",
    "# Afficher les premières lignes du résumé\n",
    "print(superficie_dept)"
   ]
  },
  {
   "cell_type": "code",
   "execution_count": 36,
   "metadata": {},
   "outputs": [
    {
     "name": "stdout",
     "output_type": "stream",
     "text": [
      "<class 'pandas.core.frame.DataFrame'>\n",
      "RangeIndex: 8 entries, 0 to 7\n",
      "Data columns (total 2 columns):\n",
      " #   Column        Non-Null Count  Dtype\n",
      "---  ------        --------------  -----\n",
      " 0   dep_code      8 non-null      int64\n",
      " 1   sup_dept_km2  8 non-null      int64\n",
      "dtypes: int64(2)\n",
      "memory usage: 260.0 bytes\n"
     ]
    }
   ],
   "source": [
    "superficie_dept.info()"
   ]
  },
  {
   "cell_type": "markdown",
   "metadata": {},
   "source": [
    "Nous allons à présent faire une fusion de nos données afin de mieux continuer cette exploration très intéressante."
   ]
  },
  {
   "cell_type": "markdown",
   "metadata": {},
   "source": [
    "<h2 style=\" text-align:left\">\n",
    "1.2- Fusion des bases de données \n",
    "</h2>"
   ]
  },
  {
   "cell_type": "markdown",
   "metadata": {},
   "source": [
    "Récupérons préalablement la base de données agrégée des indices de l'air par département: elle a été crée grace au code contenu dans le fichier 'qualité_air(1).ipynb'"
   ]
  },
  {
   "cell_type": "code",
   "execution_count": 37,
   "metadata": {},
   "outputs": [
    {
     "data": {
      "text/html": [
       "<div>\n",
       "<style scoped>\n",
       "    .dataframe tbody tr th:only-of-type {\n",
       "        vertical-align: middle;\n",
       "    }\n",
       "\n",
       "    .dataframe tbody tr th {\n",
       "        vertical-align: top;\n",
       "    }\n",
       "\n",
       "    .dataframe thead th {\n",
       "        text-align: right;\n",
       "    }\n",
       "</style>\n",
       "<table border=\"1\" class=\"dataframe\">\n",
       "  <thead>\n",
       "    <tr style=\"text-align: right;\">\n",
       "      <th></th>\n",
       "      <th>ninsee</th>\n",
       "      <th>pm10</th>\n",
       "      <th>o3</th>\n",
       "      <th>no2</th>\n",
       "    </tr>\n",
       "  </thead>\n",
       "  <tbody>\n",
       "    <tr>\n",
       "      <th>0</th>\n",
       "      <td>75</td>\n",
       "      <td>29.0</td>\n",
       "      <td>29.652055</td>\n",
       "      <td>36.0</td>\n",
       "    </tr>\n",
       "    <tr>\n",
       "      <th>1</th>\n",
       "      <td>77</td>\n",
       "      <td>29.0</td>\n",
       "      <td>35.389041</td>\n",
       "      <td>30.0</td>\n",
       "    </tr>\n",
       "    <tr>\n",
       "      <th>2</th>\n",
       "      <td>78</td>\n",
       "      <td>26.0</td>\n",
       "      <td>35.106849</td>\n",
       "      <td>27.0</td>\n",
       "    </tr>\n",
       "    <tr>\n",
       "      <th>3</th>\n",
       "      <td>91</td>\n",
       "      <td>27.0</td>\n",
       "      <td>34.536986</td>\n",
       "      <td>29.0</td>\n",
       "    </tr>\n",
       "    <tr>\n",
       "      <th>4</th>\n",
       "      <td>92</td>\n",
       "      <td>29.0</td>\n",
       "      <td>31.043836</td>\n",
       "      <td>33.0</td>\n",
       "    </tr>\n",
       "  </tbody>\n",
       "</table>\n",
       "</div>"
      ],
      "text/plain": [
       "   ninsee  pm10         o3   no2\n",
       "0      75  29.0  29.652055  36.0\n",
       "1      77  29.0  35.389041  30.0\n",
       "2      78  26.0  35.106849  27.0\n",
       "3      91  27.0  34.536986  29.0\n",
       "4      92  29.0  31.043836  33.0"
      ]
     },
     "execution_count": 37,
     "metadata": {},
     "output_type": "execute_result"
    }
   ],
   "source": [
    "Qualite_aire = pd.read_csv(Path(DATA_DIR, \"department_means.csv\"), sep=\",\")\n",
    "Qualite_aire.head(5)"
   ]
  },
  {
   "cell_type": "markdown",
   "metadata": {},
   "source": [
    "Rappellons tout d'abord que la la modalité \"999\" de la variable département n'est pas une valeur manquante, mais plutôt cette valeur représente le fait que les caractéristiques de la catégorie de pathologie consernée ont été répertoriées sans distinction de département; elle représentent les valeurs agrégées des observations par département. Il nous incombe alors de supprimer ces observations car elles ne sont pas pertinentes pour notre travail."
   ]
  },
  {
   "cell_type": "code",
   "execution_count": 38,
   "metadata": {},
   "outputs": [
    {
     "name": "stdout",
     "output_type": "stream",
     "text": [
      "<class 'pandas.core.frame.DataFrame'>\n",
      "Index: 2016 entries, 13356 to 579572\n",
      "Data columns (total 7 columns):\n",
      " #   Column              Non-Null Count  Dtype  \n",
      "---  ------              --------------  -----  \n",
      " 0   cla_age_5           2016 non-null   object \n",
      " 1   sexe                2016 non-null   object \n",
      " 2   dept                2016 non-null   object \n",
      " 3   Ntop                1352 non-null   float64\n",
      " 4   Npop                2016 non-null   int64  \n",
      " 5   prev                1352 non-null   float64\n",
      " 6   Niveau prioritaire  2016 non-null   object \n",
      "dtypes: float64(2), int64(1), object(4)\n",
      "memory usage: 126.0+ KB\n"
     ]
    }
   ],
   "source": [
    "# Supprimer les lignes où la colonne \"dept\" est égale à 999\n",
    "new_data = new_data[new_data[\"dept\"] != \"999\"]\n",
    "new_data.info()"
   ]
  },
  {
   "cell_type": "code",
   "execution_count": 39,
   "metadata": {},
   "outputs": [
    {
     "name": "stdout",
     "output_type": "stream",
     "text": [
      " ['77' '91' '93' '78' '75' '94' '95' '92'] \n",
      " [75 77 78 91 92 93 94 95] \n",
      " [75 77 78 91 92 93 94 95] \n"
     ]
    }
   ],
   "source": [
    "#Vérifions les valeurs contenues dans les variables 'clées' suivant lesquelles se fera la fusion\n",
    "print(f\" {new_data[\"dept\"].unique()} \\n {Qualite_aire[\"ninsee\"].unique()} \\n {superficie_dept[\"dep_code\"].unique()} \")"
   ]
  },
  {
   "cell_type": "code",
   "execution_count": 183,
   "metadata": {},
   "outputs": [
    {
     "name": "stdout",
     "output_type": "stream",
     "text": [
      " ['77' '91' '93' '78' '75' '94' '95' '92'] \n",
      " ['75' '77' '78' '91' '92' '93' '94' '95'] \n",
      " ['75' '77' '78' '91' '92' '93' '94' '95'] \n"
     ]
    }
   ],
   "source": [
    "# on change le nom de la colonne ninsee et de la colonne dep_code\n",
    "Qualite_aire = Qualite_aire.rename(columns={'ninsee': 'dept'})\n",
    "superficie_dept = superficie_dept.rename(columns={'dep_code': 'dept'})\n",
    "\n",
    "# on convertie la colonne dept en str pour les deux autres data\n",
    "Qualite_aire['dept'] = Qualite_aire['dept'].astype(str)\n",
    "superficie_dept['dept'] = superficie_dept['dept'].astype(str)\n",
    "print(f\" {new_data[\"dept\"].unique()} \\n {Qualite_aire[\"dept\"].unique()} \\n {superficie_dept[\"dept\"].unique()} \")"
   ]
  },
  {
   "cell_type": "code",
   "execution_count": 184,
   "metadata": {},
   "outputs": [
    {
     "data": {
      "text/html": [
       "<div>\n",
       "<style scoped>\n",
       "    .dataframe tbody tr th:only-of-type {\n",
       "        vertical-align: middle;\n",
       "    }\n",
       "\n",
       "    .dataframe tbody tr th {\n",
       "        vertical-align: top;\n",
       "    }\n",
       "\n",
       "    .dataframe thead th {\n",
       "        text-align: right;\n",
       "    }\n",
       "</style>\n",
       "<table border=\"1\" class=\"dataframe\">\n",
       "  <thead>\n",
       "    <tr style=\"text-align: right;\">\n",
       "      <th></th>\n",
       "      <th>cla_age_5</th>\n",
       "      <th>sexe</th>\n",
       "      <th>dept</th>\n",
       "      <th>Ntop</th>\n",
       "      <th>Npop</th>\n",
       "      <th>prev</th>\n",
       "      <th>Niveau prioritaire</th>\n",
       "      <th>pm10</th>\n",
       "      <th>o3</th>\n",
       "      <th>no2</th>\n",
       "    </tr>\n",
       "  </thead>\n",
       "  <tbody>\n",
       "    <tr>\n",
       "      <th>0</th>\n",
       "      <td>85-89</td>\n",
       "      <td>2</td>\n",
       "      <td>77</td>\n",
       "      <td>1550.0</td>\n",
       "      <td>11990</td>\n",
       "      <td>12.957</td>\n",
       "      <td>1,2,3</td>\n",
       "      <td>29.0</td>\n",
       "      <td>35.389041</td>\n",
       "      <td>30.0</td>\n",
       "    </tr>\n",
       "    <tr>\n",
       "      <th>1</th>\n",
       "      <td>85-89</td>\n",
       "      <td>2</td>\n",
       "      <td>91</td>\n",
       "      <td>1380.0</td>\n",
       "      <td>11890</td>\n",
       "      <td>11.572</td>\n",
       "      <td>1,2,3</td>\n",
       "      <td>27.0</td>\n",
       "      <td>34.536986</td>\n",
       "      <td>29.0</td>\n",
       "    </tr>\n",
       "    <tr>\n",
       "      <th>2</th>\n",
       "      <td>85-89</td>\n",
       "      <td>2</td>\n",
       "      <td>93</td>\n",
       "      <td>1510.0</td>\n",
       "      <td>11760</td>\n",
       "      <td>12.874</td>\n",
       "      <td>1,2,3</td>\n",
       "      <td>29.0</td>\n",
       "      <td>32.013699</td>\n",
       "      <td>36.0</td>\n",
       "    </tr>\n",
       "    <tr>\n",
       "      <th>3</th>\n",
       "      <td>85-89</td>\n",
       "      <td>9</td>\n",
       "      <td>77</td>\n",
       "      <td>2560.0</td>\n",
       "      <td>18490</td>\n",
       "      <td>13.863</td>\n",
       "      <td>1,2,3</td>\n",
       "      <td>29.0</td>\n",
       "      <td>35.389041</td>\n",
       "      <td>30.0</td>\n",
       "    </tr>\n",
       "    <tr>\n",
       "      <th>4</th>\n",
       "      <td>85-89</td>\n",
       "      <td>9</td>\n",
       "      <td>78</td>\n",
       "      <td>2760.0</td>\n",
       "      <td>23040</td>\n",
       "      <td>11.992</td>\n",
       "      <td>1,2,3</td>\n",
       "      <td>26.0</td>\n",
       "      <td>35.106849</td>\n",
       "      <td>27.0</td>\n",
       "    </tr>\n",
       "  </tbody>\n",
       "</table>\n",
       "</div>"
      ],
      "text/plain": [
       "  cla_age_5 sexe dept    Ntop   Npop    prev Niveau prioritaire  pm10  \\\n",
       "0     85-89    2   77  1550.0  11990  12.957              1,2,3  29.0   \n",
       "1     85-89    2   91  1380.0  11890  11.572              1,2,3  27.0   \n",
       "2     85-89    2   93  1510.0  11760  12.874              1,2,3  29.0   \n",
       "3     85-89    9   77  2560.0  18490  13.863              1,2,3  29.0   \n",
       "4     85-89    9   78  2760.0  23040  11.992              1,2,3  26.0   \n",
       "\n",
       "          o3   no2  \n",
       "0  35.389041  30.0  \n",
       "1  34.536986  29.0  \n",
       "2  32.013699  36.0  \n",
       "3  35.389041  30.0  \n",
       "4  35.106849  27.0  "
      ]
     },
     "execution_count": 184,
     "metadata": {},
     "output_type": "execute_result"
    }
   ],
   "source": [
    "# Joindre \"new_data\" et \"Qualite_aire\" sur la colonne \"dept\"\n",
    "merged_data_1 = pd.merge(new_data, Qualite_aire, on=\"dept\", how=\"left\")\n",
    "\n",
    "# Vérifier les premières lignes de la fusion\n",
    "merged_data_1.head()\n"
   ]
  },
  {
   "cell_type": "code",
   "execution_count": 185,
   "metadata": {},
   "outputs": [
    {
     "data": {
      "text/html": [
       "<div>\n",
       "<style scoped>\n",
       "    .dataframe tbody tr th:only-of-type {\n",
       "        vertical-align: middle;\n",
       "    }\n",
       "\n",
       "    .dataframe tbody tr th {\n",
       "        vertical-align: top;\n",
       "    }\n",
       "\n",
       "    .dataframe thead th {\n",
       "        text-align: right;\n",
       "    }\n",
       "</style>\n",
       "<table border=\"1\" class=\"dataframe\">\n",
       "  <thead>\n",
       "    <tr style=\"text-align: right;\">\n",
       "      <th></th>\n",
       "      <th>cla_age_5</th>\n",
       "      <th>sexe</th>\n",
       "      <th>dept</th>\n",
       "      <th>Ntop</th>\n",
       "      <th>Npop</th>\n",
       "      <th>prev</th>\n",
       "      <th>Niveau prioritaire</th>\n",
       "      <th>pm10</th>\n",
       "      <th>o3</th>\n",
       "      <th>no2</th>\n",
       "      <th>sup_dept_km2</th>\n",
       "    </tr>\n",
       "  </thead>\n",
       "  <tbody>\n",
       "    <tr>\n",
       "      <th>0</th>\n",
       "      <td>85-89</td>\n",
       "      <td>2</td>\n",
       "      <td>77</td>\n",
       "      <td>1550.0</td>\n",
       "      <td>11990</td>\n",
       "      <td>12.957</td>\n",
       "      <td>1,2,3</td>\n",
       "      <td>29.0</td>\n",
       "      <td>35.389041</td>\n",
       "      <td>30.0</td>\n",
       "      <td>5852</td>\n",
       "    </tr>\n",
       "    <tr>\n",
       "      <th>1</th>\n",
       "      <td>85-89</td>\n",
       "      <td>2</td>\n",
       "      <td>91</td>\n",
       "      <td>1380.0</td>\n",
       "      <td>11890</td>\n",
       "      <td>11.572</td>\n",
       "      <td>1,2,3</td>\n",
       "      <td>27.0</td>\n",
       "      <td>34.536986</td>\n",
       "      <td>29.0</td>\n",
       "      <td>1805</td>\n",
       "    </tr>\n",
       "    <tr>\n",
       "      <th>2</th>\n",
       "      <td>85-89</td>\n",
       "      <td>2</td>\n",
       "      <td>93</td>\n",
       "      <td>1510.0</td>\n",
       "      <td>11760</td>\n",
       "      <td>12.874</td>\n",
       "      <td>1,2,3</td>\n",
       "      <td>29.0</td>\n",
       "      <td>32.013699</td>\n",
       "      <td>36.0</td>\n",
       "      <td>235</td>\n",
       "    </tr>\n",
       "    <tr>\n",
       "      <th>3</th>\n",
       "      <td>85-89</td>\n",
       "      <td>9</td>\n",
       "      <td>77</td>\n",
       "      <td>2560.0</td>\n",
       "      <td>18490</td>\n",
       "      <td>13.863</td>\n",
       "      <td>1,2,3</td>\n",
       "      <td>29.0</td>\n",
       "      <td>35.389041</td>\n",
       "      <td>30.0</td>\n",
       "      <td>5852</td>\n",
       "    </tr>\n",
       "    <tr>\n",
       "      <th>4</th>\n",
       "      <td>85-89</td>\n",
       "      <td>9</td>\n",
       "      <td>78</td>\n",
       "      <td>2760.0</td>\n",
       "      <td>23040</td>\n",
       "      <td>11.992</td>\n",
       "      <td>1,2,3</td>\n",
       "      <td>26.0</td>\n",
       "      <td>35.106849</td>\n",
       "      <td>27.0</td>\n",
       "      <td>2291</td>\n",
       "    </tr>\n",
       "  </tbody>\n",
       "</table>\n",
       "</div>"
      ],
      "text/plain": [
       "  cla_age_5 sexe dept    Ntop   Npop    prev Niveau prioritaire  pm10  \\\n",
       "0     85-89    2   77  1550.0  11990  12.957              1,2,3  29.0   \n",
       "1     85-89    2   91  1380.0  11890  11.572              1,2,3  27.0   \n",
       "2     85-89    2   93  1510.0  11760  12.874              1,2,3  29.0   \n",
       "3     85-89    9   77  2560.0  18490  13.863              1,2,3  29.0   \n",
       "4     85-89    9   78  2760.0  23040  11.992              1,2,3  26.0   \n",
       "\n",
       "          o3   no2  sup_dept_km2  \n",
       "0  35.389041  30.0          5852  \n",
       "1  34.536986  29.0          1805  \n",
       "2  32.013699  36.0           235  \n",
       "3  35.389041  30.0          5852  \n",
       "4  35.106849  27.0          2291  "
      ]
     },
     "execution_count": 185,
     "metadata": {},
     "output_type": "execute_result"
    }
   ],
   "source": [
    "# Joindre \"merged_data_1\" (résultat de la première fusion) et \"superficie_dept\" sur la colonne \"dept\"\n",
    "principal_data = pd.merge(merged_data_1, superficie_dept, on=\"dept\", how=\"left\")\n",
    "\n",
    "# Vérifier les premières lignes du résultat final\n",
    "principal_data.head()\n"
   ]
  },
  {
   "cell_type": "code",
   "execution_count": 186,
   "metadata": {},
   "outputs": [
    {
     "data": {
      "text/html": [
       "<div>\n",
       "<style scoped>\n",
       "    .dataframe tbody tr th:only-of-type {\n",
       "        vertical-align: middle;\n",
       "    }\n",
       "\n",
       "    .dataframe tbody tr th {\n",
       "        vertical-align: top;\n",
       "    }\n",
       "\n",
       "    .dataframe thead th {\n",
       "        text-align: right;\n",
       "    }\n",
       "</style>\n",
       "<table border=\"1\" class=\"dataframe\">\n",
       "  <thead>\n",
       "    <tr style=\"text-align: right;\">\n",
       "      <th></th>\n",
       "      <th>cla_age_5</th>\n",
       "      <th>sexe</th>\n",
       "      <th>dept</th>\n",
       "      <th>Ntop</th>\n",
       "      <th>Npop</th>\n",
       "      <th>prev</th>\n",
       "      <th>Niveau prioritaire</th>\n",
       "      <th>pm10</th>\n",
       "      <th>o3</th>\n",
       "      <th>no2</th>\n",
       "      <th>sup_dept_km2</th>\n",
       "      <th>densite</th>\n",
       "    </tr>\n",
       "  </thead>\n",
       "  <tbody>\n",
       "    <tr>\n",
       "      <th>0</th>\n",
       "      <td>85-89</td>\n",
       "      <td>2</td>\n",
       "      <td>77</td>\n",
       "      <td>1550.0</td>\n",
       "      <td>11990</td>\n",
       "      <td>12.957</td>\n",
       "      <td>1,2,3</td>\n",
       "      <td>29.0</td>\n",
       "      <td>35.389041</td>\n",
       "      <td>30.0</td>\n",
       "      <td>5852</td>\n",
       "      <td>2.048872</td>\n",
       "    </tr>\n",
       "    <tr>\n",
       "      <th>1</th>\n",
       "      <td>85-89</td>\n",
       "      <td>2</td>\n",
       "      <td>91</td>\n",
       "      <td>1380.0</td>\n",
       "      <td>11890</td>\n",
       "      <td>11.572</td>\n",
       "      <td>1,2,3</td>\n",
       "      <td>27.0</td>\n",
       "      <td>34.536986</td>\n",
       "      <td>29.0</td>\n",
       "      <td>1805</td>\n",
       "      <td>6.587258</td>\n",
       "    </tr>\n",
       "    <tr>\n",
       "      <th>2</th>\n",
       "      <td>85-89</td>\n",
       "      <td>2</td>\n",
       "      <td>93</td>\n",
       "      <td>1510.0</td>\n",
       "      <td>11760</td>\n",
       "      <td>12.874</td>\n",
       "      <td>1,2,3</td>\n",
       "      <td>29.0</td>\n",
       "      <td>32.013699</td>\n",
       "      <td>36.0</td>\n",
       "      <td>235</td>\n",
       "      <td>50.042553</td>\n",
       "    </tr>\n",
       "  </tbody>\n",
       "</table>\n",
       "</div>"
      ],
      "text/plain": [
       "  cla_age_5 sexe dept    Ntop   Npop    prev Niveau prioritaire  pm10  \\\n",
       "0     85-89    2   77  1550.0  11990  12.957              1,2,3  29.0   \n",
       "1     85-89    2   91  1380.0  11890  11.572              1,2,3  27.0   \n",
       "2     85-89    2   93  1510.0  11760  12.874              1,2,3  29.0   \n",
       "\n",
       "          o3   no2  sup_dept_km2    densite  \n",
       "0  35.389041  30.0          5852   2.048872  \n",
       "1  34.536986  29.0          1805   6.587258  \n",
       "2  32.013699  36.0           235  50.042553  "
      ]
     },
     "execution_count": 186,
     "metadata": {},
     "output_type": "execute_result"
    }
   ],
   "source": [
    "#Nous créons la variable densité pour voir la densité des individus considérés par km2 \n",
    "principal_data[\"densite\"] = principal_data[\"Npop\"]/principal_data[\"sup_dept_km2\"]\n",
    "principal_data.head(3)"
   ]
  },
  {
   "cell_type": "markdown",
   "metadata": {},
   "source": [
    "<h2 style=\" text-align:left\">\n",
    "1.3- Analyse descriptive finale\n",
    "</h2>"
   ]
  },
  {
   "cell_type": "markdown",
   "metadata": {},
   "source": [
    "Nous allons actuellement faire une analyse de la base de données finale: principal_data ."
   ]
  },
  {
   "cell_type": "markdown",
   "metadata": {},
   "source": [
    "D'après ce qui précède on sait que prev est calculé a partir de Npop et Ntop donc on peut suprrimer Ntop.\n",
    "Nous supprimons aussi 'prop' car celle avait été calculée uniquement pour montrer la relation entre Ntop et Npop"
   ]
  },
  {
   "cell_type": "code",
   "execution_count": 187,
   "metadata": {},
   "outputs": [
    {
     "data": {
      "text/html": [
       "<div>\n",
       "<style scoped>\n",
       "    .dataframe tbody tr th:only-of-type {\n",
       "        vertical-align: middle;\n",
       "    }\n",
       "\n",
       "    .dataframe tbody tr th {\n",
       "        vertical-align: top;\n",
       "    }\n",
       "\n",
       "    .dataframe thead th {\n",
       "        text-align: right;\n",
       "    }\n",
       "</style>\n",
       "<table border=\"1\" class=\"dataframe\">\n",
       "  <thead>\n",
       "    <tr style=\"text-align: right;\">\n",
       "      <th></th>\n",
       "      <th>cla_age_5</th>\n",
       "      <th>sexe</th>\n",
       "      <th>dept</th>\n",
       "      <th>prev</th>\n",
       "      <th>Niveau prioritaire</th>\n",
       "      <th>pm10</th>\n",
       "      <th>o3</th>\n",
       "      <th>no2</th>\n",
       "      <th>densite</th>\n",
       "    </tr>\n",
       "  </thead>\n",
       "  <tbody>\n",
       "    <tr>\n",
       "      <th>0</th>\n",
       "      <td>85-89</td>\n",
       "      <td>2</td>\n",
       "      <td>77</td>\n",
       "      <td>12.957</td>\n",
       "      <td>1,2,3</td>\n",
       "      <td>29.0</td>\n",
       "      <td>35.389041</td>\n",
       "      <td>30.0</td>\n",
       "      <td>2.048872</td>\n",
       "    </tr>\n",
       "    <tr>\n",
       "      <th>1</th>\n",
       "      <td>85-89</td>\n",
       "      <td>2</td>\n",
       "      <td>91</td>\n",
       "      <td>11.572</td>\n",
       "      <td>1,2,3</td>\n",
       "      <td>27.0</td>\n",
       "      <td>34.536986</td>\n",
       "      <td>29.0</td>\n",
       "      <td>6.587258</td>\n",
       "    </tr>\n",
       "    <tr>\n",
       "      <th>2</th>\n",
       "      <td>85-89</td>\n",
       "      <td>2</td>\n",
       "      <td>93</td>\n",
       "      <td>12.874</td>\n",
       "      <td>1,2,3</td>\n",
       "      <td>29.0</td>\n",
       "      <td>32.013699</td>\n",
       "      <td>36.0</td>\n",
       "      <td>50.042553</td>\n",
       "    </tr>\n",
       "    <tr>\n",
       "      <th>3</th>\n",
       "      <td>85-89</td>\n",
       "      <td>9</td>\n",
       "      <td>77</td>\n",
       "      <td>13.863</td>\n",
       "      <td>1,2,3</td>\n",
       "      <td>29.0</td>\n",
       "      <td>35.389041</td>\n",
       "      <td>30.0</td>\n",
       "      <td>3.159604</td>\n",
       "    </tr>\n",
       "    <tr>\n",
       "      <th>4</th>\n",
       "      <td>85-89</td>\n",
       "      <td>9</td>\n",
       "      <td>78</td>\n",
       "      <td>11.992</td>\n",
       "      <td>1,2,3</td>\n",
       "      <td>26.0</td>\n",
       "      <td>35.106849</td>\n",
       "      <td>27.0</td>\n",
       "      <td>10.056744</td>\n",
       "    </tr>\n",
       "    <tr>\n",
       "      <th>5</th>\n",
       "      <td>85-89</td>\n",
       "      <td>9</td>\n",
       "      <td>91</td>\n",
       "      <td>12.306</td>\n",
       "      <td>1,2,3</td>\n",
       "      <td>27.0</td>\n",
       "      <td>34.536986</td>\n",
       "      <td>29.0</td>\n",
       "      <td>10.559557</td>\n",
       "    </tr>\n",
       "    <tr>\n",
       "      <th>6</th>\n",
       "      <td>90-94</td>\n",
       "      <td>1</td>\n",
       "      <td>75</td>\n",
       "      <td>13.046</td>\n",
       "      <td>1,2,3</td>\n",
       "      <td>29.0</td>\n",
       "      <td>29.652055</td>\n",
       "      <td>36.0</td>\n",
       "      <td>29.289100</td>\n",
       "    </tr>\n",
       "  </tbody>\n",
       "</table>\n",
       "</div>"
      ],
      "text/plain": [
       "  cla_age_5 sexe dept    prev Niveau prioritaire  pm10         o3   no2  \\\n",
       "0     85-89    2   77  12.957              1,2,3  29.0  35.389041  30.0   \n",
       "1     85-89    2   91  11.572              1,2,3  27.0  34.536986  29.0   \n",
       "2     85-89    2   93  12.874              1,2,3  29.0  32.013699  36.0   \n",
       "3     85-89    9   77  13.863              1,2,3  29.0  35.389041  30.0   \n",
       "4     85-89    9   78  11.992              1,2,3  26.0  35.106849  27.0   \n",
       "5     85-89    9   91  12.306              1,2,3  27.0  34.536986  29.0   \n",
       "6     90-94    1   75  13.046              1,2,3  29.0  29.652055  36.0   \n",
       "\n",
       "     densite  \n",
       "0   2.048872  \n",
       "1   6.587258  \n",
       "2  50.042553  \n",
       "3   3.159604  \n",
       "4  10.056744  \n",
       "5  10.559557  \n",
       "6  29.289100  "
      ]
     },
     "execution_count": 187,
     "metadata": {},
     "output_type": "execute_result"
    }
   ],
   "source": [
    "\n",
    "Colunms_we_drop = ['Ntop', 'Npop', 'sup_dept_km2']\n",
    "Principal_data1 = principal_data.drop(columns=Colunms_we_drop)\n",
    "Principal_data1.head(7)"
   ]
  },
  {
   "cell_type": "code",
   "execution_count": 188,
   "metadata": {},
   "outputs": [
    {
     "name": "stdout",
     "output_type": "stream",
     "text": [
      "<class 'pandas.core.frame.DataFrame'>\n",
      "RangeIndex: 2016 entries, 0 to 2015\n",
      "Data columns (total 9 columns):\n",
      " #   Column              Non-Null Count  Dtype  \n",
      "---  ------              --------------  -----  \n",
      " 0   cla_age_5           2016 non-null   object \n",
      " 1   sexe                2016 non-null   object \n",
      " 2   dept                2016 non-null   object \n",
      " 3   prev                1352 non-null   float64\n",
      " 4   Niveau prioritaire  2016 non-null   object \n",
      " 5   pm10                2016 non-null   float64\n",
      " 6   o3                  2016 non-null   float64\n",
      " 7   no2                 2016 non-null   float64\n",
      " 8   densite             2016 non-null   float64\n",
      "dtypes: float64(5), object(4)\n",
      "memory usage: 141.9+ KB\n"
     ]
    }
   ],
   "source": [
    "Principal_data1.info()"
   ]
  },
  {
   "cell_type": "code",
   "execution_count": 189,
   "metadata": {},
   "outputs": [
    {
     "data": {
      "image/png": "[encoded data removed]",
      "text/plain": [
       "<Figure size 1000x600 with 1 Axes>"
      ]
     },
     "metadata": {},
     "output_type": "display_data"
    }
   ],
   "source": [
    "\n",
    "# Créer une matrice indiquant les valeurs manquantes (True pour manquant, False pour non manquant)\n",
    "missing_matrix = Principal_data1.isnull()\n",
    "\n",
    "# Visualiser les valeurs manquantes avec une heatmap\n",
    "plt.figure(figsize=(10, 6))\n",
    "sns.heatmap(missing_matrix, cmap=\"viridis\", cbar=False, yticklabels=False)\n",
    "plt.title(\"Visualisation des valeurs manquantes\", fontsize=14)\n",
    "plt.show()"
   ]
  },
  {
   "cell_type": "markdown",
   "metadata": {},
   "source": [
    "La variable 'prev' est celle que nous cherchons à prédire. Dès lors, nous allons supprimer les observations dont la valeur 'prev' est manquante de sorte à ne considérer que les données existantes pour la modélisation."
   ]
  },
  {
   "cell_type": "code",
   "execution_count": 190,
   "metadata": {},
   "outputs": [
    {
     "name": "stdout",
     "output_type": "stream",
     "text": [
      "<class 'pandas.core.frame.DataFrame'>\n",
      "Index: 1352 entries, 0 to 2008\n",
      "Data columns (total 9 columns):\n",
      " #   Column              Non-Null Count  Dtype  \n",
      "---  ------              --------------  -----  \n",
      " 0   cla_age_5           1352 non-null   object \n",
      " 1   sexe                1352 non-null   object \n",
      " 2   dept                1352 non-null   object \n",
      " 3   prev                1352 non-null   float64\n",
      " 4   Niveau prioritaire  1352 non-null   object \n",
      " 5   pm10                1352 non-null   float64\n",
      " 6   o3                  1352 non-null   float64\n",
      " 7   no2                 1352 non-null   float64\n",
      " 8   densite             1352 non-null   float64\n",
      "dtypes: float64(5), object(4)\n",
      "memory usage: 105.6+ KB\n"
     ]
    }
   ],
   "source": [
    "#supprimer les lignes ou prev is nan \n",
    "Principal_data2=Principal_data1.dropna(subset=['prev'])\n",
    "Principal_data2.info()"
   ]
  },
  {
   "cell_type": "code",
   "execution_count": 191,
   "metadata": {},
   "outputs": [
    {
     "name": "stdout",
     "output_type": "stream",
     "text": [
      "Nombre total de doublons  détectés : 1\n"
     ]
    }
   ],
   "source": [
    "# Vérifier les doublons basés sur toutes les colonnes\n",
    "doublons = Principal_data2[Principal_data2.duplicated()]\n",
    "\n",
    "# Compter le nombre de doublons\n",
    "print(f\"Nombre total de doublons  détectés : {len(doublons)}\")\n"
   ]
  },
  {
   "cell_type": "code",
   "execution_count": 192,
   "metadata": {},
   "outputs": [
    {
     "name": "stdout",
     "output_type": "stream",
     "text": [
      "Nombre de doublons après suppression : 0\n"
     ]
    }
   ],
   "source": [
    "# Supprimer les doublons dans le DataFrame\n",
    "Principal_data2 = Principal_data2.drop_duplicates()\n",
    "\n",
    "# Vérifier le nombre de doublons restant (devrait être 0)\n",
    "print(f\"Nombre de doublons après suppression : {Principal_data2.duplicated().sum()}\")\n"
   ]
  },
  {
   "cell_type": "code",
   "execution_count": 193,
   "metadata": {},
   "outputs": [
    {
     "data": {
      "image/png": "[encoded data removed]",
      "text/plain": [
       "<Figure size 800x600 with 1 Axes>"
      ]
     },
     "metadata": {},
     "output_type": "display_data"
    }
   ],
   "source": [
    "# Filtrer les colonnes numériques\n",
    "numerical_cols = Principal_data2.select_dtypes(include=['float64']).columns\n",
    "\n",
    "# Calcul de la corrélation entre la variable cible 'prev' et les autres variables numériques\n",
    "correlation = Principal_data2[numerical_cols].corr()['prev'].drop('prev')  # Exclure 'prev' de la corrélation\n",
    "\n",
    "# Trier les valeurs de corrélation pour une meilleure visualisation\n",
    "correlation_sorted = correlation.sort_values(ascending=True)\n",
    "\n",
    "# Tracer la corrélation de manière horizontale\n",
    "plt.figure(figsize=(8, 6))\n",
    "sns.barplot(x=correlation_sorted.values, y=correlation_sorted.index, palette='coolwarm')\n",
    "plt.title(\"Corrélation entre 'prev' et les autres variables numériques\", fontsize=14)\n",
    "plt.xlabel(\"Corrélation\", fontsize=12)\n",
    "plt.ylabel(\"Variables\", fontsize=12)\n",
    "plt.show()"
   ]
  },
  {
   "cell_type": "code",
   "execution_count": 197,
   "metadata": {},
   "outputs": [
    {
     "data": {
      "image/png": "[encoded data removed]",
      "text/plain": [
       "<Figure size 800x600 with 2 Axes>"
      ]
     },
     "metadata": {},
     "output_type": "display_data"
    }
   ],
   "source": [
    "# Calculer la matrice de corrélation\n",
    "corr_matrix = Principal_data2[numerical_cols].corr()\n",
    "\n",
    "# Tracer la matrice de corrélation avec un heatmap\n",
    "plt.figure(figsize=(8, 6))\n",
    "sns.heatmap(corr_matrix, annot=True, cmap='coolwarm', fmt='.2f', linewidths=0.5)\n",
    "plt.title(\"Matrice de Corrélation\")\n",
    "plt.show()"
   ]
  },
  {
   "cell_type": "markdown",
   "metadata": {},
   "source": [
    "Ceci montre qu'il y a une très faible relation linéaire entre la prévalence et: la densité et la qualité de l'air. Nouys allons sauvegarder cette base finale et continuer le travail dans la partiemodélisation."
   ]
  },
  {
   "cell_type": "code",
   "execution_count": 200,
   "metadata": {},
   "outputs": [
    {
     "name": "stdout",
     "output_type": "stream",
     "text": [
      "Matrice de corrélation :\n",
      "              pm10        o3       no2   densite\n",
      "pm10     1.000000 -0.688885  0.803176  0.188815\n",
      "o3      -0.688885  1.000000 -0.851432 -0.267454\n",
      "no2      0.803176 -0.851432  1.000000  0.235008\n",
      "densite  0.188815 -0.267454  0.235008  1.000000\n",
      "\n",
      "Matrice des p-values :\n",
      "                   pm10             o3            no2       densite\n",
      "pm10      1.000000e+00  9.761655e-191  9.652138e-306  2.621398e-12\n",
      "o3       9.761655e-191   1.000000e+00   0.000000e+00  1.460134e-23\n",
      "no2      9.652138e-306   0.000000e+00   1.000000e+00  2.081095e-18\n",
      "densite   2.621398e-12   1.460134e-23   2.081095e-18  1.000000e+00\n",
      "\n",
      "Couples de variables avec une corrélation significative (p-value < 0.05) :\n",
      "o3 et pm10 : Corrélation = -0.69, p-value = 0.000\n",
      "no2 et pm10 : Corrélation = 0.80, p-value = 0.000\n",
      "no2 et o3 : Corrélation = -0.85, p-value = 0.000\n",
      "densite et pm10 : Corrélation = 0.19, p-value = 0.000\n",
      "densite et o3 : Corrélation = -0.27, p-value = 0.000\n",
      "densite et no2 : Corrélation = 0.24, p-value = 0.000\n"
     ]
    }
   ],
   "source": [
    "\n",
    "# Variables explicatives\n",
    "explanatory_cols = ['pm10', 'o3', 'no2', 'densite']\n",
    "\n",
    "# Sélectionner les données pour les variables explicatives\n",
    "X = Principal_data2[explanatory_cols]\n",
    "\n",
    "# Calculer la matrice de corrélation entre les variables\n",
    "corr_matrix = X.corr()\n",
    "\n",
    "# Fonction pour tester la significativité de la corrélation\n",
    "def corr_significance(corr_matrix, X):\n",
    "    p_values = np.ones_like(corr_matrix)\n",
    "    \n",
    "    # Tester la significativité pour chaque paire de variables\n",
    "    for i in range(len(corr_matrix.columns)):\n",
    "        for j in range(i):\n",
    "            corr, p_value = pearsonr(X.iloc[:, i], X.iloc[:, j])\n",
    "            p_values[i, j] = p_value\n",
    "            p_values[j, i] = p_value\n",
    "    \n",
    "    p_value_df = pd.DataFrame(p_values, columns=corr_matrix.columns, index=corr_matrix.columns)\n",
    "    return p_value_df\n",
    "\n",
    "# Obtenir la matrice des p-values\n",
    "p_values_matrix = corr_significance(corr_matrix, X)\n",
    "\n",
    "# Afficher la matrice de corrélation et la matrice des p-values\n",
    "print(\"Matrice de corrélation :\\n\", corr_matrix)\n",
    "print(\"\\nMatrice des p-values :\\n\", p_values_matrix)\n",
    "\n",
    "# Seuil pour considérer une corrélation significative\n",
    "alpha = 0.05  # Seuil de signification (5%)\n",
    "\n",
    "# Afficher les couples de variables avec une corrélation significative\n",
    "significant_corrs = []\n",
    "for i in range(len(corr_matrix.columns)):\n",
    "    for j in range(i):\n",
    "        if p_values_matrix.iloc[i, j] < alpha:\n",
    "            significant_corrs.append((corr_matrix.columns[i], corr_matrix.columns[j], corr_matrix.iloc[i, j], p_values_matrix.iloc[i, j]))\n",
    "\n",
    "# Afficher les résultats des corrélations significatives\n",
    "print(\"\\nCouples de variables avec une corrélation significative (p-value < 0.05) :\")\n",
    "for corr in significant_corrs:\n",
    "    print(f\"{corr[0]} et {corr[1]} : Corrélation = {corr[2]:.2f}, p-value = {corr[3]:.3f}\")\n"
   ]
  },
  {
   "cell_type": "markdown",
   "metadata": {},
   "source": [
    "A partir du test de corrélation de Pearson dont l'hypothèse nulle est \"H₀ : Il n'y a pas de corrélation linéaire significative entre les deux variables.\", nous voyons qu'au seuil de 5% il y a fortes corrélation entre les variables. Nous allons donc, ne garder que la variable 'o3' car c'est le seuil indicateur de la qualité de l'air ayant une corrélation un peu plus forte avec la variable cible 'prev'."
   ]
  },
  {
   "cell_type": "code",
   "execution_count": 194,
   "metadata": {},
   "outputs": [
    {
     "name": "stdout",
     "output_type": "stream",
     "text": [
      "Work directory: c:\\Users\\HP\\Documents\\Cours 2AD ENSAE\\Semestre 1\\Python pour data science\\indice de l'air\\projet-Python\\projet \n",
      "Data directory: c:\\Users\\HP\\Documents\\Cours 2AD ENSAE\\Semestre 1\\Python pour data science\\indice de l'air\\projet-Python\\projet\\data\n",
      "Fichier sauvegardé avec succès dans c:\\Users\\HP\\Documents\\Cours 2AD ENSAE\\Semestre 1\\Python pour data science\\indice de l'air\\projet-Python\\projet\\data\\Principal_data.csv.\n"
     ]
    }
   ],
   "source": [
    "# Définir le répertoire de travail\n",
    "HOME_DIR = Path.cwd().parent  # Le répertoire parent de l'endroit où le script est exécuté\n",
    "DATA_DIR = Path(HOME_DIR, \"data\")  # Le chemin vers le dossier \"data\"\n",
    "print(f\"Work directory: {HOME_DIR} \\nData directory: {DATA_DIR}\")\n",
    "\n",
    "# Vérifier si le dossier \"data\" existe\n",
    "if not os.path.exists(DATA_DIR):\n",
    "    raise FileNotFoundError(f\"Le dossier {DATA_DIR} n'existe pas. Vérifiez son emplacement.\")\n",
    "\n",
    "# Enregistrer le DataFrame dans le dossier \"data\"\n",
    "file_path = Path(DATA_DIR, \"Principal_data.csv\")\n",
    "Principal_data2.to_csv(file_path, index=False)\n",
    "\n",
    "print(f\"Fichier sauvegardé avec succès dans {file_path}.\")\n"
   ]
  },
  {
   "cell_type": "markdown",
   "metadata": {},
   "source": [
    "Avant de commencer toute modélisation, nous allons effectuer l’encodage des variables catégorielles, notamment la classe d’âge. Le sexe est déjà encodé de manière ordinale, mais nous devons nous assurer que l’ensemble des variables soit encodé de manière uniforme. L’encodage sera réalisé dans le fichier de modélisation.\n"
   ]
  },
  {
   "cell_type": "markdown",
   "metadata": {},
   "source": [
    "**Nous ressortons ainsi la partie analyse exploratoire avec la base principale que nous utiliserons pour la modélisation.**"
   ]
  }
 ],
 "metadata": {
  "kernelspec": {
   "display_name": "Python 3",
   "language": "python",
   "name": "python3"
  },
  "language_info": {
   "codemirror_mode": {
    "name": "ipython",
    "version": 3
   },
   "file_extension": ".py",
   "mimetype": "text/x-python",
   "name": "python",
   "nbconvert_exporter": "python",
   "pygments_lexer": "ipython3",
   "version": "3.12.0"
  }
 },
 "nbformat": 4,
 "nbformat_minor": 2
}
