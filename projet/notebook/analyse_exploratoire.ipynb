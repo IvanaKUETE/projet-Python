{
 "cells": [
  {
   "cell_type": "markdown",
   "metadata": {},
   "source": [
    "<h1 style=\"border: thick double #32a1ce; text-align:center;border-radius:35px\">\n",
    "Projet Python pour la data science\n",
    "</h1>"
   ]
  },
  {
   "cell_type": "raw",
   "metadata": {},
   "source": [
    "pip install missingno\n",
    "pip install openpyxl"
   ]
  },
  {
   "cell_type": "markdown",
   "metadata": {},
   "source": [
    "<h1 style=\"text-align: center\"> \n",
    "Prérequis \n",
    "</h1>"
   ]
  },
  {
   "cell_type": "code",
   "execution_count": 1,
   "metadata": {},
   "outputs": [],
   "source": [
    "# Librairies standards\n",
    "import zipfile\n",
    "import os\n",
    "import numpy as np\n",
    "import pandas as pd\n",
    "import matplotlib.pyplot as plt\n",
    "import seaborn as sns\n",
    "from math import radians, cos, sin, asin, sqrt\n",
    "import warnings\n",
    "warnings.filterwarnings('ignore')\n",
    "from pathlib import Path"
   ]
  },
  {
   "cell_type": "code",
   "execution_count": 2,
   "metadata": {},
   "outputs": [
    {
     "name": "stdout",
     "output_type": "stream",
     "text": [
      "Work directory: c:\\Users\\HP\\Documents\\Cours 2AD ENSAE\\Semestre 1\\Python pour data science\\indice de l'air\\projet-Python\\projet \n",
      "Data directory: c:\\Users\\HP\\Documents\\Cours 2AD ENSAE\\Semestre 1\\Python pour data science\\indice de l'air\\projet-Python\\projet\\data\n"
     ]
    }
   ],
   "source": [
    "# Définition du répertoire de travail\n",
    "HOME_DIR = Path.cwd().parent\n",
    "DATA_DIR = Path(HOME_DIR, \"data\")\n",
    "print(f\"Work directory: {HOME_DIR} \\nData directory: {DATA_DIR}\")"
   ]
  },
  {
   "cell_type": "markdown",
   "metadata": {},
   "source": [
    "<h1 style=\" text-align:center\">\n",
    "1.Description des données \n",
    "</h1>"
   ]
  },
  {
   "cell_type": "markdown",
   "metadata": {},
   "source": [
    "<h2 style=\" text-align:left\">\n",
    "1.1- Chargement et exploration des bases \n",
    "</h2>"
   ]
  },
  {
   "cell_type": "markdown",
   "metadata": {},
   "source": [
    "Dans le cadre de notre travail nous allons utiliser 02 bases de données qui porte essentiellement sur: la qualité de l'air et les pathologie dans la région Parisienne. \n",
    "   dans cette partie il est question de charger et/ou de visualiser nos  differentes  bases de données."
   ]
  },
  {
   "cell_type": "markdown",
   "metadata": {},
   "source": [
    "<h3 style=\" text-align:left\">\n",
    "a. CHARGEMENT ET PREMIÈRE EXPLORATION DES DONNÉES (QUALITÉ DE L'AIR)\n",
    "</h3>"
   ]
  },
  {
   "cell_type": "code",
   "execution_count": 3,
   "metadata": {},
   "outputs": [
    {
     "data": {
      "text/html": [
       "<div>\n",
       "<style scoped>\n",
       "    .dataframe tbody tr th:only-of-type {\n",
       "        vertical-align: middle;\n",
       "    }\n",
       "\n",
       "    .dataframe tbody tr th {\n",
       "        vertical-align: top;\n",
       "    }\n",
       "\n",
       "    .dataframe thead th {\n",
       "        text-align: right;\n",
       "    }\n",
       "</style>\n",
       "<table border=\"1\" class=\"dataframe\">\n",
       "  <thead>\n",
       "    <tr style=\"text-align: right;\">\n",
       "      <th></th>\n",
       "      <th>date</th>\n",
       "      <th>ninsee</th>\n",
       "      <th>no2</th>\n",
       "      <th>o3</th>\n",
       "      <th>pm10</th>\n",
       "    </tr>\n",
       "  </thead>\n",
       "  <tbody>\n",
       "    <tr>\n",
       "      <th>0</th>\n",
       "      <td>01/01/2017</td>\n",
       "      <td>0</td>\n",
       "      <td>23</td>\n",
       "      <td>16</td>\n",
       "      <td>43</td>\n",
       "    </tr>\n",
       "    <tr>\n",
       "      <th>1</th>\n",
       "      <td>01/01/2017</td>\n",
       "      <td>75</td>\n",
       "      <td>23</td>\n",
       "      <td>8</td>\n",
       "      <td>38</td>\n",
       "    </tr>\n",
       "    <tr>\n",
       "      <th>2</th>\n",
       "      <td>01/01/2017</td>\n",
       "      <td>77</td>\n",
       "      <td>19</td>\n",
       "      <td>17</td>\n",
       "      <td>44</td>\n",
       "    </tr>\n",
       "    <tr>\n",
       "      <th>3</th>\n",
       "      <td>01/01/2017</td>\n",
       "      <td>78</td>\n",
       "      <td>16</td>\n",
       "      <td>15</td>\n",
       "      <td>32</td>\n",
       "    </tr>\n",
       "    <tr>\n",
       "      <th>4</th>\n",
       "      <td>01/01/2017</td>\n",
       "      <td>91</td>\n",
       "      <td>14</td>\n",
       "      <td>16</td>\n",
       "      <td>34</td>\n",
       "    </tr>\n",
       "  </tbody>\n",
       "</table>\n",
       "</div>"
      ],
      "text/plain": [
       "         date  ninsee  no2  o3  pm10\n",
       "0  01/01/2017       0   23  16    43\n",
       "1  01/01/2017      75   23   8    38\n",
       "2  01/01/2017      77   19  17    44\n",
       "3  01/01/2017      78   16  15    32\n",
       "4  01/01/2017      91   14  16    34"
      ]
     },
     "execution_count": 3,
     "metadata": {},
     "output_type": "execute_result"
    }
   ],
   "source": [
    "qualite_air = pd.read_csv(Path(DATA_DIR, \"indices_QA_commune_IDF_2017.csv\"), sep=\",\")\n",
    "qualite_air.head(5)"
   ]
  },
  {
   "cell_type": "code",
   "execution_count": 4,
   "metadata": {},
   "outputs": [
    {
     "name": "stdout",
     "output_type": "stream",
     "text": [
      "<class 'pandas.core.frame.DataFrame'>\n",
      "RangeIndex: 476485 entries, 0 to 476484\n",
      "Data columns (total 5 columns):\n",
      " #   Column  Non-Null Count   Dtype \n",
      "---  ------  --------------   ----- \n",
      " 0   date    476485 non-null  object\n",
      " 1   ninsee  476485 non-null  int64 \n",
      " 2   no2     476485 non-null  int64 \n",
      " 3   o3      476485 non-null  int64 \n",
      " 4   pm10    476485 non-null  int64 \n",
      "dtypes: int64(4), object(1)\n",
      "memory usage: 18.2+ MB\n"
     ]
    }
   ],
   "source": [
    "qualite_air.info()"
   ]
  },
  {
   "cell_type": "markdown",
   "metadata": {},
   "source": [
    "Description : Notre  base ne contient aucune valeur manquante. \n",
    "\n",
    "Variables : \n",
    "<ul>\n",
    "    <li> date : La date de mesure de la qualité de l’air.</li>\n",
    "    <li>ninsee: code postale des département de l'ile de France. Le code INSEE de la commune ou de l’arrondissement parisien.</li>\n",
    "    <li>NO2 (dioxyde d’azote) : Mesuré en µg/m³, ce polluant provient principalement des émissions des véhicules et des processus industriels. Il est un indicateur important de la pollution de l’air en milieu urbain.</li>\n",
    "    <li> O3 (ozone) : Mesuré en µg/m³, l’ozone troposphérique est un polluant secondaire formé par des réactions chimiques entre d’autres polluants (comme les NOx et les COV) sous l’effet de la lumière solaire. Il est souvent plus présent en été.</li>\n",
    "    <li> PM10 (particules fines) : Mesuré en µg/m³, ce sont des particules en suspension dans l’air dont le diamètre est inférieur à 10 micromètres. Elles proviennent de diverses sources, y compris les émissions des véhicules, les industries, et les activités de construction.</li>\n",
    "</ul>\n",
    "\n",
    "Comparaison pratique :\n",
    "1 µg est une quantité minuscule. C'est l'équivalent de la masse d'une particule de poussière.\n",
    "Dans un mètre cube (environ la taille d'une cabine téléphonique ou d'un petit ascenseur), cela revient à une infime quantité presque imperceptible à l'œil nu.\n",
    "\n",
    "Exemple concret d'analogie :\n",
    "Imaginez que vous dissolvez un grain de sel de table (environ 58 mg) dans une piscine olympique (2,5 millions de litres). La concentration en sel serait proche de 23 µg/m³ dans l'eau.\n",
    "\n"
   ]
  },
  {
   "cell_type": "code",
   "execution_count": 5,
   "metadata": {},
   "outputs": [
    {
     "name": "stdout",
     "output_type": "stream",
     "text": [
      "\n",
      "Analyse de la variable quantitative : no2\n",
      "count    476485.000000\n",
      "mean         18.016225\n",
      "std           9.368416\n",
      "min           1.000000\n",
      "25%          11.000000\n",
      "50%          15.000000\n",
      "75%          23.000000\n",
      "max          64.000000\n",
      "Name: no2, dtype: float64\n"
     ]
    },
    {
     "data": {
      "image/png": "[encoded data removed]",
      "text/plain": [
       "<Figure size 800x400 with 1 Axes>"
      ]
     },
     "metadata": {},
     "output_type": "display_data"
    },
    {
     "name": "stdout",
     "output_type": "stream",
     "text": [
      "\n",
      "Analyse de la variable quantitative : o3\n",
      "count    476485.000000\n",
      "mean         31.834522\n",
      "std          10.959234\n",
      "min           1.000000\n",
      "25%          25.000000\n",
      "50%          31.000000\n",
      "75%          38.000000\n",
      "max          97.000000\n",
      "Name: o3, dtype: float64\n"
     ]
    },
    {
     "data": {
      "image/png": "[encoded data removed]",
      "text/plain": [
       "<Figure size 800x400 with 1 Axes>"
      ]
     },
     "metadata": {},
     "output_type": "display_data"
    },
    {
     "name": "stdout",
     "output_type": "stream",
     "text": [
      "\n",
      "Analyse de la variable quantitative : pm10\n",
      "count    476485.000000\n",
      "mean         26.724308\n",
      "std          14.170604\n",
      "min           2.000000\n",
      "25%          17.000000\n",
      "50%          24.000000\n",
      "75%          32.000000\n",
      "max          99.000000\n",
      "Name: pm10, dtype: float64\n"
     ]
    },
    {
     "data": {
      "image/png": "[encoded data removed]",
      "text/plain": [
       "<Figure size 800x400 with 1 Axes>"
      ]
     },
     "metadata": {},
     "output_type": "display_data"
    }
   ],
   "source": [
    "quantitative_vars = ['no2', 'o3', 'pm10']\n",
    "\n",
    "for col in quantitative_vars:\n",
    "    print(f\"\\nAnalyse de la variable quantitative : {col}\")\n",
    "    print(qualite_air[col].describe())\n",
    "    \n",
    "    # Histogramme\n",
    "    plt.figure(figsize=(8, 4))\n",
    "    sns.histplot(qualite_air[col], kde=True, bins=30, stat=\"percent\", color='blue')\n",
    "    plt.title(f\"Distribution de {col}\")\n",
    "    plt.xlabel(col)\n",
    "    plt.ylabel(\"Fréquence\")\n",
    "    plt.show()\n"
   ]
  },
  {
   "cell_type": "markdown",
   "metadata": {},
   "source": [
    "La concentration en o3 est assez symétrique contrairement à no2 et pm10 qui sont présentent une asymétrie. Cela témoingne du fait que les faibles concentrations sont beaucoup plus représentées dans no2 et pm10. Comme nous souhaitons faire une fusion de bases de données, nous allons devoir résumer la base relative aux indices de l'air en données annuelles par département. Ces analyses univariées suggèrent  d'apporter certaines modifications aux variables pm10 et no2 afin de mieux savoir qu'elle statistique résumerait au mieux l'information dans ces variables."
   ]
  },
  {
   "cell_type": "code",
   "execution_count": 6,
   "metadata": {},
   "outputs": [
    {
     "name": "stdout",
     "output_type": "stream",
     "text": [
      "Résumé pour la variable 'date':\n",
      "            Fréquence absolue  Fréquence relative (%)\n",
      "date                                                 \n",
      "01/01/2017               1309                0.274720\n",
      "08/09/2017               1309                0.274720\n",
      "06/09/2017               1309                0.274720\n",
      "05/09/2017               1309                0.274720\n",
      "04/09/2017               1309                0.274720\n",
      "...                       ...                     ...\n",
      "29/04/2017               1309                0.274720\n",
      "28/04/2017               1309                0.274720\n",
      "27/04/2017               1309                0.274720\n",
      "31/12/2017               1309                0.274720\n",
      "27/09/2017                  9                0.001889\n",
      "\n",
      "[365 rows x 2 columns]\n",
      "\n",
      "\n",
      "Résumé pour la variable 'ninsee':\n",
      "        Fréquence absolue  Fréquence relative (%)\n",
      "ninsee                                           \n",
      "0                     365                0.076603\n",
      "77                    365                0.076603\n",
      "78                    365                0.076603\n",
      "91                    365                0.076603\n",
      "92                    365                0.076603\n",
      "...                   ...                     ...\n",
      "77426                 364                0.076393\n",
      "77425                 364                0.076393\n",
      "77424                 364                0.076393\n",
      "77423                 364                0.076393\n",
      "95690                 364                0.076393\n",
      "\n",
      "[1309 rows x 2 columns]\n",
      "\n",
      "\n"
     ]
    }
   ],
   "source": [
    "# Pour chaque variable qualitative\n",
    "qualitative_vars = ['date', 'ninsee']\n",
    "for var in qualitative_vars:\n",
    "    print(f\"Résumé pour la variable '{var}':\")\n",
    "    freq_abs = qualite_air[var].value_counts()\n",
    "    freq_rel = qualite_air[var].value_counts(normalize=True) * 100\n",
    "    summary = pd.DataFrame({\"Fréquence absolue\": freq_abs, \"Fréquence relative (%)\": freq_rel})\n",
    "    print(summary)\n",
    "    print(\"\\n\")\n"
   ]
  },
  {
   "cell_type": "code",
   "execution_count": 7,
   "metadata": {},
   "outputs": [
    {
     "name": "stdout",
     "output_type": "stream",
     "text": [
      "\n",
      "Analyse de la variable qualitative : date\n",
      "Nombre de valeurs uniques : 365\n",
      "Valeur(s) la/les plus fréquente(s) dans 'date' avec 1309 occurrences :\n",
      "['01/01/2017', '08/09/2017', '06/09/2017', '05/09/2017', '04/09/2017', '03/09/2017', '02/09/2017', '01/09/2017', '31/08/2017', '30/08/2017', '29/08/2017', '28/08/2017', '27/08/2017', '26/08/2017', '25/08/2017', '24/08/2017', '23/08/2017', '22/08/2017', '21/08/2017', '20/08/2017', '19/08/2017', '07/09/2017', '09/09/2017', '17/08/2017', '10/09/2017', '30/09/2017', '29/09/2017', '28/09/2017', '26/09/2017', '25/09/2017', '24/09/2017', '23/09/2017', '22/09/2017', '21/09/2017', '20/09/2017', '19/09/2017', '18/09/2017', '17/09/2017', '16/09/2017', '15/09/2017', '14/09/2017', '13/09/2017', '12/09/2017', '11/09/2017', '18/08/2017', '16/08/2017', '02/01/2017', '24/07/2017', '22/07/2017', '21/07/2017', '20/07/2017', '19/07/2017', '18/07/2017', '17/07/2017', '16/07/2017', '15/07/2017', '14/07/2017', '13/07/2017', '12/07/2017', '11/07/2017', '10/07/2017', '09/07/2017', '08/07/2017', '07/07/2017', '06/07/2017', '05/07/2017', '04/07/2017', '23/07/2017', '25/07/2017', '15/08/2017', '26/07/2017', '14/08/2017', '13/08/2017', '12/08/2017', '11/08/2017', '10/08/2017', '09/08/2017', '08/08/2017', '07/08/2017', '06/08/2017', '05/08/2017', '04/08/2017', '03/08/2017', '02/08/2017', '01/08/2017', '31/07/2017', '30/07/2017', '29/07/2017', '28/07/2017', '27/07/2017', '01/10/2017', '02/10/2017', '03/10/2017', '09/12/2017', '07/12/2017', '06/12/2017', '05/12/2017', '04/12/2017', '03/12/2017', '02/12/2017', '01/12/2017', '30/11/2017', '29/11/2017', '28/11/2017', '27/11/2017', '26/11/2017', '25/11/2017', '24/11/2017', '23/11/2017', '22/11/2017', '21/11/2017', '20/11/2017', '19/11/2017', '08/12/2017', '10/12/2017', '04/10/2017', '11/12/2017', '30/12/2017', '29/12/2017', '28/12/2017', '27/12/2017', '26/12/2017', '25/12/2017', '24/12/2017', '23/12/2017', '22/12/2017', '21/12/2017', '20/12/2017', '19/12/2017', '18/12/2017', '17/12/2017', '16/12/2017', '15/12/2017', '14/12/2017', '13/12/2017', '12/12/2017', '18/11/2017', '17/11/2017', '16/11/2017', '15/11/2017', '23/10/2017', '22/10/2017', '21/10/2017', '20/10/2017', '19/10/2017', '18/10/2017', '17/10/2017', '16/10/2017', '15/10/2017', '14/10/2017', '13/10/2017', '12/10/2017', '11/10/2017', '10/10/2017', '09/10/2017', '08/10/2017', '07/10/2017', '06/10/2017', '05/10/2017', '24/10/2017', '25/10/2017', '26/10/2017', '06/11/2017', '14/11/2017', '13/11/2017', '12/11/2017', '11/11/2017', '10/11/2017', '09/11/2017', '08/11/2017', '07/11/2017', '05/11/2017', '27/10/2017', '04/11/2017', '03/11/2017', '02/11/2017', '01/11/2017', '31/10/2017', '30/10/2017', '29/10/2017', '28/10/2017', '03/07/2017', '02/07/2017', '01/07/2017', '10/03/2017', '08/03/2017', '07/03/2017', '06/03/2017', '05/03/2017', '04/03/2017', '03/03/2017', '02/03/2017', '01/03/2017', '28/02/2017', '27/02/2017', '26/02/2017', '25/02/2017', '24/02/2017', '23/02/2017', '22/02/2017', '21/02/2017', '20/02/2017', '19/02/2017', '18/02/2017', '09/03/2017', '11/03/2017', '16/02/2017', '12/03/2017', '31/03/2017', '30/03/2017', '29/03/2017', '28/03/2017', '27/03/2017', '26/03/2017', '25/03/2017', '24/03/2017', '23/03/2017', '22/03/2017', '21/03/2017', '20/03/2017', '19/03/2017', '18/03/2017', '17/03/2017', '16/03/2017', '15/03/2017', '14/03/2017', '13/03/2017', '17/02/2017', '15/02/2017', '30/06/2017', '23/01/2017', '21/01/2017', '20/01/2017', '19/01/2017', '18/01/2017', '17/01/2017', '16/01/2017', '15/01/2017', '14/01/2017', '13/01/2017', '12/01/2017', '11/01/2017', '10/01/2017', '09/01/2017', '08/01/2017', '07/01/2017', '06/01/2017', '05/01/2017', '04/01/2017', '03/01/2017', '22/01/2017', '24/01/2017', '14/02/2017', '25/01/2017', '13/02/2017', '12/02/2017', '11/02/2017', '10/02/2017', '09/02/2017', '08/02/2017', '07/02/2017', '06/02/2017', '05/02/2017', '04/02/2017', '03/02/2017', '02/02/2017', '01/02/2017', '31/01/2017', '30/01/2017', '29/01/2017', '28/01/2017', '27/01/2017', '26/01/2017', '01/04/2017', '02/04/2017', '03/04/2017', '08/06/2017', '06/06/2017', '05/06/2017', '04/06/2017', '03/06/2017', '02/06/2017', '01/06/2017', '31/05/2017', '30/05/2017', '29/05/2017', '28/05/2017', '27/05/2017', '26/05/2017', '25/05/2017', '24/05/2017', '23/05/2017', '22/05/2017', '21/05/2017', '20/05/2017', '19/05/2017', '07/06/2017', '09/06/2017', '04/04/2017', '10/06/2017', '29/06/2017', '28/06/2017', '27/06/2017', '26/06/2017', '25/06/2017', '24/06/2017', '23/06/2017', '22/06/2017', '21/06/2017', '20/06/2017', '19/06/2017', '18/06/2017', '17/06/2017', '16/06/2017', '15/06/2017', '14/06/2017', '13/06/2017', '12/06/2017', '11/06/2017', '18/05/2017', '17/05/2017', '16/05/2017', '14/04/2017', '22/04/2017', '21/04/2017', '20/04/2017', '19/04/2017', '18/04/2017', '17/04/2017', '16/04/2017', '15/04/2017', '13/04/2017', '15/05/2017', '12/04/2017', '11/04/2017', '10/04/2017', '09/04/2017', '08/04/2017', '07/04/2017', '06/04/2017', '05/04/2017', '23/04/2017', '24/04/2017', '25/04/2017', '26/04/2017', '14/05/2017', '13/05/2017', '12/05/2017', '11/05/2017', '10/05/2017', '09/05/2017', '08/05/2017', '07/05/2017', '06/05/2017', '05/05/2017', '04/05/2017', '03/05/2017', '02/05/2017', '01/05/2017', '30/04/2017', '29/04/2017', '28/04/2017', '27/04/2017', '31/12/2017']\n",
      "Nombre de modalités avec ce nombre maximal d'occurrences : 364\n",
      "\n",
      "Analyse de la variable qualitative : ninsee\n",
      "Nombre de valeurs uniques : 1309\n",
      "Valeur(s) la/les plus fréquente(s) dans 'ninsee' avec 365 occurrences :\n",
      "[0, 77, 78, 91, 92, 93, 94, 95, 75]\n",
      "Nombre de modalités avec ce nombre maximal d'occurrences : 9\n"
     ]
    }
   ],
   "source": [
    "#Nous allons présenter ces variables de façon agrégée\n",
    "\n",
    "for col in qualitative_vars:\n",
    "    print(f\"\\nAnalyse de la variable qualitative : {col}\")\n",
    "    \n",
    "    # Nombre de valeurs uniques\n",
    "    unique_count = qualite_air[col].nunique()\n",
    "    print(f\"Nombre de valeurs uniques : {unique_count}\")\n",
    "    \n",
    "    # Valeur la plus fréquente et son nombre d'occurrences\n",
    "    value_counts = qualite_air[col].value_counts()\n",
    "    most_common_count = value_counts.max()  # Nombre maximal d'occurrences\n",
    "    most_common_values = value_counts[value_counts == most_common_count]\n",
    "    \n",
    "    # Afficher la valeur la plus fréquente et son nombre d'occurrences\n",
    "    print(f\"Valeur(s) la/les plus fréquente(s) dans '{col}' avec {most_common_count} occurrences :\")\n",
    "    print(most_common_values.index.tolist())\n",
    "    \n",
    "    # Nombre de modalités ayant ce nombre maximal d'occurrences\n",
    "    num_modalities = most_common_values.shape[0]\n",
    "    print(f\"Nombre de modalités avec ce nombre maximal d'occurrences : {num_modalities}\")\n"
   ]
  },
  {
   "cell_type": "markdown",
   "metadata": {},
   "source": [
    "Ici est présenté le fait que les données sont collectées sur les 365 jours de l'année 2017 et pour chaque jour, chacun des 8 départements (Paris (75); Seine-et-Marne (77); Yvelines (78); Essonne (91); Hauts-de-Seine (92); Seine-Saint-Denis (93); Val-de-Marne (94); Val-d’Oise (95)) de la région parisienne (0) a une valeurs qui y est associée. Justifiant ainsi le fait que nous souhaitons \"résumer\" les informations de façon anuelle et par département. En ce qui concerne les valeurs désagrégées (par arrondissement), nous n'en n'auront pas besoin car notre étude se limite au niveau départemental."
   ]
  },
  {
   "cell_type": "markdown",
   "metadata": {},
   "source": [
    "<h3 style=\" text-align:left\">\n",
    "b. CHARGEMENT ET FILTRAGE (PATHOLOGIES) \n",
    "</h3>"
   ]
  },
  {
   "cell_type": "markdown",
   "metadata": {},
   "source": [
    "La base sur les pathologies respiratoires étant très volumineuse, nous avons dû la zipper pour la placer sur github. Nous allons donc la \"dézipper\" afin d'accéder aux données;"
   ]
  },
  {
   "cell_type": "code",
   "execution_count": 8,
   "metadata": {},
   "outputs": [
    {
     "name": "stdout",
     "output_type": "stream",
     "text": [
      "Fichier effectifs (4).csv extrait avec succès dans c:\\Users\\HP\\Documents\\Cours 2AD ENSAE\\Semestre 1\\Python pour data science\\indice de l'air\\projet-Python\\projet\\data !\n"
     ]
    }
   ],
   "source": [
    "# Extraction du fichier zippé\n",
    "import zipfile\n",
    "from pathlib import Path\n",
    "\n",
    "# Chemins\n",
    "zip_path = Path(DATA_DIR, \"effectifs (4).csv.zip\")  # Fichier ZIP\n",
    "extract_path = Path(DATA_DIR)  # Dossier où extraire les fichiers\n",
    "\n",
    "# Nom du fichier à extraire depuis l'archive\n",
    "file_to_extract = \"effectifs (4).csv\"\n",
    "\n",
    "# Extraction\n",
    "with zipfile.ZipFile(zip_path, 'r') as zip_ref:\n",
    "    # Extraire uniquement un fichier spécifique\n",
    "    effectifs = zip_ref.extract(file_to_extract, extract_path)\n",
    "    print(f\"Fichier {file_to_extract} extrait avec succès dans {extract_path} !\")\n",
    "\n"
   ]
  },
  {
   "cell_type": "code",
   "execution_count": 9,
   "metadata": {},
   "outputs": [
    {
     "data": {
      "text/html": [
       "<div>\n",
       "<style scoped>\n",
       "    .dataframe tbody tr th:only-of-type {\n",
       "        vertical-align: middle;\n",
       "    }\n",
       "\n",
       "    .dataframe tbody tr th {\n",
       "        vertical-align: top;\n",
       "    }\n",
       "\n",
       "    .dataframe thead th {\n",
       "        text-align: right;\n",
       "    }\n",
       "</style>\n",
       "<table border=\"1\" class=\"dataframe\">\n",
       "  <thead>\n",
       "    <tr style=\"text-align: right;\">\n",
       "      <th></th>\n",
       "      <th>annee</th>\n",
       "      <th>patho_niv1</th>\n",
       "      <th>patho_niv2</th>\n",
       "      <th>patho_niv3</th>\n",
       "      <th>top</th>\n",
       "      <th>cla_age_5</th>\n",
       "      <th>sexe</th>\n",
       "      <th>region</th>\n",
       "      <th>dept</th>\n",
       "      <th>Ntop</th>\n",
       "      <th>Npop</th>\n",
       "      <th>prev</th>\n",
       "      <th>Niveau prioritaire</th>\n",
       "      <th>libelle_classe_age</th>\n",
       "      <th>libelle_sexe</th>\n",
       "      <th>tri</th>\n",
       "    </tr>\n",
       "  </thead>\n",
       "  <tbody>\n",
       "    <tr>\n",
       "      <th>0</th>\n",
       "      <td>2017</td>\n",
       "      <td>Total consommants tous régimes</td>\n",
       "      <td>Total consommants tous régimes</td>\n",
       "      <td>Total consommants tous régimes</td>\n",
       "      <td>POP_TOT_IND</td>\n",
       "      <td>80-84</td>\n",
       "      <td>9</td>\n",
       "      <td>1</td>\n",
       "      <td>971</td>\n",
       "      <td>9520.0</td>\n",
       "      <td>9520</td>\n",
       "      <td>100.0</td>\n",
       "      <td>NaN</td>\n",
       "      <td>de 80 à 84 ans</td>\n",
       "      <td>tous sexes</td>\n",
       "      <td>NaN</td>\n",
       "    </tr>\n",
       "    <tr>\n",
       "      <th>1</th>\n",
       "      <td>2017</td>\n",
       "      <td>Total consommants tous régimes</td>\n",
       "      <td>Total consommants tous régimes</td>\n",
       "      <td>Total consommants tous régimes</td>\n",
       "      <td>POP_TOT_IND</td>\n",
       "      <td>80-84</td>\n",
       "      <td>9</td>\n",
       "      <td>2</td>\n",
       "      <td>999</td>\n",
       "      <td>10650.0</td>\n",
       "      <td>10650</td>\n",
       "      <td>100.0</td>\n",
       "      <td>NaN</td>\n",
       "      <td>de 80 à 84 ans</td>\n",
       "      <td>tous sexes</td>\n",
       "      <td>NaN</td>\n",
       "    </tr>\n",
       "    <tr>\n",
       "      <th>2</th>\n",
       "      <td>2017</td>\n",
       "      <td>Total consommants tous régimes</td>\n",
       "      <td>Total consommants tous régimes</td>\n",
       "      <td>Total consommants tous régimes</td>\n",
       "      <td>POP_TOT_IND</td>\n",
       "      <td>80-84</td>\n",
       "      <td>9</td>\n",
       "      <td>4</td>\n",
       "      <td>974</td>\n",
       "      <td>12430.0</td>\n",
       "      <td>12430</td>\n",
       "      <td>100.0</td>\n",
       "      <td>NaN</td>\n",
       "      <td>de 80 à 84 ans</td>\n",
       "      <td>tous sexes</td>\n",
       "      <td>NaN</td>\n",
       "    </tr>\n",
       "    <tr>\n",
       "      <th>3</th>\n",
       "      <td>2017</td>\n",
       "      <td>Total consommants tous régimes</td>\n",
       "      <td>Total consommants tous régimes</td>\n",
       "      <td>Total consommants tous régimes</td>\n",
       "      <td>POP_TOT_IND</td>\n",
       "      <td>80-84</td>\n",
       "      <td>9</td>\n",
       "      <td>4</td>\n",
       "      <td>999</td>\n",
       "      <td>12430.0</td>\n",
       "      <td>12430</td>\n",
       "      <td>100.0</td>\n",
       "      <td>NaN</td>\n",
       "      <td>de 80 à 84 ans</td>\n",
       "      <td>tous sexes</td>\n",
       "      <td>NaN</td>\n",
       "    </tr>\n",
       "    <tr>\n",
       "      <th>4</th>\n",
       "      <td>2017</td>\n",
       "      <td>Total consommants tous régimes</td>\n",
       "      <td>Total consommants tous régimes</td>\n",
       "      <td>Total consommants tous régimes</td>\n",
       "      <td>POP_TOT_IND</td>\n",
       "      <td>80-84</td>\n",
       "      <td>9</td>\n",
       "      <td>6</td>\n",
       "      <td>976</td>\n",
       "      <td>550.0</td>\n",
       "      <td>550</td>\n",
       "      <td>100.0</td>\n",
       "      <td>NaN</td>\n",
       "      <td>de 80 à 84 ans</td>\n",
       "      <td>tous sexes</td>\n",
       "      <td>NaN</td>\n",
       "    </tr>\n",
       "    <tr>\n",
       "      <th>5</th>\n",
       "      <td>2017</td>\n",
       "      <td>Total consommants tous régimes</td>\n",
       "      <td>Total consommants tous régimes</td>\n",
       "      <td>Total consommants tous régimes</td>\n",
       "      <td>POP_TOT_IND</td>\n",
       "      <td>80-84</td>\n",
       "      <td>9</td>\n",
       "      <td>11</td>\n",
       "      <td>75</td>\n",
       "      <td>49460.0</td>\n",
       "      <td>49460</td>\n",
       "      <td>100.0</td>\n",
       "      <td>NaN</td>\n",
       "      <td>de 80 à 84 ans</td>\n",
       "      <td>tous sexes</td>\n",
       "      <td>NaN</td>\n",
       "    </tr>\n",
       "  </tbody>\n",
       "</table>\n",
       "</div>"
      ],
      "text/plain": [
       "   annee                      patho_niv1                      patho_niv2  \\\n",
       "0   2017  Total consommants tous régimes  Total consommants tous régimes   \n",
       "1   2017  Total consommants tous régimes  Total consommants tous régimes   \n",
       "2   2017  Total consommants tous régimes  Total consommants tous régimes   \n",
       "3   2017  Total consommants tous régimes  Total consommants tous régimes   \n",
       "4   2017  Total consommants tous régimes  Total consommants tous régimes   \n",
       "5   2017  Total consommants tous régimes  Total consommants tous régimes   \n",
       "\n",
       "                       patho_niv3          top cla_age_5  sexe  region dept  \\\n",
       "0  Total consommants tous régimes  POP_TOT_IND     80-84     9       1  971   \n",
       "1  Total consommants tous régimes  POP_TOT_IND     80-84     9       2  999   \n",
       "2  Total consommants tous régimes  POP_TOT_IND     80-84     9       4  974   \n",
       "3  Total consommants tous régimes  POP_TOT_IND     80-84     9       4  999   \n",
       "4  Total consommants tous régimes  POP_TOT_IND     80-84     9       6  976   \n",
       "5  Total consommants tous régimes  POP_TOT_IND     80-84     9      11   75   \n",
       "\n",
       "      Ntop   Npop   prev Niveau prioritaire libelle_classe_age libelle_sexe  \\\n",
       "0   9520.0   9520  100.0                NaN     de 80 à 84 ans   tous sexes   \n",
       "1  10650.0  10650  100.0                NaN     de 80 à 84 ans   tous sexes   \n",
       "2  12430.0  12430  100.0                NaN     de 80 à 84 ans   tous sexes   \n",
       "3  12430.0  12430  100.0                NaN     de 80 à 84 ans   tous sexes   \n",
       "4    550.0    550  100.0                NaN     de 80 à 84 ans   tous sexes   \n",
       "5  49460.0  49460  100.0                NaN     de 80 à 84 ans   tous sexes   \n",
       "\n",
       "   tri  \n",
       "0  NaN  \n",
       "1  NaN  \n",
       "2  NaN  \n",
       "3  NaN  \n",
       "4  NaN  \n",
       "5  NaN  "
      ]
     },
     "execution_count": 9,
     "metadata": {},
     "output_type": "execute_result"
    }
   ],
   "source": [
    "# Chargement\n",
    "import pandas as pd\n",
    "pathologie = pd.read_csv(Path(DATA_DIR,\"effectifs (4).csv\"),sep=';')\n",
    "pathologie.head(6)"
   ]
  },
  {
   "cell_type": "code",
   "execution_count": 10,
   "metadata": {},
   "outputs": [
    {
     "name": "stdout",
     "output_type": "stream",
     "text": [
      "<class 'pandas.core.frame.DataFrame'>\n",
      "RangeIndex: 579600 entries, 0 to 579599\n",
      "Data columns (total 16 columns):\n",
      " #   Column              Non-Null Count   Dtype  \n",
      "---  ------              --------------   -----  \n",
      " 0   annee               579600 non-null  int64  \n",
      " 1   patho_niv1          579600 non-null  object \n",
      " 2   patho_niv2          519120 non-null  object \n",
      " 3   patho_niv3          448560 non-null  object \n",
      " 4   top                 579600 non-null  object \n",
      " 5   cla_age_5           579600 non-null  object \n",
      " 6   sexe                579600 non-null  int64  \n",
      " 7   region              579600 non-null  int64  \n",
      " 8   dept                579600 non-null  object \n",
      " 9   Ntop                421380 non-null  float64\n",
      " 10  Npop                579600 non-null  int64  \n",
      " 11  prev                421380 non-null  float64\n",
      " 12  Niveau prioritaire  572040 non-null  object \n",
      " 13  libelle_classe_age  579600 non-null  object \n",
      " 14  libelle_sexe        579600 non-null  object \n",
      " 15  tri                 572040 non-null  float64\n",
      "dtypes: float64(3), int64(4), object(9)\n",
      "memory usage: 70.8+ MB\n"
     ]
    }
   ],
   "source": [
    "# Informations générales\n",
    "pathologie.info()"
   ]
  },
  {
   "cell_type": "markdown",
   "metadata": {},
   "source": [
    "Explication des variables:\n",
    "\n",
    "- **annee** : L'année de collecte des données. (2017 ici)\n",
    "- **patho_niv1** : Groupe de pathologies (ou traitements chroniques ou épisodes de soins). Type : texte. Exemple : Maladies du foie ou du pancréas (hors mucoviscidose).\n",
    "- **patho_niv2** : Sous-groupe de pathologies (ou traitements chroniques ou épisodes de soins). Type : texte. Exemple : Maladies du foie ou du pancréas (hors mucoviscidose).\n",
    "- **patho_niv3** : Sous-groupe détaillé de pathologies (ou traitements chroniques ou épisodes de soins). Type : texte. Exemple : Maladies du foie ou du pancréas (hors mucoviscidose).\n",
    "- **top** : Libellé technique de la pathologie (ou traitement chronique ou épisode de soins). Type : texte. Exemple : MFP_CAT_EXC (Maladie fonctionnelle primaire, excès.).\n",
    "- **cla_age_5** : Classe d’âge (5 ans). Type : texte. Exemple : 00-04.\n",
    "- **sexe** : Sexe des patients. Type : texte. Exemple : 9.  _Attention: 9 signifie que la mesure n'a pa sété faite de façon désagrégé entre hommes et femmes, mais conjointement._\n",
    "- **region** : Région de résidence des patients. Type : texte. Exemple : 32.\n",
    "- **dept** : Département de résidence des patients. Type : texte. Exemple : 80. _Attention: 999 signifie que la mesure n'a pas été de faite de façon désagrégée par département, mais conjointement sur plusieurs départements._\n",
    "- **Ntop** : Effectif de patients pris en charge pour la pathologie (ou traitement chronique ou épisode de soins) dont il est question. Type : int.\n",
    "- **Npop** : Population de référence qui est celle de la cartographie des pathologies et des dépenses de l’Assurance Maladie, effectif de patients par pathologie, sexe, classe d'âge et territoire (département, région). Type : int. Exemple : 27700.\n",
    "- **prev** : Prévalence de patients pris en charge pour la pathologie (ou traitement chronique ou épisode de soins) dont il est question. Type : décimal.\n",
    "- **Niveau prioritaire** : Niveau de priorité attribué à la pathologie. Type : texte. Exemple : 1, 2, 3. _Lorsqu’une pathologie est associée à plusieurs niveaux de priorité (1, 2, 3), cela peut indiquer que la pathologie en question peut varier en gravité ou en urgence selon les cas individuels._\n",
    "- **libelle_classe_age** : Libellé de la classe d’âge. Type : texte. Exemple : de 0 à 4 ans.\n",
    "- **libelle_sexe** : Libellé du sexe. Type : texte. Exemple : tous sexes. _Note: “Tous sexes” signifie que les données incluent à la fois les hommes et les femmes, sans distinction_\n",
    "- **tri** :  Aucune description disponible pour ce champ. (Variable utilisée pour le tri des données.)\n",
    "\n",
    "Ces variables permettent de structurer et d'analyser les données sur les pathologies et les dépenses de l'Assurance Maladie. "
   ]
  },
  {
   "cell_type": "markdown",
   "metadata": {},
   "source": [
    "Cette base semble ne pas avoir de valeurs manquantes. Cependant elle en possède bel et bien. Ceux-ci sont par exemple codifiés par \"9\" (variable sexe) ou par \"999\" (vaiable départements). \n",
    "\n",
    "**Notre étude devant se faire sur la région parisienne, nous allons faire un filtre pour ne garder que les observations relatives à la région 11 = Île de France.**"
   ]
  },
  {
   "cell_type": "code",
   "execution_count": 11,
   "metadata": {},
   "outputs": [],
   "source": [
    "# Filtrage: On ne garde que la région 11 (Ile-de-France)\n",
    "\n",
    "#on filtre les données par region (on s'interessent a la region parisienne) .\n",
    "filtred_by_rg=pathologie[pathologie['region']==11]\n",
    "#on peut maintenant supprimer la colonne region\n",
    "filtred_by_rg=filtred_by_rg.drop(columns = ['region'])"
   ]
  },
  {
   "cell_type": "code",
   "execution_count": 12,
   "metadata": {},
   "outputs": [
    {
     "name": "stdout",
     "output_type": "stream",
     "text": [
      " patho_niv1: 18 \n",
      " patho_niv2: 48 \n",
      " patho_niv3: 61\n"
     ]
    }
   ],
   "source": [
    "# voir le nombre de pathologie par niveau\n",
    "print(f\" patho_niv1: {filtred_by_rg[\"patho_niv1\"].nunique()} \\n patho_niv2: {filtred_by_rg[\"patho_niv2\"].nunique()} \\n patho_niv3: {filtred_by_rg[\"patho_niv3\"].nunique()}\")"
   ]
  },
  {
   "cell_type": "markdown",
   "metadata": {},
   "source": [
    "<h3 style=\" text-align:left\">\n",
    "c . NETTOYAGE ET ANALYSE EXPLORATOIRE (PATHOLOGIES) \n",
    "</h3>"
   ]
  },
  {
   "cell_type": "code",
   "execution_count": 13,
   "metadata": {},
   "outputs": [
    {
     "data": {
      "text/html": [
       "<div>\n",
       "<style scoped>\n",
       "    .dataframe tbody tr th:only-of-type {\n",
       "        vertical-align: middle;\n",
       "    }\n",
       "\n",
       "    .dataframe tbody tr th {\n",
       "        vertical-align: top;\n",
       "    }\n",
       "\n",
       "    .dataframe thead th {\n",
       "        text-align: right;\n",
       "    }\n",
       "</style>\n",
       "<table border=\"1\" class=\"dataframe\">\n",
       "  <thead>\n",
       "    <tr style=\"text-align: right;\">\n",
       "      <th></th>\n",
       "      <th>annee</th>\n",
       "      <th>patho_niv1</th>\n",
       "      <th>patho_niv2</th>\n",
       "      <th>patho_niv3</th>\n",
       "      <th>top</th>\n",
       "      <th>cla_age_5</th>\n",
       "      <th>sexe</th>\n",
       "      <th>dept</th>\n",
       "      <th>Ntop</th>\n",
       "      <th>Npop</th>\n",
       "      <th>prev</th>\n",
       "      <th>Niveau prioritaire</th>\n",
       "      <th>libelle_classe_age</th>\n",
       "      <th>libelle_sexe</th>\n",
       "      <th>tri</th>\n",
       "    </tr>\n",
       "  </thead>\n",
       "  <tbody>\n",
       "    <tr>\n",
       "      <th>13356</th>\n",
       "      <td>2017</td>\n",
       "      <td>Maladies respiratoires chroniques (hors mucovi...</td>\n",
       "      <td>Maladies respiratoires chroniques (hors mucovi...</td>\n",
       "      <td>Maladies respiratoires chroniques (hors mucovi...</td>\n",
       "      <td>RES_CAT_EXC</td>\n",
       "      <td>85-89</td>\n",
       "      <td>2</td>\n",
       "      <td>77</td>\n",
       "      <td>1550.0</td>\n",
       "      <td>11990</td>\n",
       "      <td>12.957</td>\n",
       "      <td>1,2,3</td>\n",
       "      <td>de 85 à 89 ans</td>\n",
       "      <td>femmes</td>\n",
       "      <td>10.0</td>\n",
       "    </tr>\n",
       "    <tr>\n",
       "      <th>13357</th>\n",
       "      <td>2017</td>\n",
       "      <td>Maladies respiratoires chroniques (hors mucovi...</td>\n",
       "      <td>Maladies respiratoires chroniques (hors mucovi...</td>\n",
       "      <td>Maladies respiratoires chroniques (hors mucovi...</td>\n",
       "      <td>RES_CAT_EXC</td>\n",
       "      <td>85-89</td>\n",
       "      <td>2</td>\n",
       "      <td>91</td>\n",
       "      <td>1380.0</td>\n",
       "      <td>11890</td>\n",
       "      <td>11.572</td>\n",
       "      <td>1,2,3</td>\n",
       "      <td>de 85 à 89 ans</td>\n",
       "      <td>femmes</td>\n",
       "      <td>10.0</td>\n",
       "    </tr>\n",
       "  </tbody>\n",
       "</table>\n",
       "</div>"
      ],
      "text/plain": [
       "       annee                                         patho_niv1  \\\n",
       "13356   2017  Maladies respiratoires chroniques (hors mucovi...   \n",
       "13357   2017  Maladies respiratoires chroniques (hors mucovi...   \n",
       "\n",
       "                                              patho_niv2  \\\n",
       "13356  Maladies respiratoires chroniques (hors mucovi...   \n",
       "13357  Maladies respiratoires chroniques (hors mucovi...   \n",
       "\n",
       "                                              patho_niv3          top  \\\n",
       "13356  Maladies respiratoires chroniques (hors mucovi...  RES_CAT_EXC   \n",
       "13357  Maladies respiratoires chroniques (hors mucovi...  RES_CAT_EXC   \n",
       "\n",
       "      cla_age_5  sexe dept    Ntop   Npop    prev Niveau prioritaire  \\\n",
       "13356     85-89     2   77  1550.0  11990  12.957              1,2,3   \n",
       "13357     85-89     2   91  1380.0  11890  11.572              1,2,3   \n",
       "\n",
       "      libelle_classe_age libelle_sexe   tri  \n",
       "13356     de 85 à 89 ans       femmes  10.0  \n",
       "13357     de 85 à 89 ans       femmes  10.0  "
      ]
     },
     "execution_count": 13,
     "metadata": {},
     "output_type": "execute_result"
    }
   ],
   "source": [
    "#Nous ne voulons garder que les maladies respiratoires qui sont en rapport avec la qualité de l'air\n",
    "new_pathologie = filtred_by_rg[filtred_by_rg['patho_niv2'].isin(['Maladies respiratoires chroniques (hors mucoviscidose)',\n",
    "        'Cancer bronchopulmonaire'])]\n",
    "\n",
    "new_pathologie.head(2)"
   ]
  },
  {
   "cell_type": "code",
   "execution_count": 14,
   "metadata": {},
   "outputs": [
    {
     "name": "stdout",
     "output_type": "stream",
     "text": [
      "<class 'pandas.core.frame.DataFrame'>\n",
      "Index: 2268 entries, 13356 to 579572\n",
      "Data columns (total 15 columns):\n",
      " #   Column              Non-Null Count  Dtype  \n",
      "---  ------              --------------  -----  \n",
      " 0   annee               2268 non-null   int64  \n",
      " 1   patho_niv1          2268 non-null   object \n",
      " 2   patho_niv2          2268 non-null   object \n",
      " 3   patho_niv3          1701 non-null   object \n",
      " 4   top                 2268 non-null   object \n",
      " 5   cla_age_5           2268 non-null   object \n",
      " 6   sexe                2268 non-null   int64  \n",
      " 7   dept                2268 non-null   object \n",
      " 8   Ntop                1562 non-null   float64\n",
      " 9   Npop                2268 non-null   int64  \n",
      " 10  prev                1562 non-null   float64\n",
      " 11  Niveau prioritaire  2268 non-null   object \n",
      " 12  libelle_classe_age  2268 non-null   object \n",
      " 13  libelle_sexe        2268 non-null   object \n",
      " 14  tri                 2268 non-null   float64\n",
      "dtypes: float64(3), int64(3), object(9)\n",
      "memory usage: 283.5+ KB\n"
     ]
    }
   ],
   "source": [
    "new_pathologie.info()"
   ]
  },
  {
   "cell_type": "markdown",
   "metadata": {},
   "source": [
    "Nous allons supprimer des variables:\n",
    "- les redondantes: 'libelle_classe_age' et 'libelle_sexe '\n",
    "- les non nécessaires pour notre problématique: 'annee', 'patho_niv1', 'patho_niv2', 'patho_niv3', 'top'\n",
    "\n",
    "En effet, l'idée étant de calculer la probabilité de contracter une maladie respiratoire, nous n'allons pas faire de distinction dans les niveaux de pathologie, ni voir la maladie spécifique concernée."
   ]
  },
  {
   "cell_type": "code",
   "execution_count": 15,
   "metadata": {},
   "outputs": [],
   "source": [
    "# Suppression des variables redondantes ou non nécessaires \n",
    "columns_to_drop = ['annee', 'patho_niv1', 'patho_niv2', 'patho_niv3', 'libelle_classe_age', 'libelle_sexe', 'top']\n",
    "new_pathologie = new_pathologie.drop(columns=columns_to_drop)\n"
   ]
  },
  {
   "cell_type": "code",
   "execution_count": 16,
   "metadata": {},
   "outputs": [
    {
     "data": {
      "text/plain": [
       "cla_age_5               21\n",
       "sexe                     3\n",
       "dept                     9\n",
       "Ntop                   460\n",
       "Npop                   549\n",
       "prev                  1106\n",
       "Niveau prioritaire       3\n",
       "tri                      4\n",
       "dtype: int64"
      ]
     },
     "execution_count": 16,
     "metadata": {},
     "output_type": "execute_result"
    }
   ],
   "source": [
    "#Comptons le nombre de valeurs uniques de chaque variable afin de savoir s'il faut faire des conversions de type\n",
    "new_pathologie.nunique()"
   ]
  },
  {
   "cell_type": "markdown",
   "metadata": {},
   "source": [
    "Nous allons donc changer le type des variables 'sexe' et 'tri'"
   ]
  },
  {
   "cell_type": "code",
   "execution_count": 17,
   "metadata": {},
   "outputs": [],
   "source": [
    "#Changer le type de la variable sexe\n",
    "new_pathologie['sexe'] = new_pathologie['sexe'].astype('object')"
   ]
  },
  {
   "cell_type": "code",
   "execution_count": 18,
   "metadata": {},
   "outputs": [],
   "source": [
    "#Changer le type de la variable tri\n",
    "new_pathologie['tri'] = new_pathologie['tri'].astype('object')"
   ]
  },
  {
   "cell_type": "markdown",
   "metadata": {},
   "source": [
    "**Résumé descriptif des variables catégorielles**"
   ]
  },
  {
   "cell_type": "code",
   "execution_count": 19,
   "metadata": {},
   "outputs": [
    {
     "name": "stdout",
     "output_type": "stream",
     "text": [
      "\n",
      "Résumé descriptif pour la variable 'cla_age_5':\n",
      "- Nombre de valeurs uniques : 21\n",
      "- Nombre de modalités ayant la fréquence maximale (108 occurrences) : 21\n",
      "- Modalités ayant la fréquence maximale : ['85-89', '35-39', '75-79', '70-74', '65-69', '60-64', '55-59', '50-54', '45-49', '40-44', '30-34', '90-94', '25-29', '20-24', '15-19', '10-14', '05-09', '00-04', 'tsage', '95et+', '80-84']\n",
      "\n",
      "Résumé descriptif pour la variable 'sexe':\n",
      "- Nombre de valeurs uniques : 3\n",
      "- Nombre de modalités ayant la fréquence maximale (756 occurrences) : 3\n",
      "- Modalités ayant la fréquence maximale : [2, 9, 1]\n",
      "\n",
      "Résumé descriptif pour la variable 'dept':\n",
      "- Nombre de valeurs uniques : 9\n",
      "- Nombre de modalités ayant la fréquence maximale (252 occurrences) : 9\n",
      "- Modalités ayant la fréquence maximale : ['77', '91', '93', '78', '999', '75', '94', '95', '92']\n",
      "\n",
      "Résumé descriptif pour la variable 'Niveau prioritaire':\n",
      "- Nombre de valeurs uniques : 3\n",
      "- Nombre de modalités ayant la fréquence maximale (1134 occurrences) : 1\n",
      "- Modalités ayant la fréquence maximale : ['3']\n",
      "\n",
      "Résumé descriptif pour la variable 'tri':\n",
      "- Nombre de valeurs uniques : 4\n",
      "- Nombre de modalités ayant la fréquence maximale (567 occurrences) : 4\n",
      "- Modalités ayant la fréquence maximale : [10.0, 19.0, 58.0, 59.0]\n"
     ]
    }
   ],
   "source": [
    "# Filtrer uniquement les variables catégorielles (type object)\n",
    "categorical_vars = new_pathologie.select_dtypes(include='object')\n",
    "\n",
    "# Résumé descriptif des variables catégorielles\n",
    "for col in categorical_vars.columns:\n",
    "    print(f\"\\nRésumé descriptif pour la variable '{col}':\")\n",
    "    print(f\"- Nombre de valeurs uniques : {categorical_vars[col].nunique()}\")\n",
    "    \n",
    "    # Calcul de la fréquence maximale et des modalités correspondantes\n",
    "    value_counts = categorical_vars[col].value_counts()\n",
    "    max_count = value_counts.max()\n",
    "    top_modalities = value_counts[value_counts == max_count].index.tolist()\n",
    "    \n",
    "    print(f\"- Nombre de modalités ayant la fréquence maximale ({max_count} occurrences) : {len(top_modalities)}\")\n",
    "    print(f\"- Modalités ayant la fréquence maximale : {top_modalities}\")\n"
   ]
  },
  {
   "cell_type": "markdown",
   "metadata": {},
   "source": [
    "Les variables catégorielles semblent assez homogènes."
   ]
  },
  {
   "cell_type": "markdown",
   "metadata": {},
   "source": [
    "**Résumé descriptif des variables continues**"
   ]
  },
  {
   "cell_type": "code",
   "execution_count": 20,
   "metadata": {},
   "outputs": [
    {
     "data": {
      "text/html": [
       "<div>\n",
       "<style scoped>\n",
       "    .dataframe tbody tr th:only-of-type {\n",
       "        vertical-align: middle;\n",
       "    }\n",
       "\n",
       "    .dataframe tbody tr th {\n",
       "        vertical-align: top;\n",
       "    }\n",
       "\n",
       "    .dataframe thead th {\n",
       "        text-align: right;\n",
       "    }\n",
       "</style>\n",
       "<table border=\"1\" class=\"dataframe\">\n",
       "  <thead>\n",
       "    <tr style=\"text-align: right;\">\n",
       "      <th></th>\n",
       "      <th>Ntop</th>\n",
       "      <th>Npop</th>\n",
       "      <th>prev</th>\n",
       "    </tr>\n",
       "  </thead>\n",
       "  <tbody>\n",
       "    <tr>\n",
       "      <th>count</th>\n",
       "      <td>1562.000000</td>\n",
       "      <td>2.268000e+03</td>\n",
       "      <td>1562.000000</td>\n",
       "    </tr>\n",
       "    <tr>\n",
       "      <th>mean</th>\n",
       "      <td>3163.271447</td>\n",
       "      <td>1.653528e+05</td>\n",
       "      <td>2.574609</td>\n",
       "    </tr>\n",
       "    <tr>\n",
       "      <th>std</th>\n",
       "      <td>19228.221844</td>\n",
       "      <td>6.389070e+05</td>\n",
       "      <td>3.839486</td>\n",
       "    </tr>\n",
       "    <tr>\n",
       "      <th>min</th>\n",
       "      <td>10.000000</td>\n",
       "      <td>5.500000e+02</td>\n",
       "      <td>0.002000</td>\n",
       "    </tr>\n",
       "    <tr>\n",
       "      <th>25%</th>\n",
       "      <td>70.000000</td>\n",
       "      <td>3.251000e+04</td>\n",
       "      <td>0.183000</td>\n",
       "    </tr>\n",
       "    <tr>\n",
       "      <th>50%</th>\n",
       "      <td>270.000000</td>\n",
       "      <td>4.705000e+04</td>\n",
       "      <td>0.514000</td>\n",
       "    </tr>\n",
       "    <tr>\n",
       "      <th>75%</th>\n",
       "      <td>1860.000000</td>\n",
       "      <td>8.944000e+04</td>\n",
       "      <td>3.505000</td>\n",
       "    </tr>\n",
       "    <tr>\n",
       "      <th>max</th>\n",
       "      <td>574020.000000</td>\n",
       "      <td>1.171935e+07</td>\n",
       "      <td>17.086000</td>\n",
       "    </tr>\n",
       "  </tbody>\n",
       "</table>\n",
       "</div>"
      ],
      "text/plain": [
       "                Ntop          Npop         prev\n",
       "count    1562.000000  2.268000e+03  1562.000000\n",
       "mean     3163.271447  1.653528e+05     2.574609\n",
       "std     19228.221844  6.389070e+05     3.839486\n",
       "min        10.000000  5.500000e+02     0.002000\n",
       "25%        70.000000  3.251000e+04     0.183000\n",
       "50%       270.000000  4.705000e+04     0.514000\n",
       "75%      1860.000000  8.944000e+04     3.505000\n",
       "max    574020.000000  1.171935e+07    17.086000"
      ]
     },
     "execution_count": 20,
     "metadata": {},
     "output_type": "execute_result"
    }
   ],
   "source": [
    "new_pathologie.describe()"
   ]
  },
  {
   "cell_type": "code",
   "execution_count": 21,
   "metadata": {},
   "outputs": [
    {
     "data": {
      "image/png": "[encoded data removed]",
      "text/plain": [
       "<Figure size 1400x1000 with 5 Axes>"
      ]
     },
     "metadata": {},
     "output_type": "display_data"
    }
   ],
   "source": [
    "# Sélectionner les variables continues (float et int)\n",
    "continuous_vars = new_pathologie.select_dtypes(include=['float64', 'int64']).columns\n",
    "\n",
    "# Définir la taille de la figure globale\n",
    "plt.figure(figsize=(14, 10))\n",
    "\n",
    "# Nombre total de graphiques (les variables continues + le graphe des corrélations)\n",
    "total_plots = len(continuous_vars) + 1\n",
    "\n",
    "# Boucle sur chaque variable continue\n",
    "for i, col in enumerate(continuous_vars):\n",
    "    # Position du graphique dans la grille (2 colonnes par ligne)\n",
    "    plt.subplot((total_plots + 1) // 2, 2, i + 1) \n",
    "    \n",
    "    # Affichage de l'histogramme avec une courbe de densité\n",
    "    sns.histplot(new_pathologie[col], bins=30, kde=True, stat='percent', color='blue')\n",
    "    plt.title(f\"Histogramme de {col}\")\n",
    "    plt.xlabel(col)\n",
    "    plt.ylabel(\"Fréquence\")\n",
    "\n",
    "# Ajouter le graphique des corrélations dans le dernier cadre\n",
    "plt.subplot((total_plots + 1) // 2, 2, total_plots)\n",
    "correlation_matrix = new_pathologie[continuous_vars].corr()\n",
    "sns.heatmap(correlation_matrix, annot=True, cmap='coolwarm', cbar=True, fmt=\".2f\")\n",
    "plt.title(\"Matrice de Corrélation\")\n",
    "\n",
    "# Ajustement des espacements\n",
    "plt.tight_layout()\n",
    "plt.show()\n"
   ]
  },
  {
   "cell_type": "markdown",
   "metadata": {},
   "source": [
    "Ces varibles sont assez dispersées et présentent une correlation linéaire très faible. "
   ]
  },
  {
   "cell_type": "code",
   "execution_count": 43,
   "metadata": {},
   "outputs": [
    {
     "data": {
      "image/png": "[encoded data removed]",
      "text/plain": [
       "<Figure size 1800x1000 with 3 Axes>"
      ]
     },
     "metadata": {},
     "output_type": "display_data"
    }
   ],
   "source": [
    "# Box-plot\n",
    "idf_departments = [0, 75, 77, 78, 91, 92, 93, 94, 95]\n",
    "\n",
    "# Filtrer les données par les codes INSEE des départements de l'Île-de-France\n",
    "idf_data = qualite_air[qualite_air['ninsee'].isin(idf_departments)]\n",
    "\n",
    "# Variables à analyser\n",
    "variables = ['pm10', 'o3', 'no2']\n",
    "\n",
    "# Définir la taille de la figure\n",
    "plt.figure(figsize=(18, 10))\n",
    "\n",
    "# Boucle pour créer un graphique pour chaque variable\n",
    "for i, var in enumerate(variables):\n",
    "    plt.subplot(1, 3, i + 1)  # Placer les graphes sur une seule ligne (3 colonnes)\n",
    "    \n",
    "    # Boxplot pour chaque modalité de la variable 'ninsee'\n",
    "    sns.boxplot(x='ninsee', y=var, data=idf_data)\n",
    "    plt.title(f'Distribution de {var} par modalité de ninsee')\n",
    "    plt.xlabel('Ninsee')\n",
    "    plt.ylabel(var)\n",
    "\n",
    "# Ajuster l'espacement des graphiques\n",
    "plt.tight_layout()\n",
    "plt.show()"
   ]
  },
  {
   "cell_type": "code",
   "execution_count": 46,
   "metadata": {},
   "outputs": [
    {
     "name": "stdout",
     "output_type": "stream",
     "text": [
      "Corrélation entre 'prev' et 'prop' : 0.9999438142652092\n"
     ]
    },
    {
     "data": {
      "image/png": "[encoded data removed]",
      "text/plain": [
       "<Figure size 800x600 with 1 Axes>"
      ]
     },
     "metadata": {},
     "output_type": "display_data"
    }
   ],
   "source": [
    "# Créer la variable 'prop' en divisant 'Ntop' par 'Npop'\n",
    "new_pathologie['prop'] = new_pathologie['Ntop'] / new_pathologie['Npop']\n",
    "\n",
    "# Calcul de la corrélation\n",
    "correlation = new_pathologie[['prev', 'prop']].corr().iloc[0, 1]\n",
    "print(f\"Corrélation entre 'prev' et 'prop' : {correlation}\")\n",
    "\n",
    "# Visualisation de la relation entre 'prev' et 'prop'\n",
    "plt.figure(figsize=(8, 6))\n",
    "sns.scatterplot(data=new_pathologie, x='prop', y='prev', color='blue', alpha=0.7)\n",
    "plt.title(f\"Nuage de points entre 'prop' et 'prev' (Corrélation: {correlation:.2f})\")\n",
    "plt.xlabel(\"prop (Ntop / Npop)\")\n",
    "plt.ylabel(\"prev\")\n",
    "plt.grid(True)\n",
    "plt.show()\n"
   ]
  },
  {
   "cell_type": "markdown",
   "metadata": {},
   "source": [
    "Nous voyons donc que nous avons la relation:\n",
    "$$ prev = Ntop/Npop . $$\n",
    "Dès lors, il nous suffira de garder 2 de ces variables (car on peut obtenir le dernier à partir des 2 autres). Nous conserverons prev et Npop."
   ]
  },
  {
   "cell_type": "code",
   "execution_count": 23,
   "metadata": {},
   "outputs": [
    {
     "name": "stdout",
     "output_type": "stream",
     "text": [
      "             Variable  Proportion de valeurs manquantes (%)\n",
      "3                Ntop                             31.128748\n",
      "5                prev                             31.128748\n",
      "0           cla_age_5                              0.000000\n",
      "1                sexe                              0.000000\n",
      "2                dept                              0.000000\n",
      "4                Npop                              0.000000\n",
      "6  Niveau prioritaire                              0.000000\n",
      "7                 tri                              0.000000\n",
      "\n",
      " nombre d'observation 2268\n"
     ]
    }
   ],
   "source": [
    "# Calculer la proportion de valeurs manquantes pour chaque variable\n",
    "missing_proportions = new_pathologie.isnull().mean() * 100\n",
    "\n",
    "# Afficher les proportions dans un tableau lisible\n",
    "missing_summary = pd.DataFrame({\n",
    "    \"Variable\": missing_proportions.index,\n",
    "    \"Proportion de valeurs manquantes (%)\": missing_proportions.values\n",
    "}).sort_values(by=\"Proportion de valeurs manquantes (%)\", ascending=False)\n",
    "\n",
    "print(missing_summary)\n",
    "\n",
    "print(\"\\n nombre d'observation\",new_pathologie.shape[0])\n"
   ]
  },
  {
   "cell_type": "markdown",
   "metadata": {},
   "source": [
    "Ainsi, sur 2268 observations de pathologies respiratoires dans la région parisienne, nous avons 31% de valeurs manquantes pour les variables 'Ntop' et 'prev'. Nous allons pousser les analyses pour voir comment corriger ces valeurs manquantes. \n"
   ]
  },
  {
   "cell_type": "code",
   "execution_count": 24,
   "metadata": {},
   "outputs": [
    {
     "name": "stdout",
     "output_type": "stream",
     "text": [
      "Tableau de contingence :\n",
      "Niveau prioritaire  1,2,3    2    3\n",
      "tri                                \n",
      "10.0                  567    0    0\n",
      "19.0                    0  567    0\n",
      "58.0                    0    0  567\n",
      "59.0                    0    0  567\n",
      "\n",
      "Chi2: 4536.0\n",
      "p-value: 0.0\n",
      "Il existe une relation significative entre 'tri' et 'Niveau prioritaire'.\n"
     ]
    }
   ],
   "source": [
    "# Test de Chi-2 : 'tri' et 'Niveau prioritaire'\n",
    "\n",
    "\n",
    "from scipy.stats import chi2_contingency\n",
    "# Créer un tableau de contingence entre 'tri' et 'Niveau prioritaire'\n",
    "contingency_table = pd.crosstab(new_pathologie['tri'], new_pathologie['Niveau prioritaire'])\n",
    "\n",
    "# Afficher le tableau de contingence\n",
    "print(\"Tableau de contingence :\")\n",
    "print(contingency_table)\n",
    "\n",
    "# Appliquer le test du chi-deux\n",
    "chi2, p, dof, expected = chi2_contingency(contingency_table)\n",
    "\n",
    "# Afficher les résultats du test\n",
    "print(f\"\\nChi2: {chi2}\")\n",
    "print(f\"p-value: {p}\")\n",
    "\n",
    "# Interprétation des résultats\n",
    "if p < 0.05:\n",
    "    print(\"Il existe une relation significative entre 'tri' et 'Niveau prioritaire'.\")\n",
    "else:\n",
    "    print(\"Il n'y a pas de relation significative entre 'tri' et 'Niveau prioritaire'.\")"
   ]
  },
  {
   "cell_type": "code",
   "execution_count": 25,
   "metadata": {},
   "outputs": [
    {
     "name": "stdout",
     "output_type": "stream",
     "text": [
      "         tri Niveau prioritaire\n",
      "13356   10.0              1,2,3\n",
      "245627  19.0                  2\n",
      "251462  58.0                  3\n",
      "257301  59.0                  3\n"
     ]
    }
   ],
   "source": [
    "#on remarque une forte correlation entre tri et niveau prioritaire \n",
    "#on compare donc la distrubition \n",
    "print(new_pathologie[['tri', 'Niveau prioritaire']].drop_duplicates())"
   ]
  },
  {
   "cell_type": "code",
   "execution_count": 26,
   "metadata": {},
   "outputs": [],
   "source": [
    "#niveau prioritaire est suffisant pour notre analyse \n",
    "#on supprime donc la colonne tri\n",
    "new_data=new_pathologie.drop(columns =['tri'])"
   ]
  },
  {
   "cell_type": "code",
   "execution_count": 27,
   "metadata": {},
   "outputs": [
    {
     "name": "stdout",
     "output_type": "stream",
     "text": [
      "<class 'pandas.core.frame.DataFrame'>\n",
      "Index: 2268 entries, 13356 to 579572\n",
      "Data columns (total 7 columns):\n",
      " #   Column              Non-Null Count  Dtype  \n",
      "---  ------              --------------  -----  \n",
      " 0   cla_age_5           2268 non-null   object \n",
      " 1   sexe                2268 non-null   object \n",
      " 2   dept                2268 non-null   object \n",
      " 3   Ntop                1562 non-null   float64\n",
      " 4   Npop                2268 non-null   int64  \n",
      " 5   prev                1562 non-null   float64\n",
      " 6   Niveau prioritaire  2268 non-null   object \n",
      "dtypes: float64(2), int64(1), object(4)\n",
      "memory usage: 141.8+ KB\n"
     ]
    }
   ],
   "source": [
    "new_data.info()"
   ]
  },
  {
   "cell_type": "code",
   "execution_count": null,
   "metadata": {},
   "outputs": [
    {
     "data": {
      "text/plain": [
       "array([77, 91, 93, 78,  0, 75, 94, 95, 92])"
      ]
     },
     "execution_count": 34,
     "metadata": {},
     "output_type": "execute_result"
    }
   ],
   "source": [
    "# Remplacer la modalité \"999\" par \"0\" dans la colonne 'dept'\n",
    "# Car dans la base des indices de l'air la région parisienne est codée en '0'\n",
    "new_data['dept'] = new_data['dept'].replace(999, 0)\n",
    "\n",
    "# Vérifier que le remplacement a bien été effectué\n",
    "new_data['dept'].unique()\n"
   ]
  },
  {
   "cell_type": "markdown",
   "metadata": {},
   "source": [
    "Nous allons à présent faire une fusion de nos données afin de mieux continuer cette exploration très intéressante."
   ]
  },
  {
   "cell_type": "markdown",
   "metadata": {},
   "source": [
    "<h2 style=\" text-align:left\">\n",
    "1.2- Fusion des bases de données \n",
    "</h2>"
   ]
  },
  {
   "cell_type": "code",
   "execution_count": 35,
   "metadata": {},
   "outputs": [
    {
     "name": "stdout",
     "output_type": "stream",
     "text": [
      "Index(['cla_age_5', 'sexe', 'dept', 'Ntop', 'Npop', 'prev',\n",
      "       'Niveau prioritaire'],\n",
      "      dtype='object')\n",
      "Index(['ninsee', 'no2', 'o3', 'pm10'], dtype='object')\n"
     ]
    }
   ],
   "source": [
    "#on importe les données de l'indice de qualite de l'air\n",
    "Qualite_aire= pd.read_csv(Path(DATA_DIR, \"department_means.csv\"), sep=\",\")\n",
    " #on verifie les nom du colunms avant de fisionner .\n",
    "print(new_data.columns)\n",
    "print(Qualite_aire.columns)"
   ]
  },
  {
   "cell_type": "code",
   "execution_count": 36,
   "metadata": {},
   "outputs": [],
   "source": [
    "# on change le nom de la colonne ninsee \n",
    "Qualite_aire = Qualite_aire.rename(columns={'ninsee': 'dept'})\n",
    "\n",
    "# on convertie la colonne dept en str pour les deux data\n",
    "new_data['dept'] = new_data['dept'].astype(int)\n",
    "Qualite_aire['dept'] = Qualite_aire['dept'].astype(int)"
   ]
  },
  {
   "cell_type": "code",
   "execution_count": 37,
   "metadata": {},
   "outputs": [
    {
     "data": {
      "text/html": [
       "<div>\n",
       "<style scoped>\n",
       "    .dataframe tbody tr th:only-of-type {\n",
       "        vertical-align: middle;\n",
       "    }\n",
       "\n",
       "    .dataframe tbody tr th {\n",
       "        vertical-align: top;\n",
       "    }\n",
       "\n",
       "    .dataframe thead th {\n",
       "        text-align: right;\n",
       "    }\n",
       "</style>\n",
       "<table border=\"1\" class=\"dataframe\">\n",
       "  <thead>\n",
       "    <tr style=\"text-align: right;\">\n",
       "      <th></th>\n",
       "      <th>cla_age_5</th>\n",
       "      <th>sexe</th>\n",
       "      <th>dept</th>\n",
       "      <th>Ntop</th>\n",
       "      <th>Npop</th>\n",
       "      <th>prev</th>\n",
       "      <th>Niveau prioritaire</th>\n",
       "      <th>no2</th>\n",
       "      <th>o3</th>\n",
       "      <th>pm10</th>\n",
       "    </tr>\n",
       "  </thead>\n",
       "  <tbody>\n",
       "    <tr>\n",
       "      <th>0</th>\n",
       "      <td>85-89</td>\n",
       "      <td>2</td>\n",
       "      <td>77</td>\n",
       "      <td>1550.0</td>\n",
       "      <td>11990</td>\n",
       "      <td>12.957</td>\n",
       "      <td>1,2,3</td>\n",
       "      <td>30.123288</td>\n",
       "      <td>35.389041</td>\n",
       "      <td>33.205479</td>\n",
       "    </tr>\n",
       "    <tr>\n",
       "      <th>1</th>\n",
       "      <td>85-89</td>\n",
       "      <td>2</td>\n",
       "      <td>91</td>\n",
       "      <td>1380.0</td>\n",
       "      <td>11890</td>\n",
       "      <td>11.572</td>\n",
       "      <td>1,2,3</td>\n",
       "      <td>28.649315</td>\n",
       "      <td>34.536986</td>\n",
       "      <td>30.945205</td>\n",
       "    </tr>\n",
       "    <tr>\n",
       "      <th>2</th>\n",
       "      <td>85-89</td>\n",
       "      <td>2</td>\n",
       "      <td>93</td>\n",
       "      <td>1510.0</td>\n",
       "      <td>11760</td>\n",
       "      <td>12.874</td>\n",
       "      <td>1,2,3</td>\n",
       "      <td>35.931507</td>\n",
       "      <td>32.013699</td>\n",
       "      <td>34.789041</td>\n",
       "    </tr>\n",
       "    <tr>\n",
       "      <th>3</th>\n",
       "      <td>85-89</td>\n",
       "      <td>9</td>\n",
       "      <td>77</td>\n",
       "      <td>2560.0</td>\n",
       "      <td>18490</td>\n",
       "      <td>13.863</td>\n",
       "      <td>1,2,3</td>\n",
       "      <td>30.123288</td>\n",
       "      <td>35.389041</td>\n",
       "      <td>33.205479</td>\n",
       "    </tr>\n",
       "    <tr>\n",
       "      <th>4</th>\n",
       "      <td>85-89</td>\n",
       "      <td>9</td>\n",
       "      <td>78</td>\n",
       "      <td>2760.0</td>\n",
       "      <td>23040</td>\n",
       "      <td>11.992</td>\n",
       "      <td>1,2,3</td>\n",
       "      <td>27.378082</td>\n",
       "      <td>35.106849</td>\n",
       "      <td>31.126027</td>\n",
       "    </tr>\n",
       "  </tbody>\n",
       "</table>\n",
       "</div>"
      ],
      "text/plain": [
       "  cla_age_5 sexe  dept    Ntop   Npop    prev Niveau prioritaire        no2  \\\n",
       "0     85-89    2    77  1550.0  11990  12.957              1,2,3  30.123288   \n",
       "1     85-89    2    91  1380.0  11890  11.572              1,2,3  28.649315   \n",
       "2     85-89    2    93  1510.0  11760  12.874              1,2,3  35.931507   \n",
       "3     85-89    9    77  2560.0  18490  13.863              1,2,3  30.123288   \n",
       "4     85-89    9    78  2760.0  23040  11.992              1,2,3  27.378082   \n",
       "\n",
       "          o3       pm10  \n",
       "0  35.389041  33.205479  \n",
       "1  34.536986  30.945205  \n",
       "2  32.013699  34.789041  \n",
       "3  35.389041  33.205479  \n",
       "4  35.106849  31.126027  "
      ]
     },
     "execution_count": 37,
     "metadata": {},
     "output_type": "execute_result"
    }
   ],
   "source": [
    "# on va faire un left joint \n",
    "\n",
    "principal_data = pd.merge(new_data,Qualite_aire, on=\"dept\", how=\"left\")\n",
    "principal_data.head(5)"
   ]
  },
  {
   "cell_type": "code",
   "execution_count": 38,
   "metadata": {},
   "outputs": [
    {
     "name": "stdout",
     "output_type": "stream",
     "text": [
      "Fichier  sauvegardé avec succès.\n"
     ]
    }
   ],
   "source": [
    "# Sauvegarder le DataFrame dans un fichier CSV\n",
    "principal_data.to_csv(\"resultat_merge.csv\", index=False)\n",
    "\n",
    "print(\"Fichier  sauvegardé avec succès.\")\n"
   ]
  },
  {
   "cell_type": "markdown",
   "metadata": {},
   "source": [
    "<h2 style=\" text-align:left\">\n",
    "1.3- Analyse descriptive finale\n",
    "</h2>"
   ]
  },
  {
   "cell_type": "markdown",
   "metadata": {},
   "source": [
    "Nous allons actuellement faire une analyse de la base de données finale: principal_data ."
   ]
  },
  {
   "cell_type": "code",
   "execution_count": 47,
   "metadata": {},
   "outputs": [
    {
     "data": {
      "text/html": [
       "<div>\n",
       "<style scoped>\n",
       "    .dataframe tbody tr th:only-of-type {\n",
       "        vertical-align: middle;\n",
       "    }\n",
       "\n",
       "    .dataframe tbody tr th {\n",
       "        vertical-align: top;\n",
       "    }\n",
       "\n",
       "    .dataframe thead th {\n",
       "        text-align: right;\n",
       "    }\n",
       "</style>\n",
       "<table border=\"1\" class=\"dataframe\">\n",
       "  <thead>\n",
       "    <tr style=\"text-align: right;\">\n",
       "      <th></th>\n",
       "      <th>cla_age_5</th>\n",
       "      <th>sexe</th>\n",
       "      <th>dept</th>\n",
       "      <th>Npop</th>\n",
       "      <th>prev</th>\n",
       "      <th>Niveau prioritaire</th>\n",
       "      <th>no2</th>\n",
       "      <th>o3</th>\n",
       "      <th>pm10</th>\n",
       "    </tr>\n",
       "  </thead>\n",
       "  <tbody>\n",
       "    <tr>\n",
       "      <th>0</th>\n",
       "      <td>85-89</td>\n",
       "      <td>2</td>\n",
       "      <td>77</td>\n",
       "      <td>11990</td>\n",
       "      <td>12.957</td>\n",
       "      <td>1,2,3</td>\n",
       "      <td>30.123288</td>\n",
       "      <td>35.389041</td>\n",
       "      <td>33.205479</td>\n",
       "    </tr>\n",
       "    <tr>\n",
       "      <th>1</th>\n",
       "      <td>85-89</td>\n",
       "      <td>2</td>\n",
       "      <td>91</td>\n",
       "      <td>11890</td>\n",
       "      <td>11.572</td>\n",
       "      <td>1,2,3</td>\n",
       "      <td>28.649315</td>\n",
       "      <td>34.536986</td>\n",
       "      <td>30.945205</td>\n",
       "    </tr>\n",
       "    <tr>\n",
       "      <th>2</th>\n",
       "      <td>85-89</td>\n",
       "      <td>2</td>\n",
       "      <td>93</td>\n",
       "      <td>11760</td>\n",
       "      <td>12.874</td>\n",
       "      <td>1,2,3</td>\n",
       "      <td>35.931507</td>\n",
       "      <td>32.013699</td>\n",
       "      <td>34.789041</td>\n",
       "    </tr>\n",
       "    <tr>\n",
       "      <th>3</th>\n",
       "      <td>85-89</td>\n",
       "      <td>9</td>\n",
       "      <td>77</td>\n",
       "      <td>18490</td>\n",
       "      <td>13.863</td>\n",
       "      <td>1,2,3</td>\n",
       "      <td>30.123288</td>\n",
       "      <td>35.389041</td>\n",
       "      <td>33.205479</td>\n",
       "    </tr>\n",
       "    <tr>\n",
       "      <th>4</th>\n",
       "      <td>85-89</td>\n",
       "      <td>9</td>\n",
       "      <td>78</td>\n",
       "      <td>23040</td>\n",
       "      <td>11.992</td>\n",
       "      <td>1,2,3</td>\n",
       "      <td>27.378082</td>\n",
       "      <td>35.106849</td>\n",
       "      <td>31.126027</td>\n",
       "    </tr>\n",
       "  </tbody>\n",
       "</table>\n",
       "</div>"
      ],
      "text/plain": [
       "  cla_age_5 sexe  dept   Npop    prev Niveau prioritaire        no2  \\\n",
       "0     85-89    2    77  11990  12.957              1,2,3  30.123288   \n",
       "1     85-89    2    91  11890  11.572              1,2,3  28.649315   \n",
       "2     85-89    2    93  11760  12.874              1,2,3  35.931507   \n",
       "3     85-89    9    77  18490  13.863              1,2,3  30.123288   \n",
       "4     85-89    9    78  23040  11.992              1,2,3  27.378082   \n",
       "\n",
       "          o3       pm10  \n",
       "0  35.389041  33.205479  \n",
       "1  34.536986  30.945205  \n",
       "2  32.013699  34.789041  \n",
       "3  35.389041  33.205479  \n",
       "4  35.106849  31.126027  "
      ]
     },
     "execution_count": 47,
     "metadata": {},
     "output_type": "execute_result"
    }
   ],
   "source": [
    "# D'apres ce qui precede on sait que prev est calculé a partir de Npop et Ntop donc on peut suprrimer Ntop\n",
    "Colunms_we_drop = ['Ntop']\n",
    "Principal_data1 = principal_data.drop(columns=Colunms_we_drop)\n",
    "Principal_data1.head(5)"
   ]
  },
  {
   "cell_type": "code",
   "execution_count": 48,
   "metadata": {},
   "outputs": [
    {
     "name": "stdout",
     "output_type": "stream",
     "text": [
      "<class 'pandas.core.frame.DataFrame'>\n",
      "RangeIndex: 2268 entries, 0 to 2267\n",
      "Data columns (total 9 columns):\n",
      " #   Column              Non-Null Count  Dtype  \n",
      "---  ------              --------------  -----  \n",
      " 0   cla_age_5           2268 non-null   object \n",
      " 1   sexe                2268 non-null   object \n",
      " 2   dept                2268 non-null   int32  \n",
      " 3   Npop                2268 non-null   int64  \n",
      " 4   prev                1562 non-null   float64\n",
      " 5   Niveau prioritaire  2268 non-null   object \n",
      " 6   no2                 2016 non-null   float64\n",
      " 7   o3                  2016 non-null   float64\n",
      " 8   pm10                2016 non-null   float64\n",
      "dtypes: float64(4), int32(1), int64(1), object(3)\n",
      "memory usage: 150.7+ KB\n"
     ]
    }
   ],
   "source": [
    "Principal_data1.info()"
   ]
  },
  {
   "cell_type": "code",
   "execution_count": null,
   "metadata": {},
   "outputs": [
    {
     "name": "stdout",
     "output_type": "stream",
     "text": [
      "1562\n"
     ]
    }
   ],
   "source": [
    "#supprimer les lignes ou prev is nan \n",
    "#Principal_data2=Principal_data1.dropna(subset=['prev'])\n",
    "\n",
    "nv_observation = Principal_data1.shape[0]\n",
    "print(nv_observation)"
   ]
  },
  {
   "cell_type": "code",
   "execution_count": null,
   "metadata": {},
   "outputs": [
    {
     "name": "stdout",
     "output_type": "stream",
     "text": [
      "Nombre de lignes où dept = 999 : 210\n"
     ]
    }
   ],
   "source": [
    "# Compter le nombre de lignes où 'dept' = 999\n",
    "nombre_dept_999 = Principal_data2[Principal_data2['dept'] == 999].shape[0]\n",
    "\n",
    "# Afficher le résultat\n",
    "print(f\"Nombre de lignes où dept = 999 : {nombre_dept_999}\")\n"
   ]
  },
  {
   "cell_type": "code",
   "execution_count": null,
   "metadata": {},
   "outputs": [
    {
     "name": "stdout",
     "output_type": "stream",
     "text": [
      "1352 8\n"
     ]
    }
   ],
   "source": [
    "Principal_data3=Principal_data2[Principal_data2['dept'] != 999]\n",
    "\n",
    "nv_observation1 = Principal_data3.shape[0]\n",
    "nombre_variable = Principal_data3.shape[1]\n",
    "print(nv_observation1, nombre_variable)"
   ]
  },
  {
   "cell_type": "code",
   "execution_count": null,
   "metadata": {},
   "outputs": [
    {
     "name": "stdout",
     "output_type": "stream",
     "text": [
      "Nombre de lignes où sexe = 9 : 474\n"
     ]
    }
   ],
   "source": [
    "# maintenant comme que notre variable prev n'a plus des valeurs manquantes on va verifier pour les autres variables .\n",
    "nombre_sexe_9 = Principal_data3[Principal_data3['sexe'] == 9].shape[0]\n",
    "\n",
    "# Afficher le résultat\n",
    "print(f\"Nombre de lignes où sexe = 9 : {nombre_sexe_9}\")\n"
   ]
  },
  {
   "cell_type": "markdown",
   "metadata": {},
   "source": [
    "La valeur 9 de la variable sexe correspond à une catégorie non spécifiée. On peut la remplacer par le sexe le plus courant dans un département donné pour une classe d'âge spécifique ou avec d'autre méthode d'imputation."
   ]
  },
  {
   "cell_type": "code",
   "execution_count": null,
   "metadata": {},
   "outputs": [
    {
     "data": {
      "text/plain": [
       "dept  cla_age_5\n",
       "75    00-04        1\n",
       "      05-09        1\n",
       "      10-14        1\n",
       "      15-19        1\n",
       "      20-24        1\n",
       "Name: sexe, dtype: int64"
      ]
     },
     "metadata": {},
     "output_type": "display_data"
    }
   ],
   "source": [
    "# Calculer le sexe le plus courant par département et classe d'âge\n",
    "sexe_mode = Principal_data3[Principal_data3['sexe'] != 9].groupby(['dept', 'cla_age_5'])['sexe'].agg(lambda x: x.mode()[0])\n",
    "\n",
    "\n",
    "# Afficher le résultat\n",
    "sexe_mode.head()\n",
    "\n"
   ]
  },
  {
   "cell_type": "code",
   "execution_count": null,
   "metadata": {},
   "outputs": [
    {
     "data": {
      "text/html": [
       "<div>\n",
       "<style scoped>\n",
       "    .dataframe tbody tr th:only-of-type {\n",
       "        vertical-align: middle;\n",
       "    }\n",
       "\n",
       "    .dataframe tbody tr th {\n",
       "        vertical-align: top;\n",
       "    }\n",
       "\n",
       "    .dataframe thead th {\n",
       "        text-align: right;\n",
       "    }\n",
       "</style>\n",
       "<table border=\"1\" class=\"dataframe\">\n",
       "  <thead>\n",
       "    <tr style=\"text-align: right;\">\n",
       "      <th></th>\n",
       "      <th>cla_age_5</th>\n",
       "      <th>sexe</th>\n",
       "      <th>dept</th>\n",
       "      <th>prev</th>\n",
       "      <th>Niveau prioritaire</th>\n",
       "      <th>no2</th>\n",
       "      <th>o3</th>\n",
       "      <th>pm10</th>\n",
       "    </tr>\n",
       "  </thead>\n",
       "  <tbody>\n",
       "    <tr>\n",
       "      <th>0</th>\n",
       "      <td>85-89</td>\n",
       "      <td>2</td>\n",
       "      <td>77</td>\n",
       "      <td>12.957</td>\n",
       "      <td>1,2,3</td>\n",
       "      <td>30.123288</td>\n",
       "      <td>35.389041</td>\n",
       "      <td>33.205479</td>\n",
       "    </tr>\n",
       "    <tr>\n",
       "      <th>1</th>\n",
       "      <td>85-89</td>\n",
       "      <td>2</td>\n",
       "      <td>91</td>\n",
       "      <td>11.572</td>\n",
       "      <td>1,2,3</td>\n",
       "      <td>28.649315</td>\n",
       "      <td>34.536986</td>\n",
       "      <td>30.945205</td>\n",
       "    </tr>\n",
       "    <tr>\n",
       "      <th>2</th>\n",
       "      <td>85-89</td>\n",
       "      <td>2</td>\n",
       "      <td>93</td>\n",
       "      <td>12.874</td>\n",
       "      <td>1,2,3</td>\n",
       "      <td>35.931507</td>\n",
       "      <td>32.013699</td>\n",
       "      <td>34.789041</td>\n",
       "    </tr>\n",
       "    <tr>\n",
       "      <th>3</th>\n",
       "      <td>85-89</td>\n",
       "      <td>1</td>\n",
       "      <td>77</td>\n",
       "      <td>13.863</td>\n",
       "      <td>1,2,3</td>\n",
       "      <td>30.123288</td>\n",
       "      <td>35.389041</td>\n",
       "      <td>33.205479</td>\n",
       "    </tr>\n",
       "    <tr>\n",
       "      <th>4</th>\n",
       "      <td>85-89</td>\n",
       "      <td>1</td>\n",
       "      <td>78</td>\n",
       "      <td>11.992</td>\n",
       "      <td>1,2,3</td>\n",
       "      <td>27.378082</td>\n",
       "      <td>35.106849</td>\n",
       "      <td>31.126027</td>\n",
       "    </tr>\n",
       "  </tbody>\n",
       "</table>\n",
       "</div>"
      ],
      "text/plain": [
       "  cla_age_5  sexe  dept    prev Niveau prioritaire        no2         o3  \\\n",
       "0     85-89     2    77  12.957              1,2,3  30.123288  35.389041   \n",
       "1     85-89     2    91  11.572              1,2,3  28.649315  34.536986   \n",
       "2     85-89     2    93  12.874              1,2,3  35.931507  32.013699   \n",
       "3     85-89     1    77  13.863              1,2,3  30.123288  35.389041   \n",
       "4     85-89     1    78  11.992              1,2,3  27.378082  35.106849   \n",
       "\n",
       "        pm10  \n",
       "0  33.205479  \n",
       "1  30.945205  \n",
       "2  34.789041  \n",
       "3  33.205479  \n",
       "4  31.126027  "
      ]
     },
     "metadata": {},
     "output_type": "display_data"
    }
   ],
   "source": [
    "Principal_data4 = Principal_data3\n",
    "# Fonction pour remplacer les valeurs 9 par le sexe le plus courant\n",
    "def remplacer_sexe(row):\n",
    "    if row['sexe'] == 9:\n",
    "        # Trouver le mode pour le département et la classe d'âge correspondants\n",
    "        return sexe_mode.get((row['dept'], row['cla_age_5']), 9)  # Retourner 9 si aucune correspondance\n",
    "    return row['sexe']\n",
    "\n",
    "# Appliquer le remplacement à la colonne 'sexe'\n",
    "Principal_data4['sexe'] = Principal_data4.apply(remplacer_sexe, axis=1)\n",
    "\n",
    "# Afficher les premières lignes pour vérifier\n",
    "Principal_data4.head()"
   ]
  },
  {
   "cell_type": "code",
   "execution_count": null,
   "metadata": {},
   "outputs": [
    {
     "name": "stdout",
     "output_type": "stream",
     "text": [
      "Nombre de valeurs 9 restantes : 0\n"
     ]
    }
   ],
   "source": [
    "print(f\"Nombre de valeurs 9 restantes : {(Principal_data4['sexe'] == 9).sum()}\")\n"
   ]
  },
  {
   "cell_type": "code",
   "execution_count": null,
   "metadata": {},
   "outputs": [
    {
     "name": "stdout",
     "output_type": "stream",
     "text": [
      "cla_age_5             0\n",
      "sexe                  0\n",
      "dept                  0\n",
      "prev                  0\n",
      "Niveau prioritaire    0\n",
      "no2                   0\n",
      "o3                    0\n",
      "pm10                  0\n",
      "dtype: int64\n",
      "Fichier  sauvegardé avec succès.\n"
     ]
    }
   ],
   "source": [
    "#derniere verification .\n",
    "print(Principal_data4.isna().sum())\n",
    "\n",
    "Principal_data4.to_csv(\"Principal_data4.csv\", index=False)\n",
    "\n",
    "print(\"Fichier  sauvegardé avec succès.\")"
   ]
  },
  {
   "cell_type": "markdown",
   "metadata": {},
   "source": [
    "Avant de commencer toute modélisation, nous allons effectuer l’encodage des variables catégorielles, notamment la classe d’âge. Le sexe est déjà encodé de manière ordinale, mais nous devons nous assurer que l’ensemble des variables soit encodé de manière uniforme. L’encodage sera réalisé dans un dossier distinc"
   ]
  }
 ],
 "metadata": {
  "kernelspec": {
   "display_name": "Python 3",
   "language": "python",
   "name": "python3"
  },
  "language_info": {
   "codemirror_mode": {
    "name": "ipython",
    "version": 3
   },
   "file_extension": ".py",
   "mimetype": "text/x-python",
   "name": "python",
   "nbconvert_exporter": "python",
   "pygments_lexer": "ipython3",
   "version": "3.12.0"
  }
 },
 "nbformat": 4,
 "nbformat_minor": 2
}
