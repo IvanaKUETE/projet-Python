{
 "cells": [
  {
   "cell_type": "markdown",
   "metadata": {},
   "source": [
    "<h1 style=\"border: thick double #32a1ce; text-align:center;border-radius:35px\">\n",
    "Projet Python pour la data science\n",
    "</h1>"
   ]
  },
  {
   "cell_type": "raw",
   "metadata": {
    "vscode": {
     "languageId": "raw"
    }
   },
   "source": [
    "pip install missingno\n",
    "pip install openpyxl"
   ]
  },
  {
   "cell_type": "markdown",
   "metadata": {},
   "source": [
    "<h1 style=\"text-align: center\"> \n",
    "Prérequis \n",
    "</h1>"
   ]
  },
  {
   "cell_type": "code",
   "execution_count": 1,
   "metadata": {},
   "outputs": [],
   "source": [
    "# Librairies standards\n",
    "import zipfile\n",
    "import os\n",
    "import numpy as np\n",
    "import pandas as pd\n",
    "import matplotlib.pyplot as plt\n",
    "import seaborn as sns\n",
    "from math import radians, cos, sin, asin, sqrt\n",
    "import warnings\n",
    "warnings.filterwarnings('ignore')\n",
    "from pathlib import Path"
   ]
  },
  {
   "cell_type": "code",
   "execution_count": 2,
   "metadata": {},
   "outputs": [
    {
     "name": "stdout",
     "output_type": "stream",
     "text": [
      "Work directory: c:\\Users\\HP\\Documents\\Cours 2AD ENSAE\\Semestre 1\\Python pour data science\\indice de l'air\\projet-Python\\projet \n",
      "Data directory: c:\\Users\\HP\\Documents\\Cours 2AD ENSAE\\Semestre 1\\Python pour data science\\indice de l'air\\projet-Python\\projet\\data\n"
     ]
    }
   ],
   "source": [
    "# Définition du répertoire de travail\n",
    "HOME_DIR = Path.cwd().parent\n",
    "DATA_DIR = Path(HOME_DIR, \"data\")\n",
    "print(f\"Work directory: {HOME_DIR} \\nData directory: {DATA_DIR}\")"
   ]
  },
  {
   "cell_type": "markdown",
   "metadata": {},
   "source": [
    "<h1 style=\" text-align:center\">\n",
    "1.Description des données \n",
    "</h1>"
   ]
  },
  {
   "cell_type": "markdown",
   "metadata": {},
   "source": [
    "<h2 style=\" text-align:left\">\n",
    "1.1- Chargement des bases \n",
    "</h2>"
   ]
  },
  {
   "cell_type": "markdown",
   "metadata": {},
   "source": [
    "Dans le cadre de notre travail nous allons utiliser 05 bases de données qui porte essentiellement sur: \n",
    "   dans cette partie il est question de chargé et visualiser nos  differentes  bases de données."
   ]
  },
  {
   "cell_type": "markdown",
   "metadata": {},
   "source": [
    "<h3 style=\" text-align:left\">\n",
    "a. Données sur la qualité de l'air  \n",
    "</h3>"
   ]
  },
  {
   "cell_type": "code",
   "execution_count": 3,
   "metadata": {},
   "outputs": [
    {
     "data": {
      "text/html": [
       "<div>\n",
       "<style scoped>\n",
       "    .dataframe tbody tr th:only-of-type {\n",
       "        vertical-align: middle;\n",
       "    }\n",
       "\n",
       "    .dataframe tbody tr th {\n",
       "        vertical-align: top;\n",
       "    }\n",
       "\n",
       "    .dataframe thead th {\n",
       "        text-align: right;\n",
       "    }\n",
       "</style>\n",
       "<table border=\"1\" class=\"dataframe\">\n",
       "  <thead>\n",
       "    <tr style=\"text-align: right;\">\n",
       "      <th></th>\n",
       "      <th>date</th>\n",
       "      <th>ninsee</th>\n",
       "      <th>no2</th>\n",
       "      <th>o3</th>\n",
       "      <th>pm10</th>\n",
       "    </tr>\n",
       "  </thead>\n",
       "  <tbody>\n",
       "    <tr>\n",
       "      <th>0</th>\n",
       "      <td>01/01/2017</td>\n",
       "      <td>0</td>\n",
       "      <td>23</td>\n",
       "      <td>16</td>\n",
       "      <td>43</td>\n",
       "    </tr>\n",
       "    <tr>\n",
       "      <th>1</th>\n",
       "      <td>01/01/2017</td>\n",
       "      <td>75</td>\n",
       "      <td>23</td>\n",
       "      <td>8</td>\n",
       "      <td>38</td>\n",
       "    </tr>\n",
       "    <tr>\n",
       "      <th>2</th>\n",
       "      <td>01/01/2017</td>\n",
       "      <td>77</td>\n",
       "      <td>19</td>\n",
       "      <td>17</td>\n",
       "      <td>44</td>\n",
       "    </tr>\n",
       "    <tr>\n",
       "      <th>3</th>\n",
       "      <td>01/01/2017</td>\n",
       "      <td>78</td>\n",
       "      <td>16</td>\n",
       "      <td>15</td>\n",
       "      <td>32</td>\n",
       "    </tr>\n",
       "    <tr>\n",
       "      <th>4</th>\n",
       "      <td>01/01/2017</td>\n",
       "      <td>91</td>\n",
       "      <td>14</td>\n",
       "      <td>16</td>\n",
       "      <td>34</td>\n",
       "    </tr>\n",
       "  </tbody>\n",
       "</table>\n",
       "</div>"
      ],
      "text/plain": [
       "         date  ninsee  no2  o3  pm10\n",
       "0  01/01/2017       0   23  16    43\n",
       "1  01/01/2017      75   23   8    38\n",
       "2  01/01/2017      77   19  17    44\n",
       "3  01/01/2017      78   16  15    32\n",
       "4  01/01/2017      91   14  16    34"
      ]
     },
     "execution_count": 3,
     "metadata": {},
     "output_type": "execute_result"
    }
   ],
   "source": [
    "qualite_air = pd.read_csv(Path(DATA_DIR, \"indices_QA_commune_IDF_2017.csv\"), sep=\",\")\n",
    "qualite_air.head(5)"
   ]
  },
  {
   "cell_type": "code",
   "execution_count": 8,
   "metadata": {},
   "outputs": [
    {
     "name": "stdout",
     "output_type": "stream",
     "text": [
      "<class 'pandas.core.frame.DataFrame'>\n",
      "RangeIndex: 476485 entries, 0 to 476484\n",
      "Data columns (total 5 columns):\n",
      " #   Column  Non-Null Count   Dtype \n",
      "---  ------  --------------   ----- \n",
      " 0   date    476485 non-null  object\n",
      " 1   ninsee  476485 non-null  int64 \n",
      " 2   no2     476485 non-null  int64 \n",
      " 3   o3      476485 non-null  int64 \n",
      " 4   pm10    476485 non-null  int64 \n",
      "dtypes: int64(4), object(1)\n",
      "memory usage: 18.2+ MB\n"
     ]
    }
   ],
   "source": [
    "qualite_air.info()"
   ]
  },
  {
   "cell_type": "markdown",
   "metadata": {
    "vscode": {
     "languageId": "html"
    }
   },
   "source": [
    "Description : Notre  base ne contient aucune valeur manquante. \n",
    "\n",
    "Variable : \n",
    "<ul>\n",
    "    <li> date : La date de mesure de la qualité de l’air.</li>\n",
    "    <li>ninsee: code postale des département de l'ile de France. Le code INSEE de la commune ou de l’arrondissement parisien.</li>\n",
    "    <li>NO2 (dioxyde d’azote) : Mesuré en µg/m³, ce polluant provient principalement des émissions des véhicules et des processus industriels. Il est un indicateur important de la pollution de l’air en milieu urbain.</li>\n",
    "    <li> O3 (ozone) : Mesuré en µg/m³, l’ozone troposphérique est un polluant secondaire formé par des réactions chimiques entre d’autres polluants (comme les NOx et les COV) sous l’effet de la lumière solaire. Il est souvent plus présent en été.</li>\n",
    "    <li> PM10 (particules fines) : Mesuré en µg/m³, ce sont des particules en suspension dans l’air dont le diamètre est inférieur à 10 micromètres. Elles proviennent de diverses sources, y compris les émissions des véhicules, les industries, et les activités de construction.</li>\n",
    "</ul>\n",
    "\n",
    "Comparaison pratique :\n",
    "1 µg est une quantité minuscule. C'est l'équivalent de la masse d'une particule de poussière.\n",
    "Dans un mètre cube (environ la taille d'une cabine téléphonique ou d'un petit ascenseur), cela revient à une infime quantité presque imperceptible à l'œil nu.\n",
    "\n",
    "Exemple concret d'analogie :\n",
    "Imaginez que vous dissolvez un grain de sel de table (environ 58 mg) dans une piscine olympique (2,5 millions de litres). La concentration en sel serait proche de 23 µg/m³ dans l'eau.\n",
    "\n"
   ]
  },
  {
   "cell_type": "code",
   "execution_count": 10,
   "metadata": {},
   "outputs": [
    {
     "name": "stdout",
     "output_type": "stream",
     "text": [
      "\n",
      "Analyse de la variable quantitative : no2\n",
      "count    476485.000000\n",
      "mean         18.016225\n",
      "std           9.368416\n",
      "min           1.000000\n",
      "25%          11.000000\n",
      "50%          15.000000\n",
      "75%          23.000000\n",
      "max          64.000000\n",
      "Name: no2, dtype: float64\n"
     ]
    },
    {
     "data": {
      "image/png": "[encoded data removed]",
      "text/plain": [
       "<Figure size 800x400 with 1 Axes>"
      ]
     },
     "metadata": {},
     "output_type": "display_data"
    },
    {
     "name": "stdout",
     "output_type": "stream",
     "text": [
      "\n",
      "Analyse de la variable quantitative : o3\n",
      "count    476485.000000\n",
      "mean         31.834522\n",
      "std          10.959234\n",
      "min           1.000000\n",
      "25%          25.000000\n",
      "50%          31.000000\n",
      "75%          38.000000\n",
      "max          97.000000\n",
      "Name: o3, dtype: float64\n"
     ]
    },
    {
     "data": {
      "image/png": "[encoded data removed]",
      "text/plain": [
       "<Figure size 800x400 with 1 Axes>"
      ]
     },
     "metadata": {},
     "output_type": "display_data"
    },
    {
     "name": "stdout",
     "output_type": "stream",
     "text": [
      "\n",
      "Analyse de la variable quantitative : pm10\n",
      "count    476485.000000\n",
      "mean         26.724308\n",
      "std          14.170604\n",
      "min           2.000000\n",
      "25%          17.000000\n",
      "50%          24.000000\n",
      "75%          32.000000\n",
      "max          99.000000\n",
      "Name: pm10, dtype: float64\n"
     ]
    },
    {
     "data": {
      "image/png": "[encoded data removed]",
      "text/plain": [
       "<Figure size 800x400 with 1 Axes>"
      ]
     },
     "metadata": {},
     "output_type": "display_data"
    }
   ],
   "source": [
    "quantitative_vars = ['no2', 'o3', 'pm10']\n",
    "\n",
    "for col in quantitative_vars:\n",
    "    print(f\"\\nAnalyse de la variable quantitative : {col}\")\n",
    "    print(qualite_air[col].describe())\n",
    "    \n",
    "    # Histogramme\n",
    "    plt.figure(figsize=(8, 4))\n",
    "    sns.histplot(qualite_air[col], kde=True, bins=30, stat=\"percent\", color='blue')\n",
    "    plt.title(f\"Distribution de {col}\")\n",
    "    plt.xlabel(col)\n",
    "    plt.ylabel(\"Fréquence\")\n",
    "    plt.show()\n"
   ]
  },
  {
   "cell_type": "markdown",
   "metadata": {},
   "source": [
    "La concentration en o3 est assez symétrique contrairement à no2 et pm10 qui sont présentent une asymétrie. Cela témoingne du fait que les faibles concentrations sont beaucoup plus représentées dans no2 et pm10. Comme nous souhaitons faire une fusion de bases de données, nous allons devoir résumer la base relative aux indices de l'air en données annuelles par département. Ces analyses univariées suggèrent  d'apporter certaines modifications aux variables pm10 et no2 afin de mieux savoir qu'elle statistique résumerait au mieux l'information dans ces variables."
   ]
  },
  {
   "cell_type": "code",
   "execution_count": null,
   "metadata": {},
   "outputs": [
    {
     "name": "stdout",
     "output_type": "stream",
     "text": [
      "Résumé pour la variable 'date':\n",
      "            Fréquence absolue  Fréquence relative (%)\n",
      "date                                                 \n",
      "31/12/2017               1309                0.274720\n",
      "01/01/2017               1309                0.274720\n",
      "02/01/2017               1309                0.274720\n",
      "03/01/2017               1309                0.274720\n",
      "04/01/2017               1309                0.274720\n",
      "...                       ...                     ...\n",
      "18/01/2017               1309                0.274720\n",
      "19/01/2017               1309                0.274720\n",
      "20/01/2017               1309                0.274720\n",
      "21/01/2017               1309                0.274720\n",
      "27/09/2017                  9                0.001889\n",
      "\n",
      "[365 rows x 2 columns]\n",
      "\n",
      "\n",
      "Résumé pour la variable 'ninsee':\n",
      "        Fréquence absolue  Fréquence relative (%)\n",
      "ninsee                                           \n",
      "93                    365                0.076603\n",
      "92                    365                0.076603\n",
      "91                    365                0.076603\n",
      "78                    365                0.076603\n",
      "77                    365                0.076603\n",
      "...                   ...                     ...\n",
      "77425                 364                0.076393\n",
      "77424                 364                0.076393\n",
      "77423                 364                0.076393\n",
      "77421                 364                0.076393\n",
      "77432                 364                0.076393\n",
      "\n",
      "[1309 rows x 2 columns]\n",
      "\n",
      "\n"
     ]
    }
   ],
   "source": [
    "# Pour chaque variable qualitative\n",
    "qualitative_vars = ['date', 'ninsee']\n",
    "for var in qualitative_vars:\n",
    "    print(f\"Résumé pour la variable '{var}':\")\n",
    "    freq_abs = qualite_air[var].value_counts()\n",
    "    freq_rel = qualite_air[var].value_counts(normalize=True) * 100\n",
    "    summary = pd.DataFrame({\"Fréquence absolue\": freq_abs, \"Fréquence relative (%)\": freq_rel})\n",
    "    print(summary)\n",
    "    print(\"\\n\")\n"
   ]
  },
  {
   "cell_type": "code",
   "execution_count": 15,
   "metadata": {},
   "outputs": [
    {
     "name": "stdout",
     "output_type": "stream",
     "text": [
      "\n",
      "Analyse de la variable qualitative : date\n",
      "Nombre de valeurs uniques : 365\n",
      "Valeur(s) la/les plus fréquente(s) dans 'date' avec 1309 occurrences :\n",
      "['01/01/2017', '08/09/2017', '06/09/2017', '05/09/2017', '04/09/2017', '03/09/2017', '02/09/2017', '01/09/2017', '31/08/2017', '30/08/2017', '29/08/2017', '28/08/2017', '27/08/2017', '26/08/2017', '25/08/2017', '24/08/2017', '23/08/2017', '22/08/2017', '21/08/2017', '20/08/2017', '19/08/2017', '07/09/2017', '09/09/2017', '17/08/2017', '10/09/2017', '30/09/2017', '29/09/2017', '28/09/2017', '26/09/2017', '25/09/2017', '24/09/2017', '23/09/2017', '22/09/2017', '21/09/2017', '20/09/2017', '19/09/2017', '18/09/2017', '17/09/2017', '16/09/2017', '15/09/2017', '14/09/2017', '13/09/2017', '12/09/2017', '11/09/2017', '18/08/2017', '16/08/2017', '02/01/2017', '24/07/2017', '22/07/2017', '21/07/2017', '20/07/2017', '19/07/2017', '18/07/2017', '17/07/2017', '16/07/2017', '15/07/2017', '14/07/2017', '13/07/2017', '12/07/2017', '11/07/2017', '10/07/2017', '09/07/2017', '08/07/2017', '07/07/2017', '06/07/2017', '05/07/2017', '04/07/2017', '23/07/2017', '25/07/2017', '15/08/2017', '26/07/2017', '14/08/2017', '13/08/2017', '12/08/2017', '11/08/2017', '10/08/2017', '09/08/2017', '08/08/2017', '07/08/2017', '06/08/2017', '05/08/2017', '04/08/2017', '03/08/2017', '02/08/2017', '01/08/2017', '31/07/2017', '30/07/2017', '29/07/2017', '28/07/2017', '27/07/2017', '01/10/2017', '02/10/2017', '03/10/2017', '09/12/2017', '07/12/2017', '06/12/2017', '05/12/2017', '04/12/2017', '03/12/2017', '02/12/2017', '01/12/2017', '30/11/2017', '29/11/2017', '28/11/2017', '27/11/2017', '26/11/2017', '25/11/2017', '24/11/2017', '23/11/2017', '22/11/2017', '21/11/2017', '20/11/2017', '19/11/2017', '08/12/2017', '10/12/2017', '04/10/2017', '11/12/2017', '30/12/2017', '29/12/2017', '28/12/2017', '27/12/2017', '26/12/2017', '25/12/2017', '24/12/2017', '23/12/2017', '22/12/2017', '21/12/2017', '20/12/2017', '19/12/2017', '18/12/2017', '17/12/2017', '16/12/2017', '15/12/2017', '14/12/2017', '13/12/2017', '12/12/2017', '18/11/2017', '17/11/2017', '16/11/2017', '15/11/2017', '23/10/2017', '22/10/2017', '21/10/2017', '20/10/2017', '19/10/2017', '18/10/2017', '17/10/2017', '16/10/2017', '15/10/2017', '14/10/2017', '13/10/2017', '12/10/2017', '11/10/2017', '10/10/2017', '09/10/2017', '08/10/2017', '07/10/2017', '06/10/2017', '05/10/2017', '24/10/2017', '25/10/2017', '26/10/2017', '06/11/2017', '14/11/2017', '13/11/2017', '12/11/2017', '11/11/2017', '10/11/2017', '09/11/2017', '08/11/2017', '07/11/2017', '05/11/2017', '27/10/2017', '04/11/2017', '03/11/2017', '02/11/2017', '01/11/2017', '31/10/2017', '30/10/2017', '29/10/2017', '28/10/2017', '03/07/2017', '02/07/2017', '01/07/2017', '10/03/2017', '08/03/2017', '07/03/2017', '06/03/2017', '05/03/2017', '04/03/2017', '03/03/2017', '02/03/2017', '01/03/2017', '28/02/2017', '27/02/2017', '26/02/2017', '25/02/2017', '24/02/2017', '23/02/2017', '22/02/2017', '21/02/2017', '20/02/2017', '19/02/2017', '18/02/2017', '09/03/2017', '11/03/2017', '16/02/2017', '12/03/2017', '31/03/2017', '30/03/2017', '29/03/2017', '28/03/2017', '27/03/2017', '26/03/2017', '25/03/2017', '24/03/2017', '23/03/2017', '22/03/2017', '21/03/2017', '20/03/2017', '19/03/2017', '18/03/2017', '17/03/2017', '16/03/2017', '15/03/2017', '14/03/2017', '13/03/2017', '17/02/2017', '15/02/2017', '30/06/2017', '23/01/2017', '21/01/2017', '20/01/2017', '19/01/2017', '18/01/2017', '17/01/2017', '16/01/2017', '15/01/2017', '14/01/2017', '13/01/2017', '12/01/2017', '11/01/2017', '10/01/2017', '09/01/2017', '08/01/2017', '07/01/2017', '06/01/2017', '05/01/2017', '04/01/2017', '03/01/2017', '22/01/2017', '24/01/2017', '14/02/2017', '25/01/2017', '13/02/2017', '12/02/2017', '11/02/2017', '10/02/2017', '09/02/2017', '08/02/2017', '07/02/2017', '06/02/2017', '05/02/2017', '04/02/2017', '03/02/2017', '02/02/2017', '01/02/2017', '31/01/2017', '30/01/2017', '29/01/2017', '28/01/2017', '27/01/2017', '26/01/2017', '01/04/2017', '02/04/2017', '03/04/2017', '08/06/2017', '06/06/2017', '05/06/2017', '04/06/2017', '03/06/2017', '02/06/2017', '01/06/2017', '31/05/2017', '30/05/2017', '29/05/2017', '28/05/2017', '27/05/2017', '26/05/2017', '25/05/2017', '24/05/2017', '23/05/2017', '22/05/2017', '21/05/2017', '20/05/2017', '19/05/2017', '07/06/2017', '09/06/2017', '04/04/2017', '10/06/2017', '29/06/2017', '28/06/2017', '27/06/2017', '26/06/2017', '25/06/2017', '24/06/2017', '23/06/2017', '22/06/2017', '21/06/2017', '20/06/2017', '19/06/2017', '18/06/2017', '17/06/2017', '16/06/2017', '15/06/2017', '14/06/2017', '13/06/2017', '12/06/2017', '11/06/2017', '18/05/2017', '17/05/2017', '16/05/2017', '14/04/2017', '22/04/2017', '21/04/2017', '20/04/2017', '19/04/2017', '18/04/2017', '17/04/2017', '16/04/2017', '15/04/2017', '13/04/2017', '15/05/2017', '12/04/2017', '11/04/2017', '10/04/2017', '09/04/2017', '08/04/2017', '07/04/2017', '06/04/2017', '05/04/2017', '23/04/2017', '24/04/2017', '25/04/2017', '26/04/2017', '14/05/2017', '13/05/2017', '12/05/2017', '11/05/2017', '10/05/2017', '09/05/2017', '08/05/2017', '07/05/2017', '06/05/2017', '05/05/2017', '04/05/2017', '03/05/2017', '02/05/2017', '01/05/2017', '30/04/2017', '29/04/2017', '28/04/2017', '27/04/2017', '31/12/2017']\n",
      "Nombre de modalités avec ce nombre maximal d'occurrences : 364\n",
      "\n",
      "Analyse de la variable qualitative : ninsee\n",
      "Nombre de valeurs uniques : 1309\n",
      "Valeur(s) la/les plus fréquente(s) dans 'ninsee' avec 365 occurrences :\n",
      "[0, 77, 78, 91, 92, 93, 94, 95, 75]\n",
      "Nombre de modalités avec ce nombre maximal d'occurrences : 9\n"
     ]
    }
   ],
   "source": [
    "#Nous allons présenter ces variables de façon agrégée\n",
    "\n",
    "for col in qualitative_vars:\n",
    "    print(f\"\\nAnalyse de la variable qualitative : {col}\")\n",
    "    \n",
    "    # Nombre de valeurs uniques\n",
    "    unique_count = qualite_air[col].nunique()\n",
    "    print(f\"Nombre de valeurs uniques : {unique_count}\")\n",
    "    \n",
    "    # Valeur la plus fréquente et son nombre d'occurrences\n",
    "    value_counts = qualite_air[col].value_counts()\n",
    "    most_common_count = value_counts.max()  # Nombre maximal d'occurrences\n",
    "    most_common_values = value_counts[value_counts == most_common_count]\n",
    "    \n",
    "    # Afficher la valeur la plus fréquente et son nombre d'occurrences\n",
    "    print(f\"Valeur(s) la/les plus fréquente(s) dans '{col}' avec {most_common_count} occurrences :\")\n",
    "    print(most_common_values.index.tolist())\n",
    "    \n",
    "    # Nombre de modalités ayant ce nombre maximal d'occurrences\n",
    "    num_modalities = most_common_values.shape[0]\n",
    "    print(f\"Nombre de modalités avec ce nombre maximal d'occurrences : {num_modalities}\")\n"
   ]
  },
  {
   "cell_type": "markdown",
   "metadata": {},
   "source": [
    "Ici est présenté le fait que les données sont collectées sur les 365 jours de l'année 2017 et pour chaque jour, chacun des 8 départements (Paris (75); Seine-et-Marne (77); Yvelines (78); Essonne (91); Hauts-de-Seine (92); Seine-Saint-Denis (93); Val-de-Marne (94); Val-d’Oise (95)) de la région parisienne (0) a une valeurs qui y est associée. Justifiant ainsi le fait que nous souhaitons \"résumer\" les informations de façon anuelle et par département. En ce qui concerne les valeurs désagrégées (par arrondissement), nous n'en n'auront pas besoin car notre étude se limite au niveau départemental."
   ]
  },
  {
   "cell_type": "markdown",
   "metadata": {},
   "source": [
    "<h3 style=\" text-align:left\">\n",
    "b. Données sur les pathologies  \n",
    "</h3>"
   ]
  },
  {
   "cell_type": "markdown",
   "metadata": {},
   "source": [
    "La base sur les pathologies respiratoires étant très volumineuse, nous avons dû la zipper pour la placer sur github. Nous allons donc la \"dézipper\" afin d'accéder aux données;"
   ]
  },
  {
   "cell_type": "code",
   "execution_count": 16,
   "metadata": {},
   "outputs": [
    {
     "name": "stdout",
     "output_type": "stream",
     "text": [
      "Fichier effectifs (4).csv extrait avec succès dans c:\\Users\\HP\\Documents\\Cours 2AD ENSAE\\Semestre 1\\Python pour data science\\indice de l'air\\projet-Python\\projet\\data !\n"
     ]
    }
   ],
   "source": [
    "import zipfile\n",
    "from pathlib import Path\n",
    "\n",
    "# Chemins\n",
    "zip_path = Path(DATA_DIR, \"effectifs (4).csv.zip\")  # Fichier ZIP\n",
    "extract_path = Path(DATA_DIR)  # Dossier où extraire les fichiers\n",
    "\n",
    "# Nom du fichier à extraire depuis l'archive\n",
    "file_to_extract = \"effectifs (4).csv\"\n",
    "\n",
    "# Extraction\n",
    "with zipfile.ZipFile(zip_path, 'r') as zip_ref:\n",
    "    # Extraire uniquement un fichier spécifique\n",
    "    effectifs = zip_ref.extract(file_to_extract, extract_path)\n",
    "    print(f\"Fichier {file_to_extract} extrait avec succès dans {extract_path} !\")\n",
    "\n"
   ]
  },
  {
   "cell_type": "code",
   "execution_count": 17,
   "metadata": {},
   "outputs": [
    {
     "data": {
      "text/html": [
       "<div>\n",
       "<style scoped>\n",
       "    .dataframe tbody tr th:only-of-type {\n",
       "        vertical-align: middle;\n",
       "    }\n",
       "\n",
       "    .dataframe tbody tr th {\n",
       "        vertical-align: top;\n",
       "    }\n",
       "\n",
       "    .dataframe thead th {\n",
       "        text-align: right;\n",
       "    }\n",
       "</style>\n",
       "<table border=\"1\" class=\"dataframe\">\n",
       "  <thead>\n",
       "    <tr style=\"text-align: right;\">\n",
       "      <th></th>\n",
       "      <th>annee</th>\n",
       "      <th>patho_niv1</th>\n",
       "      <th>patho_niv2</th>\n",
       "      <th>patho_niv3</th>\n",
       "      <th>top</th>\n",
       "      <th>cla_age_5</th>\n",
       "      <th>sexe</th>\n",
       "      <th>region</th>\n",
       "      <th>dept</th>\n",
       "      <th>Ntop</th>\n",
       "      <th>Npop</th>\n",
       "      <th>prev</th>\n",
       "      <th>Niveau prioritaire</th>\n",
       "      <th>libelle_classe_age</th>\n",
       "      <th>libelle_sexe</th>\n",
       "      <th>tri</th>\n",
       "    </tr>\n",
       "  </thead>\n",
       "  <tbody>\n",
       "    <tr>\n",
       "      <th>0</th>\n",
       "      <td>2017</td>\n",
       "      <td>Total consommants tous régimes</td>\n",
       "      <td>Total consommants tous régimes</td>\n",
       "      <td>Total consommants tous régimes</td>\n",
       "      <td>POP_TOT_IND</td>\n",
       "      <td>80-84</td>\n",
       "      <td>9</td>\n",
       "      <td>1</td>\n",
       "      <td>971</td>\n",
       "      <td>9520.0</td>\n",
       "      <td>9520</td>\n",
       "      <td>100.0</td>\n",
       "      <td>NaN</td>\n",
       "      <td>de 80 à 84 ans</td>\n",
       "      <td>tous sexes</td>\n",
       "      <td>NaN</td>\n",
       "    </tr>\n",
       "    <tr>\n",
       "      <th>1</th>\n",
       "      <td>2017</td>\n",
       "      <td>Total consommants tous régimes</td>\n",
       "      <td>Total consommants tous régimes</td>\n",
       "      <td>Total consommants tous régimes</td>\n",
       "      <td>POP_TOT_IND</td>\n",
       "      <td>80-84</td>\n",
       "      <td>9</td>\n",
       "      <td>2</td>\n",
       "      <td>999</td>\n",
       "      <td>10650.0</td>\n",
       "      <td>10650</td>\n",
       "      <td>100.0</td>\n",
       "      <td>NaN</td>\n",
       "      <td>de 80 à 84 ans</td>\n",
       "      <td>tous sexes</td>\n",
       "      <td>NaN</td>\n",
       "    </tr>\n",
       "    <tr>\n",
       "      <th>2</th>\n",
       "      <td>2017</td>\n",
       "      <td>Total consommants tous régimes</td>\n",
       "      <td>Total consommants tous régimes</td>\n",
       "      <td>Total consommants tous régimes</td>\n",
       "      <td>POP_TOT_IND</td>\n",
       "      <td>80-84</td>\n",
       "      <td>9</td>\n",
       "      <td>4</td>\n",
       "      <td>974</td>\n",
       "      <td>12430.0</td>\n",
       "      <td>12430</td>\n",
       "      <td>100.0</td>\n",
       "      <td>NaN</td>\n",
       "      <td>de 80 à 84 ans</td>\n",
       "      <td>tous sexes</td>\n",
       "      <td>NaN</td>\n",
       "    </tr>\n",
       "    <tr>\n",
       "      <th>3</th>\n",
       "      <td>2017</td>\n",
       "      <td>Total consommants tous régimes</td>\n",
       "      <td>Total consommants tous régimes</td>\n",
       "      <td>Total consommants tous régimes</td>\n",
       "      <td>POP_TOT_IND</td>\n",
       "      <td>80-84</td>\n",
       "      <td>9</td>\n",
       "      <td>4</td>\n",
       "      <td>999</td>\n",
       "      <td>12430.0</td>\n",
       "      <td>12430</td>\n",
       "      <td>100.0</td>\n",
       "      <td>NaN</td>\n",
       "      <td>de 80 à 84 ans</td>\n",
       "      <td>tous sexes</td>\n",
       "      <td>NaN</td>\n",
       "    </tr>\n",
       "    <tr>\n",
       "      <th>4</th>\n",
       "      <td>2017</td>\n",
       "      <td>Total consommants tous régimes</td>\n",
       "      <td>Total consommants tous régimes</td>\n",
       "      <td>Total consommants tous régimes</td>\n",
       "      <td>POP_TOT_IND</td>\n",
       "      <td>80-84</td>\n",
       "      <td>9</td>\n",
       "      <td>6</td>\n",
       "      <td>976</td>\n",
       "      <td>550.0</td>\n",
       "      <td>550</td>\n",
       "      <td>100.0</td>\n",
       "      <td>NaN</td>\n",
       "      <td>de 80 à 84 ans</td>\n",
       "      <td>tous sexes</td>\n",
       "      <td>NaN</td>\n",
       "    </tr>\n",
       "    <tr>\n",
       "      <th>5</th>\n",
       "      <td>2017</td>\n",
       "      <td>Total consommants tous régimes</td>\n",
       "      <td>Total consommants tous régimes</td>\n",
       "      <td>Total consommants tous régimes</td>\n",
       "      <td>POP_TOT_IND</td>\n",
       "      <td>80-84</td>\n",
       "      <td>9</td>\n",
       "      <td>11</td>\n",
       "      <td>75</td>\n",
       "      <td>49460.0</td>\n",
       "      <td>49460</td>\n",
       "      <td>100.0</td>\n",
       "      <td>NaN</td>\n",
       "      <td>de 80 à 84 ans</td>\n",
       "      <td>tous sexes</td>\n",
       "      <td>NaN</td>\n",
       "    </tr>\n",
       "  </tbody>\n",
       "</table>\n",
       "</div>"
      ],
      "text/plain": [
       "   annee                      patho_niv1                      patho_niv2  \\\n",
       "0   2017  Total consommants tous régimes  Total consommants tous régimes   \n",
       "1   2017  Total consommants tous régimes  Total consommants tous régimes   \n",
       "2   2017  Total consommants tous régimes  Total consommants tous régimes   \n",
       "3   2017  Total consommants tous régimes  Total consommants tous régimes   \n",
       "4   2017  Total consommants tous régimes  Total consommants tous régimes   \n",
       "5   2017  Total consommants tous régimes  Total consommants tous régimes   \n",
       "\n",
       "                       patho_niv3          top cla_age_5  sexe  region dept  \\\n",
       "0  Total consommants tous régimes  POP_TOT_IND     80-84     9       1  971   \n",
       "1  Total consommants tous régimes  POP_TOT_IND     80-84     9       2  999   \n",
       "2  Total consommants tous régimes  POP_TOT_IND     80-84     9       4  974   \n",
       "3  Total consommants tous régimes  POP_TOT_IND     80-84     9       4  999   \n",
       "4  Total consommants tous régimes  POP_TOT_IND     80-84     9       6  976   \n",
       "5  Total consommants tous régimes  POP_TOT_IND     80-84     9      11   75   \n",
       "\n",
       "      Ntop   Npop   prev Niveau prioritaire libelle_classe_age libelle_sexe  \\\n",
       "0   9520.0   9520  100.0                NaN     de 80 à 84 ans   tous sexes   \n",
       "1  10650.0  10650  100.0                NaN     de 80 à 84 ans   tous sexes   \n",
       "2  12430.0  12430  100.0                NaN     de 80 à 84 ans   tous sexes   \n",
       "3  12430.0  12430  100.0                NaN     de 80 à 84 ans   tous sexes   \n",
       "4    550.0    550  100.0                NaN     de 80 à 84 ans   tous sexes   \n",
       "5  49460.0  49460  100.0                NaN     de 80 à 84 ans   tous sexes   \n",
       "\n",
       "   tri  \n",
       "0  NaN  \n",
       "1  NaN  \n",
       "2  NaN  \n",
       "3  NaN  \n",
       "4  NaN  \n",
       "5  NaN  "
      ]
     },
     "execution_count": 17,
     "metadata": {},
     "output_type": "execute_result"
    }
   ],
   "source": [
    "import pandas as pd\n",
    "pathologie = pd.read_csv(Path(DATA_DIR,\"effectifs (4).csv\"),sep=';')\n",
    "pathologie.head(6)"
   ]
  },
  {
   "cell_type": "code",
   "execution_count": 18,
   "metadata": {},
   "outputs": [
    {
     "name": "stdout",
     "output_type": "stream",
     "text": [
      "<class 'pandas.core.frame.DataFrame'>\n",
      "RangeIndex: 579600 entries, 0 to 579599\n",
      "Data columns (total 16 columns):\n",
      " #   Column              Non-Null Count   Dtype  \n",
      "---  ------              --------------   -----  \n",
      " 0   annee               579600 non-null  int64  \n",
      " 1   patho_niv1          579600 non-null  object \n",
      " 2   patho_niv2          519120 non-null  object \n",
      " 3   patho_niv3          448560 non-null  object \n",
      " 4   top                 579600 non-null  object \n",
      " 5   cla_age_5           579600 non-null  object \n",
      " 6   sexe                579600 non-null  int64  \n",
      " 7   region              579600 non-null  int64  \n",
      " 8   dept                579600 non-null  object \n",
      " 9   Ntop                421380 non-null  float64\n",
      " 10  Npop                579600 non-null  int64  \n",
      " 11  prev                421380 non-null  float64\n",
      " 12  Niveau prioritaire  572040 non-null  object \n",
      " 13  libelle_classe_age  579600 non-null  object \n",
      " 14  libelle_sexe        579600 non-null  object \n",
      " 15  tri                 572040 non-null  float64\n",
      "dtypes: float64(3), int64(4), object(9)\n",
      "memory usage: 70.8+ MB\n"
     ]
    }
   ],
   "source": [
    "pathologie.info()"
   ]
  },
  {
   "cell_type": "markdown",
   "metadata": {},
   "source": [
    "Explication des variables:\n",
    "\n",
    "- **annee** : L'année de collecte des données. (2017 ici)\n",
    "- **patho_niv1** : Groupe de pathologies (ou traitements chroniques ou épisodes de soins). Type : texte. Exemple : Maladies du foie ou du pancréas (hors mucoviscidose).\n",
    "- **patho_niv2** : Sous-groupe de pathologies (ou traitements chroniques ou épisodes de soins). Type : texte. Exemple : Maladies du foie ou du pancréas (hors mucoviscidose).\n",
    "- **patho_niv3** : Sous-groupe détaillé de pathologies (ou traitements chroniques ou épisodes de soins). Type : texte. Exemple : Maladies du foie ou du pancréas (hors mucoviscidose).\n",
    "- **top** : Libellé technique de la pathologie (ou traitement chronique ou épisode de soins). Type : texte. Exemple : MFP_CAT_EXC (Maladie fonctionnelle primaire, excès.).\n",
    "- **cla_age_5** : Classe d’âge (5 ans). Type : texte. Exemple : 00-04.\n",
    "- **sexe** : Sexe des patients. Type : texte. Exemple : 9.  _Attention: 9 signifie que la mesure n'a pa sété faite de façon désagrégé entre hommes et femmes, mais conjointement._\n",
    "- **region** : Région de résidence des patients. Type : texte. Exemple : 32.\n",
    "- **dept** : Département de résidence des patients. Type : texte. Exemple : 80. _Attention: 999 signifie que la mesure n'a pas été de faite de façon désagrégée par département, mais conjointement sur plusieurs départements._\n",
    "- **Ntop** : Effectif de patients pris en charge pour la pathologie (ou traitement chronique ou épisode de soins) dont il est question. Type : int.\n",
    "- **Npop** : Population de référence qui est celle de la cartographie des pathologies et des dépenses de l’Assurance Maladie, effectif de patients par pathologie, sexe, classe d'âge et territoire (département, région). Type : int. Exemple : 27700.\n",
    "- **prev** : Prévalence de patients pris en charge pour la pathologie (ou traitement chronique ou épisode de soins) dont il est question. Type : décimal.\n",
    "- **Niveau prioritaire** : Niveau de priorité attribué à la pathologie. Type : texte. Exemple : 1, 2, 3. _Lorsqu’une pathologie est associée à plusieurs niveaux de priorité (1, 2, 3), cela peut indiquer que la pathologie en question peut varier en gravité ou en urgence selon les cas individuels._\n",
    "- **libelle_classe_age** : Libellé de la classe d’âge. Type : texte. Exemple : de 0 à 4 ans.\n",
    "- **libelle_sexe** : Libellé du sexe. Type : texte. Exemple : tous sexes. _Note: “Tous sexes” signifie que les données incluent à la fois les hommes et les femmes, sans distinction_\n",
    "- **tri** :  Aucune description disponible pour ce champ. (Variable utilisée pour le tri des données.)\n",
    "\n",
    "Ces variables permettent de structurer et d'analyser les données sur les pathologies et les dépenses de l'Assurance Maladie. "
   ]
  },
  {
   "cell_type": "markdown",
   "metadata": {},
   "source": [
    "Cette base semble ne pas avoir de valeurs manquantes. Cependant elle en possède bel et bien. Ceux-ci sont par exemple codifiés par \"9\" (variable sexe) ou par \"999\" (vaiable départements). \n",
    "\n",
    "**Notre étude devant se faire sur la région parisienne, nous allons faire un filtre pour ne garder que les observations relatives à la région 11 = Île de France.**"
   ]
  },
  {
   "cell_type": "code",
   "execution_count": 21,
   "metadata": {},
   "outputs": [],
   "source": [
    "#on filtre les données par region (on s'interessent a la region parisienne) .\n",
    "filtred_by_rg=pathologie[pathologie['region']==11]\n",
    "#on peut maintenant supprimer la colonne region\n",
    "filtred_by_rg=filtred_by_rg.drop(columns = ['region'])"
   ]
  },
  {
   "cell_type": "code",
   "execution_count": 48,
   "metadata": {},
   "outputs": [
    {
     "name": "stdout",
     "output_type": "stream",
     "text": [
      " patho_niv1: 18 \n",
      " patho_niv2: 48 \n",
      " patho_niv3: 61\n"
     ]
    }
   ],
   "source": [
    "#voir le nombre de pathologie par niveau\n",
    "print(f\" patho_niv1: {filtred_by_rg[\"patho_niv1\"].nunique()} \\n patho_niv2: {filtred_by_rg[\"patho_niv2\"].nunique()} \\n patho_niv3: {filtred_by_rg[\"patho_niv3\"].nunique()}\")"
   ]
  },
  {
   "cell_type": "code",
   "execution_count": 49,
   "metadata": {},
   "outputs": [
    {
     "data": {
      "text/html": [
       "<div>\n",
       "<style scoped>\n",
       "    .dataframe tbody tr th:only-of-type {\n",
       "        vertical-align: middle;\n",
       "    }\n",
       "\n",
       "    .dataframe tbody tr th {\n",
       "        vertical-align: top;\n",
       "    }\n",
       "\n",
       "    .dataframe thead th {\n",
       "        text-align: right;\n",
       "    }\n",
       "</style>\n",
       "<table border=\"1\" class=\"dataframe\">\n",
       "  <thead>\n",
       "    <tr style=\"text-align: right;\">\n",
       "      <th></th>\n",
       "      <th>annee</th>\n",
       "      <th>patho_niv1</th>\n",
       "      <th>patho_niv2</th>\n",
       "      <th>patho_niv3</th>\n",
       "      <th>top</th>\n",
       "      <th>cla_age_5</th>\n",
       "      <th>sexe</th>\n",
       "      <th>dept</th>\n",
       "      <th>Ntop</th>\n",
       "      <th>Npop</th>\n",
       "      <th>prev</th>\n",
       "      <th>Niveau prioritaire</th>\n",
       "      <th>libelle_classe_age</th>\n",
       "      <th>libelle_sexe</th>\n",
       "      <th>tri</th>\n",
       "    </tr>\n",
       "  </thead>\n",
       "  <tbody>\n",
       "    <tr>\n",
       "      <th>13356</th>\n",
       "      <td>2017</td>\n",
       "      <td>Maladies respiratoires chroniques (hors mucovi...</td>\n",
       "      <td>Maladies respiratoires chroniques (hors mucovi...</td>\n",
       "      <td>Maladies respiratoires chroniques (hors mucovi...</td>\n",
       "      <td>RES_CAT_EXC</td>\n",
       "      <td>85-89</td>\n",
       "      <td>2</td>\n",
       "      <td>77</td>\n",
       "      <td>1550.0</td>\n",
       "      <td>11990</td>\n",
       "      <td>12.957</td>\n",
       "      <td>1,2,3</td>\n",
       "      <td>de 85 à 89 ans</td>\n",
       "      <td>femmes</td>\n",
       "      <td>10.0</td>\n",
       "    </tr>\n",
       "    <tr>\n",
       "      <th>13357</th>\n",
       "      <td>2017</td>\n",
       "      <td>Maladies respiratoires chroniques (hors mucovi...</td>\n",
       "      <td>Maladies respiratoires chroniques (hors mucovi...</td>\n",
       "      <td>Maladies respiratoires chroniques (hors mucovi...</td>\n",
       "      <td>RES_CAT_EXC</td>\n",
       "      <td>85-89</td>\n",
       "      <td>2</td>\n",
       "      <td>91</td>\n",
       "      <td>1380.0</td>\n",
       "      <td>11890</td>\n",
       "      <td>11.572</td>\n",
       "      <td>1,2,3</td>\n",
       "      <td>de 85 à 89 ans</td>\n",
       "      <td>femmes</td>\n",
       "      <td>10.0</td>\n",
       "    </tr>\n",
       "  </tbody>\n",
       "</table>\n",
       "</div>"
      ],
      "text/plain": [
       "       annee                                         patho_niv1  \\\n",
       "13356   2017  Maladies respiratoires chroniques (hors mucovi...   \n",
       "13357   2017  Maladies respiratoires chroniques (hors mucovi...   \n",
       "\n",
       "                                              patho_niv2  \\\n",
       "13356  Maladies respiratoires chroniques (hors mucovi...   \n",
       "13357  Maladies respiratoires chroniques (hors mucovi...   \n",
       "\n",
       "                                              patho_niv3          top  \\\n",
       "13356  Maladies respiratoires chroniques (hors mucovi...  RES_CAT_EXC   \n",
       "13357  Maladies respiratoires chroniques (hors mucovi...  RES_CAT_EXC   \n",
       "\n",
       "      cla_age_5  sexe dept    Ntop   Npop    prev Niveau prioritaire  \\\n",
       "13356     85-89     2   77  1550.0  11990  12.957              1,2,3   \n",
       "13357     85-89     2   91  1380.0  11890  11.572              1,2,3   \n",
       "\n",
       "      libelle_classe_age libelle_sexe   tri  \n",
       "13356     de 85 à 89 ans       femmes  10.0  \n",
       "13357     de 85 à 89 ans       femmes  10.0  "
      ]
     },
     "execution_count": 49,
     "metadata": {},
     "output_type": "execute_result"
    }
   ],
   "source": [
    "#Nous ne voulons garder que les maladies respiratoires qui sont en rapport avec la qualité de l'air\n",
    "new_pathologie = filtred_by_rg[filtred_by_rg['patho_niv2'].isin(['Maladies respiratoires chroniques (hors mucoviscidose)',\n",
    "        'Cancer bronchopulmonaire'])]\n",
    "\n",
    "new_pathologie.head(2)"
   ]
  },
  {
   "cell_type": "code",
   "execution_count": 53,
   "metadata": {},
   "outputs": [
    {
     "name": "stdout",
     "output_type": "stream",
     "text": [
      "<class 'pandas.core.frame.DataFrame'>\n",
      "Index: 2268 entries, 13356 to 579572\n",
      "Data columns (total 15 columns):\n",
      " #   Column              Non-Null Count  Dtype  \n",
      "---  ------              --------------  -----  \n",
      " 0   annee               2268 non-null   int64  \n",
      " 1   patho_niv1          2268 non-null   object \n",
      " 2   patho_niv2          2268 non-null   object \n",
      " 3   patho_niv3          1701 non-null   object \n",
      " 4   top                 2268 non-null   object \n",
      " 5   cla_age_5           2268 non-null   object \n",
      " 6   sexe                2268 non-null   object \n",
      " 7   dept                2268 non-null   object \n",
      " 8   Ntop                1562 non-null   float64\n",
      " 9   Npop                2268 non-null   int64  \n",
      " 10  prev                1562 non-null   float64\n",
      " 11  Niveau prioritaire  2268 non-null   object \n",
      " 12  libelle_classe_age  2268 non-null   object \n",
      " 13  libelle_sexe        2268 non-null   object \n",
      " 14  tri                 2268 non-null   float64\n",
      "dtypes: float64(3), int64(2), object(10)\n",
      "memory usage: 283.5+ KB\n"
     ]
    }
   ],
   "source": [
    "new_pathologie.info()"
   ]
  },
  {
   "cell_type": "markdown",
   "metadata": {},
   "source": [
    "Nous allons supprimer des variables:\n",
    "- les redondantes: 'libelle_classe_age' et 'libelle_sexe '\n",
    "- les non nécessaires pour notre problématique: 'annee', 'patho_niv1', 'patho_niv2', 'patho_niv3', 'top'\n",
    "\n",
    "En effet, l'idée étant de calculer la probabilité de contracter une maladie respiratoire, nous n'allons pas faire de distinction dans les niveaux de pathologie, ni voir la maladie spécifique concernée."
   ]
  },
  {
   "cell_type": "code",
   "execution_count": 56,
   "metadata": {},
   "outputs": [],
   "source": [
    "columns_to_drop = ['annee', 'patho_niv1', 'patho_niv2', 'patho_niv3', 'libelle_classe_age', 'libelle_sexe', 'top']\n",
    "new_pathologie = new_pathologie.drop(columns=columns_to_drop)\n"
   ]
  },
  {
   "cell_type": "code",
   "execution_count": 67,
   "metadata": {},
   "outputs": [
    {
     "data": {
      "text/plain": [
       "cla_age_5               21\n",
       "sexe                     3\n",
       "dept                     9\n",
       "Ntop                   460\n",
       "Npop                   549\n",
       "prev                  1106\n",
       "Niveau prioritaire       3\n",
       "tri                      4\n",
       "dtype: int64"
      ]
     },
     "execution_count": 67,
     "metadata": {},
     "output_type": "execute_result"
    }
   ],
   "source": [
    "#Comptons le nombre de valeurs uniques de chaque variable afin de savoir s'il faut faire des conversions de type\n",
    "new_pathologie.nunique()"
   ]
  },
  {
   "cell_type": "markdown",
   "metadata": {},
   "source": [
    "Nous allons donc changer le type des variables 'sexe' et 'tri'"
   ]
  },
  {
   "cell_type": "code",
   "execution_count": null,
   "metadata": {},
   "outputs": [],
   "source": [
    "#Changer le type de la variable sexe\n",
    "new_pathologie['sexe'] = new_pathologie['sexe'].astype('object')"
   ]
  },
  {
   "cell_type": "code",
   "execution_count": 68,
   "metadata": {},
   "outputs": [],
   "source": [
    "#Changer le type de la variable tri\n",
    "new_pathologie['tri'] = new_pathologie['tri'].astype('object')"
   ]
  },
  {
   "cell_type": "markdown",
   "metadata": {},
   "source": [
    "**Résumé descriptif des variables catégorielles**"
   ]
  },
  {
   "cell_type": "code",
   "execution_count": 69,
   "metadata": {},
   "outputs": [
    {
     "name": "stdout",
     "output_type": "stream",
     "text": [
      "\n",
      "Résumé descriptif pour la variable 'cla_age_5':\n",
      "- Nombre de valeurs uniques : 21\n",
      "- Nombre de modalités ayant la fréquence maximale (108 occurrences) : 21\n",
      "- Modalités ayant la fréquence maximale : ['85-89', '35-39', '75-79', '70-74', '65-69', '60-64', '55-59', '50-54', '45-49', '40-44', '30-34', '90-94', '25-29', '20-24', '15-19', '10-14', '05-09', '00-04', 'tsage', '95et+', '80-84']\n",
      "\n",
      "Résumé descriptif pour la variable 'sexe':\n",
      "- Nombre de valeurs uniques : 3\n",
      "- Nombre de modalités ayant la fréquence maximale (756 occurrences) : 3\n",
      "- Modalités ayant la fréquence maximale : [2, 9, 1]\n",
      "\n",
      "Résumé descriptif pour la variable 'dept':\n",
      "- Nombre de valeurs uniques : 9\n",
      "- Nombre de modalités ayant la fréquence maximale (252 occurrences) : 9\n",
      "- Modalités ayant la fréquence maximale : ['77', '91', '93', '78', '999', '75', '94', '95', '92']\n",
      "\n",
      "Résumé descriptif pour la variable 'Niveau prioritaire':\n",
      "- Nombre de valeurs uniques : 3\n",
      "- Nombre de modalités ayant la fréquence maximale (1134 occurrences) : 1\n",
      "- Modalités ayant la fréquence maximale : ['3']\n",
      "\n",
      "Résumé descriptif pour la variable 'tri':\n",
      "- Nombre de valeurs uniques : 4\n",
      "- Nombre de modalités ayant la fréquence maximale (567 occurrences) : 4\n",
      "- Modalités ayant la fréquence maximale : [10.0, 19.0, 58.0, 59.0]\n"
     ]
    }
   ],
   "source": [
    "# Filtrer uniquement les variables catégorielles (type object)\n",
    "categorical_vars = new_pathologie.select_dtypes(include='object')\n",
    "\n",
    "# Résumé descriptif des variables catégorielles\n",
    "for col in categorical_vars.columns:\n",
    "    print(f\"\\nRésumé descriptif pour la variable '{col}':\")\n",
    "    print(f\"- Nombre de valeurs uniques : {categorical_vars[col].nunique()}\")\n",
    "    \n",
    "    # Calcul de la fréquence maximale et des modalités correspondantes\n",
    "    value_counts = categorical_vars[col].value_counts()\n",
    "    max_count = value_counts.max()\n",
    "    top_modalities = value_counts[value_counts == max_count].index.tolist()\n",
    "    \n",
    "    print(f\"- Nombre de modalités ayant la fréquence maximale ({max_count} occurrences) : {len(top_modalities)}\")\n",
    "    print(f\"- Modalités ayant la fréquence maximale : {top_modalities}\")\n"
   ]
  },
  {
   "cell_type": "markdown",
   "metadata": {},
   "source": [
    "Les variables catégorielles semblent assez homogènes."
   ]
  },
  {
   "cell_type": "markdown",
   "metadata": {},
   "source": [
    "**Résumé descriptif des variables continues**"
   ]
  },
  {
   "cell_type": "code",
   "execution_count": 70,
   "metadata": {},
   "outputs": [
    {
     "data": {
      "text/html": [
       "<div>\n",
       "<style scoped>\n",
       "    .dataframe tbody tr th:only-of-type {\n",
       "        vertical-align: middle;\n",
       "    }\n",
       "\n",
       "    .dataframe tbody tr th {\n",
       "        vertical-align: top;\n",
       "    }\n",
       "\n",
       "    .dataframe thead th {\n",
       "        text-align: right;\n",
       "    }\n",
       "</style>\n",
       "<table border=\"1\" class=\"dataframe\">\n",
       "  <thead>\n",
       "    <tr style=\"text-align: right;\">\n",
       "      <th></th>\n",
       "      <th>Ntop</th>\n",
       "      <th>Npop</th>\n",
       "      <th>prev</th>\n",
       "    </tr>\n",
       "  </thead>\n",
       "  <tbody>\n",
       "    <tr>\n",
       "      <th>count</th>\n",
       "      <td>1562.000000</td>\n",
       "      <td>2.268000e+03</td>\n",
       "      <td>1562.000000</td>\n",
       "    </tr>\n",
       "    <tr>\n",
       "      <th>mean</th>\n",
       "      <td>3163.271447</td>\n",
       "      <td>1.653528e+05</td>\n",
       "      <td>2.574609</td>\n",
       "    </tr>\n",
       "    <tr>\n",
       "      <th>std</th>\n",
       "      <td>19228.221844</td>\n",
       "      <td>6.389070e+05</td>\n",
       "      <td>3.839486</td>\n",
       "    </tr>\n",
       "    <tr>\n",
       "      <th>min</th>\n",
       "      <td>10.000000</td>\n",
       "      <td>5.500000e+02</td>\n",
       "      <td>0.002000</td>\n",
       "    </tr>\n",
       "    <tr>\n",
       "      <th>25%</th>\n",
       "      <td>70.000000</td>\n",
       "      <td>3.251000e+04</td>\n",
       "      <td>0.183000</td>\n",
       "    </tr>\n",
       "    <tr>\n",
       "      <th>50%</th>\n",
       "      <td>270.000000</td>\n",
       "      <td>4.705000e+04</td>\n",
       "      <td>0.514000</td>\n",
       "    </tr>\n",
       "    <tr>\n",
       "      <th>75%</th>\n",
       "      <td>1860.000000</td>\n",
       "      <td>8.944000e+04</td>\n",
       "      <td>3.505000</td>\n",
       "    </tr>\n",
       "    <tr>\n",
       "      <th>max</th>\n",
       "      <td>574020.000000</td>\n",
       "      <td>1.171935e+07</td>\n",
       "      <td>17.086000</td>\n",
       "    </tr>\n",
       "  </tbody>\n",
       "</table>\n",
       "</div>"
      ],
      "text/plain": [
       "                Ntop          Npop         prev\n",
       "count    1562.000000  2.268000e+03  1562.000000\n",
       "mean     3163.271447  1.653528e+05     2.574609\n",
       "std     19228.221844  6.389070e+05     3.839486\n",
       "min        10.000000  5.500000e+02     0.002000\n",
       "25%        70.000000  3.251000e+04     0.183000\n",
       "50%       270.000000  4.705000e+04     0.514000\n",
       "75%      1860.000000  8.944000e+04     3.505000\n",
       "max    574020.000000  1.171935e+07    17.086000"
      ]
     },
     "execution_count": 70,
     "metadata": {},
     "output_type": "execute_result"
    }
   ],
   "source": [
    "new_pathologie.describe()"
   ]
  },
  {
   "cell_type": "code",
   "execution_count": 71,
   "metadata": {},
   "outputs": [
    {
     "data": {
      "image/png": "[encoded data removed]",
      "text/plain": [
       "<Figure size 1400x800 with 3 Axes>"
      ]
     },
     "metadata": {},
     "output_type": "display_data"
    }
   ],
   "source": [
    "# Sélectionner les variables continues (float et int)\n",
    "continuous_vars = new_pathologie.select_dtypes(include=['float64', 'int64']).columns\n",
    "\n",
    "# Définir la taille de la figure globale\n",
    "plt.figure(figsize=(14, 8))\n",
    "\n",
    "# Boucle sur chaque variable continue\n",
    "for i, col in enumerate(continuous_vars):\n",
    "    # Position du graphique dans la grille (2 colonnes par ligne)\n",
    "    plt.subplot((len(continuous_vars) + 1) // 2, 2, i + 1)  # Ligne en fonction de l'indice\n",
    "    \n",
    "    # Affichage de l'histogramme avec une courbe de densité\n",
    "    sns.histplot(new_pathologie[col], bins=30, kde=True,stat='percent', color='blue')\n",
    "    plt.title(f\"Histogramme de {col}\")\n",
    "    plt.xlabel(col)\n",
    "    plt.ylabel(\"Fréquence\")\n",
    "    \n",
    "# Ajustement des espacements\n",
    "plt.tight_layout()\n",
    "plt.show()"
   ]
  },
  {
   "cell_type": "markdown",
   "metadata": {},
   "source": [
    "Ces varibles sont assez dispersées. "
   ]
  },
  {
   "cell_type": "code",
   "execution_count": 63,
   "metadata": {},
   "outputs": [
    {
     "name": "stdout",
     "output_type": "stream",
     "text": [
      "             Variable  Proportion de valeurs manquantes (%)\n",
      "3                Ntop                             31.128748\n",
      "5                prev                             31.128748\n",
      "0           cla_age_5                              0.000000\n",
      "1                sexe                              0.000000\n",
      "2                dept                              0.000000\n",
      "4                Npop                              0.000000\n",
      "6  Niveau prioritaire                              0.000000\n",
      "7                 tri                              0.000000\n",
      "\n",
      " nombre d'observation 2268\n"
     ]
    }
   ],
   "source": [
    "# Calculer la proportion de valeurs manquantes pour chaque variable\n",
    "missing_proportions = new_pathologie.isnull().mean() * 100\n",
    "\n",
    "# Afficher les proportions dans un tableau lisible\n",
    "missing_summary = pd.DataFrame({\n",
    "    \"Variable\": missing_proportions.index,\n",
    "    \"Proportion de valeurs manquantes (%)\": missing_proportions.values\n",
    "}).sort_values(by=\"Proportion de valeurs manquantes (%)\", ascending=False)\n",
    "\n",
    "print(missing_summary)\n",
    "\n",
    "print(\"\\n nombre d'observation\",new_pathologie.shape[0])\n"
   ]
  },
  {
   "cell_type": "markdown",
   "metadata": {},
   "source": [
    "Ainsi, sur 2268 observations de pathologies respiratoire dans la région parisienne, nous avons 31% de valeurs manquantes pour les variables 'Ntop' et 'prev'. Nous allons pousser les analyses pour voir comment corriger ces valeurs manquantes. \n"
   ]
  },
  {
   "cell_type": "code",
   "execution_count": 75,
   "metadata": {},
   "outputs": [
    {
     "name": "stdout",
     "output_type": "stream",
     "text": [
      "Tableau de contingence :\n",
      "Niveau prioritaire  1,2,3    2    3\n",
      "tri                                \n",
      "10.0                  567    0    0\n",
      "19.0                    0  567    0\n",
      "58.0                    0    0  567\n",
      "59.0                    0    0  567\n",
      "\n",
      "Chi2: 4536.0\n",
      "p-value: 0.0\n",
      "Il existe une relation significative entre 'tri' et 'Niveau prioritaire'.\n"
     ]
    }
   ],
   "source": [
    "# Test de Chi-2 : 'tri' et 'Niveau prioritaire'\n",
    "\n",
    "\n",
    "from scipy.stats import chi2_contingency\n",
    "# Créer un tableau de contingence entre 'tri' et 'Niveau prioritaire'\n",
    "contingency_table = pd.crosstab(new_pathologie['tri'], new_pathologie['Niveau prioritaire'])\n",
    "\n",
    "# Afficher le tableau de contingence\n",
    "print(\"Tableau de contingence :\")\n",
    "print(contingency_table)\n",
    "\n",
    "# Appliquer le test du chi-deux\n",
    "chi2, p, dof, expected = chi2_contingency(contingency_table)\n",
    "\n",
    "# Afficher les résultats du test\n",
    "print(f\"\\nChi2: {chi2}\")\n",
    "print(f\"p-value: {p}\")\n",
    "\n",
    "# Interprétation des résultats\n",
    "if p < 0.05:\n",
    "    print(\"Il existe une relation significative entre 'tri' et 'Niveau prioritaire'.\")\n",
    "else:\n",
    "    print(\"Il n'y a pas de relation significative entre 'tri' et 'Niveau prioritaire'.\")"
   ]
  },
  {
   "cell_type": "code",
   "execution_count": 76,
   "metadata": {},
   "outputs": [
    {
     "name": "stdout",
     "output_type": "stream",
     "text": [
      "         tri Niveau prioritaire\n",
      "13356   10.0              1,2,3\n",
      "245627  19.0                  2\n",
      "251462  58.0                  3\n",
      "257301  59.0                  3\n"
     ]
    }
   ],
   "source": [
    "#on remarque une forte correlation entre tri et niveau prioritaire \n",
    "#on compare donc la distrubition \n",
    "print(new_pathologie[['tri', 'Niveau prioritaire']].drop_duplicates())"
   ]
  },
  {
   "cell_type": "code",
   "execution_count": 77,
   "metadata": {},
   "outputs": [],
   "source": [
    "#niveau prioritaire est suffisant pour notre analyse \n",
    "#on supprime donc la colonne tri\n",
    "new_data=new_pathologie.drop(columns =['tri'])"
   ]
  },
  {
   "cell_type": "code",
   "execution_count": 79,
   "metadata": {},
   "outputs": [
    {
     "name": "stdout",
     "output_type": "stream",
     "text": [
      "<class 'pandas.core.frame.DataFrame'>\n",
      "Index: 2268 entries, 13356 to 579572\n",
      "Data columns (total 7 columns):\n",
      " #   Column              Non-Null Count  Dtype  \n",
      "---  ------              --------------  -----  \n",
      " 0   cla_age_5           2268 non-null   object \n",
      " 1   sexe                2268 non-null   object \n",
      " 2   dept                2268 non-null   object \n",
      " 3   Ntop                1562 non-null   float64\n",
      " 4   Npop                2268 non-null   int64  \n",
      " 5   prev                1562 non-null   float64\n",
      " 6   Niveau prioritaire  2268 non-null   object \n",
      "dtypes: float64(2), int64(1), object(4)\n",
      "memory usage: 141.8+ KB\n"
     ]
    }
   ],
   "source": [
    "new_data.info()"
   ]
  },
  {
   "cell_type": "markdown",
   "metadata": {},
   "source": [
    "Nous allons à présent faire une fusion de nos données afin de mieux continuer cette exploration très intéressante."
   ]
  },
  {
   "cell_type": "markdown",
   "metadata": {},
   "source": [
    "<h2 style=\" text-align:left\">\n",
    "1.3- Fusion des bases de données \n",
    "</h2>"
   ]
  },
  {
   "cell_type": "code",
   "execution_count": 50,
   "metadata": {},
   "outputs": [
    {
     "name": "stdout",
     "output_type": "stream",
     "text": [
      "Index(['annee', 'patho_niv1', 'patho_niv2', 'patho_niv3', 'cla_age_5', 'sexe',\n",
      "       'dept', 'Ntop', 'Npop', 'prev', 'Niveau prioritaire'],\n",
      "      dtype='object')\n",
      "Index(['dept', 'no2', 'o3', 'pm10'], dtype='object')\n"
     ]
    }
   ],
   "source": [
    "#on verifie les nom du colunms avant de fisionner .\n",
    "print(new_data_1.columns)\n",
    "print(quali_aire.columns)\n",
    "\n",
    "# on convertie la colonne dept en str pour les deux data\n",
    "new_data_1['dept'] = new_data_1['dept'].astype(int)\n",
    "quali_aire['dept'] = quali_aire['dept'].astype(int)\n",
    "\n"
   ]
  },
  {
   "cell_type": "code",
   "execution_count": 51,
   "metadata": {},
   "outputs": [
    {
     "data": {
      "text/html": [
       "<div>\n",
       "<style scoped>\n",
       "    .dataframe tbody tr th:only-of-type {\n",
       "        vertical-align: middle;\n",
       "    }\n",
       "\n",
       "    .dataframe tbody tr th {\n",
       "        vertical-align: top;\n",
       "    }\n",
       "\n",
       "    .dataframe thead th {\n",
       "        text-align: right;\n",
       "    }\n",
       "</style>\n",
       "<table border=\"1\" class=\"dataframe\">\n",
       "  <thead>\n",
       "    <tr style=\"text-align: right;\">\n",
       "      <th></th>\n",
       "      <th>annee</th>\n",
       "      <th>patho_niv1</th>\n",
       "      <th>patho_niv2</th>\n",
       "      <th>patho_niv3</th>\n",
       "      <th>cla_age_5</th>\n",
       "      <th>sexe</th>\n",
       "      <th>dept</th>\n",
       "      <th>Ntop</th>\n",
       "      <th>Npop</th>\n",
       "      <th>prev</th>\n",
       "      <th>Niveau prioritaire</th>\n",
       "      <th>no2</th>\n",
       "      <th>o3</th>\n",
       "      <th>pm10</th>\n",
       "    </tr>\n",
       "  </thead>\n",
       "  <tbody>\n",
       "    <tr>\n",
       "      <th>0</th>\n",
       "      <td>2017</td>\n",
       "      <td>Maladies respiratoires chroniques (hors mucovi...</td>\n",
       "      <td>Maladies respiratoires chroniques (hors mucovi...</td>\n",
       "      <td>Maladies respiratoires chroniques (hors mucovi...</td>\n",
       "      <td>85-89</td>\n",
       "      <td>2</td>\n",
       "      <td>77</td>\n",
       "      <td>1550.0</td>\n",
       "      <td>11990</td>\n",
       "      <td>12.957</td>\n",
       "      <td>1,2,3</td>\n",
       "      <td>15.03</td>\n",
       "      <td>31.92</td>\n",
       "      <td>26.75</td>\n",
       "    </tr>\n",
       "    <tr>\n",
       "      <th>1</th>\n",
       "      <td>2017</td>\n",
       "      <td>Maladies respiratoires chroniques (hors mucovi...</td>\n",
       "      <td>Maladies respiratoires chroniques (hors mucovi...</td>\n",
       "      <td>Maladies respiratoires chroniques (hors mucovi...</td>\n",
       "      <td>85-89</td>\n",
       "      <td>2</td>\n",
       "      <td>91</td>\n",
       "      <td>1380.0</td>\n",
       "      <td>11890</td>\n",
       "      <td>11.572</td>\n",
       "      <td>1,2,3</td>\n",
       "      <td>17.32</td>\n",
       "      <td>32.16</td>\n",
       "      <td>25.00</td>\n",
       "    </tr>\n",
       "    <tr>\n",
       "      <th>2</th>\n",
       "      <td>2017</td>\n",
       "      <td>Maladies respiratoires chroniques (hors mucovi...</td>\n",
       "      <td>Maladies respiratoires chroniques (hors mucovi...</td>\n",
       "      <td>Maladies respiratoires chroniques (hors mucovi...</td>\n",
       "      <td>85-89</td>\n",
       "      <td>2</td>\n",
       "      <td>93</td>\n",
       "      <td>1510.0</td>\n",
       "      <td>11760</td>\n",
       "      <td>12.874</td>\n",
       "      <td>1,2,3</td>\n",
       "      <td>30.12</td>\n",
       "      <td>30.31</td>\n",
       "      <td>31.76</td>\n",
       "    </tr>\n",
       "    <tr>\n",
       "      <th>3</th>\n",
       "      <td>2017</td>\n",
       "      <td>Maladies respiratoires chroniques (hors mucovi...</td>\n",
       "      <td>Maladies respiratoires chroniques (hors mucovi...</td>\n",
       "      <td>Maladies respiratoires chroniques (hors mucovi...</td>\n",
       "      <td>85-89</td>\n",
       "      <td>9</td>\n",
       "      <td>77</td>\n",
       "      <td>2560.0</td>\n",
       "      <td>18490</td>\n",
       "      <td>13.863</td>\n",
       "      <td>1,2,3</td>\n",
       "      <td>15.03</td>\n",
       "      <td>31.92</td>\n",
       "      <td>26.75</td>\n",
       "    </tr>\n",
       "    <tr>\n",
       "      <th>4</th>\n",
       "      <td>2017</td>\n",
       "      <td>Maladies respiratoires chroniques (hors mucovi...</td>\n",
       "      <td>Maladies respiratoires chroniques (hors mucovi...</td>\n",
       "      <td>Maladies respiratoires chroniques (hors mucovi...</td>\n",
       "      <td>85-89</td>\n",
       "      <td>9</td>\n",
       "      <td>78</td>\n",
       "      <td>2760.0</td>\n",
       "      <td>23040</td>\n",
       "      <td>11.992</td>\n",
       "      <td>1,2,3</td>\n",
       "      <td>17.17</td>\n",
       "      <td>31.91</td>\n",
       "      <td>24.82</td>\n",
       "    </tr>\n",
       "  </tbody>\n",
       "</table>\n",
       "</div>"
      ],
      "text/plain": [
       "   annee                                         patho_niv1  \\\n",
       "0   2017  Maladies respiratoires chroniques (hors mucovi...   \n",
       "1   2017  Maladies respiratoires chroniques (hors mucovi...   \n",
       "2   2017  Maladies respiratoires chroniques (hors mucovi...   \n",
       "3   2017  Maladies respiratoires chroniques (hors mucovi...   \n",
       "4   2017  Maladies respiratoires chroniques (hors mucovi...   \n",
       "\n",
       "                                          patho_niv2  \\\n",
       "0  Maladies respiratoires chroniques (hors mucovi...   \n",
       "1  Maladies respiratoires chroniques (hors mucovi...   \n",
       "2  Maladies respiratoires chroniques (hors mucovi...   \n",
       "3  Maladies respiratoires chroniques (hors mucovi...   \n",
       "4  Maladies respiratoires chroniques (hors mucovi...   \n",
       "\n",
       "                                          patho_niv3 cla_age_5  sexe  dept  \\\n",
       "0  Maladies respiratoires chroniques (hors mucovi...     85-89     2    77   \n",
       "1  Maladies respiratoires chroniques (hors mucovi...     85-89     2    91   \n",
       "2  Maladies respiratoires chroniques (hors mucovi...     85-89     2    93   \n",
       "3  Maladies respiratoires chroniques (hors mucovi...     85-89     9    77   \n",
       "4  Maladies respiratoires chroniques (hors mucovi...     85-89     9    78   \n",
       "\n",
       "     Ntop   Npop    prev Niveau prioritaire    no2     o3   pm10  \n",
       "0  1550.0  11990  12.957              1,2,3  15.03  31.92  26.75  \n",
       "1  1380.0  11890  11.572              1,2,3  17.32  32.16  25.00  \n",
       "2  1510.0  11760  12.874              1,2,3  30.12  30.31  31.76  \n",
       "3  2560.0  18490  13.863              1,2,3  15.03  31.92  26.75  \n",
       "4  2760.0  23040  11.992              1,2,3  17.17  31.91  24.82  "
      ]
     },
     "execution_count": 51,
     "metadata": {},
     "output_type": "execute_result"
    }
   ],
   "source": [
    "# on va faire un left joint \n",
    "\n",
    "principal_data = pd.merge(new_data_1,quali_aire, on=\"dept\", how=\"left\")\n",
    "principal_data.head(5)"
   ]
  },
  {
   "cell_type": "code",
   "execution_count": 52,
   "metadata": {},
   "outputs": [
    {
     "name": "stdout",
     "output_type": "stream",
     "text": [
      "Fichier  sauvegardé avec succès.\n"
     ]
    }
   ],
   "source": [
    "# Sauvegarder le DataFrame dans un fichier CSV\n",
    "principal_data.to_csv(\"resultat_merge.csv\", index=False)\n",
    "\n",
    "print(\"Fichier  sauvegardé avec succès.\")\n"
   ]
  }
 ],
 "metadata": {
  "kernelspec": {
   "display_name": "Python 3",
   "language": "python",
   "name": "python3"
  },
  "language_info": {
   "codemirror_mode": {
    "name": "ipython",
    "version": 3
   },
   "file_extension": ".py",
   "mimetype": "text/x-python",
   "name": "python",
   "nbconvert_exporter": "python",
   "pygments_lexer": "ipython3",
   "version": "3.12.0"
  }
 },
 "nbformat": 4,
 "nbformat_minor": 2
}
