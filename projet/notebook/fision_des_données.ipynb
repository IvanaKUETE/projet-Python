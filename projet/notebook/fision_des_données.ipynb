{
 "cells": [
  {
   "cell_type": "code",
   "execution_count": 1,
   "metadata": {},
   "outputs": [
    {
     "name": "stdout",
     "output_type": "stream",
     "text": [
      "Work directory: /home/onyxia/work/projet-Python/projet \n",
      "Data directory: /home/onyxia/work/projet-Python/projet/data\n"
     ]
    }
   ],
   "source": [
    "import zipfile\n",
    "import os\n",
    "import numpy as np\n",
    "import pandas as pd\n",
    "import matplotlib.pyplot as plt\n",
    "import seaborn as sns\n",
    "from math import radians, cos, sin, asin, sqrt\n",
    "import warnings\n",
    "warnings.filterwarnings('ignore')\n",
    "from pathlib import Path\n",
    "\n",
    "# Définition du répertoire de travail\n",
    "HOME_DIR = Path.cwd().parent\n",
    "DATA_DIR = Path(HOME_DIR, \"data\")\n",
    "print(f\"Work directory: {HOME_DIR} \\nData directory: {DATA_DIR}\")"
   ]
  },
  {
   "cell_type": "code",
   "execution_count": 3,
   "metadata": {},
   "outputs": [
    {
     "name": "stdout",
     "output_type": "stream",
     "text": [
      "Fichier BTT_TD_POP1A_2017.CSV extrait avec succès dans /home/onyxia/work/projet-Python/projet/data !\n"
     ]
    }
   ],
   "source": [
    "# Chemins\n",
    "zip_path = Path(DATA_DIR, \"BTT_TD_POP1A_2017.CSV.zip\")  # Fichier ZIP\n",
    "extract_path = Path(DATA_DIR)  # Dossier où extraire les fichiers\n",
    "\n",
    "# Nom du fichier à extraire depuis l'archive\n",
    "file_to_extract = \"BTT_TD_POP1A_2017.CSV\"\n",
    "\n",
    "# Extraction\n",
    "with zipfile.ZipFile(zip_path, 'r') as zip_ref:\n",
    "    # Extraire uniquement un fichier spécifique\n",
    "    effectifs = zip_ref.extract(file_to_extract, extract_path)\n",
    "    print(f\"Fichier {file_to_extract} extrait avec succès dans {extract_path} !\")\n"
   ]
  },
  {
   "cell_type": "code",
   "execution_count": 9,
   "metadata": {},
   "outputs": [
    {
     "name": "stdout",
     "output_type": "stream",
     "text": [
      "Index(['NIVGEO', 'CODGEO', 'LIBGEO', 'SEXE', 'AGEPYR10', 'NB'], dtype='object')\n",
      "NIVGEO       object\n",
      "CODGEO       object\n",
      "LIBGEO       object\n",
      "SEXE          int64\n",
      "AGEPYR10      int64\n",
      "NB          float64\n",
      "dtype: object\n",
      "NIVGEO       0\n",
      "CODGEO       0\n",
      "LIBGEO       0\n",
      "SEXE         0\n",
      "AGEPYR10     0\n",
      "NB          20\n",
      "dtype: int64\n"
     ]
    }
   ],
   "source": [
    "Data_pop = pd.read_csv(Path(DATA_DIR,\"BTT_TD_POP1A_2017.CSV\"),sep=';')\n",
    "# on affiche les colonnes qui existe dans cette data \n",
    "print(Data_pop.columns)\n",
    "\n",
    "# on affiche encroe les types\n",
    "print(Data_pop.dtypes)\n",
    "\n",
    "# et encore les valeurs manquantes\n",
    "print(Data_pop.isnull().sum())"
   ]
  },
  {
   "cell_type": "code",
   "execution_count": 10,
   "metadata": {},
   "outputs": [
    {
     "name": "stdout",
     "output_type": "stream",
     "text": [
      "Codes postaux avec des valeurs manquantes dans la colonne 'NB':\n",
      "[14666]\n"
     ]
    }
   ],
   "source": [
    "# La variable NB présente des valeurs manquantes. \n",
    "# Nous allons donc récupérer les codes postaux pour lesquels cette variable contient une valeur manquante.\n",
    "missing_nb_rows = Data_pop[Data_pop['NB'].isnull()]\n",
    "missing_PC = missing_nb_rows['CODGEO'].unique()\n",
    "\n",
    "print(\"Codes postaux avec des valeurs manquantes dans la colonne 'NB':\")\n",
    "print(missing_PC)"
   ]
  },
  {
   "cell_type": "code",
   "execution_count": 19,
   "metadata": {},
   "outputs": [
    {
     "name": "stdout",
     "output_type": "stream",
     "text": [
      "['85-89' '90-94' '95et+' 'tsage' '00-04' '05-09' '10-14' '15-19' '20-24'\n",
      " '25-29' '30-34' '35-39' '40-44' '45-49' '50-54' '55-59' '60-64' '65-69'\n",
      " '70-74' '75-79' '80-84']\n"
     ]
    }
   ],
   "source": [
    "# 14666 est hors region parisiene \n",
    "# maintenant on va reccuperer les classe d'age present dans la dat set resultat_merge \n",
    "merged_data= pd.read_csv(Path(DATA_DIR,'resultat_merge.csv'), sep =',')\n",
    "print(merged_data['cla_age_5'].unique())"
   ]
  },
  {
   "cell_type": "code",
   "execution_count": 20,
   "metadata": {},
   "outputs": [],
   "source": [
    "# very nice maintenant on va créer ces classe d'age dans notre Data_pop\n",
    "\n",
    "# on Remplace les valeurs spéciales \"95et+\" et \"tsage\" dans AGEPYR10\n",
    "Data_pop.loc[Data_pop[\"AGEPYR10\"] == \"95et+\", \"AGEPYR10\"] = \"95\"\n",
    "Data_pop.loc[Data_pop[\"AGEPYR10\"] == \"tsage\", \"AGEPYR10\"] = \"999\"\n",
    "\n",
    "# On Convertie la colonne AGEPYR10 en numérique\n",
    "Data_pop[\"AGEPYR10\"] = pd.to_numeric(Data_pop[\"AGEPYR10\"], errors=\"coerce\")\n",
    "\n",
    "# oN DéfiniE les bornes (bins) et les labels (classe d’âge)\n",
    "bins = [\n",
    "    -1, 4, 9, 14, 19, 24, 29,\n",
    "    34, 39, 44, 49, 54, 59,\n",
    "    64, 69, 74, 79, 84, 89,\n",
    "    94, 999\n",
    "]\n",
    "labels = [\n",
    "    \"00-04\",\"05-09\",\"10-14\",\"15-19\",\"20-24\",\"25-29\",\n",
    "    \"30-34\",\"35-39\",\"40-44\",\"45-49\",\"50-54\",\"55-59\",\n",
    "    \"60-64\",\"65-69\",\"70-74\",\"75-79\",\"80-84\",\"85-89\",\n",
    "    \"90-94\",\"95et+\"\n",
    "]\n",
    "\n",
    "Data_pop[\"classe_age\"] = pd.cut(\n",
    "    Data_pop[\"AGEPYR10\"],\n",
    "    bins=bins,\n",
    "    labels=labels,\n",
    "    right=True,\n",
    "    include_lowest=True\n",
    ")"
   ]
  },
  {
   "cell_type": "code",
   "execution_count": 24,
   "metadata": {},
   "outputs": [],
   "source": [
    "# Extraire le département à partir de CODGEO (2 premiers caractères)\n",
    "Data_pop[\"dept\"] =Data_pop[\"CODGEO\"].astype(str).str[:2]\n",
    "\n",
    "#  Filtrer sur la région parisienne (IDF)\n",
    "idf_depts = [\"75\", \"77\", \"78\", \"91\", \"92\", \"93\", \"94\", \"95\"]\n",
    "Data_pop_idf = Data_pop[Data_pop[\"dept\"].isin(idf_depts)].copy()\n",
    "\n",
    "# ---------------------------------------------------------------------------\n",
    "# Grouper par dept, SEXE, classe_age, et sommer la population (NB)\n",
    "Data_pop_final = Data_pop_idf.groupby([\"dept\", \"SEXE\", \"classe_age\"], dropna=True)[\"NB\"].sum().reset_index()\n"
   ]
  },
  {
   "cell_type": "code",
   "execution_count": 25,
   "metadata": {},
   "outputs": [
    {
     "data": {
      "text/html": [
       "<div>\n",
       "<style scoped>\n",
       "    .dataframe tbody tr th:only-of-type {\n",
       "        vertical-align: middle;\n",
       "    }\n",
       "\n",
       "    .dataframe tbody tr th {\n",
       "        vertical-align: top;\n",
       "    }\n",
       "\n",
       "    .dataframe thead th {\n",
       "        text-align: right;\n",
       "    }\n",
       "</style>\n",
       "<table border=\"1\" class=\"dataframe\">\n",
       "  <thead>\n",
       "    <tr style=\"text-align: right;\">\n",
       "      <th></th>\n",
       "      <th>dept</th>\n",
       "      <th>SEXE</th>\n",
       "      <th>classe_age</th>\n",
       "      <th>NB</th>\n",
       "    </tr>\n",
       "  </thead>\n",
       "  <tbody>\n",
       "    <tr>\n",
       "      <th>0</th>\n",
       "      <td>75</td>\n",
       "      <td>1</td>\n",
       "      <td>00-04</td>\n",
       "      <td>127357.393355</td>\n",
       "    </tr>\n",
       "    <tr>\n",
       "      <th>1</th>\n",
       "      <td>75</td>\n",
       "      <td>1</td>\n",
       "      <td>05-09</td>\n",
       "      <td>101504.995218</td>\n",
       "    </tr>\n",
       "    <tr>\n",
       "      <th>2</th>\n",
       "      <td>75</td>\n",
       "      <td>1</td>\n",
       "      <td>10-14</td>\n",
       "      <td>139088.495826</td>\n",
       "    </tr>\n",
       "    <tr>\n",
       "      <th>3</th>\n",
       "      <td>75</td>\n",
       "      <td>1</td>\n",
       "      <td>15-19</td>\n",
       "      <td>206021.110999</td>\n",
       "    </tr>\n",
       "    <tr>\n",
       "      <th>4</th>\n",
       "      <td>75</td>\n",
       "      <td>1</td>\n",
       "      <td>20-24</td>\n",
       "      <td>0.000000</td>\n",
       "    </tr>\n",
       "  </tbody>\n",
       "</table>\n",
       "</div>"
      ],
      "text/plain": [
       "  dept  SEXE classe_age             NB\n",
       "0   75     1      00-04  127357.393355\n",
       "1   75     1      05-09  101504.995218\n",
       "2   75     1      10-14  139088.495826\n",
       "3   75     1      15-19  206021.110999\n",
       "4   75     1      20-24       0.000000"
      ]
     },
     "execution_count": 25,
     "metadata": {},
     "output_type": "execute_result"
    }
   ],
   "source": [
    "Data_pop_final.head()"
   ]
  },
  {
   "cell_type": "markdown",
   "metadata": {},
   "source": [
    "Nous remarquons que certaines classes d'âge présentent des valeurs nulles pour NB.\n",
    "Cela est dû au fait qu'il existe des intervalles d'âge dans resultat_merge qui ne sont pas présents dans Data_pop."
   ]
  },
  {
   "cell_type": "code",
   "execution_count": 26,
   "metadata": {},
   "outputs": [
    {
     "name": "stdout",
     "output_type": "stream",
     "text": [
      "Classes d'âge et départements pour lesquels NB = 0 :\n",
      "    classe_age dept\n",
      "4        20-24   75\n",
      "6        30-34   75\n",
      "7        35-39   75\n",
      "9        45-49   75\n",
      "10       50-54   75\n",
      "..         ...  ...\n",
      "294      70-74   95\n",
      "295      75-79   95\n",
      "297      85-89   95\n",
      "298      90-94   95\n",
      "299      95et+   95\n",
      "\n",
      "[88 rows x 2 columns]\n"
     ]
    }
   ],
   "source": [
    "#Comme avant on va reccuperer les classes d'ages et departement  pour les quelles NB = 0 \n",
    "\n",
    "# On  Filtre les lignes où 'NB' est égal à 0 dans Data_pop_final\n",
    "nb_zero_rows = Data_pop_final[Data_pop_final['NB'] == 0]\n",
    "\n",
    "# Puis on  Récupére les classes d'âge et départements correspondants\n",
    "age_and_dept_with_nb_zero = nb_zero_rows[['classe_age', 'dept']].drop_duplicates()\n",
    "\n",
    "# Affichage des résultats\n",
    "print(\"Classes d'âge et départements pour lesquels NB = 0 :\")\n",
    "print(age_and_dept_with_nb_zero)\n"
   ]
  },
  {
   "cell_type": "code",
   "execution_count": 27,
   "metadata": {},
   "outputs": [
    {
     "name": "stdout",
     "output_type": "stream",
     "text": [
      "Pourcentage des NB = 0 dans chaque département :\n",
      "  dept  percentage_NB_zero\n",
      "0   75                55.0\n",
      "1   77                55.0\n",
      "2   78                55.0\n",
      "3   91                55.0\n",
      "4   92                55.0\n",
      "5   93                55.0\n",
      "6   94                55.0\n",
      "7   95                55.0\n"
     ]
    }
   ],
   "source": [
    "# Calculer le nombre total de lignes par département\n",
    "total_rows_per_dept = Data_pop_final.groupby('dept').size()\n",
    "\n",
    "# Calculer le nombre de lignes où 'NB' est égal à 0 par département\n",
    "nb_zero_per_dept = Data_pop_final[Data_pop_final['NB'] == 0].groupby('dept').size()\n",
    "\n",
    "# Calculer le pourcentage des 'NB = 0' pour chaque département\n",
    "percentage_nb_zero_per_dept = (nb_zero_per_dept / total_rows_per_dept * 100).reset_index(name='percentage_NB_zero')\n",
    "\n",
    "# Renommer les colonnes pour plus de clarté\n",
    "percentage_nb_zero_per_dept.columns = ['dept', 'percentage_NB_zero']\n",
    "\n",
    "# Afficher les résultats\n",
    "print(\"Pourcentage des NB = 0 dans chaque département :\")\n",
    "print(percentage_nb_zero_per_dept)\n"
   ]
  }
 ],
 "metadata": {
  "kernelspec": {
   "display_name": "base",
   "language": "python",
   "name": "python3"
  },
  "language_info": {
   "codemirror_mode": {
    "name": "ipython",
    "version": 3
   },
   "file_extension": ".py",
   "mimetype": "text/x-python",
   "name": "python",
   "nbconvert_exporter": "python",
   "pygments_lexer": "ipython3",
   "version": "3.12.7"
  }
 },
 "nbformat": 4,
 "nbformat_minor": 2
}
