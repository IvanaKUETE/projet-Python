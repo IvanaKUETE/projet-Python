{
 "cells": [
  {
   "cell_type": "code",
   "execution_count": 2,
   "id": "7904bb90-186a-48e3-acbb-47f7f6385b33",
   "metadata": {},
   "outputs": [],
   "source": [
    "import pandas as pd\n"
   ]
  },
  {
   "cell_type": "code",
   "execution_count": 9,
   "id": "f3649ec0-c0b1-44c6-9f84-17e13177b9aa",
   "metadata": {},
   "outputs": [],
   "source": [
    "data = pd.read_csv(\"effectifs (4).csv\",sep=';')"
   ]
  },
  {
   "cell_type": "code",
   "execution_count": 33,
   "id": "68c3e4e6-6fef-49ce-abe1-066e27475c8e",
   "metadata": {},
   "outputs": [
    {
     "name": "stdout",
     "output_type": "stream",
     "text": [
      "voici les codes des regions disponible: [ 1  2  4  6 11 24 28 32 44 52 53 75 76 84 93 94  3 27 99]\n",
      "le type est de: int64\n"
     ]
    }
   ],
   "source": [
    "data.columns\n",
    "#on verifie les codes des regions \n",
    "print('voici les codes des regions disponible:',data['region'].unique())\n",
    "#on verifie le type \n",
    "print('le type est de:',data['region'].dtypes)\n"
   ]
  },
  {
   "cell_type": "code",
   "execution_count": 27,
   "id": "aa881f4f-68a7-4d82-9be8-84e40e46db05",
   "metadata": {},
   "outputs": [],
   "source": [
    "#on filtre les données par region (on s'interessent a la region parisienne) .\n",
    "filtred_by_rg=data[data['region']==11]\n"
   ]
  },
  {
   "cell_type": "code",
   "execution_count": 37,
   "id": "ab85a315-1dae-4f84-a0eb-100bb9f33c63",
   "metadata": {},
   "outputs": [],
   "source": [
    "#on peut maintenant supprimer la colonne region\n",
    "filtred_by_rg=filtred_by_rg.drop(columns = ['region'])"
   ]
  },
  {
   "cell_type": "code",
   "execution_count": 38,
   "id": "bc2bd933-fd4e-4e30-b0da-86b97a0856d9",
   "metadata": {},
   "outputs": [],
   "source": [
    "#on veut garder que les maladies qui sont affecter par la qualiter de l'aire\n",
    "new_data = filtred_by_rg[filtred_by_rg['patho_niv2'].isin(['Maladies respiratoires chroniques (hors mucoviscidose)',\n",
    "        'Cancer bronchopulmonaire'])]"
   ]
  },
  {
   "cell_type": "code",
   "execution_count": 45,
   "id": "8aa589fa-8f23-4dfe-bd65-b694adfc9a93",
   "metadata": {},
   "outputs": [
    {
     "data": {
      "text/html": [
       "<div>\n",
       "<style scoped>\n",
       "    .dataframe tbody tr th:only-of-type {\n",
       "        vertical-align: middle;\n",
       "    }\n",
       "\n",
       "    .dataframe tbody tr th {\n",
       "        vertical-align: top;\n",
       "    }\n",
       "\n",
       "    .dataframe thead th {\n",
       "        text-align: right;\n",
       "    }\n",
       "</style>\n",
       "<table border=\"1\" class=\"dataframe\">\n",
       "  <thead>\n",
       "    <tr style=\"text-align: right;\">\n",
       "      <th></th>\n",
       "      <th>annee</th>\n",
       "      <th>patho_niv1</th>\n",
       "      <th>patho_niv2</th>\n",
       "      <th>patho_niv3</th>\n",
       "      <th>top</th>\n",
       "      <th>cla_age_5</th>\n",
       "      <th>sexe</th>\n",
       "      <th>dept</th>\n",
       "      <th>Ntop</th>\n",
       "      <th>Npop</th>\n",
       "      <th>prev</th>\n",
       "      <th>Niveau prioritaire</th>\n",
       "      <th>libelle_classe_age</th>\n",
       "      <th>libelle_sexe</th>\n",
       "      <th>tri</th>\n",
       "    </tr>\n",
       "  </thead>\n",
       "  <tbody>\n",
       "    <tr>\n",
       "      <th>13356</th>\n",
       "      <td>2017</td>\n",
       "      <td>Maladies respiratoires chroniques (hors mucovi...</td>\n",
       "      <td>Maladies respiratoires chroniques (hors mucovi...</td>\n",
       "      <td>Maladies respiratoires chroniques (hors mucovi...</td>\n",
       "      <td>RES_CAT_EXC</td>\n",
       "      <td>85-89</td>\n",
       "      <td>2</td>\n",
       "      <td>77</td>\n",
       "      <td>1550.0</td>\n",
       "      <td>11990</td>\n",
       "      <td>12.957</td>\n",
       "      <td>1,2,3</td>\n",
       "      <td>de 85 à 89 ans</td>\n",
       "      <td>femmes</td>\n",
       "      <td>10.0</td>\n",
       "    </tr>\n",
       "    <tr>\n",
       "      <th>13357</th>\n",
       "      <td>2017</td>\n",
       "      <td>Maladies respiratoires chroniques (hors mucovi...</td>\n",
       "      <td>Maladies respiratoires chroniques (hors mucovi...</td>\n",
       "      <td>Maladies respiratoires chroniques (hors mucovi...</td>\n",
       "      <td>RES_CAT_EXC</td>\n",
       "      <td>85-89</td>\n",
       "      <td>2</td>\n",
       "      <td>91</td>\n",
       "      <td>1380.0</td>\n",
       "      <td>11890</td>\n",
       "      <td>11.572</td>\n",
       "      <td>1,2,3</td>\n",
       "      <td>de 85 à 89 ans</td>\n",
       "      <td>femmes</td>\n",
       "      <td>10.0</td>\n",
       "    </tr>\n",
       "  </tbody>\n",
       "</table>\n",
       "</div>"
      ],
      "text/plain": [
       "       annee                                         patho_niv1  \\\n",
       "13356   2017  Maladies respiratoires chroniques (hors mucovi...   \n",
       "13357   2017  Maladies respiratoires chroniques (hors mucovi...   \n",
       "\n",
       "                                              patho_niv2  \\\n",
       "13356  Maladies respiratoires chroniques (hors mucovi...   \n",
       "13357  Maladies respiratoires chroniques (hors mucovi...   \n",
       "\n",
       "                                              patho_niv3          top  \\\n",
       "13356  Maladies respiratoires chroniques (hors mucovi...  RES_CAT_EXC   \n",
       "13357  Maladies respiratoires chroniques (hors mucovi...  RES_CAT_EXC   \n",
       "\n",
       "      cla_age_5  sexe dept    Ntop   Npop    prev Niveau prioritaire  \\\n",
       "13356     85-89     2   77  1550.0  11990  12.957              1,2,3   \n",
       "13357     85-89     2   91  1380.0  11890  11.572              1,2,3   \n",
       "\n",
       "      libelle_classe_age libelle_sexe   tri  \n",
       "13356     de 85 à 89 ans       femmes  10.0  \n",
       "13357     de 85 à 89 ans       femmes  10.0  "
      ]
     },
     "execution_count": 45,
     "metadata": {},
     "output_type": "execute_result"
    }
   ],
   "source": [
    "new_data.head(2)"
   ]
  },
  {
   "cell_type": "code",
   "execution_count": 43,
   "id": "67eda2b6-015a-4682-8d60-8ce4b10daad9",
   "metadata": {},
   "outputs": [
    {
     "name": "stdout",
     "output_type": "stream",
     "text": [
      "['1,2,3' '2' '3']\n",
      "[10. 19. 58. 59.]\n",
      "['85-89' '90-94' '95et+' 'tsage' '00-04' '05-09' '10-14' '15-19' '20-24'\n",
      " '25-29' '30-34' '35-39' '40-44' '45-49' '50-54' '55-59' '60-64' '65-69'\n",
      " '70-74' '75-79' '80-84']\n",
      "['Maladies respiratoires chroniques (hors mucoviscidose)'\n",
      " 'Cancer bronchopulmonaire']\n"
     ]
    }
   ],
   "source": [
    "print(new_data['Niveau prioritaire'].unique())\n",
    "print(new_data['tri'].unique())\n",
    "print(new_data['cla_age_5'].unique())\n",
    "print(new_data['patho_niv2'].unique())"
   ]
  },
  {
   "cell_type": "code",
   "execution_count": 47,
   "id": "2ea12773-ddee-4105-8c1e-76d30544d0ba",
   "metadata": {},
   "outputs": [
    {
     "name": "stdout",
     "output_type": "stream",
     "text": [
      "Niveau prioritaire\n",
      "3        1134\n",
      "1,2,3     567\n",
      "2         567\n",
      "Name: count, dtype: int64\n"
     ]
    }
   ],
   "source": [
    "priority_caount = new_data['Niveau prioritaire'].value_counts()\n",
    "\n",
    "print(priority_caount)"
   ]
  },
  {
   "cell_type": "code",
   "execution_count": 48,
   "id": "32ba9a40-2c67-4e21-b77e-0d6fb6e85f47",
   "metadata": {},
   "outputs": [
    {
     "name": "stdout",
     "output_type": "stream",
     "text": [
      "nombre d'observation 2268\n"
     ]
    }
   ],
   "source": [
    "print(\"nombre d'observation\",new_data.shape[0])"
   ]
  },
  {
   "cell_type": "code",
   "execution_count": 49,
   "id": "321332f2-617a-4567-ac4c-46fb6905d841",
   "metadata": {},
   "outputs": [
    {
     "name": "stdout",
     "output_type": "stream",
     "text": [
      "annee             NaN\n",
      "sexe     2.727714e-16\n",
      "Ntop    -1.453304e-01\n",
      "Npop    -5.261311e-17\n",
      "prev    -5.846876e-01\n",
      "tri      1.000000e+00\n",
      "Name: tri, dtype: float64\n"
     ]
    }
   ],
   "source": [
    "#comme que la varible tri n'est pas specifie dans la doccumentation on va exploiter sa correlation avec les \n",
    "#autre variables \n",
    "#corrélation entre tri et d'autre variable \n",
    "corr= new_data.corr(numeric_only=True)['tri']\n",
    "print(corr)"
   ]
  },
  {
   "cell_type": "code",
   "execution_count": 50,
   "id": "c45e20cf-83e5-4f21-8de0-ac978a915608",
   "metadata": {},
   "outputs": [
    {
     "name": "stdout",
     "output_type": "stream",
     "text": [
      "         tri Niveau prioritaire\n",
      "13356   10.0              1,2,3\n",
      "245627  19.0                  2\n",
      "251462  58.0                  3\n",
      "257301  59.0                  3\n"
     ]
    }
   ],
   "source": [
    "#on remarque une forte correlation entre tri et niveau prioritaire \n",
    "#on compare donc la distrubition \n",
    "print(new_data[['tri', 'Niveau prioritaire']].drop_duplicates())\n"
   ]
  },
  {
   "cell_type": "code",
   "execution_count": 56,
   "id": "eb1b9c5c-5961-4dd5-b4f8-c60ad97b9414",
   "metadata": {},
   "outputs": [],
   "source": [
    "#niveau prioritaire est suffisant pour notre analyse \n",
    "#on supprime donc la colonne tri\n",
    "new_data=new_data.drop(columns =['tri'])\n"
   ]
  },
  {
   "cell_type": "code",
   "execution_count": 57,
   "id": "e9c029cd-caa0-4900-a074-5fdf12b62893",
   "metadata": {},
   "outputs": [],
   "source": [
    "#on adapte une data-set dans les libelles\n",
    "#on supprime prev pour le calucler plutart \n",
    "new_data_1=new_data.drop(columns=['prev','libelle_classe_age','libelle_sexe'])"
   ]
  },
  {
   "cell_type": "code",
   "execution_count": 66,
   "id": "4899a3f3-870a-4e1d-a85d-8b3c5cee08bb",
   "metadata": {},
   "outputs": [
    {
     "name": "stdout",
     "output_type": "stream",
     "text": [
      "nombre d'observation 2268\n"
     ]
    }
   ],
   "source": [
    "#new_data_1.head()\n",
    "print(\"nombre d'observation\",new_data_1.shape[0])"
   ]
  },
  {
   "cell_type": "code",
   "execution_count": null,
   "id": "2ea11c14-fa6a-4256-beb8-c377fe53c8f4",
   "metadata": {},
   "outputs": [],
   "source": []
  }
 ],
 "metadata": {
  "kernelspec": {
   "display_name": "Python 3 (ipykernel)",
   "language": "python",
   "name": "python3"
  },
  "language_info": {
   "codemirror_mode": {
    "name": "ipython",
    "version": 3
   },
   "file_extension": ".py",
   "mimetype": "text/x-python",
   "name": "python",
   "nbconvert_exporter": "python",
   "pygments_lexer": "ipython3",
   "version": "3.12.7"
  }
 },
 "nbformat": 4,
 "nbformat_minor": 5
}
