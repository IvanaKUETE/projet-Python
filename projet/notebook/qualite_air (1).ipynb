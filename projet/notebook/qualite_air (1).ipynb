{
 "cells": [
  {
   "cell_type": "code",
   "execution_count": 8,
   "id": "030d1ba2",
   "metadata": {},
   "outputs": [],
   "source": [
    "import pandas as pd \n",
    "from pathlib import Path"
   ]
  },
  {
   "cell_type": "code",
   "execution_count": 9,
   "id": "657604b3",
   "metadata": {},
   "outputs": [
    {
     "name": "stdout",
     "output_type": "stream",
     "text": [
      "Work directory: c:\\Users\\HP\\Documents\\Cours 2AD ENSAE\\Semestre 1\\Python pour data science\\indice de l'air\\projet-Python\\projet \n",
      "Data directory: c:\\Users\\HP\\Documents\\Cours 2AD ENSAE\\Semestre 1\\Python pour data science\\indice de l'air\\projet-Python\\projet\\data\n"
     ]
    }
   ],
   "source": [
    "# Définition du répertoire de travail\n",
    "HOME_DIR = Path.cwd().parent\n",
    "DATA_DIR = Path(HOME_DIR, \"data\")\n",
    "print(f\"Work directory: {HOME_DIR} \\nData directory: {DATA_DIR}\")\n",
    "\n",
    "data= pd.read_csv(Path(DATA_DIR, \"indices_QA_commune_IDF_2017.csv\"), sep=\",\")"
   ]
  },
  {
   "cell_type": "code",
   "execution_count": 10,
   "id": "ae84224f",
   "metadata": {},
   "outputs": [
    {
     "name": "stdout",
     "output_type": "stream",
     "text": [
      " (476485, 5) \n",
      " 1309 \n"
     ]
    }
   ],
   "source": [
    "#dimensions de la base et nombre de valeurs uniques de ninsee\n",
    "print(f\" {data.shape} \\n {data['ninsee'].nunique()} \") "
   ]
  },
  {
   "cell_type": "code",
   "execution_count": 11,
   "id": "0a9d9470",
   "metadata": {},
   "outputs": [
    {
     "name": "stdout",
     "output_type": "stream",
     "text": [
      "         date  ninsee  no2  o3  pm10\n",
      "1  01/01/2017      75   23   8    38\n",
      "2  01/01/2017      77   19  17    44\n",
      "3  01/01/2017      78   16  15    32\n",
      "4  01/01/2017      91   14  16    34\n",
      "5  01/01/2017      92   23  12    32\n"
     ]
    }
   ],
   "source": [
    "#les valeurs des indices de l'aire sont deja specifié dans la data set \n",
    "#donc il suffit de faire un filtre \n",
    "# Départements de la région parisienne (Île-de-France)\n",
    "idf_departments = [75, 77, 78, 91, 92, 93, 94, 95]\n",
    "\n",
    "# Filtrer les données par les codes INSEE des départements de l'Île-de-France\n",
    "idf_data = data[data['ninsee'].isin(idf_departments)]\n",
    "\n",
    "# Afficher les premières lignes des données filtrées\n",
    "print(idf_data.head())\n"
   ]
  },
  {
   "cell_type": "code",
   "execution_count": 12,
   "id": "4e3a6352",
   "metadata": {},
   "outputs": [],
   "source": [
    "# Supprimer la colonne 'date'\n",
    "idf_data = idf_data.drop(columns=['date'])"
   ]
  },
  {
   "cell_type": "markdown",
   "id": "78840cc6",
   "metadata": {},
   "source": [
    "Nous allons résumer ces données journalières en données annuelles par département. \n",
    "Au regard des analyses effectuées dans la 1ere partie de l'analyse descriptive, les distributions respectives de 'pm10', 'o3' et 'no2' nous indiquent des asymétrie pour 'pm10' et 'no2'. Nous résumerons donc l'information par la moyenne ou par la médiane."
   ]
  },
  {
   "cell_type": "code",
   "execution_count": 13,
   "id": "91d12251",
   "metadata": {},
   "outputs": [
    {
     "name": "stdout",
     "output_type": "stream",
     "text": [
      "   ninsee  pm10         o3   no2\n",
      "0      75  29.0  29.652055  36.0\n",
      "1      77  29.0  35.389041  30.0\n",
      "2      78  26.0  35.106849  27.0\n",
      "3      91  27.0  34.536986  29.0\n",
      "4      92  29.0  31.043836  33.0\n",
      "5      93  29.0  32.013699  36.0\n",
      "6      94  29.0  31.408219  34.0\n",
      "7      95  27.0  35.342466  31.0\n"
     ]
    }
   ],
   "source": [
    "\n",
    "# Résumer les données annuelles par département pour chaque variable\n",
    "department_means = idf_data.groupby(['ninsee'])[['pm10', 'o3', 'no2']].agg({\n",
    "    'pm10': 'median',  # Médiane pour pm10 (distribution étalée à droite)\n",
    "    'o3': 'mean',      # Moyenne pour o3 (distribution presque normale)\n",
    "    'no2': 'median'    # Médiane pour no2 (distribution étalée à droite)\n",
    "}).reset_index()\n",
    "\n",
    "# Afficher les premières lignes du résumé\n",
    "print(department_means)\n"
   ]
  },
  {
   "cell_type": "code",
   "execution_count": 14,
   "id": "67f717f9",
   "metadata": {},
   "outputs": [
    {
     "name": "stdout",
     "output_type": "stream",
     "text": [
      "Work directory: c:\\Users\\HP\\Documents\\Cours 2AD ENSAE\\Semestre 1\\Python pour data science\\indice de l'air\\projet-Python\\projet \n",
      "Data directory: c:\\Users\\HP\\Documents\\Cours 2AD ENSAE\\Semestre 1\\Python pour data science\\indice de l'air\\projet-Python\\projet\\data\n",
      "Fichier sauvegardé avec succès dans c:\\Users\\HP\\Documents\\Cours 2AD ENSAE\\Semestre 1\\Python pour data science\\indice de l'air\\projet-Python\\projet\\data\\department_means.csv.\n"
     ]
    }
   ],
   "source": [
    "\n",
    "# Définition du répertoire de travail\n",
    "HOME_DIR = Path.cwd().parent\n",
    "DATA_DIR = Path(HOME_DIR, \"data\")\n",
    "print(f\"Work directory: {HOME_DIR} \\nData directory: {DATA_DIR}\")\n",
    "\n",
    "# Vérifier si le dossier \"data\" existe\n",
    "if not DATA_DIR.exists():\n",
    "    raise FileNotFoundError(f\"Le dossier 'data' n'existe pas dans : {DATA_DIR}\")\n",
    "\n",
    "# Définir le chemin du fichier à enregistrer\n",
    "file_path = DATA_DIR / \"department_means.csv\"\n",
    "\n",
    "# Sauvegarder le DataFrame dans le fichier CSV\n",
    "department_means.to_csv(file_path, index=False)\n",
    "\n",
    "print(f\"Fichier sauvegardé avec succès dans {file_path}.\")\n"
   ]
  }
 ],
 "metadata": {
  "kernelspec": {
   "display_name": "Python 3",
   "language": "python",
   "name": "python3"
  },
  "language_info": {
   "codemirror_mode": {
    "name": "ipython",
    "version": 3
   },
   "file_extension": ".py",
   "mimetype": "text/x-python",
   "name": "python",
   "nbconvert_exporter": "python",
   "pygments_lexer": "ipython3",
   "version": "3.12.0"
  }
 },
 "nbformat": 4,
 "nbformat_minor": 5
}
