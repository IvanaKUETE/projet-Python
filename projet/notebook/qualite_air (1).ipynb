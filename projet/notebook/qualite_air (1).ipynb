{
 "cells": [
  {
   "cell_type": "markdown",
   "id": "26de1c1b",
   "metadata": {},
   "source": [
    "<h1 style=\"border: thick double #32a1ce; text-align:center;border-radius:35px\">\n",
    "Projet Python pour la data science: \n",
    "\n",
    "agrégation de la qualité d'air\n",
    "</h1>"
   ]
  },
  {
   "cell_type": "code",
   "execution_count": 3,
   "id": "030d1ba2",
   "metadata": {},
   "outputs": [],
   "source": [
    "import pandas as pd \n",
    "from pathlib import Path\n",
    "import requests\n",
    "import io"
   ]
  },
  {
   "cell_type": "markdown",
   "id": "b94446a2",
   "metadata": {},
   "source": [
    "**DANS CE NOTEBOOK, IL EST QUESTION DE RESUMER LA BASE DES INDICES DE L'AIR EN DONNEES ANNUELLES PAR DEPARTEMENT.**"
   ]
  },
  {
   "cell_type": "code",
   "execution_count": 4,
   "id": "657604b3",
   "metadata": {},
   "outputs": [
    {
     "data": {
      "text/html": [
       "<div>\n",
       "<style scoped>\n",
       "    .dataframe tbody tr th:only-of-type {\n",
       "        vertical-align: middle;\n",
       "    }\n",
       "\n",
       "    .dataframe tbody tr th {\n",
       "        vertical-align: top;\n",
       "    }\n",
       "\n",
       "    .dataframe thead th {\n",
       "        text-align: right;\n",
       "    }\n",
       "</style>\n",
       "<table border=\"1\" class=\"dataframe\">\n",
       "  <thead>\n",
       "    <tr style=\"text-align: right;\">\n",
       "      <th></th>\n",
       "      <th>__id</th>\n",
       "      <th>date</th>\n",
       "      <th>ninsee</th>\n",
       "      <th>no2</th>\n",
       "      <th>o3</th>\n",
       "      <th>pm10</th>\n",
       "    </tr>\n",
       "  </thead>\n",
       "  <tbody>\n",
       "    <tr>\n",
       "      <th>0</th>\n",
       "      <td>1</td>\n",
       "      <td>2017-01-01</td>\n",
       "      <td>0</td>\n",
       "      <td>23</td>\n",
       "      <td>16</td>\n",
       "      <td>43</td>\n",
       "    </tr>\n",
       "    <tr>\n",
       "      <th>1</th>\n",
       "      <td>2</td>\n",
       "      <td>2017-01-01</td>\n",
       "      <td>75</td>\n",
       "      <td>23</td>\n",
       "      <td>8</td>\n",
       "      <td>38</td>\n",
       "    </tr>\n",
       "    <tr>\n",
       "      <th>2</th>\n",
       "      <td>3</td>\n",
       "      <td>2017-01-01</td>\n",
       "      <td>77</td>\n",
       "      <td>19</td>\n",
       "      <td>17</td>\n",
       "      <td>44</td>\n",
       "    </tr>\n",
       "    <tr>\n",
       "      <th>3</th>\n",
       "      <td>4</td>\n",
       "      <td>2017-01-01</td>\n",
       "      <td>78</td>\n",
       "      <td>16</td>\n",
       "      <td>15</td>\n",
       "      <td>32</td>\n",
       "    </tr>\n",
       "    <tr>\n",
       "      <th>4</th>\n",
       "      <td>5</td>\n",
       "      <td>2017-01-01</td>\n",
       "      <td>91</td>\n",
       "      <td>14</td>\n",
       "      <td>16</td>\n",
       "      <td>34</td>\n",
       "    </tr>\n",
       "  </tbody>\n",
       "</table>\n",
       "</div>"
      ],
      "text/plain": [
       "  __id        date ninsee no2  o3 pm10\n",
       "0    1  2017-01-01      0  23  16   43\n",
       "1    2  2017-01-01     75  23   8   38\n",
       "2    3  2017-01-01     77  19  17   44\n",
       "3    4  2017-01-01     78  16  15   32\n",
       "4    5  2017-01-01     91  14  16   34"
      ]
     },
     "execution_count": 4,
     "metadata": {},
     "output_type": "execute_result"
    }
   ],
   "source": [
    "\n",
    "\n",
    "# Lien direct vers le fichier CSV\n",
    "url = \"https://tabular-api.data.gouv.fr/api/resources/98e8387e-a53c-442d-bad3-141aed5d8a04/data/csv/\"\n",
    "\n",
    "# Envoyer une requête GET pour récupérer les données\n",
    "response = requests.get(url, timeout=30)\n",
    "response.raise_for_status()  # Lever une exception si la requête échoue\n",
    "\n",
    "# Charger les données directement dans un DataFrame\n",
    "data = pd.read_csv(io.StringIO(response.text))\n",
    "\n",
    "# Afficher un aperçu du DataFrame\n",
    "data.head()\n"
   ]
  },
  {
   "cell_type": "code",
   "execution_count": 10,
   "id": "ae84224f",
   "metadata": {},
   "outputs": [
    {
     "name": "stdout",
     "output_type": "stream",
     "text": [
      "<class 'pandas.core.frame.DataFrame'>\n",
      "RangeIndex: 476494 entries, 0 to 476493\n",
      "Data columns (total 6 columns):\n",
      " #   Column  Non-Null Count   Dtype \n",
      "---  ------  --------------   ----- \n",
      " 0   __id    476494 non-null  object\n",
      " 1   date    476494 non-null  object\n",
      " 2   ninsee  476494 non-null  object\n",
      " 3   no2     476494 non-null  object\n",
      " 4   o3      476494 non-null  object\n",
      " 5   pm10    476494 non-null  object\n",
      "dtypes: object(6)\n",
      "memory usage: 21.8+ MB\n",
      " (476494, 6) \n",
      " 1310 \n",
      " None \n"
     ]
    }
   ],
   "source": [
    "#dimensions de la base et nombre de valeurs uniques de ninsee\n",
    "print(f\" {data.shape} \\n {data['ninsee'].nunique()} \\n {data.info()} \") "
   ]
  },
  {
   "cell_type": "code",
   "execution_count": 11,
   "id": "1d815162",
   "metadata": {},
   "outputs": [
    {
     "name": "stdout",
     "output_type": "stream",
     "text": [
      "<class 'pandas.core.frame.DataFrame'>\n",
      "RangeIndex: 476494 entries, 0 to 476493\n",
      "Data columns (total 6 columns):\n",
      " #   Column  Non-Null Count   Dtype \n",
      "---  ------  --------------   ----- \n",
      " 0   __id    476494 non-null  object\n",
      " 1   date    476494 non-null  object\n",
      " 2   ninsee  476494 non-null  object\n",
      " 3   no2     476485 non-null  Int64 \n",
      " 4   o3      476485 non-null  Int64 \n",
      " 5   pm10    476485 non-null  Int64 \n",
      "dtypes: Int64(3), object(3)\n",
      "memory usage: 23.2+ MB\n"
     ]
    }
   ],
   "source": [
    "# Liste des variables numériques à convertir\n",
    "var_norm = ['no2', 'o3', 'pm10']\n",
    "\n",
    "# Convertir les colonnes en type int, en gérant les erreurs et les valeurs manquantes\n",
    "for col in var_norm:\n",
    "    try:\n",
    "        data[col] = pd.to_numeric(data[col], errors='coerce').astype('Int64')  # Type Int64 pour gérer NaN\n",
    "    except KeyError:\n",
    "        print(f\"Colonne {col} introuvable dans le DataFrame.\")\n",
    "\n",
    "# Afficher les informations sur le DataFrame après conversion\n",
    "data.info()\n"
   ]
  },
  {
   "cell_type": "code",
   "execution_count": 13,
   "id": "0a9d9470",
   "metadata": {},
   "outputs": [
    {
     "data": {
      "text/html": [
       "<div>\n",
       "<style scoped>\n",
       "    .dataframe tbody tr th:only-of-type {\n",
       "        vertical-align: middle;\n",
       "    }\n",
       "\n",
       "    .dataframe tbody tr th {\n",
       "        vertical-align: top;\n",
       "    }\n",
       "\n",
       "    .dataframe thead th {\n",
       "        text-align: right;\n",
       "    }\n",
       "</style>\n",
       "<table border=\"1\" class=\"dataframe\">\n",
       "  <thead>\n",
       "    <tr style=\"text-align: right;\">\n",
       "      <th></th>\n",
       "      <th>__id</th>\n",
       "      <th>date</th>\n",
       "      <th>ninsee</th>\n",
       "      <th>no2</th>\n",
       "      <th>o3</th>\n",
       "      <th>pm10</th>\n",
       "    </tr>\n",
       "  </thead>\n",
       "  <tbody>\n",
       "    <tr>\n",
       "      <th>1</th>\n",
       "      <td>2</td>\n",
       "      <td>2017-01-01</td>\n",
       "      <td>75</td>\n",
       "      <td>23</td>\n",
       "      <td>8</td>\n",
       "      <td>38</td>\n",
       "    </tr>\n",
       "    <tr>\n",
       "      <th>2</th>\n",
       "      <td>3</td>\n",
       "      <td>2017-01-01</td>\n",
       "      <td>77</td>\n",
       "      <td>19</td>\n",
       "      <td>17</td>\n",
       "      <td>44</td>\n",
       "    </tr>\n",
       "    <tr>\n",
       "      <th>3</th>\n",
       "      <td>4</td>\n",
       "      <td>2017-01-01</td>\n",
       "      <td>78</td>\n",
       "      <td>16</td>\n",
       "      <td>15</td>\n",
       "      <td>32</td>\n",
       "    </tr>\n",
       "    <tr>\n",
       "      <th>4</th>\n",
       "      <td>5</td>\n",
       "      <td>2017-01-01</td>\n",
       "      <td>91</td>\n",
       "      <td>14</td>\n",
       "      <td>16</td>\n",
       "      <td>34</td>\n",
       "    </tr>\n",
       "    <tr>\n",
       "      <th>5</th>\n",
       "      <td>6</td>\n",
       "      <td>2017-01-01</td>\n",
       "      <td>92</td>\n",
       "      <td>23</td>\n",
       "      <td>12</td>\n",
       "      <td>32</td>\n",
       "    </tr>\n",
       "  </tbody>\n",
       "</table>\n",
       "</div>"
      ],
      "text/plain": [
       "  __id        date ninsee  no2  o3  pm10\n",
       "1    2  2017-01-01     75   23   8    38\n",
       "2    3  2017-01-01     77   19  17    44\n",
       "3    4  2017-01-01     78   16  15    32\n",
       "4    5  2017-01-01     91   14  16    34\n",
       "5    6  2017-01-01     92   23  12    32"
      ]
     },
     "execution_count": 13,
     "metadata": {},
     "output_type": "execute_result"
    }
   ],
   "source": [
    "#les valeurs des indices de l'aire sont deja specifié dans la data set \n",
    "#donc il suffit de faire un filtre \n",
    "# Départements de la région parisienne (Île-de-France)\n",
    "idf_departments = ['75', '77', '78', '91', '92', '93', '94', '95']\n",
    "\n",
    "# Filtrer les données par les codes INSEE des départements de l'Île-de-France\n",
    "idf_data = data[data['ninsee'].isin(idf_departments)]\n",
    "\n",
    "# Afficher les premières lignes des données filtrées\n",
    "idf_data.head()\n"
   ]
  },
  {
   "cell_type": "code",
   "execution_count": 15,
   "id": "4e3a6352",
   "metadata": {},
   "outputs": [
    {
     "data": {
      "text/html": [
       "<div>\n",
       "<style scoped>\n",
       "    .dataframe tbody tr th:only-of-type {\n",
       "        vertical-align: middle;\n",
       "    }\n",
       "\n",
       "    .dataframe tbody tr th {\n",
       "        vertical-align: top;\n",
       "    }\n",
       "\n",
       "    .dataframe thead th {\n",
       "        text-align: right;\n",
       "    }\n",
       "</style>\n",
       "<table border=\"1\" class=\"dataframe\">\n",
       "  <thead>\n",
       "    <tr style=\"text-align: right;\">\n",
       "      <th></th>\n",
       "      <th>ninsee</th>\n",
       "      <th>no2</th>\n",
       "      <th>o3</th>\n",
       "      <th>pm10</th>\n",
       "    </tr>\n",
       "  </thead>\n",
       "  <tbody>\n",
       "    <tr>\n",
       "      <th>1</th>\n",
       "      <td>75</td>\n",
       "      <td>23</td>\n",
       "      <td>8</td>\n",
       "      <td>38</td>\n",
       "    </tr>\n",
       "    <tr>\n",
       "      <th>2</th>\n",
       "      <td>77</td>\n",
       "      <td>19</td>\n",
       "      <td>17</td>\n",
       "      <td>44</td>\n",
       "    </tr>\n",
       "    <tr>\n",
       "      <th>3</th>\n",
       "      <td>78</td>\n",
       "      <td>16</td>\n",
       "      <td>15</td>\n",
       "      <td>32</td>\n",
       "    </tr>\n",
       "    <tr>\n",
       "      <th>4</th>\n",
       "      <td>91</td>\n",
       "      <td>14</td>\n",
       "      <td>16</td>\n",
       "      <td>34</td>\n",
       "    </tr>\n",
       "    <tr>\n",
       "      <th>5</th>\n",
       "      <td>92</td>\n",
       "      <td>23</td>\n",
       "      <td>12</td>\n",
       "      <td>32</td>\n",
       "    </tr>\n",
       "  </tbody>\n",
       "</table>\n",
       "</div>"
      ],
      "text/plain": [
       "  ninsee  no2  o3  pm10\n",
       "1     75   23   8    38\n",
       "2     77   19  17    44\n",
       "3     78   16  15    32\n",
       "4     91   14  16    34\n",
       "5     92   23  12    32"
      ]
     },
     "execution_count": 15,
     "metadata": {},
     "output_type": "execute_result"
    }
   ],
   "source": [
    "# Supprimer les colonnes 'date' et '__id'\n",
    "idf_data = idf_data.drop(columns=['date', '__id'])\n",
    "idf_data.head()"
   ]
  },
  {
   "cell_type": "markdown",
   "id": "78840cc6",
   "metadata": {},
   "source": [
    "Nous allons résumer ces données journalières en données annuelles par département. \n",
    "Au regard des analyses effectuées dans la 1ere partie de l'analyse descriptive, les distributions respectives de 'pm10', 'o3' et 'no2' nous indiquent des asymétrie pour 'pm10' et 'no2'. Nous résumerons donc l'information par la moyenne ou par la médiane."
   ]
  },
  {
   "cell_type": "code",
   "execution_count": 16,
   "id": "6d99b33d",
   "metadata": {},
   "outputs": [
    {
     "name": "stdout",
     "output_type": "stream",
     "text": [
      "  ninsee  pm10         o3   no2\n",
      "0     75  29.0  29.652055  36.0\n",
      "1     77  29.0  35.389041  30.0\n",
      "2     78  26.0  35.106849  27.0\n",
      "3     91  27.0  34.536986  29.0\n",
      "4     92  29.0  31.043836  33.0\n",
      "5     93  29.0  32.013699  36.0\n",
      "6     94  29.0  31.408219  34.0\n",
      "7     95  27.0  35.342466  31.0\n"
     ]
    }
   ],
   "source": [
    "\n",
    "# Résumer les données annuelles par département pour chaque variable\n",
    "department_means = idf_data.groupby(['ninsee'])[['pm10', 'o3', 'no2']].agg({\n",
    "    'pm10': 'median',  # Médiane pour pm10 (distribution étalée à droite)\n",
    "    'o3': 'mean',      # Moyenne pour o3 (distribution presque normale)\n",
    "    'no2': 'median'    # Médiane pour no2 (distribution étalée à droite)\n",
    "}).reset_index()\n",
    "\n",
    "# Afficher les premières lignes du résumé\n",
    "print(department_means)\n"
   ]
  },
  {
   "cell_type": "code",
   "execution_count": 17,
   "id": "67f717f9",
   "metadata": {},
   "outputs": [
    {
     "name": "stdout",
     "output_type": "stream",
     "text": [
      "Work directory: c:\\Users\\HP\\Documents\\Cours 2AD ENSAE\\Semestre 1\\Python pour data science\\indice de l'air\\projet-Python\\projet \n",
      "Data directory: c:\\Users\\HP\\Documents\\Cours 2AD ENSAE\\Semestre 1\\Python pour data science\\indice de l'air\\projet-Python\\projet\\data\n",
      "Fichier sauvegardé avec succès dans c:\\Users\\HP\\Documents\\Cours 2AD ENSAE\\Semestre 1\\Python pour data science\\indice de l'air\\projet-Python\\projet\\data\\department_means.csv.\n"
     ]
    }
   ],
   "source": [
    "\n",
    "# Définition du répertoire de travail\n",
    "HOME_DIR = Path.cwd().parent\n",
    "DATA_DIR = Path(HOME_DIR, \"data\")\n",
    "print(f\"Work directory: {HOME_DIR} \\nData directory: {DATA_DIR}\")\n",
    "\n",
    "# Vérifier si le dossier \"data\" existe\n",
    "if not DATA_DIR.exists():\n",
    "    raise FileNotFoundError(f\"Le dossier 'data' n'existe pas dans : {DATA_DIR}\")\n",
    "\n",
    "# Définir le chemin du fichier à enregistrer\n",
    "file_path = DATA_DIR / \"department_means.csv\"\n",
    "\n",
    "# Sauvegarder le DataFrame dans le fichier CSV\n",
    "department_means.to_csv(file_path, index=False)\n",
    "\n",
    "print(f\"Fichier sauvegardé avec succès dans {file_path}.\")\n"
   ]
  }
 ],
 "metadata": {
  "kernelspec": {
   "display_name": "Python 3",
   "language": "python",
   "name": "python3"
  },
  "language_info": {
   "codemirror_mode": {
    "name": "ipython",
    "version": 3
   },
   "file_extension": ".py",
   "mimetype": "text/x-python",
   "name": "python",
   "nbconvert_exporter": "python",
   "pygments_lexer": "ipython3",
   "version": "3.12.0"
  }
 },
 "nbformat": 4,
 "nbformat_minor": 5
}
