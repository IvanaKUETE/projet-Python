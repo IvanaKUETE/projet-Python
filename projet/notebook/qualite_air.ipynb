{
 "cells": [
  {
   "cell_type": "code",
   "execution_count": 1,
   "id": "fe185d69-91ee-498a-aaae-b84456468bd2",
   "metadata": {},
   "outputs": [],
   "source": [
    "import pandas as pd \n",
    "from pathlib import Path"
   ]
  },
  {
   "cell_type": "code",
   "execution_count": 2,
   "id": "4b780e87",
   "metadata": {},
   "outputs": [
    {
     "name": "stdout",
     "output_type": "stream",
     "text": [
      "Work directory: c:\\Users\\HP\\Documents\\Cours 2AD ENSAE\\Semestre 1\\Python pour data science\\indice de l'air\\projet-Python\\projet \n",
      "Data directory: c:\\Users\\HP\\Documents\\Cours 2AD ENSAE\\Semestre 1\\Python pour data science\\indice de l'air\\projet-Python\\projet\\data\n"
     ]
    }
   ],
   "source": [
    "# Définition du répertoire de travail\n",
    "HOME_DIR = Path.cwd().parent\n",
    "DATA_DIR = Path(HOME_DIR, \"data\")\n",
    "print(f\"Work directory: {HOME_DIR} \\nData directory: {DATA_DIR}\")\n",
    "\n",
    "data= pd.read_csv(Path(DATA_DIR, \"indices_QA_commune_IDF_2017.csv\"), sep=\",\")"
   ]
  },
  {
   "cell_type": "code",
   "execution_count": 9,
   "id": "033706c0-4a3a-4d8a-86e5-cec25420916d",
   "metadata": {},
   "outputs": [
    {
     "name": "stdout",
     "output_type": "stream",
     "text": [
      " (476485, 5) \n",
      " 1309 \n"
     ]
    }
   ],
   "source": [
    "#dimensions de la base et nombre de valeurs uniques de ninsee\n",
    "print(f\" {data.shape} \\n {data['ninsee'].nunique()} \") "
   ]
  },
  {
   "cell_type": "code",
   "execution_count": 11,
   "id": "895a790d-844d-4922-bb04-16061581347a",
   "metadata": {},
   "outputs": [
    {
     "name": "stdout",
     "output_type": "stream",
     "text": [
      "         date  ninsee  no2  o3  pm10\n",
      "0  01/01/2017       0   23  16    43\n",
      "1  01/01/2017      75   23   8    38\n",
      "2  01/01/2017      77   19  17    44\n",
      "3  01/01/2017      78   16  15    32\n",
      "4  01/01/2017      91   14  16    34\n"
     ]
    }
   ],
   "source": [
    "#les valeurs des indices de l'aire sont deja specifié dans la data set \n",
    "#donc il suffit de faire un filtre \n",
    "# Départements de la région parisienne (Île-de-France)\n",
    "idf_departments = [0, 75, 77, 78, 91, 92, 93, 94, 95]\n",
    "\n",
    "# Filtrer les données par les codes INSEE des départements de l'Île-de-France\n",
    "idf_data = data[data['ninsee'].isin(idf_departments)]\n",
    "\n",
    "# Afficher les premières lignes des données filtrées\n",
    "print(idf_data.head())\n"
   ]
  },
  {
   "cell_type": "code",
   "execution_count": 12,
   "id": "85c62281-5050-4957-8515-96f3c331f9f5",
   "metadata": {},
   "outputs": [],
   "source": [
    "# Supprimer la colonne 'date'\n",
    "idf_data = idf_data.drop(columns=['date'])"
   ]
  },
  {
   "cell_type": "markdown",
   "id": "539febbd",
   "metadata": {},
   "source": [
    "Nous allons résumer ces données journalières en données annuelles par département. \n",
    "Au regard des analyses effectuées dans la 1ere partie de l'analyse descriptive, les distributions respectives de 'pm10', 'o3' et 'no2' nous indiquent des asymétrie pour 'pm10' et 'no2'. Nous résumerons donc l'information par la moyenne ou par la médiane."
   ]
  },
  {
   "cell_type": "code",
   "execution_count": 20,
   "id": "693ad643",
   "metadata": {},
   "outputs": [
    {
     "name": "stdout",
     "output_type": "stream",
     "text": [
      "   ninsee  pm10         o3   no2\n",
      "0       0  31.0  35.772603  38.0\n",
      "1      75  29.0  29.652055  36.0\n",
      "2      77  29.0  35.389041  30.0\n",
      "3      78  26.0  35.106849  27.0\n",
      "4      91  27.0  34.536986  29.0\n",
      "5      92  29.0  31.043836  33.0\n",
      "6      93  29.0  32.013699  36.0\n",
      "7      94  29.0  31.408219  34.0\n",
      "8      95  27.0  35.342466  31.0\n"
     ]
    }
   ],
   "source": [
    "\n",
    "# Résumer les données annuelles par département pour chaque variable\n",
    "department_means = idf_data.groupby(['ninsee'])[['pm10', 'o3', 'no2']].agg({\n",
    "    'pm10': 'median',  # Médiane pour pm10 (distribution étalée à droite)\n",
    "    'o3': 'mean',      # Moyenne pour o3 (distribution presque normale)\n",
    "    'no2': 'median'    # Médiane pour no2 (distribution étalée à droite)\n",
    "}).reset_index()\n",
    "\n",
    "# Afficher les premières lignes du résumé\n",
    "print(department_means)\n"
   ]
  },
  {
   "cell_type": "code",
   "execution_count": 21,
   "id": "0390dc9c",
   "metadata": {},
   "outputs": [
    {
     "name": "stdout",
     "output_type": "stream",
     "text": [
      "Fichier  sauvegardé avec succès.\n"
     ]
    }
   ],
   "source": [
    "# Sauvegarder le DataFrame dans un fichier CSV\n",
    "department_means.to_csv(\"department_means.csv\", index=False)\n",
    "\n",
    "print(\"Fichier  sauvegardé avec succès.\")\n"
   ]
  }
 ],
 "metadata": {
  "kernelspec": {
   "display_name": "Python 3",
   "language": "python",
   "name": "python3"
  },
  "language_info": {
   "codemirror_mode": {
    "name": "ipython",
    "version": 3
   },
   "file_extension": ".py",
   "mimetype": "text/x-python",
   "name": "python",
   "nbconvert_exporter": "python",
   "pygments_lexer": "ipython3",
   "version": "3.12.0"
  }
 },
 "nbformat": 4,
 "nbformat_minor": 5
}
