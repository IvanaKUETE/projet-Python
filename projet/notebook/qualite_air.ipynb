{
 "cells": [
  {
   "cell_type": "code",
   "execution_count": 4,
   "id": "fe185d69-91ee-498a-aaae-b84456468bd2",
   "metadata": {},
   "outputs": [],
   "source": [
    "import pandas as pd \n",
    "from pathlib import Path"
   ]
  },
  {
   "cell_type": "code",
   "execution_count": 5,
   "id": "4b780e87",
   "metadata": {},
   "outputs": [
    {
     "name": "stdout",
     "output_type": "stream",
     "text": [
      "Work directory: /home/onyxia/work/projet-Python-1/projet \n",
      "Data directory: /home/onyxia/work/projet-Python-1/projet/data\n"
     ]
    }
   ],
   "source": [
    "# Définition du répertoire de travail\n",
    "HOME_DIR = Path.cwd().parent\n",
    "DATA_DIR = Path(HOME_DIR, \"data\")\n",
    "print(f\"Work directory: {HOME_DIR} \\nData directory: {DATA_DIR}\")\n",
    "\n",
    "data= pd.read_csv(Path(DATA_DIR, \"indices_QA_commune_IDF_2017.csv\"), sep=\",\")"
   ]
  },
  {
   "cell_type": "code",
   "execution_count": null,
   "id": "033706c0-4a3a-4d8a-86e5-cec25420916d",
   "metadata": {},
   "outputs": [
    {
     "data": {
      "text/plain": [
       "(476485, 5)"
      ]
     },
     "execution_count": 6,
     "metadata": {},
     "output_type": "execute_result"
    }
   ],
   "source": [
    "data.shape\n",
    "data.columns\n",
    "data['ninsee'].unique"
   ]
  },
  {
   "cell_type": "code",
   "execution_count": 8,
   "id": "895a790d-844d-4922-bb04-16061581347a",
   "metadata": {},
   "outputs": [
    {
     "name": "stdout",
     "output_type": "stream",
     "text": [
      "         date  ninsee  no2  o3  pm10\n",
      "1  01/01/2017      75   23   8    38\n",
      "2  01/01/2017      77   19  17    44\n",
      "3  01/01/2017      78   16  15    32\n",
      "4  01/01/2017      91   14  16    34\n",
      "5  01/01/2017      92   23  12    32\n"
     ]
    }
   ],
   "source": [
    "#les valeurs des indices de l'aire sont deja specifié dans la data set \n",
    "#donc il suffit de faire un filtre \n",
    "# Départements de la région parisienne (Île-de-France)\n",
    "idf_departments = [75, 77, 78, 91, 92, 93, 94, 95]\n",
    "\n",
    "# Filtrer les données par les codes INSEE des départements de l'Île-de-France\n",
    "idf_data = data[data['ninsee'].isin(idf_departments)]\n",
    "\n",
    "# Afficher les premières lignes des données filtrées\n",
    "print(idf_data.head())\n"
   ]
  },
  {
   "cell_type": "code",
   "execution_count": 9,
   "id": "85c62281-5050-4957-8515-96f3c331f9f5",
   "metadata": {},
   "outputs": [],
   "source": [
    "# Supprimer la colonne 'date'\n",
    "idf_data = idf_data.drop(columns=['date'])\n"
   ]
  },
  {
   "cell_type": "code",
   "execution_count": 10,
   "id": "cd5cf853-0ea9-4da7-9af7-bfaf10e10317",
   "metadata": {},
   "outputs": [
    {
     "name": "stdout",
     "output_type": "stream",
     "text": [
      "   ninsee        no2         o3       pm10\n",
      "0      75  36.112329  29.652055  34.893151\n",
      "1      77  30.123288  35.389041  33.205479\n",
      "2      78  27.378082  35.106849  31.126027\n",
      "3      91  28.649315  34.536986  30.945205\n",
      "4      92  33.572603  31.043836  33.693151\n",
      "5      93  35.931507  32.013699  34.789041\n",
      "6      94  33.660274  31.408219  33.745205\n",
      "7      95  31.115068  35.342466  33.052055\n"
     ]
    }
   ],
   "source": [
    "# Calculer la moyenne pour chaque département (colonne 'ninsee')\n",
    "department_means = idf_data.groupby('ninsee').mean()\n",
    "\n",
    "# Réinitialiser l'index pour un affichage plus clair\n",
    "department_means = department_means.reset_index()\n",
    "\n",
    "# Afficher les résultats\n",
    "print(department_means)\n"
   ]
  },
  {
   "cell_type": "code",
   "execution_count": 11,
   "id": "0390dc9c",
   "metadata": {},
   "outputs": [
    {
     "name": "stdout",
     "output_type": "stream",
     "text": [
      "Fichier  sauvegardé avec succès.\n"
     ]
    }
   ],
   "source": [
    "# Sauvegarder le DataFrame dans un fichier CSV\n",
    "department_means.to_csv(\"department_means.csv\", index=False)\n",
    "\n",
    "print(\"Fichier  sauvegardé avec succès.\")\n"
   ]
  }
 ],
 "metadata": {
  "kernelspec": {
   "display_name": "base",
   "language": "python",
   "name": "python3"
  },
  "language_info": {
   "codemirror_mode": {
    "name": "ipython",
    "version": 3
   },
   "file_extension": ".py",
   "mimetype": "text/x-python",
   "name": "python",
   "nbconvert_exporter": "python",
   "pygments_lexer": "ipython3",
   "version": "3.12.7"
  }
 },
 "nbformat": 4,
 "nbformat_minor": 5
}
