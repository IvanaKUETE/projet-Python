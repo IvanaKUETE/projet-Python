{
 "cells": [
  {
   "cell_type": "code",
   "execution_count": 1,
   "id": "910fac2c-4c9d-4e7a-bb99-c3b87cd9f229",
   "metadata": {},
   "outputs": [],
   "source": [
    "import pandas as pd\n",
    "import numpy as np"
   ]
  },
  {
   "cell_type": "code",
   "execution_count": 2,
   "id": "fe185d69-91ee-498a-aaae-b84456468bd2",
   "metadata": {},
   "outputs": [],
   "source": [
    "data= pd.read_csv(\"indices_QA_commune_IDF_2017.csv\")\n",
    "commune=pd.read_csv(\"2024-11-15-comagri-communes-aires-ao.csv\")\n",
    "comorbidites= pd.read_csv(\"comorbidites.csv\")\n"
   ]
  },
  {
   "cell_type": "code",
   "execution_count": 3,
   "id": "033706c0-4a3a-4d8a-86e5-cec25420916d",
   "metadata": {},
   "outputs": [
    {
     "data": {
      "text/plain": [
       "(476485, 5)"
      ]
     },
     "execution_count": 3,
     "metadata": {},
     "output_type": "execute_result"
    }
   ],
   "source": [
    "data.shape"
   ]
  },
  {
   "cell_type": "code",
   "execution_count": 6,
   "id": "0977a8d0-dda5-4156-adb7-e2b1adc91571",
   "metadata": {},
   "outputs": [
    {
     "data": {
      "text/plain": [
       "Index(['date', 'ninsee', 'no2', 'o3', 'pm10'], dtype='object')"
      ]
     },
     "execution_count": 6,
     "metadata": {},
     "output_type": "execute_result"
    }
   ],
   "source": [
    "data.columns"
   ]
  },
  {
   "cell_type": "code",
   "execution_count": 7,
   "id": "a4c9f053-b6af-479e-892c-0cf299c01835",
   "metadata": {},
   "outputs": [
    {
     "data": {
      "text/plain": [
       "<bound method Series.unique of 0             0\n",
       "1            75\n",
       "2            77\n",
       "3            78\n",
       "4            91\n",
       "          ...  \n",
       "476480    95676\n",
       "476481    95678\n",
       "476482    95680\n",
       "476483    95682\n",
       "476484    95690\n",
       "Name: ninsee, Length: 476485, dtype: int64>"
      ]
     },
     "execution_count": 7,
     "metadata": {},
     "output_type": "execute_result"
    }
   ],
   "source": [
    "data['ninsee'].unique"
   ]
  },
  {
   "cell_type": "code",
   "execution_count": 8,
   "id": "895a790d-844d-4922-bb04-16061581347a",
   "metadata": {},
   "outputs": [],
   "source": [
    "data['dept']= data['ninsee'].astype(str).str[:2]"
   ]
  },
  {
   "cell_type": "code",
   "execution_count": 9,
   "id": "85c62281-5050-4957-8515-96f3c331f9f5",
   "metadata": {},
   "outputs": [],
   "source": [
    "data['dept']= data['dept'].astype(int)"
   ]
  },
  {
   "cell_type": "code",
   "execution_count": 14,
   "id": "cd5cf853-0ea9-4da7-9af7-bfaf10e10317",
   "metadata": {},
   "outputs": [],
   "source": [
    "var=['no2', 'o3', 'pm10']\n",
    "data_dept=data.groupby('dept')[var].mean().reset_index()"
   ]
  },
  {
   "cell_type": "code",
   "execution_count": 20,
   "id": "709a8cad-0e94-4967-b437-688665908c27",
   "metadata": {},
   "outputs": [],
   "source": [
    "vars=['dept','no2', 'o3', 'pm10']\n",
    "data_dept=round(ivy[vars],2)"
   ]
  },
  {
   "cell_type": "code",
   "execution_count": 21,
   "id": "1b0d9ebc-2eac-4c74-9418-4d7c1eb687f6",
   "metadata": {},
   "outputs": [
    {
     "data": {
      "text/html": [
       "<div>\n",
       "<style scoped>\n",
       "    .dataframe tbody tr th:only-of-type {\n",
       "        vertical-align: middle;\n",
       "    }\n",
       "\n",
       "    .dataframe tbody tr th {\n",
       "        vertical-align: top;\n",
       "    }\n",
       "\n",
       "    .dataframe thead th {\n",
       "        text-align: right;\n",
       "    }\n",
       "</style>\n",
       "<table border=\"1\" class=\"dataframe\">\n",
       "  <thead>\n",
       "    <tr style=\"text-align: right;\">\n",
       "      <th></th>\n",
       "      <th>dept</th>\n",
       "      <th>no2</th>\n",
       "      <th>o3</th>\n",
       "      <th>pm10</th>\n",
       "    </tr>\n",
       "  </thead>\n",
       "  <tbody>\n",
       "    <tr>\n",
       "      <th>0</th>\n",
       "      <td>0</td>\n",
       "      <td>37.89</td>\n",
       "      <td>35.77</td>\n",
       "      <td>36.33</td>\n",
       "    </tr>\n",
       "    <tr>\n",
       "      <th>1</th>\n",
       "      <td>75</td>\n",
       "      <td>32.50</td>\n",
       "      <td>28.17</td>\n",
       "      <td>33.52</td>\n",
       "    </tr>\n",
       "    <tr>\n",
       "      <th>2</th>\n",
       "      <td>77</td>\n",
       "      <td>15.03</td>\n",
       "      <td>31.92</td>\n",
       "      <td>26.75</td>\n",
       "    </tr>\n",
       "    <tr>\n",
       "      <th>3</th>\n",
       "      <td>78</td>\n",
       "      <td>17.17</td>\n",
       "      <td>31.91</td>\n",
       "      <td>24.82</td>\n",
       "    </tr>\n",
       "    <tr>\n",
       "      <th>4</th>\n",
       "      <td>91</td>\n",
       "      <td>17.32</td>\n",
       "      <td>32.16</td>\n",
       "      <td>25.00</td>\n",
       "    </tr>\n",
       "    <tr>\n",
       "      <th>5</th>\n",
       "      <td>92</td>\n",
       "      <td>27.45</td>\n",
       "      <td>29.55</td>\n",
       "      <td>30.48</td>\n",
       "    </tr>\n",
       "    <tr>\n",
       "      <th>6</th>\n",
       "      <td>93</td>\n",
       "      <td>30.12</td>\n",
       "      <td>30.31</td>\n",
       "      <td>31.76</td>\n",
       "    </tr>\n",
       "    <tr>\n",
       "      <th>7</th>\n",
       "      <td>94</td>\n",
       "      <td>28.74</td>\n",
       "      <td>29.86</td>\n",
       "      <td>31.48</td>\n",
       "    </tr>\n",
       "    <tr>\n",
       "      <th>8</th>\n",
       "      <td>95</td>\n",
       "      <td>19.17</td>\n",
       "      <td>32.84</td>\n",
       "      <td>27.26</td>\n",
       "    </tr>\n",
       "  </tbody>\n",
       "</table>\n",
       "</div>"
      ],
      "text/plain": [
       "   dept    no2     o3   pm10\n",
       "0     0  37.89  35.77  36.33\n",
       "1    75  32.50  28.17  33.52\n",
       "2    77  15.03  31.92  26.75\n",
       "3    78  17.17  31.91  24.82\n",
       "4    91  17.32  32.16  25.00\n",
       "5    92  27.45  29.55  30.48\n",
       "6    93  30.12  30.31  31.76\n",
       "7    94  28.74  29.86  31.48\n",
       "8    95  19.17  32.84  27.26"
      ]
     },
     "execution_count": 21,
     "metadata": {},
     "output_type": "execute_result"
    }
   ],
   "source": [
    "data_dept"
   ]
  },
  {
   "cell_type": "code",
   "execution_count": null,
   "id": "7f48fe34-3d11-4678-a0a4-2e041dff8588",
   "metadata": {},
   "outputs": [],
   "source": []
  }
 ],
 "metadata": {
  "kernelspec": {
   "display_name": "Python 3 (ipykernel)",
   "language": "python",
   "name": "python3"
  },
  "language_info": {
   "codemirror_mode": {
    "name": "ipython",
    "version": 3
   },
   "file_extension": ".py",
   "mimetype": "text/x-python",
   "name": "python",
   "nbconvert_exporter": "python",
   "pygments_lexer": "ipython3",
   "version": "3.12.7"
  }
 },
 "nbformat": 4,
 "nbformat_minor": 5
}
